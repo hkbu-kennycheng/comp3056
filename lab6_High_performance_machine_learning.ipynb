{
  "nbformat": 4,
  "nbformat_minor": 0,
  "metadata": {
    "colab": {
      "name": "lab6 High-performance machine learning.ipynb",
      "provenance": [],
      "toc_visible": true,
      "collapsed_sections": [],
      "authorship_tag": "ABX9TyPNJVl99BnoUewgvxYmN5eZ",
      "include_colab_link": true
    },
    "kernelspec": {
      "name": "python3",
      "display_name": "Python 3"
    },
    "language_info": {
      "name": "python"
    }
  },
  "cells": [
    {
      "cell_type": "markdown",
      "metadata": {
        "id": "view-in-github",
        "colab_type": "text"
      },
      "source": [
        "<a href=\"https://colab.research.google.com/github/hkbu-kennycheng/comp3065/blob/main/lab6_High_performance_machine_learning.ipynb\" target=\"_parent\"><img src=\"https://colab.research.google.com/assets/colab-badge.svg\" alt=\"Open In Colab\"/></a>"
      ]
    },
    {
      "cell_type": "markdown",
      "metadata": {
        "id": "ywWfGuaL2QpQ"
      },
      "source": [
        "# High-performance machine learning"
      ]
    },
    {
      "cell_type": "code",
      "source": [
        "import tensorflow as tf\n",
        "import numpy as np"
      ],
      "metadata": {
        "id": "glKHPq2n5I9i"
      },
      "execution_count": null,
      "outputs": []
    },
    {
      "cell_type": "markdown",
      "metadata": {
        "id": "faPxMF_D2YIr"
      },
      "source": [
        "## The power of GPU\n",
        "\n",
        "Let's look at a demonstration done by NVIDIA for explaining the different of computation between GPU and CPU in brief."
      ]
    },
    {
      "cell_type": "code",
      "metadata": {
        "colab": {
          "base_uri": "https://localhost:8080/",
          "height": 321
        },
        "id": "DGhUn-Ez0xXx",
        "outputId": "5da22839-888d-44f3-dbed-6584ccb2ca14"
      },
      "source": [
        "from IPython.display import YouTubeVideo\n",
        "YouTubeVideo('-P28LKWTzrI')"
      ],
      "execution_count": null,
      "outputs": [
        {
          "output_type": "execute_result",
          "data": {
            "text/html": [
              "\n",
              "        <iframe\n",
              "            width=\"400\"\n",
              "            height=\"300\"\n",
              "            src=\"https://www.youtube.com/embed/-P28LKWTzrI\"\n",
              "            frameborder=\"0\"\n",
              "            allowfullscreen\n",
              "        ></iframe>\n",
              "        "
            ],
            "text/plain": [
              "<IPython.lib.display.YouTubeVideo at 0x7f5246d04210>"
            ],
            "image/jpeg": "[encoded data removed]"
          },
          "metadata": {
            "tags": []
          },
          "execution_count": 3
        }
      ]
    },
    {
      "cell_type": "markdown",
      "source": [
        "# Tensors - a building block of machine learning\n",
        "\n",
        "Tensor is a `np.arrays` like data structure which is familiar to computation hardware. It's capable for holding multi-dimensional data with a uniform type ([`dtype`](https://www.tensorflow.org/api_docs/python/tf/dtypes/DType))."
      ],
      "metadata": {
        "id": "gUUASlPSukF2"
      }
    },
    {
      "cell_type": "markdown",
      "source": [
        "## Tensors Basics"
      ],
      "metadata": {
        "id": "zHueETy65FW4"
      }
    },
    {
      "cell_type": "markdown",
      "source": [
        "### Declaration"
      ],
      "metadata": {
        "id": "uHEj4xb--nKZ"
      }
    },
    {
      "cell_type": "code",
      "source": [
        "# An int32 scalar contains a single value, and no \"axes\" (zero dimension).\n",
        "scalar = tf.constant(4)\n",
        "print(scalar)"
      ],
      "metadata": {
        "colab": {
          "base_uri": "https://localhost:8080/"
        },
        "id": "513DJpYm6Csi",
        "outputId": "c9c4e18c-c1b4-4284-e98e-61718b7b5cea"
      },
      "execution_count": null,
      "outputs": [
        {
          "output_type": "stream",
          "name": "stdout",
          "text": [
            "tf.Tensor(4, shape=(), dtype=int32)\n"
          ]
        }
      ]
    },
    {
      "cell_type": "code",
      "source": [
        "# a float32 tensor with one \"axes\" (1 dimension).\n",
        "vector = tf.constant([2.0, 3.0, 4.0])\n",
        "print(vector)"
      ],
      "metadata": {
        "colab": {
          "base_uri": "https://localhost:8080/"
        },
        "id": "mEiFQmwn6pf1",
        "outputId": "f401c113-9ca2-4c4f-d952-b2580ef20483"
      },
      "execution_count": null,
      "outputs": [
        {
          "output_type": "stream",
          "name": "stdout",
          "text": [
            "tf.Tensor([2. 3. 4.], shape=(3,), dtype=float32)\n"
          ]
        }
      ]
    },
    {
      "cell_type": "code",
      "source": [
        "# a float16 tensor with two \"axes\" (2 dimensions).\n",
        "matrix = tf.constant([[1, 2],\n",
        "                      [3, 4],\n",
        "                      [5, 6]], dtype=tf.float16)\n",
        "print(matrix)"
      ],
      "metadata": {
        "colab": {
          "base_uri": "https://localhost:8080/"
        },
        "id": "g6jZ6apJ68yu",
        "outputId": "eb4ab633-8bad-4376-dd39-82bc3f1a85e1"
      },
      "execution_count": null,
      "outputs": [
        {
          "output_type": "stream",
          "name": "stdout",
          "text": [
            "tf.Tensor(\n",
            "[[1. 2.]\n",
            " [3. 4.]\n",
            " [5. 6.]], shape=(3, 2), dtype=float16)\n"
          ]
        }
      ]
    },
    {
      "cell_type": "markdown",
      "source": [
        "Let's look at the shape of them.\n",
        "\n",
        "\n",
        "```\n",
        "                                 shape=(3, 2)\n",
        "                                _  ,---.---.\n",
        "shape=()       shape=(3,)       |  | 1 | 2 |\n",
        "  ,-.        ,---.---.---.      |  )---+---(\n",
        "  |4|        |2.0|3.0|4.0|      3  | 3 | 4 |\n",
        "  `-'        `---'---'---'      |  )---+---( \n",
        "                                |  | 5 | 6 |\n",
        "             |-----------|      ^  `---'---'\n",
        "                   3\n",
        "                                   |-------|\n",
        "                                     2\n",
        "```\n",
        "\n",
        "\n",
        "And Tensors could have more axes."
      ],
      "metadata": {
        "id": "c2orfxDs7SbK"
      }
    },
    {
      "cell_type": "code",
      "source": [
        "# Tensor could be converted to numpy array\n",
        "vector.numpy()"
      ],
      "metadata": {
        "colab": {
          "base_uri": "https://localhost:8080/"
        },
        "id": "Irdwh0787Q9t",
        "outputId": "7edccfbc-ce5d-4414-b7f8-e5803bd2a7f9"
      },
      "execution_count": null,
      "outputs": [
        {
          "output_type": "execute_result",
          "data": {
            "text/plain": [
              "array([2., 3., 4.], dtype=float32)"
            ]
          },
          "metadata": {},
          "execution_count": 5
        }
      ]
    },
    {
      "cell_type": "code",
      "source": [
        "matrix.numpy()"
      ],
      "metadata": {
        "colab": {
          "base_uri": "https://localhost:8080/"
        },
        "id": "4IoD5X-4_ElX",
        "outputId": "b818a366-cce4-4a08-e9f2-1c8defbe3d4e"
      },
      "execution_count": null,
      "outputs": [
        {
          "output_type": "execute_result",
          "data": {
            "text/plain": [
              "array([[1., 2.],\n",
              "       [3., 4.],\n",
              "       [5., 6.]], dtype=float16)"
            ]
          },
          "metadata": {},
          "execution_count": 6
        }
      ]
    },
    {
      "cell_type": "markdown",
      "source": [
        "### Math operations"
      ],
      "metadata": {
        "id": "q_ju8a4-_O7l"
      }
    },
    {
      "cell_type": "code",
      "source": [
        "a = tf.constant([[1, 2],\n",
        "                 [3, 4]])\n",
        "# filling a 2x2 matrix with one.\n",
        "b = tf.ones([2,2], dtype=tf.dtypes.int32)\n",
        "print(a)\n",
        "print(b)"
      ],
      "metadata": {
        "colab": {
          "base_uri": "https://localhost:8080/"
        },
        "id": "CppbW75R_XnI",
        "outputId": "0e0b0dfc-5a7e-41fd-defd-b6fd0b09a42f"
      },
      "execution_count": null,
      "outputs": [
        {
          "output_type": "stream",
          "name": "stdout",
          "text": [
            "tf.Tensor(\n",
            "[[1 2]\n",
            " [3 4]], shape=(2, 2), dtype=int32)\n",
            "tf.Tensor(\n",
            "[[1 1]\n",
            " [1 1]], shape=(2, 2), dtype=int32)\n"
          ]
        }
      ]
    },
    {
      "cell_type": "code",
      "source": [
        "tf.add(a, b) # element-wise addition"
      ],
      "metadata": {
        "colab": {
          "base_uri": "https://localhost:8080/"
        },
        "id": "16JjvAw1AK0L",
        "outputId": "944ff85b-7312-4da4-8eff-5c00dee2d4dc"
      },
      "execution_count": null,
      "outputs": [
        {
          "output_type": "execute_result",
          "data": {
            "text/plain": [
              "<tf.Tensor: shape=(2, 2), dtype=int32, numpy=\n",
              "array([[2, 3],\n",
              "       [4, 5]], dtype=int32)>"
            ]
          },
          "metadata": {},
          "execution_count": 8
        }
      ]
    },
    {
      "cell_type": "code",
      "source": [
        "tf.multiply(a, b) # element-wise multiplication"
      ],
      "metadata": {
        "colab": {
          "base_uri": "https://localhost:8080/"
        },
        "id": "SIbueoj1AYtk",
        "outputId": "cde86055-9eba-4fd3-ba36-6c9cd0102ca9"
      },
      "execution_count": null,
      "outputs": [
        {
          "output_type": "execute_result",
          "data": {
            "text/plain": [
              "<tf.Tensor: shape=(2, 2), dtype=int32, numpy=\n",
              "array([[1, 2],\n",
              "       [3, 4]], dtype=int32)>"
            ]
          },
          "metadata": {},
          "execution_count": 9
        }
      ]
    },
    {
      "cell_type": "code",
      "source": [
        "tf.matmul(a, b) # matrix multiplication"
      ],
      "metadata": {
        "colab": {
          "base_uri": "https://localhost:8080/"
        },
        "id": "iRJV31LpAbFl",
        "outputId": "ab0b01ce-337a-4c6e-ae5c-1dae4f2b7253"
      },
      "execution_count": null,
      "outputs": [
        {
          "output_type": "execute_result",
          "data": {
            "text/plain": [
              "<tf.Tensor: shape=(2, 2), dtype=int32, numpy=\n",
              "array([[3, 3],\n",
              "       [7, 7]], dtype=int32)>"
            ]
          },
          "metadata": {},
          "execution_count": 10
        }
      ]
    },
    {
      "cell_type": "code",
      "source": [
        "a + b # same as `tf.add(a, b)`"
      ],
      "metadata": {
        "colab": {
          "base_uri": "https://localhost:8080/"
        },
        "id": "1Fcs6KEHAi7Z",
        "outputId": "af1aae34-fa60-491b-d800-912319c4a6d4"
      },
      "execution_count": null,
      "outputs": [
        {
          "output_type": "execute_result",
          "data": {
            "text/plain": [
              "<tf.Tensor: shape=(2, 2), dtype=int32, numpy=\n",
              "array([[2, 3],\n",
              "       [4, 5]], dtype=int32)>"
            ]
          },
          "metadata": {},
          "execution_count": 11
        }
      ]
    },
    {
      "cell_type": "code",
      "source": [
        "a * b # same as `tf.multiply(a, b)`"
      ],
      "metadata": {
        "colab": {
          "base_uri": "https://localhost:8080/"
        },
        "id": "MuiceS4XAqDh",
        "outputId": "433ce243-c9ad-4b78-d687-f64a749c7e31"
      },
      "execution_count": null,
      "outputs": [
        {
          "output_type": "execute_result",
          "data": {
            "text/plain": [
              "<tf.Tensor: shape=(2, 2), dtype=int32, numpy=\n",
              "array([[1, 2],\n",
              "       [3, 4]], dtype=int32)>"
            ]
          },
          "metadata": {},
          "execution_count": 12
        }
      ]
    },
    {
      "cell_type": "code",
      "source": [
        "a @ b # same as `tf.matmul(a, b)`"
      ],
      "metadata": {
        "colab": {
          "base_uri": "https://localhost:8080/"
        },
        "id": "mJC5PT-oA6ez",
        "outputId": "5eff7dac-fbc0-4bee-82d7-35703c21fe23"
      },
      "execution_count": null,
      "outputs": [
        {
          "output_type": "execute_result",
          "data": {
            "text/plain": [
              "<tf.Tensor: shape=(2, 2), dtype=int32, numpy=\n",
              "array([[3, 3],\n",
              "       [7, 7]], dtype=int32)>"
            ]
          },
          "metadata": {},
          "execution_count": 13
        }
      ]
    },
    {
      "cell_type": "markdown",
      "source": [
        "There much more build-in operations."
      ],
      "metadata": {
        "id": "A3UbMiMfBQ1G"
      }
    },
    {
      "cell_type": "code",
      "source": [
        "print(tf.reduce_max(a @ b)) # Find the largest value\n",
        "print(tf.argmax(a @ b)) # Find the index of the largest value\n",
        "print(tf.nn.softmax(a @ b / 2)) # Compute the softmax"
      ],
      "metadata": {
        "colab": {
          "base_uri": "https://localhost:8080/"
        },
        "id": "I0kHKqHQBWpM",
        "outputId": "6e9f9bac-811e-4cd0-b4fc-2b223f481972"
      },
      "execution_count": null,
      "outputs": [
        {
          "output_type": "stream",
          "name": "stdout",
          "text": [
            "tf.Tensor(7, shape=(), dtype=int32)\n",
            "tf.Tensor([1 1], shape=(2,), dtype=int64)\n",
            "tf.Tensor(\n",
            "[[0.5 0.5]\n",
            " [0.5 0.5]], shape=(2, 2), dtype=float64)\n"
          ]
        }
      ]
    },
    {
      "cell_type": "markdown",
      "source": [
        "### Properties\n",
        "\n",
        "Tensor properties:\n",
        "\n",
        "- dtype: data type of items in the tensor\n",
        "- ndim: number of axes/dimensions\n",
        "- shape: number of items in each axes/dimensions\n",
        "- `tf.size` counts total number of items in the tensor\n"
      ],
      "metadata": {
        "id": "gum82EbKsSRb"
      }
    },
    {
      "cell_type": "code",
      "source": [
        "print(a.dtype)\n",
        "print(a.ndim)\n",
        "print(a.shape)\n",
        "print(tf.size(a).numpy())"
      ],
      "metadata": {
        "colab": {
          "base_uri": "https://localhost:8080/"
        },
        "id": "8q9ijeSYshaS",
        "outputId": "5a84fe45-f889-4ec7-f441-c0cddd248fcb"
      },
      "execution_count": null,
      "outputs": [
        {
          "output_type": "stream",
          "name": "stdout",
          "text": [
            "<dtype: 'int32'>\n",
            "2\n",
            "(2, 2)\n",
            "4\n"
          ]
        }
      ]
    },
    {
      "cell_type": "markdown",
      "source": [
        "### Accessing items by index"
      ],
      "metadata": {
        "id": "LK1VjGJ-vlps"
      }
    },
    {
      "cell_type": "code",
      "source": [
        "# range\n",
        "print(a[:].numpy())\n",
        "print(a[:,:].numpy())\n",
        "print(a[:1,:].numpy())\n",
        "\n",
        "# index and negative index\n",
        "print(a[0].numpy())\n",
        "print(a[-1].numpy())\n",
        "\n",
        "# single value\n",
        "print(a[0,-1].numpy())\n",
        "print(a[0,0].numpy())"
      ],
      "metadata": {
        "colab": {
          "base_uri": "https://localhost:8080/"
        },
        "id": "aCGMsEaYvrC8",
        "outputId": "9d574a89-eb6c-42fa-fdf7-f3afa0282155"
      },
      "execution_count": null,
      "outputs": [
        {
          "output_type": "stream",
          "name": "stdout",
          "text": [
            "[[1 2]\n",
            " [3 4]]\n",
            "[[1 2]\n",
            " [3 4]]\n",
            "[[1 2]]\n",
            "[1 2]\n",
            "[3 4]\n",
            "2\n",
            "1\n"
          ]
        }
      ]
    },
    {
      "cell_type": "markdown",
      "source": [
        "### Manipulating Shapes"
      ],
      "metadata": {
        "id": "gC2B_Hzr3fa5"
      }
    },
    {
      "cell_type": "code",
      "source": [
        "print(tf.reshape(a, -1).numpy()) # reduce number of dimension by -1\n",
        "print(tf.reshape(a, [4, 1]).numpy()) # reshape to particular shape"
      ],
      "metadata": {
        "colab": {
          "base_uri": "https://localhost:8080/"
        },
        "id": "c30eObLq31Ya",
        "outputId": "6c94ba2c-62c5-4834-bd04-0851419f4835"
      },
      "execution_count": null,
      "outputs": [
        {
          "output_type": "stream",
          "name": "stdout",
          "text": [
            "[1 2 3 4]\n",
            "[[1]\n",
            " [2]\n",
            " [3]\n",
            " [4]]\n"
          ]
        }
      ]
    },
    {
      "cell_type": "markdown",
      "source": [
        "## Special Tensors"
      ],
      "metadata": {
        "id": "CDko2eFL57-7"
      }
    },
    {
      "cell_type": "markdown",
      "source": [
        "### Ragged Tensors"
      ],
      "metadata": {
        "id": "NHNCAp-e5mF8"
      }
    },
    {
      "cell_type": "code",
      "source": [
        ""
      ],
      "metadata": {
        "id": "ZJ9Etnsg5m_L"
      },
      "execution_count": null,
      "outputs": []
    },
    {
      "cell_type": "markdown",
      "source": [
        "### String Tensors"
      ],
      "metadata": {
        "id": "2vqVzN6e5nPC"
      }
    },
    {
      "cell_type": "code",
      "source": [
        ""
      ],
      "metadata": {
        "id": "6qUHUkWQ5_Ot"
      },
      "execution_count": null,
      "outputs": []
    },
    {
      "cell_type": "markdown",
      "source": [
        "### Sparse tensors"
      ],
      "metadata": {
        "id": "jbGZIZXx5xZW"
      }
    },
    {
      "cell_type": "code",
      "source": [
        ""
      ],
      "metadata": {
        "id": "Z2v1Md-c5xRb"
      },
      "execution_count": null,
      "outputs": []
    },
    {
      "cell_type": "markdown",
      "metadata": {
        "id": "vf6-wsy82P_4"
      },
      "source": [
        "# Tensorflow GPU"
      ]
    },
    {
      "cell_type": "code",
      "source": [
        ""
      ],
      "metadata": {
        "id": "XLpEca0OktYa"
      },
      "execution_count": null,
      "outputs": []
    },
    {
      "cell_type": "markdown",
      "source": [
        "## Addional Setup"
      ],
      "metadata": {
        "id": "o0AMVM-rL2wX"
      }
    },
    {
      "cell_type": "markdown",
      "metadata": {
        "id": "mFcG1PQxRTUv"
      },
      "source": [
        "### ROCm for AMD GPU"
      ]
    },
    {
      "cell_type": "code",
      "source": [
        "!pip install tensorflow-rocm"
      ],
      "metadata": {
        "id": "K4mkL2utkuD1"
      },
      "execution_count": null,
      "outputs": []
    },
    {
      "cell_type": "markdown",
      "metadata": {
        "id": "pDeXUR4kRwsX"
      },
      "source": [
        "### Tensorflow Metal for Apple M1's GPU"
      ]
    },
    {
      "cell_type": "code",
      "source": [
        "!pip install tensorflow-macos tensorflow-metal"
      ],
      "metadata": {
        "id": "vZYstJ9okuxc"
      },
      "execution_count": null,
      "outputs": []
    },
    {
      "cell_type": "markdown",
      "source": [
        "## Connect to local notebook runtime (with GPU support in our lab machine)"
      ],
      "metadata": {
        "id": "MrElHtk1kstL"
      }
    },
    {
      "cell_type": "code",
      "source": [
        ""
      ],
      "metadata": {
        "id": "E7z0vGXCk27Q"
      },
      "execution_count": null,
      "outputs": []
    },
    {
      "cell_type": "markdown",
      "metadata": {
        "id": "MdU3XQXsnOh-"
      },
      "source": [
        "# Distributed training with Keras\n",
        "\n"
      ]
    },
    {
      "cell_type": "code",
      "source": [
        "import tensorflow_datasets as tfds\n",
        "import tensorflow as tf\n",
        "\n",
        "import os\n",
        "\n",
        "# Load the TensorBoard notebook extension.\n",
        "%load_ext tensorboard"
      ],
      "metadata": {
        "id": "sz_flkwh6m1y"
      },
      "execution_count": null,
      "outputs": []
    },
    {
      "cell_type": "markdown",
      "source": [
        "## Multi-worker (GPU on multiple machines)\n",
        "\n",
        "Please work in a pair with your classmate."
      ],
      "metadata": {
        "id": "3_O8OoRC9L_L"
      }
    },
    {
      "cell_type": "markdown",
      "source": [
        "### Steup"
      ],
      "metadata": {
        "id": "7UBUuoXZ-rnh"
      }
    },
    {
      "cell_type": "code",
      "source": [
        "import json\n",
        "import os\n",
        "import sys\n",
        "\n",
        "os.environ[\"CUDA_VISIBLE_DEVICES\"] = \"-1\"\n",
        "os.environ.pop('TF_CONFIG', None)\n",
        "\n",
        "# make sure the current path is in Python's system path\n",
        "if '.' not in sys.path:\n",
        "  sys.path.insert(0, '.')"
      ],
      "metadata": {
        "id": "XlmNhmqZ9NAy"
      },
      "execution_count": null,
      "outputs": []
    },
    {
      "cell_type": "markdown",
      "source": [
        "### Create model file"
      ],
      "metadata": {
        "id": "1-a5oqLe-s7R"
      }
    },
    {
      "cell_type": "code",
      "source": [
        "%%writefile mnist.py\n",
        "\n",
        "import os\n",
        "import tensorflow as tf\n",
        "import numpy as np\n",
        "\n",
        "def mnist_dataset(batch_size):\n",
        "  (x_train, y_train), _ = tf.keras.datasets.mnist.load_data()\n",
        "  # The `x` arrays are in uint8 and have values in the [0, 255] range.\n",
        "  # You need to convert them to float32 with values in the [0, 1] range.\n",
        "  x_train = x_train / np.float32(255)\n",
        "  y_train = y_train.astype(np.int64)\n",
        "  train_dataset = tf.data.Dataset.from_tensor_slices(\n",
        "      (x_train, y_train)).shuffle(60000).repeat().batch(batch_size)\n",
        "  return train_dataset\n",
        "\n",
        "def build_and_compile_cnn_model():\n",
        "  model = tf.keras.Sequential([\n",
        "      tf.keras.layers.InputLayer(input_shape=(28, 28)),\n",
        "      tf.keras.layers.Reshape(target_shape=(28, 28, 1)),\n",
        "      tf.keras.layers.Conv2D(32, 3, activation='relu'),\n",
        "      tf.keras.layers.Flatten(),\n",
        "      tf.keras.layers.Dense(128, activation='relu'),\n",
        "      tf.keras.layers.Dense(10)\n",
        "  ])\n",
        "  model.compile(\n",
        "      loss=tf.keras.losses.SparseCategoricalCrossentropy(from_logits=True),\n",
        "      optimizer=tf.keras.optimizers.SGD(learning_rate=0.001),\n",
        "      metrics=['accuracy'])\n",
        "  return model"
      ],
      "metadata": {
        "id": "QKV3Qqnc-vA6"
      },
      "execution_count": null,
      "outputs": []
    },
    {
      "cell_type": "markdown",
      "source": [
        "### Try with a single worker first"
      ],
      "metadata": {
        "id": "B9uJa6WJ_CP-"
      }
    },
    {
      "cell_type": "code",
      "source": [
        "import mnist\n",
        "\n",
        "batch_size = 64\n",
        "single_worker_dataset = mnist.mnist_dataset(batch_size)\n",
        "single_worker_model = mnist.build_and_compile_cnn_model()\n",
        "single_worker_model.fit(single_worker_dataset, epochs=3, steps_per_epoch=70)"
      ],
      "metadata": {
        "id": "i0aQuZ-T_EOC"
      },
      "execution_count": null,
      "outputs": []
    },
    {
      "cell_type": "markdown",
      "source": [
        "### Multi-worker configuration"
      ],
      "metadata": {
        "id": "Ad0ppmZ6_XsD"
      }
    },
    {
      "cell_type": "code",
      "source": [
        "tf_config = {\n",
        "    'cluster': {\n",
        "        'worker': ['REPLACE_WITH_CHIEF_ADDR', 'REPLACE_WITH_WORKER_ADDR']\n",
        "    },\n",
        "    'task': {'type': 'worker', 'index': 0}\n",
        "}"
      ],
      "metadata": {
        "id": "yshJ0kW4_Yj6"
      },
      "execution_count": null,
      "outputs": []
    }
  ]
}