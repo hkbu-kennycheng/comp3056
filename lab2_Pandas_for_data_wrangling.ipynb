{
  "nbformat": 4,
  "nbformat_minor": 5,
  "metadata": {
    "kernelspec": {
      "display_name": "Python 3",
      "language": "python",
      "name": "python3"
    },
    "language_info": {
      "codemirror_mode": {
        "name": "ipython",
        "version": 3
      },
      "file_extension": ".py",
      "mimetype": "text/x-python",
      "name": "python",
      "nbconvert_exporter": "python",
      "pygments_lexer": "ipython3",
      "version": "3.8.1"
    },
    "colab": {
      "name": "lab2 Pandas for data wrangling.ipynb",
      "provenance": [],
      "collapsed_sections": [],
      "include_colab_link": true
    }
  },
  "cells": [
    {
      "cell_type": "markdown",
      "metadata": {
        "id": "view-in-github",
        "colab_type": "text"
      },
      "source": [
        "<a href=\"https://colab.research.google.com/github/hkbu-kennycheng/comp3065/blob/main/lab2_Pandas_for_data_wrangling.ipynb\" target=\"_parent\"><img src=\"https://colab.research.google.com/assets/colab-badge.svg\" alt=\"Open In Colab\"/></a>"
      ]
    },
    {
      "cell_type": "markdown",
      "metadata": {
        "id": "Atyd7Q0DYXIr"
      },
      "source": [
        "# Week2: Pandas for data wrangling\n"
      ],
      "id": "Atyd7Q0DYXIr"
    },
    {
      "cell_type": "markdown",
      "metadata": {
        "id": "mpHL3e0fYXIt"
      },
      "source": [
        "## 1.Pandas Series object \n",
        "\n",
        "The main data structures of Pandas are Series(one-dimensional data) and DataFrame(two-dimensional data). These two data structures are sufficient to handle most topical use cases in the fields of finance, statistics, social science, and engineering.\n",
        "\n",
        "Series is an object similar to a one-dimensional array, which consists of a set of data (various Numpy data types) and a set of data labels (ie indexes) related to it.\n",
        "\n",
        "Pandas Series is similar to a column in a table, similar to a one-dimensional array, and can store any data type.\n",
        "Series is composed of index and columns. The functions are as follows:\n",
        "pandas.Series( data, index, dtype, name, copy)\n",
        "\n",
        "Parameter Description:\n",
        "data : A set of data (ndarray type).\n",
        "index : Data index label, if not specified, it will start from 0 by default.\n",
        "dtype : The data type, which will be judged by itself by default.\n",
        "name : The name of the setting.\n",
        "copy : Copy data, the default is False."
      ],
      "id": "mpHL3e0fYXIt"
    },
    {
      "cell_type": "code",
      "metadata": {
        "id": "TZpZuCeSYXIu"
      },
      "source": [
        "import pandas as pd\n",
        "import numpy as np\n",
        "import matplotlib.pyplot as plt\n",
        "import seaborn as sns"
      ],
      "id": "TZpZuCeSYXIu",
      "execution_count": null,
      "outputs": []
    },
    {
      "cell_type": "code",
      "metadata": {
        "colab": {
          "base_uri": "https://localhost:8080/"
        },
        "id": "uo-zIwFcYXIv",
        "outputId": "3a3149ba-1665-4a68-ee7d-05908f123140"
      },
      "source": [
        "a = [1, 2, 3]\n",
        "\n",
        "myvar = pd.Series(a)\n",
        "\n",
        "print(myvar)"
      ],
      "id": "uo-zIwFcYXIv",
      "execution_count": null,
      "outputs": [
        {
          "output_type": "stream",
          "text": [
            "0    1\n",
            "1    2\n",
            "2    3\n",
            "dtype: int64\n"
          ],
          "name": "stdout"
        }
      ]
    },
    {
      "cell_type": "markdown",
      "metadata": {
        "id": "h0u9N1K9YXIw"
      },
      "source": [
        "As can be seen from the above figure, if the index is not specified, the index value starts from 0, and we can read the data according to the index value.The following example show the second data of the series 'a'."
      ],
      "id": "h0u9N1K9YXIw"
    },
    {
      "cell_type": "code",
      "metadata": {
        "colab": {
          "base_uri": "https://localhost:8080/"
        },
        "id": "s_g150UyYXIx",
        "outputId": "6b9b18d8-0c1d-4912-810e-603da28d5476"
      },
      "source": [
        "a = [1, 2, 3]\n",
        "\n",
        "myvar = pd.Series(a)\n",
        "\n",
        "print(myvar[1])"
      ],
      "id": "s_g150UyYXIx",
      "execution_count": null,
      "outputs": [
        {
          "output_type": "stream",
          "text": [
            "2\n"
          ],
          "name": "stdout"
        }
      ]
    },
    {
      "cell_type": "markdown",
      "metadata": {
        "id": "S9NV2QdOYXIx"
      },
      "source": [
        "We can specify the index value and read data according to the index value, as in the following examples:"
      ],
      "id": "S9NV2QdOYXIx"
    },
    {
      "cell_type": "code",
      "metadata": {
        "colab": {
          "base_uri": "https://localhost:8080/"
        },
        "id": "4C2D84fjYXIx",
        "outputId": "2b149d6a-9a26-42d6-cb94-a4dcdcf5a784"
      },
      "source": [
        "a = [\"Python\", \"Pandas\", \"Serires\"]\n",
        "\n",
        "myvar = pd.Series(a, index = [\"x\", \"y\", \"z\"])\n",
        "\n",
        "print(myvar)"
      ],
      "id": "4C2D84fjYXIx",
      "execution_count": null,
      "outputs": [
        {
          "output_type": "stream",
          "text": [
            "x     Python\n",
            "y     Pandas\n",
            "z    Serires\n",
            "dtype: object\n"
          ],
          "name": "stdout"
        }
      ]
    },
    {
      "cell_type": "code",
      "metadata": {
        "colab": {
          "base_uri": "https://localhost:8080/"
        },
        "id": "by37z2S2YXIx",
        "outputId": "074fd7f2-f840-4aa1-b7c2-4a731db64f1c"
      },
      "source": [
        "a = [\"Python\", \"Pandas\", \"Serires\"]\n",
        "\n",
        "myvar = pd.Series(a, index = [\"x\", \"y\", \"z\"])\n",
        "\n",
        "print(myvar[\"y\"])"
      ],
      "id": "by37z2S2YXIx",
      "execution_count": null,
      "outputs": [
        {
          "output_type": "stream",
          "text": [
            "Pandas\n"
          ],
          "name": "stdout"
        }
      ]
    },
    {
      "cell_type": "markdown",
      "metadata": {
        "id": "PRlfGkXkYXIy"
      },
      "source": [
        "We can also use key/value objects, similar to dictionaries to create Series.As can be seen from the above figure, the key of the dictionary becomes the index value.If we only need a part of the data in the dictionary, we only need to specify the index of the data we need. In addition, we can set the series name parameter, as in the following examples:"
      ],
      "id": "PRlfGkXkYXIy"
    },
    {
      "cell_type": "code",
      "metadata": {
        "colab": {
          "base_uri": "https://localhost:8080/"
        },
        "id": "UjgOtkiYYXIy",
        "outputId": "014569d4-0ab2-4bd5-9c25-63afca754af5"
      },
      "source": [
        "sites = {1: \"Python\", 2: \"Pandas\", 3: \"Series\"}\n",
        "\n",
        "myvar = pd.Series(sites)\n",
        "\n",
        "print(myvar)"
      ],
      "id": "UjgOtkiYYXIy",
      "execution_count": null,
      "outputs": [
        {
          "output_type": "stream",
          "text": [
            "1    Python\n",
            "2    Pandas\n",
            "3    Series\n",
            "dtype: object\n"
          ],
          "name": "stdout"
        }
      ]
    },
    {
      "cell_type": "code",
      "metadata": {
        "colab": {
          "base_uri": "https://localhost:8080/"
        },
        "id": "raWz24O4YXIz",
        "outputId": "10c2d42f-d62a-45cf-d0b2-8714cbc8f4d4"
      },
      "source": [
        "sites = {1: \"Python\", 2: \"Pandas\", 3: \"Series\"}\n",
        "\n",
        "myvar = pd.Series(sites, index = [1, 2], name=\"Pandas-Series-TEST\" )\n",
        "\n",
        "print(myvar)"
      ],
      "id": "raWz24O4YXIz",
      "execution_count": null,
      "outputs": [
        {
          "output_type": "stream",
          "text": [
            "1    Python\n",
            "2    Pandas\n",
            "Name: Pandas-Series-TEST, dtype: object\n"
          ],
          "name": "stdout"
        }
      ]
    },
    {
      "cell_type": "markdown",
      "metadata": {
        "id": "8YDFKr29YXIz"
      },
      "source": [
        "## 2.Pandas DataFrame object and index object\n",
        "\n",
        "DataFrame is a tabular data structure, which contains a set of ordered columns, each column can be a different value type (number, string, Boolean value). DataFrame has both row index and column index. It can be regarded as a dictionary composed of Series (using one index together).\n",
        "\n",
        "The DataFrame construction method is as follows:\n",
        "pandas.DataFrame( data, index, columns, dtype, copy)\n",
        "\n",
        "Parameter Description:\n",
        "data : A set of data (ndarray, series, map, lists, dict, etc.).\n",
        "index : The index value, or it can be called a row label.\n",
        "columns : column label, the default is RangeIndex (0, 1, 2, …, n).\n",
        "dtype : data type.\n",
        "copy : Copy data, the default is False."
      ],
      "id": "8YDFKr29YXIz"
    },
    {
      "cell_type": "markdown",
      "metadata": {
        "id": "4FKRHefHYXI0"
      },
      "source": [
        "![DataFrame](attachment:image.png)"
      ],
      "id": "4FKRHefHYXI0"
    },
    {
      "cell_type": "code",
      "metadata": {
        "colab": {
          "base_uri": "https://localhost:8080/"
        },
        "id": "JUNeqTeBYXI0",
        "outputId": "27d7de83-feb1-4291-d7de-b919f4489b93"
      },
      "source": [
        "data = [[4,5,2],[5,4,3],[6,3,5],[3,0,2],[1,2,7]]\n",
        "\n",
        "df = pd.DataFrame(data,columns=['Mango','Apple','Banana'],dtype=int)\n",
        "\n",
        "print(df)"
      ],
      "id": "JUNeqTeBYXI0",
      "execution_count": null,
      "outputs": [
        {
          "output_type": "stream",
          "text": [
            "   Mango  Apple  Banana\n",
            "0      4      5       2\n",
            "1      5      4       3\n",
            "2      6      3       5\n",
            "3      3      0       2\n",
            "4      1      2       7\n"
          ],
          "name": "stdout"
        }
      ]
    },
    {
      "cell_type": "markdown",
      "metadata": {
        "id": "emroHpokYXI0"
      },
      "source": [
        "The following examples are created using ndarrays. The length of the ndarray must be the same. If index is passed, the length of the index should be equal to the length of the array. If no index is passed, by default, the index will be range(n), where n is the length of the array."
      ],
      "id": "emroHpokYXI0"
    },
    {
      "cell_type": "code",
      "metadata": {
        "colab": {
          "base_uri": "https://localhost:8080/"
        },
        "id": "n5m0VQjCYXI0",
        "outputId": "d417a533-ff61-4e0f-c96b-cb6e58506d0c"
      },
      "source": [
        "data = {'Mango':[4,5,6,3,1], 'Apple':[5,4,3,0,2],'Banana':[2,3,5,2,7]}\n",
        "\n",
        "df = pd.DataFrame(data)\n",
        "\n",
        "print (df)"
      ],
      "id": "n5m0VQjCYXI0",
      "execution_count": null,
      "outputs": [
        {
          "output_type": "stream",
          "text": [
            "   Mango  Apple  Banana\n",
            "0      4      5       2\n",
            "1      5      4       3\n",
            "2      6      3       5\n",
            "3      3      0       2\n",
            "4      1      2       7\n"
          ],
          "name": "stdout"
        }
      ]
    },
    {
      "cell_type": "code",
      "metadata": {
        "colab": {
          "base_uri": "https://localhost:8080/"
        },
        "id": "3-DdYhj2YXI1",
        "outputId": "5b7d14e7-030b-4667-daa5-2a134d5e6145"
      },
      "source": [
        "data = [{'a': 1, 'b': 2},{'a': 5, 'b': 10, 'c': 20}]\n",
        "\n",
        "df = pd.DataFrame(data)\n",
        "\n",
        "print (df)"
      ],
      "id": "3-DdYhj2YXI1",
      "execution_count": null,
      "outputs": [
        {
          "output_type": "stream",
          "text": [
            "   a   b     c\n",
            "0  1   2   NaN\n",
            "1  5  10  20.0\n"
          ],
          "name": "stdout"
        }
      ]
    },
    {
      "cell_type": "markdown",
      "metadata": {
        "id": "ZgOVF87eYXI1"
      },
      "source": [
        "There is no corresponding part of the data as NaN .\n",
        "\n",
        "Pandas can use the loc attribute to return the data of the specified row. If the index is not set, the index of the first row is 0 , the index of the second row is 1 , and so on:"
      ],
      "id": "ZgOVF87eYXI1"
    },
    {
      "cell_type": "code",
      "metadata": {
        "colab": {
          "base_uri": "https://localhost:8080/"
        },
        "id": "LkeX8uY7YXI1",
        "outputId": "7c801d84-781e-4a93-d8c6-309219856d54"
      },
      "source": [
        "data = {\n",
        "  \"calories\" : [ 420 , 380 , 390 ] ,\n",
        "  \"duration\" : [ 50 , 40 , 45 ]\n",
        "}\n",
        "\n",
        "# Load data into the DataFrame object\n",
        "df = pd. DataFrame ( data )\n",
        "\n",
        "# Return to the first Line\n",
        "print ( df. loc [ 0 ] )\n",
        "# return to the second line\n",
        "print ( df. loc [ 1 ] )"
      ],
      "id": "LkeX8uY7YXI1",
      "execution_count": null,
      "outputs": [
        {
          "output_type": "stream",
          "text": [
            "calories    420\n",
            "duration     50\n",
            "Name: 0, dtype: int64\n",
            "calories    380\n",
            "duration     40\n",
            "Name: 1, dtype: int64\n"
          ],
          "name": "stdout"
        }
      ]
    },
    {
      "cell_type": "markdown",
      "metadata": {
        "id": "EIEeiAg2YXI1"
      },
      "source": [
        "The returned result is actually a Pandas Series data.\n",
        "\n",
        "You can also return multiple rows of data, using the [[ ... ]] format, where ... is the index of each row, separated by commas."
      ],
      "id": "EIEeiAg2YXI1"
    },
    {
      "cell_type": "code",
      "metadata": {
        "colab": {
          "base_uri": "https://localhost:8080/"
        },
        "id": "yivnJh9-YXI2",
        "outputId": "53852226-d7cd-4f67-f881-e9721aad4fa1"
      },
      "source": [
        "data = {\n",
        "  \"calories\" : [ 420 , 380 , 390 ] ,\n",
        "  \"duration\" : [ 50 , 40 , 45 ]\n",
        "}\n",
        "\n",
        "# Load data into the DataFrame object\n",
        "df = pd. DataFrame ( data)\n",
        "\n",
        "# Return to the first Line and the second line\n",
        "print ( df. loc [ [ 0 , 1 ] ] )"
      ],
      "id": "yivnJh9-YXI2",
      "execution_count": null,
      "outputs": [
        {
          "output_type": "stream",
          "text": [
            "   calories  duration\n",
            "0       420        50\n",
            "1       380        40\n"
          ],
          "name": "stdout"
        }
      ]
    },
    {
      "cell_type": "markdown",
      "metadata": {
        "id": "6BWPm9h2YXI2"
      },
      "source": [
        "The returned result is actually a Pandas DataFrame data.\n",
        "\n",
        "We can specify the index value/ index label, as in the following example:"
      ],
      "id": "6BWPm9h2YXI2"
    },
    {
      "cell_type": "code",
      "metadata": {
        "colab": {
          "base_uri": "https://localhost:8080/"
        },
        "id": "8ENIijTeYXI3",
        "outputId": "e9b2474a-4b79-447c-96dd-28ec60d00e9b"
      },
      "source": [
        "data = {\n",
        "  \"calories\": [420, 380, 390],\n",
        "  \"duration\": [50, 40, 45]\n",
        "}\n",
        "\n",
        "df = pd.DataFrame(data, index = [\"day1\", \"day2\", \"day3\"])\n",
        "\n",
        "print(df)"
      ],
      "id": "8ENIijTeYXI3",
      "execution_count": null,
      "outputs": [
        {
          "output_type": "stream",
          "text": [
            "      calories  duration\n",
            "day1       420        50\n",
            "day2       380        40\n",
            "day3       390        45\n"
          ],
          "name": "stdout"
        }
      ]
    },
    {
      "cell_type": "markdown",
      "metadata": {
        "id": "YUf4yoniYXI3"
      },
      "source": [
        "Pandas can use the loc attribute to return the specified index. Correspond to a row:"
      ],
      "id": "YUf4yoniYXI3"
    },
    {
      "cell_type": "code",
      "metadata": {
        "colab": {
          "base_uri": "https://localhost:8080/"
        },
        "id": "Q3psn8hwYXI3",
        "outputId": "586b66db-0809-43c6-8b4e-8bca02166117"
      },
      "source": [
        "data = {\n",
        "  \"calories\": [420, 380, 390],\n",
        "  \"duration\": [50, 40, 45]\n",
        "}\n",
        "\n",
        "df = pd.DataFrame(data, index = [\"day1\", \"day2\", \"day3\"])\n",
        "\n",
        "print(df.loc[\"day2\"])"
      ],
      "id": "Q3psn8hwYXI3",
      "execution_count": null,
      "outputs": [
        {
          "output_type": "stream",
          "text": [
            "calories    380\n",
            "duration     40\n",
            "Name: day2, dtype: int64\n"
          ],
          "name": "stdout"
        }
      ]
    },
    {
      "cell_type": "markdown",
      "metadata": {
        "id": "8Y7OPbcVYXI3"
      },
      "source": [
        "### Exercise\n",
        "1.Please create a dataframe inclduing more than 4 students information of age, department and grade.\n",
        "2.Showing your information row."
      ],
      "id": "8Y7OPbcVYXI3"
    },
    {
      "cell_type": "markdown",
      "metadata": {
        "id": "qLt4P1L3YXI4"
      },
      "source": [
        "## 3.Data indexing and selection\n",
        "\n",
        "Indexing in pandas means simply selecting particular rows and columns of data from a DataFrame. Indexing could mean selecting all the rows and some of the columns, some of the rows and all of the columns, or some of each of the rows and columns. Indexing can also be known as Subset Selection."
      ],
      "id": "qLt4P1L3YXI4"
    },
    {
      "cell_type": "code",
      "metadata": {
        "colab": {
          "base_uri": "https://localhost:8080/",
          "height": 290
        },
        "id": "GqrPfmEqYXI4",
        "outputId": "5b4589d3-8ad8-4e54-da34-958aede9ba28"
      },
      "source": [
        "!curl -L https://gist.githubusercontent.com/hkbu-kennycheng/49229ad65f957ba9e84c9a8c439aa51c/raw/51cd60f0458303f99f0a0661802c9709d748644b/Pokemon.csv > Pokemon.csv\n",
        "\n",
        "data = pd.read_csv(\"Pokemon.csv\", index_col =\"Name\")\n",
        "#data.head() is supposed to show the first 5 rows and you can change the number to select \n",
        "#to get the rows you want\n",
        "data.head()\n"
      ],
      "id": "GqrPfmEqYXI4",
      "execution_count": null,
      "outputs": [
        {
          "output_type": "stream",
          "text": [
            "  % Total    % Received % Xferd  Average Speed   Time    Time     Time  Current\n",
            "                                 Dload  Upload   Total   Spent    Left  Speed\n",
            "\r  0     0    0     0    0     0      0      0 --:--:-- --:--:-- --:--:--     0\r100  1206  100  1206    0     0  28714      0 --:--:-- --:--:-- --:--:-- 28714\n"
          ],
          "name": "stdout"
        },
        {
          "output_type": "execute_result",
          "data": {
            "text/html": [
              "<div>\n",
              "<style scoped>\n",
              "    .dataframe tbody tr th:only-of-type {\n",
              "        vertical-align: middle;\n",
              "    }\n",
              "\n",
              "    .dataframe tbody tr th {\n",
              "        vertical-align: top;\n",
              "    }\n",
              "\n",
              "    .dataframe thead th {\n",
              "        text-align: right;\n",
              "    }\n",
              "</style>\n",
              "<table border=\"1\" class=\"dataframe\">\n",
              "  <thead>\n",
              "    <tr style=\"text-align: right;\">\n",
              "      <th></th>\n",
              "      <th>Type 1</th>\n",
              "      <th>Type 2</th>\n",
              "      <th>Total</th>\n",
              "      <th>HP</th>\n",
              "      <th>Attack</th>\n",
              "      <th>Speed</th>\n",
              "      <th>Generation</th>\n",
              "      <th>Legendary</th>\n",
              "    </tr>\n",
              "    <tr>\n",
              "      <th>Name</th>\n",
              "      <th></th>\n",
              "      <th></th>\n",
              "      <th></th>\n",
              "      <th></th>\n",
              "      <th></th>\n",
              "      <th></th>\n",
              "      <th></th>\n",
              "      <th></th>\n",
              "    </tr>\n",
              "  </thead>\n",
              "  <tbody>\n",
              "    <tr>\n",
              "      <th>Bulbasaur</th>\n",
              "      <td>Grass</td>\n",
              "      <td>Poison</td>\n",
              "      <td>318.0</td>\n",
              "      <td>45.0</td>\n",
              "      <td>49.0</td>\n",
              "      <td>45.0</td>\n",
              "      <td>1.0</td>\n",
              "      <td>False</td>\n",
              "    </tr>\n",
              "    <tr>\n",
              "      <th>Lugia</th>\n",
              "      <td>Psychic</td>\n",
              "      <td>Flying</td>\n",
              "      <td>680.0</td>\n",
              "      <td>106.0</td>\n",
              "      <td>90.0</td>\n",
              "      <td>110.0</td>\n",
              "      <td>2.0</td>\n",
              "      <td>True</td>\n",
              "    </tr>\n",
              "    <tr>\n",
              "      <th>Charmander</th>\n",
              "      <td>Fire</td>\n",
              "      <td>NaN</td>\n",
              "      <td>309.0</td>\n",
              "      <td>39.0</td>\n",
              "      <td>52.0</td>\n",
              "      <td>65.0</td>\n",
              "      <td>1.0</td>\n",
              "      <td>False</td>\n",
              "    </tr>\n",
              "    <tr>\n",
              "      <th>Charmeleon</th>\n",
              "      <td>Fire</td>\n",
              "      <td>NaN</td>\n",
              "      <td>NaN</td>\n",
              "      <td>58.0</td>\n",
              "      <td>NaN</td>\n",
              "      <td>80.0</td>\n",
              "      <td>1.0</td>\n",
              "      <td>False</td>\n",
              "    </tr>\n",
              "    <tr>\n",
              "      <th>Charizard</th>\n",
              "      <td>Fire</td>\n",
              "      <td>Flying</td>\n",
              "      <td>534.0</td>\n",
              "      <td>78.0</td>\n",
              "      <td>84.0</td>\n",
              "      <td>100.0</td>\n",
              "      <td>1.0</td>\n",
              "      <td>False</td>\n",
              "    </tr>\n",
              "  </tbody>\n",
              "</table>\n",
              "</div>"
            ],
            "text/plain": [
              "             Type 1  Type 2  Total     HP  Attack  Speed  Generation Legendary\n",
              "Name                                                                          \n",
              "Bulbasaur     Grass  Poison  318.0   45.0    49.0   45.0         1.0     False\n",
              "Lugia       Psychic  Flying  680.0  106.0    90.0  110.0         2.0      True\n",
              "Charmander     Fire     NaN  309.0   39.0    52.0   65.0         1.0     False\n",
              "Charmeleon     Fire     NaN    NaN   58.0     NaN   80.0         1.0     False\n",
              "Charizard      Fire  Flying  534.0   78.0    84.0  100.0         1.0     False"
            ]
          },
          "metadata": {
            "tags": []
          },
          "execution_count": 190
        }
      ]
    },
    {
      "cell_type": "code",
      "metadata": {
        "colab": {
          "base_uri": "https://localhost:8080/",
          "height": 175
        },
        "id": "_W92g-q5YXI4",
        "outputId": "2560e061-4450-44ce-ddfe-9e5fe069f775"
      },
      "source": [
        "data.tail(3)"
      ],
      "id": "_W92g-q5YXI4",
      "execution_count": null,
      "outputs": [
        {
          "output_type": "execute_result",
          "data": {
            "text/html": [
              "<div>\n",
              "<style scoped>\n",
              "    .dataframe tbody tr th:only-of-type {\n",
              "        vertical-align: middle;\n",
              "    }\n",
              "\n",
              "    .dataframe tbody tr th {\n",
              "        vertical-align: top;\n",
              "    }\n",
              "\n",
              "    .dataframe thead th {\n",
              "        text-align: right;\n",
              "    }\n",
              "</style>\n",
              "<table border=\"1\" class=\"dataframe\">\n",
              "  <thead>\n",
              "    <tr style=\"text-align: right;\">\n",
              "      <th></th>\n",
              "      <th>Type 1</th>\n",
              "      <th>Type 2</th>\n",
              "      <th>Total</th>\n",
              "      <th>HP</th>\n",
              "      <th>Attack</th>\n",
              "      <th>Speed</th>\n",
              "      <th>Generation</th>\n",
              "      <th>Legendary</th>\n",
              "    </tr>\n",
              "    <tr>\n",
              "      <th>Name</th>\n",
              "      <th></th>\n",
              "      <th></th>\n",
              "      <th></th>\n",
              "      <th></th>\n",
              "      <th></th>\n",
              "      <th></th>\n",
              "      <th></th>\n",
              "      <th></th>\n",
              "    </tr>\n",
              "  </thead>\n",
              "  <tbody>\n",
              "    <tr>\n",
              "      <th>Heatmor</th>\n",
              "      <td>Fire</td>\n",
              "      <td>NaN</td>\n",
              "      <td>484.0</td>\n",
              "      <td>NaN</td>\n",
              "      <td>97.0</td>\n",
              "      <td>NaN</td>\n",
              "      <td>5.0</td>\n",
              "      <td>False</td>\n",
              "    </tr>\n",
              "    <tr>\n",
              "      <th>Durant</th>\n",
              "      <td>Bug</td>\n",
              "      <td>Steel</td>\n",
              "      <td>484.0</td>\n",
              "      <td>58.0</td>\n",
              "      <td>109.0</td>\n",
              "      <td>109.0</td>\n",
              "      <td>5.0</td>\n",
              "      <td>False</td>\n",
              "    </tr>\n",
              "    <tr>\n",
              "      <th>Deino</th>\n",
              "      <td>Dark</td>\n",
              "      <td>Dragon</td>\n",
              "      <td>300.0</td>\n",
              "      <td>52.0</td>\n",
              "      <td>65.0</td>\n",
              "      <td>38.0</td>\n",
              "      <td>5.0</td>\n",
              "      <td>False</td>\n",
              "    </tr>\n",
              "  </tbody>\n",
              "</table>\n",
              "</div>"
            ],
            "text/plain": [
              "        Type 1  Type 2  Total    HP  Attack  Speed  Generation Legendary\n",
              "Name                                                                    \n",
              "Heatmor   Fire     NaN  484.0   NaN    97.0    NaN         5.0     False\n",
              "Durant     Bug   Steel  484.0  58.0   109.0  109.0         5.0     False\n",
              "Deino     Dark  Dragon  300.0  52.0    65.0   38.0         5.0     False"
            ]
          },
          "metadata": {
            "tags": []
          },
          "execution_count": 191
        }
      ]
    },
    {
      "cell_type": "code",
      "metadata": {
        "colab": {
          "base_uri": "https://localhost:8080/"
        },
        "id": "mvIrYs7zYXI4",
        "outputId": "fd74e22c-0704-49fd-b65a-ad9f1b0839aa"
      },
      "source": [
        "# retrieving columns by indexing operator\n",
        "one = data[\"Type 1\"]\n",
        "#In order to select multiple columns\n",
        "#we have to pass a list of columns in an indexing operator.\n",
        "first = data[[\"Type 1\",\"Type 2\",\"HP\",\"Attack\"]]\n",
        "print(first)"
      ],
      "id": "mvIrYs7zYXI4",
      "execution_count": null,
      "outputs": [
        {
          "output_type": "stream",
          "text": [
            "                         Type 1   Type 2     HP  Attack\n",
            "Name                                                   \n",
            "Bulbasaur                 Grass   Poison   45.0    49.0\n",
            "Lugia                   Psychic   Flying  106.0    90.0\n",
            "Charmander                 Fire      NaN   39.0    52.0\n",
            "Charmeleon                 Fire      NaN   58.0     NaN\n",
            "Charizard                  Fire   Flying   78.0    84.0\n",
            "Pikachu                Electric      NaN   35.0    55.0\n",
            "Jigglypuff               Normal    Fairy    NaN    45.0\n",
            "Psyduck                   Water      NaN   50.0    52.0\n",
            "Ho-oh                      Fire   Flying    NaN   130.0\n",
            "Sealeo                      Ice    Water   90.0    60.0\n",
            "Clamperl                  Water      NaN   35.0    64.0\n",
            "Huntail                   Water      NaN   55.0   104.0\n",
            "Metagross                 Steel  Psychic   80.0   135.0\n",
            "Regirock                   Rock      NaN   80.0   100.0\n",
            "LatiasMega Latias        Dragon  Psychic   80.0   100.0\n",
            "GroudonPrimal Groudon    Ground     Fire  100.0   180.0\n",
            "Rayquaza                 Dragon   Flying  105.0     NaN\n",
            "Jirachi                   Steel  Psychic  100.0   100.0\n",
            "Dialga                    Steel   Dragon  100.0   120.0\n",
            "Palkia                    Water   Dragon   90.0   120.0\n",
            "Heatran                    Fire    Steel   91.0    90.0\n",
            "Regigigas                Normal      NaN  110.0   160.0\n",
            "GiratinaOrigin Forme      Ghost   Dragon  150.0   120.0\n",
            "Rufflet                  Normal   Flying   70.0     NaN\n",
            "Mandibuzz                  Dark   Flying  110.0    65.0\n",
            "Heatmor                    Fire      NaN    NaN    97.0\n",
            "Durant                      Bug    Steel   58.0   109.0\n",
            "Deino                      Dark   Dragon   52.0    65.0\n"
          ],
          "name": "stdout"
        }
      ]
    },
    {
      "cell_type": "code",
      "metadata": {
        "colab": {
          "base_uri": "https://localhost:8080/",
          "height": 455
        },
        "id": "-eJvEOUEYXI5",
        "outputId": "04742fc2-535f-4e08-92b1-246ea5e4fd47"
      },
      "source": [
        "plt.figure(figsize=(20, 10))\n",
        "sns.countplot(data=data, x=\"Type 1\", hue=\"Legendary\")\n",
        "plt.legend(loc='best')"
      ],
      "id": "-eJvEOUEYXI5",
      "execution_count": null,
      "outputs": [
        {
          "output_type": "execute_result",
          "data": {
            "text/plain": [
              "<matplotlib.legend.Legend at 0x7fd38337c550>"
            ]
          },
          "metadata": {
            "tags": []
          },
          "execution_count": 193
        },
        {
          "output_type": "display_data",
          "data": {
            "image/png": "[encoded data removed]",
            "text/plain": [
              "<Figure size 1440x720 with 1 Axes>"
            ]
          },
          "metadata": {
            "tags": [],
            "needs_background": "light"
          }
        }
      ]
    },
    {
      "cell_type": "code",
      "metadata": {
        "colab": {
          "base_uri": "https://localhost:8080/",
          "height": 455
        },
        "id": "6nbYKrBpYXI5",
        "outputId": "c442077b-7576-4dcf-df82-2f0530a9751f"
      },
      "source": [
        "# distribution of Type 2 with hue: legendary\n",
        "plt.figure(figsize=(20, 10))\n",
        "sns.countplot(data=data, x=\"Type 2\", hue=\"Legendary\")\n",
        "plt.legend(loc='best')"
      ],
      "id": "6nbYKrBpYXI5",
      "execution_count": null,
      "outputs": [
        {
          "output_type": "execute_result",
          "data": {
            "text/plain": [
              "<matplotlib.legend.Legend at 0x7fd3788a6910>"
            ]
          },
          "metadata": {
            "tags": []
          },
          "execution_count": 194
        },
        {
          "output_type": "display_data",
          "data": {
            "image/png": "[encoded data removed]",
            "text/plain": [
              "<Figure size 1440x720 with 1 Axes>"
            ]
          },
          "metadata": {
            "tags": [],
            "needs_background": "light"
          }
        }
      ]
    },
    {
      "cell_type": "code",
      "metadata": {
        "colab": {
          "base_uri": "https://localhost:8080/",
          "height": 351
        },
        "id": "GBed8DtJYXI5",
        "outputId": "6615bfb7-5512-486d-8a80-c5842d23cdac"
      },
      "source": [
        "# distribution of Generation with hue: legendary\n",
        "plt.figure(figsize=(10, 5))\n",
        "sns.countplot(data=data, x=\"Generation\", hue=\"Legendary\")\n",
        "plt.legend(loc='best')"
      ],
      "id": "GBed8DtJYXI5",
      "execution_count": null,
      "outputs": [
        {
          "output_type": "execute_result",
          "data": {
            "text/plain": [
              "<matplotlib.legend.Legend at 0x7fd3785e7650>"
            ]
          },
          "metadata": {
            "tags": []
          },
          "execution_count": 195
        },
        {
          "output_type": "display_data",
          "data": {
            "image/png": "[encoded data removed]",
            "text/plain": [
              "<Figure size 720x360 with 1 Axes>"
            ]
          },
          "metadata": {
            "tags": [],
            "needs_background": "light"
          }
        }
      ]
    },
    {
      "cell_type": "code",
      "metadata": {
        "colab": {
          "base_uri": "https://localhost:8080/",
          "height": 351
        },
        "id": "FoKF2wgHYXI6",
        "outputId": "bf66a3ff-d01c-4fbb-c57a-c9cf965710da"
      },
      "source": [
        "# distribution of legendary pokemon\n",
        "plt.figure(figsize=(10, 5))\n",
        "sns.countplot(data=data, x=\"Legendary\")"
      ],
      "id": "FoKF2wgHYXI6",
      "execution_count": null,
      "outputs": [
        {
          "output_type": "execute_result",
          "data": {
            "text/plain": [
              "<matplotlib.axes._subplots.AxesSubplot at 0x7fd38464c150>"
            ]
          },
          "metadata": {
            "tags": []
          },
          "execution_count": 196
        },
        {
          "output_type": "display_data",
          "data": {
            "image/png": "[encoded data removed]",
            "text/plain": [
              "<Figure size 720x360 with 1 Axes>"
            ]
          },
          "metadata": {
            "tags": [],
            "needs_background": "light"
          }
        }
      ]
    },
    {
      "cell_type": "code",
      "metadata": {
        "colab": {
          "base_uri": "https://localhost:8080/",
          "height": 743
        },
        "id": "07U3dwd4YXI6",
        "outputId": "f22628f1-f50a-44be-e235-0044bba374cc"
      },
      "source": [
        "# make a quick overivew of plotting for non-categorical data\n",
        "data_non_category = data[['Total', 'HP', 'Attack',  'Speed', 'Legendary']]\n",
        "sns.pairplot(data_non_category, hue='Legendary')"
      ],
      "id": "07U3dwd4YXI6",
      "execution_count": null,
      "outputs": [
        {
          "output_type": "execute_result",
          "data": {
            "text/plain": [
              "<seaborn.axisgrid.PairGrid at 0x7fd37a2b4190>"
            ]
          },
          "metadata": {
            "tags": []
          },
          "execution_count": 197
        },
        {
          "output_type": "display_data",
          "data": {
            "image/png": "[encoded data removed]",
            "text/plain": [
              "<Figure size 780.875x720 with 20 Axes>"
            ]
          },
          "metadata": {
            "tags": [],
            "needs_background": "light"
          }
        }
      ]
    },
    {
      "cell_type": "code",
      "metadata": {
        "colab": {
          "base_uri": "https://localhost:8080/",
          "height": 613
        },
        "id": "RQWz2FD3YXI6",
        "outputId": "bb9ecb87-1121-423d-942a-b5cd54185c73"
      },
      "source": [
        "# make a quick overivew of correlation coefficient for non-categorical data\n",
        "data_non_category = data[['Total', 'HP', 'Attack', 'Speed']]\n",
        "plt.figure(figsize=(10,10))\n",
        "sns.heatmap(data_non_category.corr(), cmap='magma', linecolor='black', linewidths=8, annot=True)"
      ],
      "id": "RQWz2FD3YXI6",
      "execution_count": null,
      "outputs": [
        {
          "output_type": "execute_result",
          "data": {
            "text/plain": [
              "<matplotlib.axes._subplots.AxesSubplot at 0x7fd377ebe4d0>"
            ]
          },
          "metadata": {
            "tags": []
          },
          "execution_count": 198
        },
        {
          "output_type": "display_data",
          "data": {
            "image/png": "[encoded data removed]",
            "text/plain": [
              "<Figure size 720x720 with 2 Axes>"
            ]
          },
          "metadata": {
            "tags": [],
            "needs_background": "light"
          }
        }
      ]
    },
    {
      "cell_type": "code",
      "metadata": {
        "colab": {
          "base_uri": "https://localhost:8080/",
          "height": 1000
        },
        "id": "8boekAfgYXI6",
        "outputId": "60760bf3-2f68-4dd8-e3f9-fb5698dcf6e3"
      },
      "source": [
        "# checking the mean, max, and min difference across generation for non-legendary and legendary pokemons: all non-categorical features \n",
        "for col in data_non_category.columns:\n",
        "    sns.catplot(data=data, x=\"Generation\", y=col, col=\"Legendary\", kind=\"box\")"
      ],
      "id": "8boekAfgYXI6",
      "execution_count": null,
      "outputs": [
        {
          "output_type": "display_data",
          "data": {
            "image/png": "[encoded data removed]",
            "text/plain": [
              "<Figure size 720x360 with 2 Axes>"
            ]
          },
          "metadata": {
            "tags": [],
            "needs_background": "light"
          }
        },
        {
          "output_type": "display_data",
          "data": {
            "image/png": "[encoded data removed]",
            "text/plain": [
              "<Figure size 720x360 with 2 Axes>"
            ]
          },
          "metadata": {
            "tags": [],
            "needs_background": "light"
          }
        },
        {
          "output_type": "display_data",
          "data": {
            "image/png": "[encoded data removed]",
            "text/plain": [
              "<Figure size 720x360 with 2 Axes>"
            ]
          },
          "metadata": {
            "tags": [],
            "needs_background": "light"
          }
        },
        {
          "output_type": "display_data",
          "data": {
            "image/png": "[encoded data removed]",
            "text/plain": [
              "<Figure size 720x360 with 2 Axes>"
            ]
          },
          "metadata": {
            "tags": [],
            "needs_background": "light"
          }
        }
      ]
    },
    {
      "cell_type": "markdown",
      "metadata": {
        "id": "8madrigBYXI6"
      },
      "source": [
        "### 3.1 Selecting a single row\n",
        "Indexing a DataFrame using .loc[ ] :\n",
        "This function selects data by the label of the rows and columns. The df.loc indexer selects data in a different way than just the indexing operator. It can select subsets of rows or columns. It can also simultaneously select subsets of rows and columns."
      ],
      "id": "8madrigBYXI6"
    },
    {
      "cell_type": "code",
      "metadata": {
        "colab": {
          "base_uri": "https://localhost:8080/"
        },
        "id": "UvKaIh9FYXI6",
        "outputId": "8f64c7c6-3de5-4558-9a7b-a9b9d47aa196"
      },
      "source": [
        "#In order to select a single row using .loc[]\n",
        "#we put a single row label in a .loc function.\n",
        "first = data.loc[\"Bulbasaur\"]\n",
        "second = data.loc[\"Lugia\"]\n",
        "\n",
        "#two series were returned since there was only one parameter both of the times.\n",
        "print(first, \"\\n\\n\\n\", second)"
      ],
      "id": "UvKaIh9FYXI6",
      "execution_count": null,
      "outputs": [
        {
          "output_type": "stream",
          "text": [
            "Type 1         Grass\n",
            "Type 2        Poison\n",
            "Total            318\n",
            "HP                45\n",
            "Attack            49\n",
            "Speed             45\n",
            "Generation         1\n",
            "Legendary      False\n",
            "Name: Bulbasaur, dtype: object \n",
            "\n",
            "\n",
            " Type 1        Psychic\n",
            "Type 2         Flying\n",
            "Total             680\n",
            "HP                106\n",
            "Attack             90\n",
            "Speed             110\n",
            "Generation          2\n",
            "Legendary        True\n",
            "Name: Lugia, dtype: object\n"
          ],
          "name": "stdout"
        }
      ]
    },
    {
      "cell_type": "markdown",
      "metadata": {
        "id": "2rz8E4PkYXI7"
      },
      "source": [
        "### 3.2 Selecting multiple rows\n",
        "In order to select multiple rows, we put all the row labels in a list and pass that to .loc function."
      ],
      "id": "2rz8E4PkYXI7"
    },
    {
      "cell_type": "code",
      "metadata": {
        "colab": {
          "base_uri": "https://localhost:8080/"
        },
        "id": "XTy0APYaYXI7",
        "outputId": "5cbc480b-1399-4038-c40a-8a1d32477a9b"
      },
      "source": [
        "# retrieving multiple rows by loc method\n",
        "first = data.loc[[\"Bulbasaur\", \"Lugia\"]]\n",
        "\n",
        "print(first)"
      ],
      "id": "XTy0APYaYXI7",
      "execution_count": null,
      "outputs": [
        {
          "output_type": "stream",
          "text": [
            "            Type 1  Type 2  Total     HP  Attack  Speed  Generation Legendary\n",
            "Name                                                                         \n",
            "Bulbasaur    Grass  Poison  318.0   45.0    49.0   45.0         1.0     False\n",
            "Lugia      Psychic  Flying  680.0  106.0    90.0  110.0         2.0      True\n"
          ],
          "name": "stdout"
        }
      ]
    },
    {
      "cell_type": "markdown",
      "metadata": {
        "id": "02SRle51YXI7"
      },
      "source": [
        "### 3.3 Selecting two rows and three columns\n",
        "In order to select two rows and three columns, we select a two rows which we want to select and three columns and put it in a separate list like this:\n",
        "\n",
        "Dataframe.loc[[\"row1\", \"row2\"], [\"column1\", \"column2\", \"column3\"]]"
      ],
      "id": "02SRle51YXI7"
    },
    {
      "cell_type": "code",
      "metadata": {
        "colab": {
          "base_uri": "https://localhost:8080/"
        },
        "id": "-9DVeKieYXI8",
        "outputId": "4ae9e700-31cc-4477-bdf3-ae8b4f22bf6c"
      },
      "source": [
        "Afirst = data.loc[[\"Bulbasaur\", \"Lugia\"],\n",
        "                   [\"Type 1\", \"Type 2\", \"Total\"]]\n",
        "\n",
        "print(first)"
      ],
      "id": "-9DVeKieYXI8",
      "execution_count": null,
      "outputs": [
        {
          "output_type": "stream",
          "text": [
            "            Type 1  Type 2  Total     HP  Attack  Speed  Generation Legendary\n",
            "Name                                                                         \n",
            "Bulbasaur    Grass  Poison  318.0   45.0    49.0   45.0         1.0     False\n",
            "Lugia      Psychic  Flying  680.0  106.0    90.0  110.0         2.0      True\n"
          ],
          "name": "stdout"
        }
      ]
    },
    {
      "cell_type": "markdown",
      "metadata": {
        "id": "s8w_RC-QYXI8"
      },
      "source": [
        "### 3.4 Selecting all of the rows and some columns\n",
        "In order to select all of the rows and some columns, we use single colon [:] to select all of rows and list of some columns which we want to select like this:\n",
        "\n",
        "Dataframe.loc[[:, [\"column1\", \"column2\", \"column3\"]]"
      ],
      "id": "s8w_RC-QYXI8"
    },
    {
      "cell_type": "code",
      "metadata": {
        "colab": {
          "base_uri": "https://localhost:8080/"
        },
        "id": "CGZ2JaS4YXI8",
        "outputId": "3ed7691a-ccc2-4c0a-9b5b-ac421481d3be"
      },
      "source": [
        "first = data.loc[:, [\"Type 1\", \"Type 2\", \"Total\"]]\n",
        "\n",
        "print(first)"
      ],
      "id": "CGZ2JaS4YXI8",
      "execution_count": null,
      "outputs": [
        {
          "output_type": "stream",
          "text": [
            "                         Type 1   Type 2  Total\n",
            "Name                                           \n",
            "Bulbasaur                 Grass   Poison  318.0\n",
            "Lugia                   Psychic   Flying  680.0\n",
            "Charmander                 Fire      NaN  309.0\n",
            "Charmeleon                 Fire      NaN    NaN\n",
            "Charizard                  Fire   Flying  534.0\n",
            "Pikachu                Electric      NaN  320.0\n",
            "Jigglypuff               Normal    Fairy  270.0\n",
            "Psyduck                   Water      NaN  320.0\n",
            "Ho-oh                      Fire   Flying  680.0\n",
            "Sealeo                      Ice    Water  410.0\n",
            "Clamperl                  Water      NaN  345.0\n",
            "Huntail                   Water      NaN  485.0\n",
            "Metagross                 Steel  Psychic  600.0\n",
            "Regirock                   Rock      NaN  580.0\n",
            "LatiasMega Latias        Dragon  Psychic  700.0\n",
            "GroudonPrimal Groudon    Ground     Fire  770.0\n",
            "Rayquaza                 Dragon   Flying  680.0\n",
            "Jirachi                   Steel  Psychic  600.0\n",
            "Dialga                    Steel   Dragon  680.0\n",
            "Palkia                    Water   Dragon  680.0\n",
            "Heatran                    Fire    Steel  600.0\n",
            "Regigigas                Normal      NaN  670.0\n",
            "GiratinaOrigin Forme      Ghost   Dragon  680.0\n",
            "Rufflet                  Normal   Flying  350.0\n",
            "Mandibuzz                  Dark   Flying  510.0\n",
            "Heatmor                    Fire      NaN  484.0\n",
            "Durant                      Bug    Steel  484.0\n",
            "Deino                      Dark   Dragon  300.0\n"
          ],
          "name": "stdout"
        }
      ]
    },
    {
      "cell_type": "markdown",
      "metadata": {
        "id": "T8Fw6ak9YXI8"
      },
      "source": [
        "### 3.5  Selecting a single row\n",
        "Indexing a DataFrame using .iloc[ ] :\n",
        "This function allows us to retrieve rows and columns by position. In order to do that, we’ll need to specify the positions of the rows that we want, and the positions of the columns that we want as well. The df.iloc indexer is very similar to df.loc but only uses integer locations to make its selections."
      ],
      "id": "T8Fw6ak9YXI8"
    },
    {
      "cell_type": "code",
      "metadata": {
        "colab": {
          "base_uri": "https://localhost:8080/"
        },
        "id": "4gA8m9D9YXI8",
        "outputId": "c99617d6-766c-4688-a7cc-b66b7e54efa1"
      },
      "source": [
        "row1 = data.iloc[3] \n",
        "\n",
        "print(row1)"
      ],
      "id": "4gA8m9D9YXI8",
      "execution_count": null,
      "outputs": [
        {
          "output_type": "stream",
          "text": [
            "Type 1         Fire\n",
            "Type 2          NaN\n",
            "Total           NaN\n",
            "HP               58\n",
            "Attack          NaN\n",
            "Speed            80\n",
            "Generation        1\n",
            "Legendary     False\n",
            "Name: Charmeleon, dtype: object\n"
          ],
          "name": "stdout"
        }
      ]
    },
    {
      "cell_type": "markdown",
      "metadata": {
        "id": "1QgCFdgLYXI9"
      },
      "source": [
        "### 3.6 Selecting multiple rows"
      ],
      "id": "1QgCFdgLYXI9"
    },
    {
      "cell_type": "code",
      "metadata": {
        "colab": {
          "base_uri": "https://localhost:8080/",
          "height": 175
        },
        "id": "3J0xRYx4YXI9",
        "outputId": "49588ffa-0b25-4a5c-d24b-f6389341586b"
      },
      "source": [
        "row2 = data.iloc [[3, 5, 7]]\n",
        "row2"
      ],
      "id": "3J0xRYx4YXI9",
      "execution_count": null,
      "outputs": [
        {
          "output_type": "execute_result",
          "data": {
            "text/html": [
              "<div>\n",
              "<style scoped>\n",
              "    .dataframe tbody tr th:only-of-type {\n",
              "        vertical-align: middle;\n",
              "    }\n",
              "\n",
              "    .dataframe tbody tr th {\n",
              "        vertical-align: top;\n",
              "    }\n",
              "\n",
              "    .dataframe thead th {\n",
              "        text-align: right;\n",
              "    }\n",
              "</style>\n",
              "<table border=\"1\" class=\"dataframe\">\n",
              "  <thead>\n",
              "    <tr style=\"text-align: right;\">\n",
              "      <th></th>\n",
              "      <th>Type 1</th>\n",
              "      <th>Type 2</th>\n",
              "      <th>Total</th>\n",
              "      <th>HP</th>\n",
              "      <th>Attack</th>\n",
              "      <th>Speed</th>\n",
              "      <th>Generation</th>\n",
              "      <th>Legendary</th>\n",
              "    </tr>\n",
              "    <tr>\n",
              "      <th>Name</th>\n",
              "      <th></th>\n",
              "      <th></th>\n",
              "      <th></th>\n",
              "      <th></th>\n",
              "      <th></th>\n",
              "      <th></th>\n",
              "      <th></th>\n",
              "      <th></th>\n",
              "    </tr>\n",
              "  </thead>\n",
              "  <tbody>\n",
              "    <tr>\n",
              "      <th>Charmeleon</th>\n",
              "      <td>Fire</td>\n",
              "      <td>NaN</td>\n",
              "      <td>NaN</td>\n",
              "      <td>58.0</td>\n",
              "      <td>NaN</td>\n",
              "      <td>80.0</td>\n",
              "      <td>1.0</td>\n",
              "      <td>False</td>\n",
              "    </tr>\n",
              "    <tr>\n",
              "      <th>Pikachu</th>\n",
              "      <td>Electric</td>\n",
              "      <td>NaN</td>\n",
              "      <td>320.0</td>\n",
              "      <td>35.0</td>\n",
              "      <td>55.0</td>\n",
              "      <td>90.0</td>\n",
              "      <td>1.0</td>\n",
              "      <td>False</td>\n",
              "    </tr>\n",
              "    <tr>\n",
              "      <th>Psyduck</th>\n",
              "      <td>Water</td>\n",
              "      <td>NaN</td>\n",
              "      <td>320.0</td>\n",
              "      <td>50.0</td>\n",
              "      <td>52.0</td>\n",
              "      <td>55.0</td>\n",
              "      <td>NaN</td>\n",
              "      <td>False</td>\n",
              "    </tr>\n",
              "  </tbody>\n",
              "</table>\n",
              "</div>"
            ],
            "text/plain": [
              "              Type 1 Type 2  Total    HP  Attack  Speed  Generation Legendary\n",
              "Name                                                                         \n",
              "Charmeleon      Fire    NaN    NaN  58.0     NaN   80.0         1.0     False\n",
              "Pikachu     Electric    NaN  320.0  35.0    55.0   90.0         1.0     False\n",
              "Psyduck        Water    NaN  320.0  50.0    52.0   55.0         NaN     False"
            ]
          },
          "metadata": {
            "tags": []
          },
          "execution_count": 205
        }
      ]
    },
    {
      "cell_type": "markdown",
      "metadata": {
        "id": "7Hj-u839YXI9"
      },
      "source": [
        "### 3.7 Selecting two rows and two columns"
      ],
      "id": "7Hj-u839YXI9"
    },
    {
      "cell_type": "code",
      "metadata": {
        "colab": {
          "base_uri": "https://localhost:8080/"
        },
        "id": "jUP-c_4-YXI9",
        "outputId": "a196796d-0fef-4b64-e962-38f79ea72935"
      },
      "source": [
        "row3= data.iloc [[3, 4], [1, 2]]\n",
        "\n",
        "print(row3)"
      ],
      "id": "jUP-c_4-YXI9",
      "execution_count": null,
      "outputs": [
        {
          "output_type": "stream",
          "text": [
            "            Type 2  Total\n",
            "Name                     \n",
            "Charmeleon     NaN    NaN\n",
            "Charizard   Flying  534.0\n"
          ],
          "name": "stdout"
        }
      ]
    },
    {
      "cell_type": "markdown",
      "metadata": {
        "id": "pp8c9bQHYXI-"
      },
      "source": [
        "### 3.8 Selecting all the rows and a some columns"
      ],
      "id": "pp8c9bQHYXI-"
    },
    {
      "cell_type": "code",
      "metadata": {
        "colab": {
          "base_uri": "https://localhost:8080/"
        },
        "id": "zOjy8aqgYXI-",
        "outputId": "f3046230-acf7-43eb-8214-056edc0dbf01"
      },
      "source": [
        "row4 = data.iloc [:, [1, 2]]\n",
        "\n",
        "print(row4)"
      ],
      "id": "zOjy8aqgYXI-",
      "execution_count": null,
      "outputs": [
        {
          "output_type": "stream",
          "text": [
            "                        Type 2  Total\n",
            "Name                                 \n",
            "Bulbasaur               Poison  318.0\n",
            "Lugia                   Flying  680.0\n",
            "Charmander                 NaN  309.0\n",
            "Charmeleon                 NaN    NaN\n",
            "Charizard               Flying  534.0\n",
            "Pikachu                    NaN  320.0\n",
            "Jigglypuff               Fairy  270.0\n",
            "Psyduck                    NaN  320.0\n",
            "Ho-oh                   Flying  680.0\n",
            "Sealeo                   Water  410.0\n",
            "Clamperl                   NaN  345.0\n",
            "Huntail                    NaN  485.0\n",
            "Metagross              Psychic  600.0\n",
            "Regirock                   NaN  580.0\n",
            "LatiasMega Latias      Psychic  700.0\n",
            "GroudonPrimal Groudon     Fire  770.0\n",
            "Rayquaza                Flying  680.0\n",
            "Jirachi                Psychic  600.0\n",
            "Dialga                  Dragon  680.0\n",
            "Palkia                  Dragon  680.0\n",
            "Heatran                  Steel  600.0\n",
            "Regigigas                  NaN  670.0\n",
            "GiratinaOrigin Forme    Dragon  680.0\n",
            "Rufflet                 Flying  350.0\n",
            "Mandibuzz               Flying  510.0\n",
            "Heatmor                    NaN  484.0\n",
            "Durant                   Steel  484.0\n",
            "Deino                   Dragon  300.0\n"
          ],
          "name": "stdout"
        }
      ]
    },
    {
      "cell_type": "markdown",
      "metadata": {
        "id": "WLLGnys6YXI-"
      },
      "source": [
        "### Exercise\n",
        "1.Please select 2 to 3 pokemon monsters and their information including type, speed and Legendary.\n",
        "2.Please your favourite pokemon monster and display two features."
      ],
      "id": "WLLGnys6YXI-"
    },
    {
      "cell_type": "markdown",
      "metadata": {
        "id": "b1J09MZPYXI-"
      },
      "source": [
        "## 4.\tData operations in Pandas: ufuncs\n",
        "Ufuncs: Index Preservation\n",
        "Because Pandas is designed to work with NumPy, any NumPy ufunc will work on Pandas Series and DataFrame objects. Let's start by defining a simple Series and DataFrame on which to demonstrate this:"
      ],
      "id": "b1J09MZPYXI-"
    },
    {
      "cell_type": "markdown",
      "metadata": {
        "id": "mNbu1y5cYXI_"
      },
      "source": [
        "Tip: numpy.random.RandomState() is the container for the Mersenne Twister pseudo-random number generator.\n",
        "\n",
        "RandomState exposes a number of methods for generating random numbers drawn from a variety of probability distributions. In addition to the distribution-specific arguments, each method takes a keyword argument size that defaults to None. If size is None, then a single value is generated and returned. If size is an integer, then a 1-D array filled with generated values is returned. If size is a tuple, then an array with that shape is filled and returned.\n",
        "\n",
        "numpy.random.randint(low, high=None, size=None, dtype='l')\n",
        "Return random integers from low (inclusive) to high (exclusive).\n",
        "\n",
        "Return random integers from the “discrete uniform” distribution of the specified dtype in the “half-open” interval [low, high). If high is None (the default), then results are from [0, low)."
      ],
      "id": "mNbu1y5cYXI_"
    },
    {
      "cell_type": "code",
      "metadata": {
        "scrolled": true,
        "colab": {
          "base_uri": "https://localhost:8080/"
        },
        "id": "7rkL5JmvYXI_",
        "outputId": "75e198e8-50e8-437b-d6bf-bd622b018f65"
      },
      "source": [
        "import pandas as pd\n",
        "import numpy as np\n",
        "rng = np.random.RandomState(42)\n",
        "ser = pd.Series(rng.randint(0, 10, 4))\n",
        "ser"
      ],
      "id": "7rkL5JmvYXI_",
      "execution_count": null,
      "outputs": [
        {
          "output_type": "execute_result",
          "data": {
            "text/plain": [
              "0    6\n",
              "1    3\n",
              "2    7\n",
              "3    4\n",
              "dtype: int64"
            ]
          },
          "metadata": {
            "tags": []
          },
          "execution_count": 208
        }
      ]
    },
    {
      "cell_type": "code",
      "metadata": {
        "colab": {
          "base_uri": "https://localhost:8080/",
          "height": 143
        },
        "id": "KQ0-IBCLYXI_",
        "outputId": "38d6ce83-502f-4eb4-abc8-663614769c9a"
      },
      "source": [
        "df = pd.DataFrame(rng.randint(0, 10, (3, 4)),\n",
        "                  columns=['A', 'B', 'C', 'D'])\n",
        "df"
      ],
      "id": "KQ0-IBCLYXI_",
      "execution_count": null,
      "outputs": [
        {
          "output_type": "execute_result",
          "data": {
            "text/html": [
              "<div>\n",
              "<style scoped>\n",
              "    .dataframe tbody tr th:only-of-type {\n",
              "        vertical-align: middle;\n",
              "    }\n",
              "\n",
              "    .dataframe tbody tr th {\n",
              "        vertical-align: top;\n",
              "    }\n",
              "\n",
              "    .dataframe thead th {\n",
              "        text-align: right;\n",
              "    }\n",
              "</style>\n",
              "<table border=\"1\" class=\"dataframe\">\n",
              "  <thead>\n",
              "    <tr style=\"text-align: right;\">\n",
              "      <th></th>\n",
              "      <th>A</th>\n",
              "      <th>B</th>\n",
              "      <th>C</th>\n",
              "      <th>D</th>\n",
              "    </tr>\n",
              "  </thead>\n",
              "  <tbody>\n",
              "    <tr>\n",
              "      <th>0</th>\n",
              "      <td>6</td>\n",
              "      <td>9</td>\n",
              "      <td>2</td>\n",
              "      <td>6</td>\n",
              "    </tr>\n",
              "    <tr>\n",
              "      <th>1</th>\n",
              "      <td>7</td>\n",
              "      <td>4</td>\n",
              "      <td>3</td>\n",
              "      <td>7</td>\n",
              "    </tr>\n",
              "    <tr>\n",
              "      <th>2</th>\n",
              "      <td>7</td>\n",
              "      <td>2</td>\n",
              "      <td>5</td>\n",
              "      <td>4</td>\n",
              "    </tr>\n",
              "  </tbody>\n",
              "</table>\n",
              "</div>"
            ],
            "text/plain": [
              "   A  B  C  D\n",
              "0  6  9  2  6\n",
              "1  7  4  3  7\n",
              "2  7  2  5  4"
            ]
          },
          "metadata": {
            "tags": []
          },
          "execution_count": 209
        }
      ]
    },
    {
      "cell_type": "code",
      "metadata": {
        "colab": {
          "base_uri": "https://localhost:8080/"
        },
        "id": "7Cw1EakfYXI_",
        "outputId": "31e45e0b-b9fe-42ac-c838-3cd702e0360a"
      },
      "source": [
        "#If we apply a NumPy ufunc on either of these objects\n",
        "#the result will be another Pandas object with the indices preserved:\n",
        "np.exp(ser)"
      ],
      "id": "7Cw1EakfYXI_",
      "execution_count": null,
      "outputs": [
        {
          "output_type": "execute_result",
          "data": {
            "text/plain": [
              "0     403.428793\n",
              "1      20.085537\n",
              "2    1096.633158\n",
              "3      54.598150\n",
              "dtype: float64"
            ]
          },
          "metadata": {
            "tags": []
          },
          "execution_count": 210
        }
      ]
    },
    {
      "cell_type": "code",
      "metadata": {
        "colab": {
          "base_uri": "https://localhost:8080/",
          "height": 143
        },
        "id": "luKVVJAaYXI_",
        "outputId": "46b92652-8a74-4161-c0b8-1f287b4355bc"
      },
      "source": [
        "#for a slightly more complex calculation:\n",
        "np.sin(df * np.pi / 4)"
      ],
      "id": "luKVVJAaYXI_",
      "execution_count": null,
      "outputs": [
        {
          "output_type": "execute_result",
          "data": {
            "text/html": [
              "<div>\n",
              "<style scoped>\n",
              "    .dataframe tbody tr th:only-of-type {\n",
              "        vertical-align: middle;\n",
              "    }\n",
              "\n",
              "    .dataframe tbody tr th {\n",
              "        vertical-align: top;\n",
              "    }\n",
              "\n",
              "    .dataframe thead th {\n",
              "        text-align: right;\n",
              "    }\n",
              "</style>\n",
              "<table border=\"1\" class=\"dataframe\">\n",
              "  <thead>\n",
              "    <tr style=\"text-align: right;\">\n",
              "      <th></th>\n",
              "      <th>A</th>\n",
              "      <th>B</th>\n",
              "      <th>C</th>\n",
              "      <th>D</th>\n",
              "    </tr>\n",
              "  </thead>\n",
              "  <tbody>\n",
              "    <tr>\n",
              "      <th>0</th>\n",
              "      <td>-1.000000</td>\n",
              "      <td>7.071068e-01</td>\n",
              "      <td>1.000000</td>\n",
              "      <td>-1.000000e+00</td>\n",
              "    </tr>\n",
              "    <tr>\n",
              "      <th>1</th>\n",
              "      <td>-0.707107</td>\n",
              "      <td>1.224647e-16</td>\n",
              "      <td>0.707107</td>\n",
              "      <td>-7.071068e-01</td>\n",
              "    </tr>\n",
              "    <tr>\n",
              "      <th>2</th>\n",
              "      <td>-0.707107</td>\n",
              "      <td>1.000000e+00</td>\n",
              "      <td>-0.707107</td>\n",
              "      <td>1.224647e-16</td>\n",
              "    </tr>\n",
              "  </tbody>\n",
              "</table>\n",
              "</div>"
            ],
            "text/plain": [
              "          A             B         C             D\n",
              "0 -1.000000  7.071068e-01  1.000000 -1.000000e+00\n",
              "1 -0.707107  1.224647e-16  0.707107 -7.071068e-01\n",
              "2 -0.707107  1.000000e+00 -0.707107  1.224647e-16"
            ]
          },
          "metadata": {
            "tags": []
          },
          "execution_count": 211
        }
      ]
    },
    {
      "cell_type": "markdown",
      "metadata": {
        "id": "h8i01msyYXJA"
      },
      "source": [
        "### 4.1 UFuncs: Index Alignment\n",
        "For binary operations on two Series or DataFrame objects, Pandas will align indices in the process of performing the operation. This is very convenient when working with incomplete data, as we'll see in some of the examples that follow.\n",
        "### 4.1.1 Index alignment in Series\n",
        "As an example, suppose we are combining two different data sources, and find only the top three US states by area and the top three US states by population:"
      ],
      "id": "h8i01msyYXJA"
    },
    {
      "cell_type": "code",
      "metadata": {
        "id": "ZbvhLsIfYXJA"
      },
      "source": [
        "area = pd.Series({'Alaska': 1723337, 'Texas': 695662,\n",
        "                  'California': 423967}, name='area')\n",
        "population = pd.Series({'California': 38332521, 'Texas': 26448193,\n",
        "                        'New York': 19651127}, name='population')"
      ],
      "id": "ZbvhLsIfYXJA",
      "execution_count": null,
      "outputs": []
    },
    {
      "cell_type": "code",
      "metadata": {
        "colab": {
          "base_uri": "https://localhost:8080/"
        },
        "id": "yGyutuEGYXJA",
        "outputId": "0da503ef-7d9e-4ef7-d924-e6e6754ce68d"
      },
      "source": [
        "population / area"
      ],
      "id": "yGyutuEGYXJA",
      "execution_count": null,
      "outputs": [
        {
          "output_type": "execute_result",
          "data": {
            "text/plain": [
              "Alaska              NaN\n",
              "California    90.413926\n",
              "New York            NaN\n",
              "Texas         38.018740\n",
              "dtype: float64"
            ]
          },
          "metadata": {
            "tags": []
          },
          "execution_count": 213
        }
      ]
    },
    {
      "cell_type": "code",
      "metadata": {
        "colab": {
          "base_uri": "https://localhost:8080/"
        },
        "id": "yPUDqmJkYXJA",
        "outputId": "ee0413a3-1b47-4099-d9f9-f4ccccc2e839"
      },
      "source": [
        "#The resulting array contains the union of indices of the two input arrays\n",
        "#which could be determined using standard Python set arithmetic on these indices:\n",
        "area.index | population.index"
      ],
      "id": "yPUDqmJkYXJA",
      "execution_count": null,
      "outputs": [
        {
          "output_type": "execute_result",
          "data": {
            "text/plain": [
              "Index(['Alaska', 'California', 'New York', 'Texas'], dtype='object')"
            ]
          },
          "metadata": {
            "tags": []
          },
          "execution_count": 214
        }
      ]
    },
    {
      "cell_type": "markdown",
      "metadata": {
        "id": "G8HrbLrZYXJA"
      },
      "source": [
        "Any item for which one or the other does not have an entry is marked with NaN, or \"Not a Number,\" which is how Pandas marks missing data (see further discussion of missing data in Handling Missing Data). This index matching is implemented this way for any of Python's built-in arithmetic expressions; any missing values are filled in with NaN by default:"
      ],
      "id": "G8HrbLrZYXJA"
    },
    {
      "cell_type": "code",
      "metadata": {
        "colab": {
          "base_uri": "https://localhost:8080/"
        },
        "id": "1ceCr06EYXJB",
        "outputId": "7dc537e4-eba2-46af-98e0-1270a9e0941d"
      },
      "source": [
        "A = pd.Series([2, 4, 6], index=[0, 1, 2])\n",
        "B = pd.Series([1, 3, 5], index=[1, 2, 3])\n",
        "A + B"
      ],
      "id": "1ceCr06EYXJB",
      "execution_count": null,
      "outputs": [
        {
          "output_type": "execute_result",
          "data": {
            "text/plain": [
              "0    NaN\n",
              "1    5.0\n",
              "2    9.0\n",
              "3    NaN\n",
              "dtype: float64"
            ]
          },
          "metadata": {
            "tags": []
          },
          "execution_count": 215
        }
      ]
    },
    {
      "cell_type": "markdown",
      "metadata": {
        "id": "o6J1WVN7YXJB"
      },
      "source": [
        "If using NaN values is not the desired behavior, the fill value can be modified using appropriate object methods in place of the operators. For example, calling A.add(B) is equivalent to calling A + B, but allows optional explicit specification of the fill value for any elements in A or B that might be missing:"
      ],
      "id": "o6J1WVN7YXJB"
    },
    {
      "cell_type": "code",
      "metadata": {
        "colab": {
          "base_uri": "https://localhost:8080/"
        },
        "id": "KqCpe50sYXJB",
        "outputId": "4856bf97-3c49-4e5d-ee85-83457c4edfc1"
      },
      "source": [
        "A.add(B, fill_value=0)"
      ],
      "id": "KqCpe50sYXJB",
      "execution_count": null,
      "outputs": [
        {
          "output_type": "execute_result",
          "data": {
            "text/plain": [
              "0    2.0\n",
              "1    5.0\n",
              "2    9.0\n",
              "3    5.0\n",
              "dtype: float64"
            ]
          },
          "metadata": {
            "tags": []
          },
          "execution_count": 216
        }
      ]
    },
    {
      "cell_type": "markdown",
      "metadata": {
        "id": "GPZqRs2IYXJB"
      },
      "source": [
        "### 4.1.2 Index alignment in DataFrame\n",
        "\n",
        "The following table lists Python operators and their equivalent Pandas object methods:\n",
        "\n",
        "Python Operator\tPandas Method(s)\n",
        "+\tadd()\n",
        "-\tsub(), subtract()\n",
        "*\tmul(), multiply()\n",
        "/\ttruediv(), div(), divide()\n",
        "//\tfloordiv()\n",
        "%\tmod()\n",
        "**\tpow()\n",
        "\n",
        "A similar type of alignment takes place for both columns and indices when performing operations on DataFrames:"
      ],
      "id": "GPZqRs2IYXJB"
    },
    {
      "cell_type": "code",
      "metadata": {
        "colab": {
          "base_uri": "https://localhost:8080/",
          "height": 112
        },
        "id": "pnf9phODYXJC",
        "outputId": "fdcf6164-282b-4ce5-8a91-6d2468233084"
      },
      "source": [
        "A = pd.DataFrame(rng.randint(0, 20, (2, 2)),\n",
        "                 columns=list('AB'))\n",
        "A"
      ],
      "id": "pnf9phODYXJC",
      "execution_count": null,
      "outputs": [
        {
          "output_type": "execute_result",
          "data": {
            "text/html": [
              "<div>\n",
              "<style scoped>\n",
              "    .dataframe tbody tr th:only-of-type {\n",
              "        vertical-align: middle;\n",
              "    }\n",
              "\n",
              "    .dataframe tbody tr th {\n",
              "        vertical-align: top;\n",
              "    }\n",
              "\n",
              "    .dataframe thead th {\n",
              "        text-align: right;\n",
              "    }\n",
              "</style>\n",
              "<table border=\"1\" class=\"dataframe\">\n",
              "  <thead>\n",
              "    <tr style=\"text-align: right;\">\n",
              "      <th></th>\n",
              "      <th>A</th>\n",
              "      <th>B</th>\n",
              "    </tr>\n",
              "  </thead>\n",
              "  <tbody>\n",
              "    <tr>\n",
              "      <th>0</th>\n",
              "      <td>1</td>\n",
              "      <td>11</td>\n",
              "    </tr>\n",
              "    <tr>\n",
              "      <th>1</th>\n",
              "      <td>5</td>\n",
              "      <td>1</td>\n",
              "    </tr>\n",
              "  </tbody>\n",
              "</table>\n",
              "</div>"
            ],
            "text/plain": [
              "   A   B\n",
              "0  1  11\n",
              "1  5   1"
            ]
          },
          "metadata": {
            "tags": []
          },
          "execution_count": 217
        }
      ]
    },
    {
      "cell_type": "code",
      "metadata": {
        "colab": {
          "base_uri": "https://localhost:8080/",
          "height": 143
        },
        "id": "V7vD113XYXJC",
        "outputId": "cd9d308d-c1df-471c-a92b-71d38d0c52a6"
      },
      "source": [
        "B = pd.DataFrame(rng.randint(0, 10, (3, 3)),\n",
        "                 columns=list('BAC'))\n",
        "B"
      ],
      "id": "V7vD113XYXJC",
      "execution_count": null,
      "outputs": [
        {
          "output_type": "execute_result",
          "data": {
            "text/html": [
              "<div>\n",
              "<style scoped>\n",
              "    .dataframe tbody tr th:only-of-type {\n",
              "        vertical-align: middle;\n",
              "    }\n",
              "\n",
              "    .dataframe tbody tr th {\n",
              "        vertical-align: top;\n",
              "    }\n",
              "\n",
              "    .dataframe thead th {\n",
              "        text-align: right;\n",
              "    }\n",
              "</style>\n",
              "<table border=\"1\" class=\"dataframe\">\n",
              "  <thead>\n",
              "    <tr style=\"text-align: right;\">\n",
              "      <th></th>\n",
              "      <th>B</th>\n",
              "      <th>A</th>\n",
              "      <th>C</th>\n",
              "    </tr>\n",
              "  </thead>\n",
              "  <tbody>\n",
              "    <tr>\n",
              "      <th>0</th>\n",
              "      <td>4</td>\n",
              "      <td>0</td>\n",
              "      <td>9</td>\n",
              "    </tr>\n",
              "    <tr>\n",
              "      <th>1</th>\n",
              "      <td>5</td>\n",
              "      <td>8</td>\n",
              "      <td>0</td>\n",
              "    </tr>\n",
              "    <tr>\n",
              "      <th>2</th>\n",
              "      <td>9</td>\n",
              "      <td>2</td>\n",
              "      <td>6</td>\n",
              "    </tr>\n",
              "  </tbody>\n",
              "</table>\n",
              "</div>"
            ],
            "text/plain": [
              "   B  A  C\n",
              "0  4  0  9\n",
              "1  5  8  0\n",
              "2  9  2  6"
            ]
          },
          "metadata": {
            "tags": []
          },
          "execution_count": 218
        }
      ]
    },
    {
      "cell_type": "code",
      "metadata": {
        "colab": {
          "base_uri": "https://localhost:8080/",
          "height": 143
        },
        "id": "fbySfChsYXJC",
        "outputId": "92c74586-6612-413b-d37f-890523b04187"
      },
      "source": [
        "A + B"
      ],
      "id": "fbySfChsYXJC",
      "execution_count": null,
      "outputs": [
        {
          "output_type": "execute_result",
          "data": {
            "text/html": [
              "<div>\n",
              "<style scoped>\n",
              "    .dataframe tbody tr th:only-of-type {\n",
              "        vertical-align: middle;\n",
              "    }\n",
              "\n",
              "    .dataframe tbody tr th {\n",
              "        vertical-align: top;\n",
              "    }\n",
              "\n",
              "    .dataframe thead th {\n",
              "        text-align: right;\n",
              "    }\n",
              "</style>\n",
              "<table border=\"1\" class=\"dataframe\">\n",
              "  <thead>\n",
              "    <tr style=\"text-align: right;\">\n",
              "      <th></th>\n",
              "      <th>A</th>\n",
              "      <th>B</th>\n",
              "      <th>C</th>\n",
              "    </tr>\n",
              "  </thead>\n",
              "  <tbody>\n",
              "    <tr>\n",
              "      <th>0</th>\n",
              "      <td>1.0</td>\n",
              "      <td>15.0</td>\n",
              "      <td>NaN</td>\n",
              "    </tr>\n",
              "    <tr>\n",
              "      <th>1</th>\n",
              "      <td>13.0</td>\n",
              "      <td>6.0</td>\n",
              "      <td>NaN</td>\n",
              "    </tr>\n",
              "    <tr>\n",
              "      <th>2</th>\n",
              "      <td>NaN</td>\n",
              "      <td>NaN</td>\n",
              "      <td>NaN</td>\n",
              "    </tr>\n",
              "  </tbody>\n",
              "</table>\n",
              "</div>"
            ],
            "text/plain": [
              "      A     B   C\n",
              "0   1.0  15.0 NaN\n",
              "1  13.0   6.0 NaN\n",
              "2   NaN   NaN NaN"
            ]
          },
          "metadata": {
            "tags": []
          },
          "execution_count": 219
        }
      ]
    },
    {
      "cell_type": "markdown",
      "metadata": {
        "id": "UrXdgk8GYXJC"
      },
      "source": [
        "Notice that indices are aligned correctly irrespective of their order in the two objects, and indices in the result are sorted. As was the case with Series, we can use the associated object's arithmetic method and pass any desired fill_value to be used in place of missing entries. Here we'll fill with the mean of all values in A (computed by first stacking the rows of A):"
      ],
      "id": "UrXdgk8GYXJC"
    },
    {
      "cell_type": "code",
      "metadata": {
        "colab": {
          "base_uri": "https://localhost:8080/",
          "height": 143
        },
        "id": "uliOp8l0YXJC",
        "outputId": "a621f68e-dead-4263-9342-0cdc3689e427"
      },
      "source": [
        "fill = A.stack().mean()\n",
        "A.add(B, fill_value=fill)"
      ],
      "id": "uliOp8l0YXJC",
      "execution_count": null,
      "outputs": [
        {
          "output_type": "execute_result",
          "data": {
            "text/html": [
              "<div>\n",
              "<style scoped>\n",
              "    .dataframe tbody tr th:only-of-type {\n",
              "        vertical-align: middle;\n",
              "    }\n",
              "\n",
              "    .dataframe tbody tr th {\n",
              "        vertical-align: top;\n",
              "    }\n",
              "\n",
              "    .dataframe thead th {\n",
              "        text-align: right;\n",
              "    }\n",
              "</style>\n",
              "<table border=\"1\" class=\"dataframe\">\n",
              "  <thead>\n",
              "    <tr style=\"text-align: right;\">\n",
              "      <th></th>\n",
              "      <th>A</th>\n",
              "      <th>B</th>\n",
              "      <th>C</th>\n",
              "    </tr>\n",
              "  </thead>\n",
              "  <tbody>\n",
              "    <tr>\n",
              "      <th>0</th>\n",
              "      <td>1.0</td>\n",
              "      <td>15.0</td>\n",
              "      <td>13.5</td>\n",
              "    </tr>\n",
              "    <tr>\n",
              "      <th>1</th>\n",
              "      <td>13.0</td>\n",
              "      <td>6.0</td>\n",
              "      <td>4.5</td>\n",
              "    </tr>\n",
              "    <tr>\n",
              "      <th>2</th>\n",
              "      <td>6.5</td>\n",
              "      <td>13.5</td>\n",
              "      <td>10.5</td>\n",
              "    </tr>\n",
              "  </tbody>\n",
              "</table>\n",
              "</div>"
            ],
            "text/plain": [
              "      A     B     C\n",
              "0   1.0  15.0  13.5\n",
              "1  13.0   6.0   4.5\n",
              "2   6.5  13.5  10.5"
            ]
          },
          "metadata": {
            "tags": []
          },
          "execution_count": 220
        }
      ]
    },
    {
      "cell_type": "markdown",
      "metadata": {
        "id": "aLfoCt9YYXJC"
      },
      "source": [
        "### 4.2 Ufuncs: Operations Between DataFrame and Series\n",
        "\n",
        "When performing operations between a DataFrame and a Series, the index and column alignment is similarly maintained. Operations between a DataFrame and a Series are similar to operations between a two-dimensional and one-dimensional NumPy array. Consider one common operation, where we find the difference of a two-dimensional array and one of its rows:"
      ],
      "id": "aLfoCt9YYXJC"
    },
    {
      "cell_type": "code",
      "metadata": {
        "colab": {
          "base_uri": "https://localhost:8080/"
        },
        "id": "BlQ_5iIAYXJD",
        "outputId": "7591d3b8-fc31-4c8d-f435-7481b7ec7a9a"
      },
      "source": [
        "A = rng.randint(10, size=(3, 4))\n",
        "A"
      ],
      "id": "BlQ_5iIAYXJD",
      "execution_count": null,
      "outputs": [
        {
          "output_type": "execute_result",
          "data": {
            "text/plain": [
              "array([[3, 8, 2, 4],\n",
              "       [2, 6, 4, 8],\n",
              "       [6, 1, 3, 8]])"
            ]
          },
          "metadata": {
            "tags": []
          },
          "execution_count": 221
        }
      ]
    },
    {
      "cell_type": "code",
      "metadata": {
        "colab": {
          "base_uri": "https://localhost:8080/"
        },
        "id": "AbF-x6vVYXJD",
        "outputId": "21d7f5ad-bd49-42ff-ec2b-c65199d09ceb"
      },
      "source": [
        "#each rows of dataframe subrtact the first row number\n",
        "A - A[0]"
      ],
      "id": "AbF-x6vVYXJD",
      "execution_count": null,
      "outputs": [
        {
          "output_type": "execute_result",
          "data": {
            "text/plain": [
              "array([[ 0,  0,  0,  0],\n",
              "       [-1, -2,  2,  4],\n",
              "       [ 3, -7,  1,  4]])"
            ]
          },
          "metadata": {
            "tags": []
          },
          "execution_count": 222
        }
      ]
    },
    {
      "cell_type": "code",
      "metadata": {
        "colab": {
          "base_uri": "https://localhost:8080/",
          "height": 143
        },
        "id": "L1Pbq8d6YXJD",
        "outputId": "ba5870e1-2fe6-4da8-fde7-46b40ea72733"
      },
      "source": [
        "#subtraction between a two-dimensional array and one of its rows \n",
        "#is applied row-wise.\n",
        "df = pd.DataFrame(A, columns=list('QRST'))\n",
        "df - df.iloc[0]"
      ],
      "id": "L1Pbq8d6YXJD",
      "execution_count": null,
      "outputs": [
        {
          "output_type": "execute_result",
          "data": {
            "text/html": [
              "<div>\n",
              "<style scoped>\n",
              "    .dataframe tbody tr th:only-of-type {\n",
              "        vertical-align: middle;\n",
              "    }\n",
              "\n",
              "    .dataframe tbody tr th {\n",
              "        vertical-align: top;\n",
              "    }\n",
              "\n",
              "    .dataframe thead th {\n",
              "        text-align: right;\n",
              "    }\n",
              "</style>\n",
              "<table border=\"1\" class=\"dataframe\">\n",
              "  <thead>\n",
              "    <tr style=\"text-align: right;\">\n",
              "      <th></th>\n",
              "      <th>Q</th>\n",
              "      <th>R</th>\n",
              "      <th>S</th>\n",
              "      <th>T</th>\n",
              "    </tr>\n",
              "  </thead>\n",
              "  <tbody>\n",
              "    <tr>\n",
              "      <th>0</th>\n",
              "      <td>0</td>\n",
              "      <td>0</td>\n",
              "      <td>0</td>\n",
              "      <td>0</td>\n",
              "    </tr>\n",
              "    <tr>\n",
              "      <th>1</th>\n",
              "      <td>-1</td>\n",
              "      <td>-2</td>\n",
              "      <td>2</td>\n",
              "      <td>4</td>\n",
              "    </tr>\n",
              "    <tr>\n",
              "      <th>2</th>\n",
              "      <td>3</td>\n",
              "      <td>-7</td>\n",
              "      <td>1</td>\n",
              "      <td>4</td>\n",
              "    </tr>\n",
              "  </tbody>\n",
              "</table>\n",
              "</div>"
            ],
            "text/plain": [
              "   Q  R  S  T\n",
              "0  0  0  0  0\n",
              "1 -1 -2  2  4\n",
              "2  3 -7  1  4"
            ]
          },
          "metadata": {
            "tags": []
          },
          "execution_count": 223
        }
      ]
    },
    {
      "cell_type": "markdown",
      "metadata": {
        "id": "5_e7U7MsYXJD"
      },
      "source": [
        "If you would instead like to operate column-wise, you can use the object methods mentioned earlier, while specifying the axis keyword:"
      ],
      "id": "5_e7U7MsYXJD"
    },
    {
      "cell_type": "code",
      "metadata": {
        "colab": {
          "base_uri": "https://localhost:8080/",
          "height": 143
        },
        "id": "lkwyNrUtYXJD",
        "outputId": "b9bdf264-2047-41be-cb22-22ba3c97f1c1"
      },
      "source": [
        "df.subtract(df['R'], axis=0)"
      ],
      "id": "lkwyNrUtYXJD",
      "execution_count": null,
      "outputs": [
        {
          "output_type": "execute_result",
          "data": {
            "text/html": [
              "<div>\n",
              "<style scoped>\n",
              "    .dataframe tbody tr th:only-of-type {\n",
              "        vertical-align: middle;\n",
              "    }\n",
              "\n",
              "    .dataframe tbody tr th {\n",
              "        vertical-align: top;\n",
              "    }\n",
              "\n",
              "    .dataframe thead th {\n",
              "        text-align: right;\n",
              "    }\n",
              "</style>\n",
              "<table border=\"1\" class=\"dataframe\">\n",
              "  <thead>\n",
              "    <tr style=\"text-align: right;\">\n",
              "      <th></th>\n",
              "      <th>Q</th>\n",
              "      <th>R</th>\n",
              "      <th>S</th>\n",
              "      <th>T</th>\n",
              "    </tr>\n",
              "  </thead>\n",
              "  <tbody>\n",
              "    <tr>\n",
              "      <th>0</th>\n",
              "      <td>-5</td>\n",
              "      <td>0</td>\n",
              "      <td>-6</td>\n",
              "      <td>-4</td>\n",
              "    </tr>\n",
              "    <tr>\n",
              "      <th>1</th>\n",
              "      <td>-4</td>\n",
              "      <td>0</td>\n",
              "      <td>-2</td>\n",
              "      <td>2</td>\n",
              "    </tr>\n",
              "    <tr>\n",
              "      <th>2</th>\n",
              "      <td>5</td>\n",
              "      <td>0</td>\n",
              "      <td>2</td>\n",
              "      <td>7</td>\n",
              "    </tr>\n",
              "  </tbody>\n",
              "</table>\n",
              "</div>"
            ],
            "text/plain": [
              "   Q  R  S  T\n",
              "0 -5  0 -6 -4\n",
              "1 -4  0 -2  2\n",
              "2  5  0  2  7"
            ]
          },
          "metadata": {
            "tags": []
          },
          "execution_count": 224
        }
      ]
    },
    {
      "cell_type": "markdown",
      "metadata": {
        "id": "V_zMUd0RYXJE"
      },
      "source": [
        "Note that these DataFrame/Series operations, like the operations discussed above, will automatically align indices between the two elements:"
      ],
      "id": "V_zMUd0RYXJE"
    },
    {
      "cell_type": "code",
      "metadata": {
        "colab": {
          "base_uri": "https://localhost:8080/"
        },
        "id": "aUiKr-9kYXJE",
        "outputId": "62b5ab32-03a5-4d93-e9fd-c55909b1d7cb"
      },
      "source": [
        "halfrow = df.iloc[0, ::2]\n",
        "halfrow"
      ],
      "id": "aUiKr-9kYXJE",
      "execution_count": null,
      "outputs": [
        {
          "output_type": "execute_result",
          "data": {
            "text/plain": [
              "Q    3\n",
              "S    2\n",
              "Name: 0, dtype: int64"
            ]
          },
          "metadata": {
            "tags": []
          },
          "execution_count": 225
        }
      ]
    },
    {
      "cell_type": "code",
      "metadata": {
        "colab": {
          "base_uri": "https://localhost:8080/",
          "height": 143
        },
        "id": "nKX5BXjHYXJE",
        "outputId": "e305b7de-7201-4fef-8344-45aea56b9082"
      },
      "source": [
        "df - halfrow"
      ],
      "id": "nKX5BXjHYXJE",
      "execution_count": null,
      "outputs": [
        {
          "output_type": "execute_result",
          "data": {
            "text/html": [
              "<div>\n",
              "<style scoped>\n",
              "    .dataframe tbody tr th:only-of-type {\n",
              "        vertical-align: middle;\n",
              "    }\n",
              "\n",
              "    .dataframe tbody tr th {\n",
              "        vertical-align: top;\n",
              "    }\n",
              "\n",
              "    .dataframe thead th {\n",
              "        text-align: right;\n",
              "    }\n",
              "</style>\n",
              "<table border=\"1\" class=\"dataframe\">\n",
              "  <thead>\n",
              "    <tr style=\"text-align: right;\">\n",
              "      <th></th>\n",
              "      <th>Q</th>\n",
              "      <th>R</th>\n",
              "      <th>S</th>\n",
              "      <th>T</th>\n",
              "    </tr>\n",
              "  </thead>\n",
              "  <tbody>\n",
              "    <tr>\n",
              "      <th>0</th>\n",
              "      <td>0.0</td>\n",
              "      <td>NaN</td>\n",
              "      <td>0.0</td>\n",
              "      <td>NaN</td>\n",
              "    </tr>\n",
              "    <tr>\n",
              "      <th>1</th>\n",
              "      <td>-1.0</td>\n",
              "      <td>NaN</td>\n",
              "      <td>2.0</td>\n",
              "      <td>NaN</td>\n",
              "    </tr>\n",
              "    <tr>\n",
              "      <th>2</th>\n",
              "      <td>3.0</td>\n",
              "      <td>NaN</td>\n",
              "      <td>1.0</td>\n",
              "      <td>NaN</td>\n",
              "    </tr>\n",
              "  </tbody>\n",
              "</table>\n",
              "</div>"
            ],
            "text/plain": [
              "     Q   R    S   T\n",
              "0  0.0 NaN  0.0 NaN\n",
              "1 -1.0 NaN  2.0 NaN\n",
              "2  3.0 NaN  1.0 NaN"
            ]
          },
          "metadata": {
            "tags": []
          },
          "execution_count": 226
        }
      ]
    },
    {
      "cell_type": "markdown",
      "metadata": {
        "id": "VHL9OTh8YXJE"
      },
      "source": [
        "### Exercise\n",
        "1.Create a random 3*4 dataframe\n",
        "2.Each element x follow the calculation: sin((x^2)/2)*(3/2)\n"
      ],
      "id": "VHL9OTh8YXJE"
    },
    {
      "cell_type": "markdown",
      "metadata": {
        "id": "dC1hsgUcYXJE"
      },
      "source": [
        "## 5.\tMissing data\n",
        "\n",
        "### 5.1 Finding missing values \n",
        "np.nan, None and NaT (for datetime64[ns] types) are standard missing value for Pandas.\n",
        "There are two statements for finding missing values: isnull() and isna(). And df.isna() returns the dataframe with boolean values indicating missing values. Note that notna() also can be used to find missing values but it's the opposite of isna()."
      ],
      "id": "dC1hsgUcYXJE"
    },
    {
      "cell_type": "code",
      "metadata": {
        "colab": {
          "base_uri": "https://localhost:8080/"
        },
        "id": "HNA_UBWaYXJF",
        "outputId": "d8b53459-b550-49db-c0e3-2136159270dd"
      },
      "source": [
        "data = pd.read_csv(\"Pokemon.csv\", index_col =\"Name\")\n",
        "print (data['Type 2'].isnull())"
      ],
      "id": "HNA_UBWaYXJF",
      "execution_count": null,
      "outputs": [
        {
          "output_type": "stream",
          "text": [
            "Name\n",
            "Bulbasaur                False\n",
            "Lugia                    False\n",
            "Charmander                True\n",
            "Charmeleon                True\n",
            "Charizard                False\n",
            "Pikachu                   True\n",
            "Jigglypuff               False\n",
            "Psyduck                   True\n",
            "Ho-oh                    False\n",
            "Sealeo                   False\n",
            "Clamperl                  True\n",
            "Huntail                   True\n",
            "Metagross                False\n",
            "Regirock                  True\n",
            "LatiasMega Latias        False\n",
            "GroudonPrimal Groudon    False\n",
            "Rayquaza                 False\n",
            "Jirachi                  False\n",
            "Dialga                   False\n",
            "Palkia                   False\n",
            "Heatran                  False\n",
            "Regigigas                 True\n",
            "GiratinaOrigin Forme     False\n",
            "Rufflet                  False\n",
            "Mandibuzz                False\n",
            "Heatmor                   True\n",
            "Durant                   False\n",
            "Deino                    False\n",
            "Name: Type 2, dtype: bool\n"
          ],
          "name": "stdout"
        }
      ]
    },
    {
      "cell_type": "code",
      "metadata": {
        "colab": {
          "base_uri": "https://localhost:8080/",
          "height": 959
        },
        "id": "jSboChagYXJF",
        "outputId": "60d9209e-1be0-46c2-e293-9409f675e59b"
      },
      "source": [
        "data.isna()"
      ],
      "id": "jSboChagYXJF",
      "execution_count": null,
      "outputs": [
        {
          "output_type": "execute_result",
          "data": {
            "text/html": [
              "<div>\n",
              "<style scoped>\n",
              "    .dataframe tbody tr th:only-of-type {\n",
              "        vertical-align: middle;\n",
              "    }\n",
              "\n",
              "    .dataframe tbody tr th {\n",
              "        vertical-align: top;\n",
              "    }\n",
              "\n",
              "    .dataframe thead th {\n",
              "        text-align: right;\n",
              "    }\n",
              "</style>\n",
              "<table border=\"1\" class=\"dataframe\">\n",
              "  <thead>\n",
              "    <tr style=\"text-align: right;\">\n",
              "      <th></th>\n",
              "      <th>Type 1</th>\n",
              "      <th>Type 2</th>\n",
              "      <th>Total</th>\n",
              "      <th>HP</th>\n",
              "      <th>Attack</th>\n",
              "      <th>Speed</th>\n",
              "      <th>Generation</th>\n",
              "      <th>Legendary</th>\n",
              "    </tr>\n",
              "    <tr>\n",
              "      <th>Name</th>\n",
              "      <th></th>\n",
              "      <th></th>\n",
              "      <th></th>\n",
              "      <th></th>\n",
              "      <th></th>\n",
              "      <th></th>\n",
              "      <th></th>\n",
              "      <th></th>\n",
              "    </tr>\n",
              "  </thead>\n",
              "  <tbody>\n",
              "    <tr>\n",
              "      <th>Bulbasaur</th>\n",
              "      <td>False</td>\n",
              "      <td>False</td>\n",
              "      <td>False</td>\n",
              "      <td>False</td>\n",
              "      <td>False</td>\n",
              "      <td>False</td>\n",
              "      <td>False</td>\n",
              "      <td>False</td>\n",
              "    </tr>\n",
              "    <tr>\n",
              "      <th>Lugia</th>\n",
              "      <td>False</td>\n",
              "      <td>False</td>\n",
              "      <td>False</td>\n",
              "      <td>False</td>\n",
              "      <td>False</td>\n",
              "      <td>False</td>\n",
              "      <td>False</td>\n",
              "      <td>False</td>\n",
              "    </tr>\n",
              "    <tr>\n",
              "      <th>Charmander</th>\n",
              "      <td>False</td>\n",
              "      <td>True</td>\n",
              "      <td>False</td>\n",
              "      <td>False</td>\n",
              "      <td>False</td>\n",
              "      <td>False</td>\n",
              "      <td>False</td>\n",
              "      <td>False</td>\n",
              "    </tr>\n",
              "    <tr>\n",
              "      <th>Charmeleon</th>\n",
              "      <td>False</td>\n",
              "      <td>True</td>\n",
              "      <td>True</td>\n",
              "      <td>False</td>\n",
              "      <td>True</td>\n",
              "      <td>False</td>\n",
              "      <td>False</td>\n",
              "      <td>False</td>\n",
              "    </tr>\n",
              "    <tr>\n",
              "      <th>Charizard</th>\n",
              "      <td>False</td>\n",
              "      <td>False</td>\n",
              "      <td>False</td>\n",
              "      <td>False</td>\n",
              "      <td>False</td>\n",
              "      <td>False</td>\n",
              "      <td>False</td>\n",
              "      <td>False</td>\n",
              "    </tr>\n",
              "    <tr>\n",
              "      <th>Pikachu</th>\n",
              "      <td>False</td>\n",
              "      <td>True</td>\n",
              "      <td>False</td>\n",
              "      <td>False</td>\n",
              "      <td>False</td>\n",
              "      <td>False</td>\n",
              "      <td>False</td>\n",
              "      <td>False</td>\n",
              "    </tr>\n",
              "    <tr>\n",
              "      <th>Jigglypuff</th>\n",
              "      <td>False</td>\n",
              "      <td>False</td>\n",
              "      <td>False</td>\n",
              "      <td>True</td>\n",
              "      <td>False</td>\n",
              "      <td>False</td>\n",
              "      <td>False</td>\n",
              "      <td>True</td>\n",
              "    </tr>\n",
              "    <tr>\n",
              "      <th>Psyduck</th>\n",
              "      <td>False</td>\n",
              "      <td>True</td>\n",
              "      <td>False</td>\n",
              "      <td>False</td>\n",
              "      <td>False</td>\n",
              "      <td>False</td>\n",
              "      <td>True</td>\n",
              "      <td>False</td>\n",
              "    </tr>\n",
              "    <tr>\n",
              "      <th>Ho-oh</th>\n",
              "      <td>False</td>\n",
              "      <td>False</td>\n",
              "      <td>False</td>\n",
              "      <td>True</td>\n",
              "      <td>False</td>\n",
              "      <td>False</td>\n",
              "      <td>False</td>\n",
              "      <td>False</td>\n",
              "    </tr>\n",
              "    <tr>\n",
              "      <th>Sealeo</th>\n",
              "      <td>False</td>\n",
              "      <td>False</td>\n",
              "      <td>False</td>\n",
              "      <td>False</td>\n",
              "      <td>False</td>\n",
              "      <td>True</td>\n",
              "      <td>False</td>\n",
              "      <td>False</td>\n",
              "    </tr>\n",
              "    <tr>\n",
              "      <th>Clamperl</th>\n",
              "      <td>False</td>\n",
              "      <td>True</td>\n",
              "      <td>False</td>\n",
              "      <td>False</td>\n",
              "      <td>False</td>\n",
              "      <td>True</td>\n",
              "      <td>False</td>\n",
              "      <td>False</td>\n",
              "    </tr>\n",
              "    <tr>\n",
              "      <th>Huntail</th>\n",
              "      <td>False</td>\n",
              "      <td>True</td>\n",
              "      <td>False</td>\n",
              "      <td>False</td>\n",
              "      <td>False</td>\n",
              "      <td>False</td>\n",
              "      <td>False</td>\n",
              "      <td>False</td>\n",
              "    </tr>\n",
              "    <tr>\n",
              "      <th>Metagross</th>\n",
              "      <td>False</td>\n",
              "      <td>False</td>\n",
              "      <td>False</td>\n",
              "      <td>False</td>\n",
              "      <td>False</td>\n",
              "      <td>False</td>\n",
              "      <td>False</td>\n",
              "      <td>False</td>\n",
              "    </tr>\n",
              "    <tr>\n",
              "      <th>Regirock</th>\n",
              "      <td>False</td>\n",
              "      <td>True</td>\n",
              "      <td>False</td>\n",
              "      <td>False</td>\n",
              "      <td>False</td>\n",
              "      <td>False</td>\n",
              "      <td>False</td>\n",
              "      <td>False</td>\n",
              "    </tr>\n",
              "    <tr>\n",
              "      <th>LatiasMega Latias</th>\n",
              "      <td>False</td>\n",
              "      <td>False</td>\n",
              "      <td>False</td>\n",
              "      <td>False</td>\n",
              "      <td>False</td>\n",
              "      <td>False</td>\n",
              "      <td>False</td>\n",
              "      <td>True</td>\n",
              "    </tr>\n",
              "    <tr>\n",
              "      <th>GroudonPrimal Groudon</th>\n",
              "      <td>False</td>\n",
              "      <td>False</td>\n",
              "      <td>False</td>\n",
              "      <td>False</td>\n",
              "      <td>False</td>\n",
              "      <td>False</td>\n",
              "      <td>False</td>\n",
              "      <td>False</td>\n",
              "    </tr>\n",
              "    <tr>\n",
              "      <th>Rayquaza</th>\n",
              "      <td>False</td>\n",
              "      <td>False</td>\n",
              "      <td>False</td>\n",
              "      <td>False</td>\n",
              "      <td>True</td>\n",
              "      <td>False</td>\n",
              "      <td>False</td>\n",
              "      <td>True</td>\n",
              "    </tr>\n",
              "    <tr>\n",
              "      <th>Jirachi</th>\n",
              "      <td>False</td>\n",
              "      <td>False</td>\n",
              "      <td>False</td>\n",
              "      <td>False</td>\n",
              "      <td>False</td>\n",
              "      <td>False</td>\n",
              "      <td>False</td>\n",
              "      <td>False</td>\n",
              "    </tr>\n",
              "    <tr>\n",
              "      <th>Dialga</th>\n",
              "      <td>False</td>\n",
              "      <td>False</td>\n",
              "      <td>False</td>\n",
              "      <td>False</td>\n",
              "      <td>False</td>\n",
              "      <td>False</td>\n",
              "      <td>False</td>\n",
              "      <td>False</td>\n",
              "    </tr>\n",
              "    <tr>\n",
              "      <th>Palkia</th>\n",
              "      <td>False</td>\n",
              "      <td>False</td>\n",
              "      <td>False</td>\n",
              "      <td>False</td>\n",
              "      <td>False</td>\n",
              "      <td>False</td>\n",
              "      <td>False</td>\n",
              "      <td>False</td>\n",
              "    </tr>\n",
              "    <tr>\n",
              "      <th>Heatran</th>\n",
              "      <td>False</td>\n",
              "      <td>False</td>\n",
              "      <td>False</td>\n",
              "      <td>False</td>\n",
              "      <td>False</td>\n",
              "      <td>False</td>\n",
              "      <td>False</td>\n",
              "      <td>False</td>\n",
              "    </tr>\n",
              "    <tr>\n",
              "      <th>Regigigas</th>\n",
              "      <td>False</td>\n",
              "      <td>True</td>\n",
              "      <td>False</td>\n",
              "      <td>False</td>\n",
              "      <td>False</td>\n",
              "      <td>True</td>\n",
              "      <td>False</td>\n",
              "      <td>False</td>\n",
              "    </tr>\n",
              "    <tr>\n",
              "      <th>GiratinaOrigin Forme</th>\n",
              "      <td>False</td>\n",
              "      <td>False</td>\n",
              "      <td>False</td>\n",
              "      <td>False</td>\n",
              "      <td>False</td>\n",
              "      <td>False</td>\n",
              "      <td>False</td>\n",
              "      <td>False</td>\n",
              "    </tr>\n",
              "    <tr>\n",
              "      <th>Rufflet</th>\n",
              "      <td>False</td>\n",
              "      <td>False</td>\n",
              "      <td>False</td>\n",
              "      <td>False</td>\n",
              "      <td>True</td>\n",
              "      <td>False</td>\n",
              "      <td>False</td>\n",
              "      <td>False</td>\n",
              "    </tr>\n",
              "    <tr>\n",
              "      <th>Mandibuzz</th>\n",
              "      <td>False</td>\n",
              "      <td>False</td>\n",
              "      <td>False</td>\n",
              "      <td>False</td>\n",
              "      <td>False</td>\n",
              "      <td>False</td>\n",
              "      <td>False</td>\n",
              "      <td>False</td>\n",
              "    </tr>\n",
              "    <tr>\n",
              "      <th>Heatmor</th>\n",
              "      <td>False</td>\n",
              "      <td>True</td>\n",
              "      <td>False</td>\n",
              "      <td>True</td>\n",
              "      <td>False</td>\n",
              "      <td>True</td>\n",
              "      <td>False</td>\n",
              "      <td>False</td>\n",
              "    </tr>\n",
              "    <tr>\n",
              "      <th>Durant</th>\n",
              "      <td>False</td>\n",
              "      <td>False</td>\n",
              "      <td>False</td>\n",
              "      <td>False</td>\n",
              "      <td>False</td>\n",
              "      <td>False</td>\n",
              "      <td>False</td>\n",
              "      <td>False</td>\n",
              "    </tr>\n",
              "    <tr>\n",
              "      <th>Deino</th>\n",
              "      <td>False</td>\n",
              "      <td>False</td>\n",
              "      <td>False</td>\n",
              "      <td>False</td>\n",
              "      <td>False</td>\n",
              "      <td>False</td>\n",
              "      <td>False</td>\n",
              "      <td>False</td>\n",
              "    </tr>\n",
              "  </tbody>\n",
              "</table>\n",
              "</div>"
            ],
            "text/plain": [
              "                       Type 1  Type 2  Total  ...  Speed  Generation  Legendary\n",
              "Name                                          ...                              \n",
              "Bulbasaur               False   False  False  ...  False       False      False\n",
              "Lugia                   False   False  False  ...  False       False      False\n",
              "Charmander              False    True  False  ...  False       False      False\n",
              "Charmeleon              False    True   True  ...  False       False      False\n",
              "Charizard               False   False  False  ...  False       False      False\n",
              "Pikachu                 False    True  False  ...  False       False      False\n",
              "Jigglypuff              False   False  False  ...  False       False       True\n",
              "Psyduck                 False    True  False  ...  False        True      False\n",
              "Ho-oh                   False   False  False  ...  False       False      False\n",
              "Sealeo                  False   False  False  ...   True       False      False\n",
              "Clamperl                False    True  False  ...   True       False      False\n",
              "Huntail                 False    True  False  ...  False       False      False\n",
              "Metagross               False   False  False  ...  False       False      False\n",
              "Regirock                False    True  False  ...  False       False      False\n",
              "LatiasMega Latias       False   False  False  ...  False       False       True\n",
              "GroudonPrimal Groudon   False   False  False  ...  False       False      False\n",
              "Rayquaza                False   False  False  ...  False       False       True\n",
              "Jirachi                 False   False  False  ...  False       False      False\n",
              "Dialga                  False   False  False  ...  False       False      False\n",
              "Palkia                  False   False  False  ...  False       False      False\n",
              "Heatran                 False   False  False  ...  False       False      False\n",
              "Regigigas               False    True  False  ...   True       False      False\n",
              "GiratinaOrigin Forme    False   False  False  ...  False       False      False\n",
              "Rufflet                 False   False  False  ...  False       False      False\n",
              "Mandibuzz               False   False  False  ...  False       False      False\n",
              "Heatmor                 False    True  False  ...   True       False      False\n",
              "Durant                  False   False  False  ...  False       False      False\n",
              "Deino                   False   False  False  ...  False       False      False\n",
              "\n",
              "[28 rows x 8 columns]"
            ]
          },
          "metadata": {
            "tags": []
          },
          "execution_count": 228
        }
      ]
    },
    {
      "cell_type": "code",
      "metadata": {
        "colab": {
          "base_uri": "https://localhost:8080/"
        },
        "id": "TBCMtL-AYXJF",
        "outputId": "b04a10e1-0e5f-4083-bb99-f6487d6f3f66"
      },
      "source": [
        "#data.isna().any() returns a boolean value for each column. If there is at least one missing value in that column\n",
        "#the result is True.\n",
        "data.isna().any()"
      ],
      "id": "TBCMtL-AYXJF",
      "execution_count": null,
      "outputs": [
        {
          "output_type": "execute_result",
          "data": {
            "text/plain": [
              "Type 1        False\n",
              "Type 2         True\n",
              "Total          True\n",
              "HP             True\n",
              "Attack         True\n",
              "Speed          True\n",
              "Generation     True\n",
              "Legendary      True\n",
              "dtype: bool"
            ]
          },
          "metadata": {
            "tags": []
          },
          "execution_count": 229
        }
      ]
    },
    {
      "cell_type": "code",
      "metadata": {
        "colab": {
          "base_uri": "https://localhost:8080/"
        },
        "id": "88sX5YevYXJF",
        "outputId": "5e025592-4d93-45be-e98d-b8d76ef037e1"
      },
      "source": [
        "#data.isna().sum() returns the number of missing values in each column.\n",
        "data.isna().sum() "
      ],
      "id": "88sX5YevYXJF",
      "execution_count": null,
      "outputs": [
        {
          "output_type": "execute_result",
          "data": {
            "text/plain": [
              "Type 1        0\n",
              "Type 2        9\n",
              "Total         1\n",
              "HP            3\n",
              "Attack        3\n",
              "Speed         4\n",
              "Generation    1\n",
              "Legendary     3\n",
              "dtype: int64"
            ]
          },
          "metadata": {
            "tags": []
          },
          "execution_count": 230
        }
      ]
    },
    {
      "cell_type": "markdown",
      "metadata": {
        "id": "sI6SEeJrYXJF"
      },
      "source": [
        "### 5.2  Handling missing values\n",
        "If we want to delete rows containing empty fields, we can use the dropna() method. The syntax format is as follows:\n",
        "\n",
        "DataFrame . Dropna ( Axis = 0 , How = 'the any' , Thresh = None , Subset = None , InPlace = False )\n",
        "\n",
        "Parameter Description:\n",
        "axis: The default value is 0 , which means that the entire row is removed when the value is empty. If the parameter axis=1 is set, the whole column is removed when the value is empty.\n",
        "how: The default is'any'. If NA appears in any data in a row (or column), remove the entire row. If you set how='all' , the entire row (or column) is all NA.\n",
        "thresh: Set how many non-empty data is needed to keep it.\n",
        "subset: Set the columns you want to check. If there are multiple columns, you can use a list of column names as a parameter.\n",
        "inplace: If set to True, the calculated value will directly overwrite the previous value and return None, and the source data will be modified.\n",
        "\n",
        "The common way to replace empty cells is to calculate the mean, median, or mode of a column.\n",
        "Pandas uses the mean() , median() and mode() methods to calculate the mean (the average of all values added up), the median value (the number in the middle after sorting ) and the mode ( the number with the highest frequency ) of the column ."
      ],
      "id": "sI6SEeJrYXJF"
    },
    {
      "cell_type": "markdown",
      "metadata": {
        "id": "YhQsXVrEYXJG"
      },
      "source": [
        "### 5.2.1 Deleting all the rows with missing vlaues\n",
        "We can drop a row or column with missing values using dropna() function. how parameter is used to set condition to drop.\n",
        "\n",
        "DataFrame.dropna(axis=0, how='any', thresh=None, subset=None, inplace=False)\n",
        "\n",
        "\n",
        "Determine if rows or columns which contain missing values are removed.\n",
        "axis =0, or ‘index’ : Drop rows which contain missing values.\n",
        "axis =1, or ‘columns’ : Drop columns which contain missing value.\n",
        "how='any' : drop if there is any missing value\n",
        "how='all' : drop if all values are missing\n",
        "thresh =n : drop rows with at least n missing values."
      ],
      "id": "YhQsXVrEYXJG"
    },
    {
      "cell_type": "code",
      "metadata": {
        "colab": {
          "base_uri": "https://localhost:8080/"
        },
        "id": "g0rMyxYJYXJG",
        "outputId": "eab91b8d-0b9d-4721-deb7-71a7296d9b32"
      },
      "source": [
        "newdata=data.dropna()\n",
        "print(newdata.to_string())"
      ],
      "id": "g0rMyxYJYXJG",
      "execution_count": null,
      "outputs": [
        {
          "output_type": "stream",
          "text": [
            "                        Type 1   Type 2  Total     HP  Attack  Speed  Generation Legendary\n",
            "Name                                                                                      \n",
            "Bulbasaur                Grass   Poison  318.0   45.0    49.0   45.0         1.0     False\n",
            "Lugia                  Psychic   Flying  680.0  106.0    90.0  110.0         2.0      True\n",
            "Charizard                 Fire   Flying  534.0   78.0    84.0  100.0         1.0     False\n",
            "Metagross                Steel  Psychic  600.0   80.0   135.0   70.0         3.0     False\n",
            "GroudonPrimal Groudon   Ground     Fire  770.0  100.0   180.0   90.0         3.0      True\n",
            "Jirachi                  Steel  Psychic  600.0  100.0   100.0  100.0         3.0      True\n",
            "Dialga                   Steel   Dragon  680.0  100.0   120.0   90.0         4.0      True\n",
            "Palkia                   Water   Dragon  680.0   90.0   120.0  100.0         4.0      True\n",
            "Heatran                   Fire    Steel  600.0   91.0    90.0   77.0         4.0      True\n",
            "GiratinaOrigin Forme     Ghost   Dragon  680.0  150.0   120.0   90.0         4.0      True\n",
            "Mandibuzz                 Dark   Flying  510.0  110.0    65.0   80.0         5.0     False\n",
            "Durant                     Bug    Steel  484.0   58.0   109.0  109.0         5.0     False\n",
            "Deino                     Dark   Dragon  300.0   52.0    65.0   38.0         5.0     False\n"
          ],
          "name": "stdout"
        }
      ]
    },
    {
      "cell_type": "code",
      "metadata": {
        "colab": {
          "base_uri": "https://localhost:8080/"
        },
        "id": "SIXfc6eNYXJG",
        "outputId": "fd9fa135-6f5b-470b-e5b2-83eb309959f9"
      },
      "source": [
        "newdata2=data.dropna(axis=0, thresh=2)\n",
        "print(newdata2.to_string())"
      ],
      "id": "SIXfc6eNYXJG",
      "execution_count": null,
      "outputs": [
        {
          "output_type": "stream",
          "text": [
            "                         Type 1   Type 2  Total     HP  Attack  Speed  Generation Legendary\n",
            "Name                                                                                       \n",
            "Bulbasaur                 Grass   Poison  318.0   45.0    49.0   45.0         1.0     False\n",
            "Lugia                   Psychic   Flying  680.0  106.0    90.0  110.0         2.0      True\n",
            "Charmander                 Fire      NaN  309.0   39.0    52.0   65.0         1.0     False\n",
            "Charmeleon                 Fire      NaN    NaN   58.0     NaN   80.0         1.0     False\n",
            "Charizard                  Fire   Flying  534.0   78.0    84.0  100.0         1.0     False\n",
            "Pikachu                Electric      NaN  320.0   35.0    55.0   90.0         1.0     False\n",
            "Jigglypuff               Normal    Fairy  270.0    NaN    45.0   20.0         1.0       NaN\n",
            "Psyduck                   Water      NaN  320.0   50.0    52.0   55.0         NaN     False\n",
            "Ho-oh                      Fire   Flying  680.0    NaN   130.0   90.0         2.0      True\n",
            "Sealeo                      Ice    Water  410.0   90.0    60.0    NaN         3.0     False\n",
            "Clamperl                  Water      NaN  345.0   35.0    64.0    NaN         3.0     False\n",
            "Huntail                   Water      NaN  485.0   55.0   104.0   52.0         3.0     False\n",
            "Metagross                 Steel  Psychic  600.0   80.0   135.0   70.0         3.0     False\n",
            "Regirock                   Rock      NaN  580.0   80.0   100.0   50.0         3.0      True\n",
            "LatiasMega Latias        Dragon  Psychic  700.0   80.0   100.0  110.0         3.0       NaN\n",
            "GroudonPrimal Groudon    Ground     Fire  770.0  100.0   180.0   90.0         3.0      True\n",
            "Rayquaza                 Dragon   Flying  680.0  105.0     NaN   95.0         3.0       NaN\n",
            "Jirachi                   Steel  Psychic  600.0  100.0   100.0  100.0         3.0      True\n",
            "Dialga                    Steel   Dragon  680.0  100.0   120.0   90.0         4.0      True\n",
            "Palkia                    Water   Dragon  680.0   90.0   120.0  100.0         4.0      True\n",
            "Heatran                    Fire    Steel  600.0   91.0    90.0   77.0         4.0      True\n",
            "Regigigas                Normal      NaN  670.0  110.0   160.0    NaN         4.0      True\n",
            "GiratinaOrigin Forme      Ghost   Dragon  680.0  150.0   120.0   90.0         4.0      True\n",
            "Rufflet                  Normal   Flying  350.0   70.0     NaN   60.0         5.0     False\n",
            "Mandibuzz                  Dark   Flying  510.0  110.0    65.0   80.0         5.0     False\n",
            "Heatmor                    Fire      NaN  484.0    NaN    97.0    NaN         5.0     False\n",
            "Durant                      Bug    Steel  484.0   58.0   109.0  109.0         5.0     False\n",
            "Deino                      Dark   Dragon  300.0   52.0    65.0   38.0         5.0     False\n"
          ],
          "name": "stdout"
        }
      ]
    },
    {
      "cell_type": "markdown",
      "metadata": {
        "id": "EWnmFyxTYXJG"
      },
      "source": [
        "By default, the dropna() method returns a new DataFrame and does not modify the source data.\n",
        "\n",
        "If you want to modify the source data DataFrame, you can use the inplace = True parameter:"
      ],
      "id": "EWnmFyxTYXJG"
    },
    {
      "cell_type": "code",
      "metadata": {
        "id": "x4vm84OWYXJG"
      },
      "source": [
        "#data.dropna(inplace=True)\n",
        "#print(data.to_string)"
      ],
      "id": "x4vm84OWYXJG",
      "execution_count": null,
      "outputs": []
    },
    {
      "cell_type": "markdown",
      "metadata": {
        "id": "WfTSinDbYXJG"
      },
      "source": [
        "### 5.2.2 Removing rows with null values in the specified column"
      ],
      "id": "WfTSinDbYXJG"
    },
    {
      "cell_type": "code",
      "metadata": {
        "colab": {
          "base_uri": "https://localhost:8080/"
        },
        "id": "z9-27fQfYXJG",
        "outputId": "e9585713-dbe2-4f60-912f-1d57eea62c08"
      },
      "source": [
        "#remove the rows with blank field values in the Legendary\n",
        "data1 = data.dropna(subset = ['Legendary'])\n",
        "print(data1.to_string())"
      ],
      "id": "z9-27fQfYXJG",
      "execution_count": null,
      "outputs": [
        {
          "output_type": "stream",
          "text": [
            "                         Type 1   Type 2  Total     HP  Attack  Speed  Generation Legendary\n",
            "Name                                                                                       \n",
            "Bulbasaur                 Grass   Poison  318.0   45.0    49.0   45.0         1.0     False\n",
            "Lugia                   Psychic   Flying  680.0  106.0    90.0  110.0         2.0      True\n",
            "Charmander                 Fire      NaN  309.0   39.0    52.0   65.0         1.0     False\n",
            "Charmeleon                 Fire      NaN    NaN   58.0     NaN   80.0         1.0     False\n",
            "Charizard                  Fire   Flying  534.0   78.0    84.0  100.0         1.0     False\n",
            "Pikachu                Electric      NaN  320.0   35.0    55.0   90.0         1.0     False\n",
            "Psyduck                   Water      NaN  320.0   50.0    52.0   55.0         NaN     False\n",
            "Ho-oh                      Fire   Flying  680.0    NaN   130.0   90.0         2.0      True\n",
            "Sealeo                      Ice    Water  410.0   90.0    60.0    NaN         3.0     False\n",
            "Clamperl                  Water      NaN  345.0   35.0    64.0    NaN         3.0     False\n",
            "Huntail                   Water      NaN  485.0   55.0   104.0   52.0         3.0     False\n",
            "Metagross                 Steel  Psychic  600.0   80.0   135.0   70.0         3.0     False\n",
            "Regirock                   Rock      NaN  580.0   80.0   100.0   50.0         3.0      True\n",
            "GroudonPrimal Groudon    Ground     Fire  770.0  100.0   180.0   90.0         3.0      True\n",
            "Jirachi                   Steel  Psychic  600.0  100.0   100.0  100.0         3.0      True\n",
            "Dialga                    Steel   Dragon  680.0  100.0   120.0   90.0         4.0      True\n",
            "Palkia                    Water   Dragon  680.0   90.0   120.0  100.0         4.0      True\n",
            "Heatran                    Fire    Steel  600.0   91.0    90.0   77.0         4.0      True\n",
            "Regigigas                Normal      NaN  670.0  110.0   160.0    NaN         4.0      True\n",
            "GiratinaOrigin Forme      Ghost   Dragon  680.0  150.0   120.0   90.0         4.0      True\n",
            "Rufflet                  Normal   Flying  350.0   70.0     NaN   60.0         5.0     False\n",
            "Mandibuzz                  Dark   Flying  510.0  110.0    65.0   80.0         5.0     False\n",
            "Heatmor                    Fire      NaN  484.0    NaN    97.0    NaN         5.0     False\n",
            "Durant                      Bug    Steel  484.0   58.0   109.0  109.0         5.0     False\n",
            "Deino                      Dark   Dragon  300.0   52.0    65.0   38.0         5.0     False\n"
          ],
          "name": "stdout"
        }
      ]
    },
    {
      "cell_type": "markdown",
      "metadata": {
        "id": "619PrO5RYXJH"
      },
      "source": [
        "### 5.2.3 Replacing the empty value"
      ],
      "id": "619PrO5RYXJH"
    },
    {
      "cell_type": "code",
      "metadata": {
        "colab": {
          "base_uri": "https://localhost:8080/"
        },
        "id": "eI49_XnQYXJI",
        "outputId": "735ff680-45da-4677-ba7b-80144308ad57"
      },
      "source": [
        "#replace some empty fields with the fillna() method\n",
        "data2 = data.fillna('Not sure')\n",
        "print(data2.to_string())"
      ],
      "id": "eI49_XnQYXJI",
      "execution_count": null,
      "outputs": [
        {
          "output_type": "stream",
          "text": [
            "                         Type 1    Type 2     Total        HP    Attack     Speed Generation Legendary\n",
            "Name                                                                                                  \n",
            "Bulbasaur                 Grass    Poison       318        45        49        45          1     False\n",
            "Lugia                   Psychic    Flying       680       106        90       110          2      True\n",
            "Charmander                 Fire  Not sure       309        39        52        65          1     False\n",
            "Charmeleon                 Fire  Not sure  Not sure        58  Not sure        80          1     False\n",
            "Charizard                  Fire    Flying       534        78        84       100          1     False\n",
            "Pikachu                Electric  Not sure       320        35        55        90          1     False\n",
            "Jigglypuff               Normal     Fairy       270  Not sure        45        20          1  Not sure\n",
            "Psyduck                   Water  Not sure       320        50        52        55   Not sure     False\n",
            "Ho-oh                      Fire    Flying       680  Not sure       130        90          2      True\n",
            "Sealeo                      Ice     Water       410        90        60  Not sure          3     False\n",
            "Clamperl                  Water  Not sure       345        35        64  Not sure          3     False\n",
            "Huntail                   Water  Not sure       485        55       104        52          3     False\n",
            "Metagross                 Steel   Psychic       600        80       135        70          3     False\n",
            "Regirock                   Rock  Not sure       580        80       100        50          3      True\n",
            "LatiasMega Latias        Dragon   Psychic       700        80       100       110          3  Not sure\n",
            "GroudonPrimal Groudon    Ground      Fire       770       100       180        90          3      True\n",
            "Rayquaza                 Dragon    Flying       680       105  Not sure        95          3  Not sure\n",
            "Jirachi                   Steel   Psychic       600       100       100       100          3      True\n",
            "Dialga                    Steel    Dragon       680       100       120        90          4      True\n",
            "Palkia                    Water    Dragon       680        90       120       100          4      True\n",
            "Heatran                    Fire     Steel       600        91        90        77          4      True\n",
            "Regigigas                Normal  Not sure       670       110       160  Not sure          4      True\n",
            "GiratinaOrigin Forme      Ghost    Dragon       680       150       120        90          4      True\n",
            "Rufflet                  Normal    Flying       350        70  Not sure        60          5     False\n",
            "Mandibuzz                  Dark    Flying       510       110        65        80          5     False\n",
            "Heatmor                    Fire  Not sure       484  Not sure        97  Not sure          5     False\n",
            "Durant                      Bug     Steel       484        58       109       109          5     False\n",
            "Deino                      Dark    Dragon       300        52        65        38          5     False\n"
          ],
          "name": "stdout"
        }
      ]
    },
    {
      "cell_type": "code",
      "metadata": {
        "colab": {
          "base_uri": "https://localhost:8080/"
        },
        "id": "pF-mzDZRYXJI",
        "outputId": "456ec2ec-98fa-47b3-e962-e43b2ece1165"
      },
      "source": [
        "#specify a certain column to replace the data\n",
        "data['Legendary'].fillna('True',inplace = True)\n",
        "print(data.to_string())"
      ],
      "id": "pF-mzDZRYXJI",
      "execution_count": null,
      "outputs": [
        {
          "output_type": "stream",
          "text": [
            "                         Type 1   Type 2  Total     HP  Attack  Speed  Generation Legendary\n",
            "Name                                                                                       \n",
            "Bulbasaur                 Grass   Poison  318.0   45.0    49.0   45.0         1.0     False\n",
            "Lugia                   Psychic   Flying  680.0  106.0    90.0  110.0         2.0      True\n",
            "Charmander                 Fire      NaN  309.0   39.0    52.0   65.0         1.0     False\n",
            "Charmeleon                 Fire      NaN    NaN   58.0     NaN   80.0         1.0     False\n",
            "Charizard                  Fire   Flying  534.0   78.0    84.0  100.0         1.0     False\n",
            "Pikachu                Electric      NaN  320.0   35.0    55.0   90.0         1.0     False\n",
            "Jigglypuff               Normal    Fairy  270.0    NaN    45.0   20.0         1.0      True\n",
            "Psyduck                   Water      NaN  320.0   50.0    52.0   55.0         NaN     False\n",
            "Ho-oh                      Fire   Flying  680.0    NaN   130.0   90.0         2.0      True\n",
            "Sealeo                      Ice    Water  410.0   90.0    60.0    NaN         3.0     False\n",
            "Clamperl                  Water      NaN  345.0   35.0    64.0    NaN         3.0     False\n",
            "Huntail                   Water      NaN  485.0   55.0   104.0   52.0         3.0     False\n",
            "Metagross                 Steel  Psychic  600.0   80.0   135.0   70.0         3.0     False\n",
            "Regirock                   Rock      NaN  580.0   80.0   100.0   50.0         3.0      True\n",
            "LatiasMega Latias        Dragon  Psychic  700.0   80.0   100.0  110.0         3.0      True\n",
            "GroudonPrimal Groudon    Ground     Fire  770.0  100.0   180.0   90.0         3.0      True\n",
            "Rayquaza                 Dragon   Flying  680.0  105.0     NaN   95.0         3.0      True\n",
            "Jirachi                   Steel  Psychic  600.0  100.0   100.0  100.0         3.0      True\n",
            "Dialga                    Steel   Dragon  680.0  100.0   120.0   90.0         4.0      True\n",
            "Palkia                    Water   Dragon  680.0   90.0   120.0  100.0         4.0      True\n",
            "Heatran                    Fire    Steel  600.0   91.0    90.0   77.0         4.0      True\n",
            "Regigigas                Normal      NaN  670.0  110.0   160.0    NaN         4.0      True\n",
            "GiratinaOrigin Forme      Ghost   Dragon  680.0  150.0   120.0   90.0         4.0      True\n",
            "Rufflet                  Normal   Flying  350.0   70.0     NaN   60.0         5.0     False\n",
            "Mandibuzz                  Dark   Flying  510.0  110.0    65.0   80.0         5.0     False\n",
            "Heatmor                    Fire      NaN  484.0    NaN    97.0    NaN         5.0     False\n",
            "Durant                      Bug    Steel  484.0   58.0   109.0  109.0         5.0     False\n",
            "Deino                      Dark   Dragon  300.0   52.0    65.0   38.0         5.0     False\n"
          ],
          "name": "stdout"
        }
      ]
    },
    {
      "cell_type": "code",
      "metadata": {
        "colab": {
          "base_uri": "https://localhost:8080/"
        },
        "id": "EoxS9RodYXJI",
        "outputId": "c18f8ea7-76fd-407c-a1c0-0089d8cee269"
      },
      "source": [
        "#Use the mean() method to calculate the mean of the column and replace empty cells\n",
        "x = data['HP'].mean()\n",
        "data['HP'].fillna(x,inplace = True)\n",
        "print(data.to_string())"
      ],
      "id": "EoxS9RodYXJI",
      "execution_count": null,
      "outputs": [
        {
          "output_type": "stream",
          "text": [
            "                         Type 1   Type 2  Total      HP  Attack  Speed  Generation Legendary\n",
            "Name                                                                                        \n",
            "Bulbasaur                 Grass   Poison  318.0   45.00    49.0   45.0         1.0     False\n",
            "Lugia                   Psychic   Flying  680.0  106.00    90.0  110.0         2.0      True\n",
            "Charmander                 Fire      NaN  309.0   39.00    52.0   65.0         1.0     False\n",
            "Charmeleon                 Fire      NaN    NaN   58.00     NaN   80.0         1.0     False\n",
            "Charizard                  Fire   Flying  534.0   78.00    84.0  100.0         1.0     False\n",
            "Pikachu                Electric      NaN  320.0   35.00    55.0   90.0         1.0     False\n",
            "Jigglypuff               Normal    Fairy  270.0   78.68    45.0   20.0         1.0      True\n",
            "Psyduck                   Water      NaN  320.0   50.00    52.0   55.0         NaN     False\n",
            "Ho-oh                      Fire   Flying  680.0   78.68   130.0   90.0         2.0      True\n",
            "Sealeo                      Ice    Water  410.0   90.00    60.0    NaN         3.0     False\n",
            "Clamperl                  Water      NaN  345.0   35.00    64.0    NaN         3.0     False\n",
            "Huntail                   Water      NaN  485.0   55.00   104.0   52.0         3.0     False\n",
            "Metagross                 Steel  Psychic  600.0   80.00   135.0   70.0         3.0     False\n",
            "Regirock                   Rock      NaN  580.0   80.00   100.0   50.0         3.0      True\n",
            "LatiasMega Latias        Dragon  Psychic  700.0   80.00   100.0  110.0         3.0      True\n",
            "GroudonPrimal Groudon    Ground     Fire  770.0  100.00   180.0   90.0         3.0      True\n",
            "Rayquaza                 Dragon   Flying  680.0  105.00     NaN   95.0         3.0      True\n",
            "Jirachi                   Steel  Psychic  600.0  100.00   100.0  100.0         3.0      True\n",
            "Dialga                    Steel   Dragon  680.0  100.00   120.0   90.0         4.0      True\n",
            "Palkia                    Water   Dragon  680.0   90.00   120.0  100.0         4.0      True\n",
            "Heatran                    Fire    Steel  600.0   91.00    90.0   77.0         4.0      True\n",
            "Regigigas                Normal      NaN  670.0  110.00   160.0    NaN         4.0      True\n",
            "GiratinaOrigin Forme      Ghost   Dragon  680.0  150.00   120.0   90.0         4.0      True\n",
            "Rufflet                  Normal   Flying  350.0   70.00     NaN   60.0         5.0     False\n",
            "Mandibuzz                  Dark   Flying  510.0  110.00    65.0   80.0         5.0     False\n",
            "Heatmor                    Fire      NaN  484.0   78.68    97.0    NaN         5.0     False\n",
            "Durant                      Bug    Steel  484.0   58.00   109.0  109.0         5.0     False\n",
            "Deino                      Dark   Dragon  300.0   52.00    65.0   38.0         5.0     False\n"
          ],
          "name": "stdout"
        }
      ]
    },
    {
      "cell_type": "code",
      "metadata": {
        "colab": {
          "base_uri": "https://localhost:8080/"
        },
        "id": "TrJrBgWuYXJI",
        "outputId": "d9eae909-ccfe-45d1-dd0e-0abc3c8c20d4"
      },
      "source": [
        "#Use the median() method to calculate the mean of the column and replace empty cells\n",
        "y = data['Attack'].median()\n",
        "data['Attack'].fillna(y,inplace = True)\n",
        "print(data.to_string())"
      ],
      "id": "TrJrBgWuYXJI",
      "execution_count": null,
      "outputs": [
        {
          "output_type": "stream",
          "text": [
            "                         Type 1   Type 2  Total      HP  Attack  Speed  Generation Legendary\n",
            "Name                                                                                        \n",
            "Bulbasaur                 Grass   Poison  318.0   45.00    49.0   45.0         1.0     False\n",
            "Lugia                   Psychic   Flying  680.0  106.00    90.0  110.0         2.0      True\n",
            "Charmander                 Fire      NaN  309.0   39.00    52.0   65.0         1.0     False\n",
            "Charmeleon                 Fire      NaN    NaN   58.00    97.0   80.0         1.0     False\n",
            "Charizard                  Fire   Flying  534.0   78.00    84.0  100.0         1.0     False\n",
            "Pikachu                Electric      NaN  320.0   35.00    55.0   90.0         1.0     False\n",
            "Jigglypuff               Normal    Fairy  270.0   78.68    45.0   20.0         1.0      True\n",
            "Psyduck                   Water      NaN  320.0   50.00    52.0   55.0         NaN     False\n",
            "Ho-oh                      Fire   Flying  680.0   78.68   130.0   90.0         2.0      True\n",
            "Sealeo                      Ice    Water  410.0   90.00    60.0    NaN         3.0     False\n",
            "Clamperl                  Water      NaN  345.0   35.00    64.0    NaN         3.0     False\n",
            "Huntail                   Water      NaN  485.0   55.00   104.0   52.0         3.0     False\n",
            "Metagross                 Steel  Psychic  600.0   80.00   135.0   70.0         3.0     False\n",
            "Regirock                   Rock      NaN  580.0   80.00   100.0   50.0         3.0      True\n",
            "LatiasMega Latias        Dragon  Psychic  700.0   80.00   100.0  110.0         3.0      True\n",
            "GroudonPrimal Groudon    Ground     Fire  770.0  100.00   180.0   90.0         3.0      True\n",
            "Rayquaza                 Dragon   Flying  680.0  105.00    97.0   95.0         3.0      True\n",
            "Jirachi                   Steel  Psychic  600.0  100.00   100.0  100.0         3.0      True\n",
            "Dialga                    Steel   Dragon  680.0  100.00   120.0   90.0         4.0      True\n",
            "Palkia                    Water   Dragon  680.0   90.00   120.0  100.0         4.0      True\n",
            "Heatran                    Fire    Steel  600.0   91.00    90.0   77.0         4.0      True\n",
            "Regigigas                Normal      NaN  670.0  110.00   160.0    NaN         4.0      True\n",
            "GiratinaOrigin Forme      Ghost   Dragon  680.0  150.00   120.0   90.0         4.0      True\n",
            "Rufflet                  Normal   Flying  350.0   70.00    97.0   60.0         5.0     False\n",
            "Mandibuzz                  Dark   Flying  510.0  110.00    65.0   80.0         5.0     False\n",
            "Heatmor                    Fire      NaN  484.0   78.68    97.0    NaN         5.0     False\n",
            "Durant                      Bug    Steel  484.0   58.00   109.0  109.0         5.0     False\n",
            "Deino                      Dark   Dragon  300.0   52.00    65.0   38.0         5.0     False\n"
          ],
          "name": "stdout"
        }
      ]
    },
    {
      "cell_type": "code",
      "metadata": {
        "colab": {
          "base_uri": "https://localhost:8080/"
        },
        "id": "yNUiBpfYYXJJ",
        "outputId": "7e4791f1-2b26-4984-f767-89fdf1f7dfb3"
      },
      "source": [
        "#Use the median() method to calculate the mean of the column and replace empty cells\n",
        "z = data['Speed'].mean()\n",
        "data['Speed'].fillna(z,inplace = True)\n",
        "print(data.to_string())"
      ],
      "id": "yNUiBpfYYXJJ",
      "execution_count": null,
      "outputs": [
        {
          "output_type": "stream",
          "text": [
            "                         Type 1   Type 2  Total      HP  Attack   Speed  Generation Legendary\n",
            "Name                                                                                         \n",
            "Bulbasaur                 Grass   Poison  318.0   45.00    49.0   45.00         1.0     False\n",
            "Lugia                   Psychic   Flying  680.0  106.00    90.0  110.00         2.0      True\n",
            "Charmander                 Fire      NaN  309.0   39.00    52.0   65.00         1.0     False\n",
            "Charmeleon                 Fire      NaN    NaN   58.00    97.0   80.00         1.0     False\n",
            "Charizard                  Fire   Flying  534.0   78.00    84.0  100.00         1.0     False\n",
            "Pikachu                Electric      NaN  320.0   35.00    55.0   90.00         1.0     False\n",
            "Jigglypuff               Normal    Fairy  270.0   78.68    45.0   20.00         1.0      True\n",
            "Psyduck                   Water      NaN  320.0   50.00    52.0   55.00         NaN     False\n",
            "Ho-oh                      Fire   Flying  680.0   78.68   130.0   90.00         2.0      True\n",
            "Sealeo                      Ice    Water  410.0   90.00    60.0   77.75         3.0     False\n",
            "Clamperl                  Water      NaN  345.0   35.00    64.0   77.75         3.0     False\n",
            "Huntail                   Water      NaN  485.0   55.00   104.0   52.00         3.0     False\n",
            "Metagross                 Steel  Psychic  600.0   80.00   135.0   70.00         3.0     False\n",
            "Regirock                   Rock      NaN  580.0   80.00   100.0   50.00         3.0      True\n",
            "LatiasMega Latias        Dragon  Psychic  700.0   80.00   100.0  110.00         3.0      True\n",
            "GroudonPrimal Groudon    Ground     Fire  770.0  100.00   180.0   90.00         3.0      True\n",
            "Rayquaza                 Dragon   Flying  680.0  105.00    97.0   95.00         3.0      True\n",
            "Jirachi                   Steel  Psychic  600.0  100.00   100.0  100.00         3.0      True\n",
            "Dialga                    Steel   Dragon  680.0  100.00   120.0   90.00         4.0      True\n",
            "Palkia                    Water   Dragon  680.0   90.00   120.0  100.00         4.0      True\n",
            "Heatran                    Fire    Steel  600.0   91.00    90.0   77.00         4.0      True\n",
            "Regigigas                Normal      NaN  670.0  110.00   160.0   77.75         4.0      True\n",
            "GiratinaOrigin Forme      Ghost   Dragon  680.0  150.00   120.0   90.00         4.0      True\n",
            "Rufflet                  Normal   Flying  350.0   70.00    97.0   60.00         5.0     False\n",
            "Mandibuzz                  Dark   Flying  510.0  110.00    65.0   80.00         5.0     False\n",
            "Heatmor                    Fire      NaN  484.0   78.68    97.0   77.75         5.0     False\n",
            "Durant                      Bug    Steel  484.0   58.00   109.0  109.00         5.0     False\n",
            "Deino                      Dark   Dragon  300.0   52.00    65.0   38.00         5.0     False\n"
          ],
          "name": "stdout"
        }
      ]
    },
    {
      "cell_type": "markdown",
      "metadata": {
        "id": "MRr9fdeTYXJJ"
      },
      "source": [
        "### Exercise\n",
        "Using mentioned methods to handling the 'missingvalue.csv'."
      ],
      "id": "MRr9fdeTYXJJ"
    },
    {
      "cell_type": "code",
      "metadata": {
        "colab": {
          "base_uri": "https://localhost:8080/"
        },
        "id": "p6d5evx1ZbwR",
        "outputId": "d357f065-13fc-4141-e569-afa40d6bf127"
      },
      "source": [
        "!curl -L https://gist.githubusercontent.com/hkbu-kennycheng/dc814ab9bbd32bc4c503398fcee90f5b/raw/32fea2af3f204f53c17f8254b7b6d68a24f023ce/missingvalue.csv > missingvalue.csv\n",
        "\n",
        "# write your code here"
      ],
      "id": "p6d5evx1ZbwR",
      "execution_count": null,
      "outputs": [
        {
          "output_type": "stream",
          "text": [
            "  % Total    % Received % Xferd  Average Speed   Time    Time     Time  Current\n",
            "                                 Dload  Upload   Total   Spent    Left  Speed\n",
            "\r  0     0    0     0    0     0      0      0 --:--:-- --:--:-- --:--:--     0\r100   295  100   295    0     0   6413      0 --:--:-- --:--:-- --:--:--  6413\n"
          ],
          "name": "stdout"
        }
      ]
    },
    {
      "cell_type": "markdown",
      "metadata": {
        "id": "bEO93mhUYXJJ"
      },
      "source": [
        "## 6.\tHierarchical indexing (Optional)\n",
        "we'll explore the direct creation of MultiIndex objects, considerations when indexing, slicing, and computing statistics across multiply indexed data, and useful routines for converting between simple and hierarchically indexed representations of your data.\n",
        "\n",
        "A Multiply Indexed Series\n",
        "Let's start by considering how we might represent two-dimensional data within a one-dimensional Series. For concreteness, we will consider a series of data where each point has a character and numerical key.\n",
        "\n",
        "### 6.1 The bad way\n",
        "Suppose you would like to track data about states from two different years. Using the Pandas tools we've already covered, you might be tempted to simply use Python tuples as keys:"
      ],
      "id": "bEO93mhUYXJJ"
    },
    {
      "cell_type": "code",
      "metadata": {
        "colab": {
          "base_uri": "https://localhost:8080/"
        },
        "id": "MJKuV0F8YXJJ",
        "outputId": "bd5bbd64-3a2f-44d7-e93c-a49218d9974e"
      },
      "source": [
        "index = [('California', 2000), ('California', 2010),\n",
        "         ('New York', 2000), ('New York', 2010),\n",
        "         ('Texas', 2000), ('Texas', 2010)]\n",
        "populations = [33871648, 37253956,\n",
        "               18976457, 19378102,\n",
        "               20851820, 25145561]\n",
        "pop = pd.Series(populations, index=index)\n",
        "pop"
      ],
      "id": "MJKuV0F8YXJJ",
      "execution_count": null,
      "outputs": [
        {
          "output_type": "execute_result",
          "data": {
            "text/plain": [
              "(California, 2000)    33871648\n",
              "(California, 2010)    37253956\n",
              "(New York, 2000)      18976457\n",
              "(New York, 2010)      19378102\n",
              "(Texas, 2000)         20851820\n",
              "(Texas, 2010)         25145561\n",
              "dtype: int64"
            ]
          },
          "metadata": {
            "tags": []
          },
          "execution_count": 241
        }
      ]
    },
    {
      "cell_type": "code",
      "metadata": {
        "colab": {
          "base_uri": "https://localhost:8080/"
        },
        "id": "bg17O4WkYXJK",
        "outputId": "227827e9-5734-43a1-a6a0-9ccf75125d72"
      },
      "source": [
        "#With this indexing scheme, you can straightforwardly index or slice the series based on this multiple index:\n",
        "pop[('California', 2010):('Texas', 2000)]"
      ],
      "id": "bg17O4WkYXJK",
      "execution_count": null,
      "outputs": [
        {
          "output_type": "execute_result",
          "data": {
            "text/plain": [
              "(California, 2010)    37253956\n",
              "(New York, 2000)      18976457\n",
              "(New York, 2010)      19378102\n",
              "(Texas, 2000)         20851820\n",
              "dtype: int64"
            ]
          },
          "metadata": {
            "tags": []
          },
          "execution_count": 242
        }
      ]
    },
    {
      "cell_type": "code",
      "metadata": {
        "colab": {
          "base_uri": "https://localhost:8080/"
        },
        "id": "J8kT4r4FYXJK",
        "outputId": "c5f1bd88-7747-4600-f019-dacbb90f8aa4"
      },
      "source": [
        "#But the convenience ends there. For example, if you need to select all values from 2010,  \n",
        "#you'll need to do some messy (and potentially slow)munging to make it happen:\n",
        "pop[[i for i in pop.index if i[1] == 2010]]"
      ],
      "id": "J8kT4r4FYXJK",
      "execution_count": null,
      "outputs": [
        {
          "output_type": "execute_result",
          "data": {
            "text/plain": [
              "(California, 2010)    37253956\n",
              "(New York, 2010)      19378102\n",
              "(Texas, 2010)         25145561\n",
              "dtype: int64"
            ]
          },
          "metadata": {
            "tags": []
          },
          "execution_count": 243
        }
      ]
    },
    {
      "cell_type": "markdown",
      "metadata": {
        "id": "TgwUXQnlYXJK"
      },
      "source": [
        "### 6.2 The Better Way: Pandas MultiIndex\n",
        "Fortunately, Pandas provides a better way. Our tuple-based indexing is essentially a rudimentary multi-index, and the Pandas MultiIndex type gives us the type of operations we wish to have. We can create a multi-index from the tuples as follows:"
      ],
      "id": "TgwUXQnlYXJK"
    },
    {
      "cell_type": "code",
      "metadata": {
        "colab": {
          "base_uri": "https://localhost:8080/"
        },
        "id": "v9KIzW3qYXJK",
        "outputId": "24815b3d-a752-4a5d-8f98-92c825be8a67"
      },
      "source": [
        "index = pd.MultiIndex.from_tuples(index)\n",
        "index"
      ],
      "id": "v9KIzW3qYXJK",
      "execution_count": null,
      "outputs": [
        {
          "output_type": "execute_result",
          "data": {
            "text/plain": [
              "MultiIndex([('California', 2000),\n",
              "            ('California', 2010),\n",
              "            (  'New York', 2000),\n",
              "            (  'New York', 2010),\n",
              "            (     'Texas', 2000),\n",
              "            (     'Texas', 2010)],\n",
              "           )"
            ]
          },
          "metadata": {
            "tags": []
          },
          "execution_count": 244
        }
      ]
    },
    {
      "cell_type": "markdown",
      "metadata": {
        "id": "vs0ZlfmyYXJK"
      },
      "source": [
        "Notice that the MultiIndex contains multiple levels of indexing–in this case, the state names and the years, as well as multiple labels for each data point which encode these levels.\n",
        "\n",
        "If we re-index our series with this MultiIndex, we see the hierarchical representation of the data:"
      ],
      "id": "vs0ZlfmyYXJK"
    },
    {
      "cell_type": "code",
      "metadata": {
        "colab": {
          "base_uri": "https://localhost:8080/"
        },
        "id": "pjGyT-fDYXJK",
        "outputId": "e46ecf74-893b-4d7e-c4db-46f22ac84226"
      },
      "source": [
        "pop = pop.reindex(index)\n",
        "pop"
      ],
      "id": "pjGyT-fDYXJK",
      "execution_count": null,
      "outputs": [
        {
          "output_type": "execute_result",
          "data": {
            "text/plain": [
              "California  2000    33871648\n",
              "            2010    37253956\n",
              "New York    2000    18976457\n",
              "            2010    19378102\n",
              "Texas       2000    20851820\n",
              "            2010    25145561\n",
              "dtype: int64"
            ]
          },
          "metadata": {
            "tags": []
          },
          "execution_count": 245
        }
      ]
    },
    {
      "cell_type": "markdown",
      "metadata": {
        "id": "056Tqi0iYXJK"
      },
      "source": [
        "Here the first two columns of the Series representation show the multiple index values, while the third column shows the data. Notice that some entries are missing in the first column: in this multi-index representation, any blank entry indicates the same value as the line above it.\n",
        "\n",
        "Now to access all data for which the second index is 2010, we can simply use the Pandas slicing notation:"
      ],
      "id": "056Tqi0iYXJK"
    },
    {
      "cell_type": "code",
      "metadata": {
        "colab": {
          "base_uri": "https://localhost:8080/"
        },
        "id": "HULzInB4YXJL",
        "outputId": "53df913f-80e3-4b0f-e38c-e7d634be5e24"
      },
      "source": [
        "pop[:, 2010]"
      ],
      "id": "HULzInB4YXJL",
      "execution_count": null,
      "outputs": [
        {
          "output_type": "execute_result",
          "data": {
            "text/plain": [
              "California    37253956\n",
              "New York      19378102\n",
              "Texas         25145561\n",
              "dtype: int64"
            ]
          },
          "metadata": {
            "tags": []
          },
          "execution_count": 246
        }
      ]
    },
    {
      "cell_type": "markdown",
      "metadata": {
        "id": "7lcrdu-FYXJL"
      },
      "source": [
        "The result is a singly indexed array with just the keys we're interested in. This syntax is much more convenient (and the operation is much more efficient!) than the home-spun tuple-based multi-indexing solution that we started with. We'll now further discuss this sort of indexing operation on hieararchically indexed data.\n",
        "\n",
        "### 6.3MultiIndex as extra dimension\n",
        "You might notice something else here: we could easily have stored the same data using a simple DataFrame with index and column labels. In fact, Pandas is built with this equivalence in mind. The unstack() method will quickly convert a multiply indexed Series into a conventionally indexed DataFrame:"
      ],
      "id": "7lcrdu-FYXJL"
    },
    {
      "cell_type": "code",
      "metadata": {
        "colab": {
          "base_uri": "https://localhost:8080/",
          "height": 143
        },
        "id": "faM30vdjYXJL",
        "outputId": "af460da4-960f-4b75-82a1-2157c05c102b"
      },
      "source": [
        "pop_df = pop.unstack()\n",
        "pop_df"
      ],
      "id": "faM30vdjYXJL",
      "execution_count": null,
      "outputs": [
        {
          "output_type": "execute_result",
          "data": {
            "text/html": [
              "<div>\n",
              "<style scoped>\n",
              "    .dataframe tbody tr th:only-of-type {\n",
              "        vertical-align: middle;\n",
              "    }\n",
              "\n",
              "    .dataframe tbody tr th {\n",
              "        vertical-align: top;\n",
              "    }\n",
              "\n",
              "    .dataframe thead th {\n",
              "        text-align: right;\n",
              "    }\n",
              "</style>\n",
              "<table border=\"1\" class=\"dataframe\">\n",
              "  <thead>\n",
              "    <tr style=\"text-align: right;\">\n",
              "      <th></th>\n",
              "      <th>2000</th>\n",
              "      <th>2010</th>\n",
              "    </tr>\n",
              "  </thead>\n",
              "  <tbody>\n",
              "    <tr>\n",
              "      <th>California</th>\n",
              "      <td>33871648</td>\n",
              "      <td>37253956</td>\n",
              "    </tr>\n",
              "    <tr>\n",
              "      <th>New York</th>\n",
              "      <td>18976457</td>\n",
              "      <td>19378102</td>\n",
              "    </tr>\n",
              "    <tr>\n",
              "      <th>Texas</th>\n",
              "      <td>20851820</td>\n",
              "      <td>25145561</td>\n",
              "    </tr>\n",
              "  </tbody>\n",
              "</table>\n",
              "</div>"
            ],
            "text/plain": [
              "                2000      2010\n",
              "California  33871648  37253956\n",
              "New York    18976457  19378102\n",
              "Texas       20851820  25145561"
            ]
          },
          "metadata": {
            "tags": []
          },
          "execution_count": 247
        }
      ]
    },
    {
      "cell_type": "code",
      "metadata": {
        "colab": {
          "base_uri": "https://localhost:8080/"
        },
        "id": "p1Xp2jbxYXJL",
        "outputId": "af23b232-027b-4d37-ced1-008e91d84bd5"
      },
      "source": [
        "#Naturally, the stack() method provides the opposite operation:\n",
        "pop_df.stack()"
      ],
      "id": "p1Xp2jbxYXJL",
      "execution_count": null,
      "outputs": [
        {
          "output_type": "execute_result",
          "data": {
            "text/plain": [
              "California  2000    33871648\n",
              "            2010    37253956\n",
              "New York    2000    18976457\n",
              "            2010    19378102\n",
              "Texas       2000    20851820\n",
              "            2010    25145561\n",
              "dtype: int64"
            ]
          },
          "metadata": {
            "tags": []
          },
          "execution_count": 248
        }
      ]
    },
    {
      "cell_type": "markdown",
      "metadata": {
        "id": "Ot5I878YYXJL"
      },
      "source": [
        "Seeing this, you might wonder why would we would bother with hierarchical indexing at all. The reason is simple: just as we were able to use multi-indexing to represent two-dimensional data within a one-dimensional Series, we can also use it to represent data of three or more dimensions in a Series or DataFrame. Each extra level in a multi-index represents an extra dimension of data; taking advantage of this property gives us much more flexibility in the types of data we can represent. Concretely, we might want to add another column of demographic data for each state at each year (say, population under 18) ; with a MultiIndex this is as easy as adding another column to the DataFrame:"
      ],
      "id": "Ot5I878YYXJL"
    },
    {
      "cell_type": "code",
      "metadata": {
        "colab": {
          "base_uri": "https://localhost:8080/",
          "height": 238
        },
        "id": "ls9Uc91CYXJM",
        "outputId": "f29e4b70-88f9-4a6b-d840-1e9fe4efd8b3"
      },
      "source": [
        "pop_df = pd.DataFrame({'total': pop,\n",
        "                       'under18': [9267089, 9284094,\n",
        "                                   4687374, 4318033,\n",
        "                                   5906301, 6879014]})\n",
        "pop_df"
      ],
      "id": "ls9Uc91CYXJM",
      "execution_count": null,
      "outputs": [
        {
          "output_type": "execute_result",
          "data": {
            "text/html": [
              "<div>\n",
              "<style scoped>\n",
              "    .dataframe tbody tr th:only-of-type {\n",
              "        vertical-align: middle;\n",
              "    }\n",
              "\n",
              "    .dataframe tbody tr th {\n",
              "        vertical-align: top;\n",
              "    }\n",
              "\n",
              "    .dataframe thead th {\n",
              "        text-align: right;\n",
              "    }\n",
              "</style>\n",
              "<table border=\"1\" class=\"dataframe\">\n",
              "  <thead>\n",
              "    <tr style=\"text-align: right;\">\n",
              "      <th></th>\n",
              "      <th></th>\n",
              "      <th>total</th>\n",
              "      <th>under18</th>\n",
              "    </tr>\n",
              "  </thead>\n",
              "  <tbody>\n",
              "    <tr>\n",
              "      <th rowspan=\"2\" valign=\"top\">California</th>\n",
              "      <th>2000</th>\n",
              "      <td>33871648</td>\n",
              "      <td>9267089</td>\n",
              "    </tr>\n",
              "    <tr>\n",
              "      <th>2010</th>\n",
              "      <td>37253956</td>\n",
              "      <td>9284094</td>\n",
              "    </tr>\n",
              "    <tr>\n",
              "      <th rowspan=\"2\" valign=\"top\">New York</th>\n",
              "      <th>2000</th>\n",
              "      <td>18976457</td>\n",
              "      <td>4687374</td>\n",
              "    </tr>\n",
              "    <tr>\n",
              "      <th>2010</th>\n",
              "      <td>19378102</td>\n",
              "      <td>4318033</td>\n",
              "    </tr>\n",
              "    <tr>\n",
              "      <th rowspan=\"2\" valign=\"top\">Texas</th>\n",
              "      <th>2000</th>\n",
              "      <td>20851820</td>\n",
              "      <td>5906301</td>\n",
              "    </tr>\n",
              "    <tr>\n",
              "      <th>2010</th>\n",
              "      <td>25145561</td>\n",
              "      <td>6879014</td>\n",
              "    </tr>\n",
              "  </tbody>\n",
              "</table>\n",
              "</div>"
            ],
            "text/plain": [
              "                    total  under18\n",
              "California 2000  33871648  9267089\n",
              "           2010  37253956  9284094\n",
              "New York   2000  18976457  4687374\n",
              "           2010  19378102  4318033\n",
              "Texas      2000  20851820  5906301\n",
              "           2010  25145561  6879014"
            ]
          },
          "metadata": {
            "tags": []
          },
          "execution_count": 249
        }
      ]
    },
    {
      "cell_type": "markdown",
      "metadata": {
        "id": "sux70IIyYXJM"
      },
      "source": [
        "In addition, all the ufuncs and other functionality discussed in Operating on Data in Pandas work with hierarchical indices as well. Here we compute the fraction of people under 18 by year, given the above data:"
      ],
      "id": "sux70IIyYXJM"
    },
    {
      "cell_type": "code",
      "metadata": {
        "colab": {
          "base_uri": "https://localhost:8080/",
          "height": 143
        },
        "id": "YsbY1byZYXJM",
        "outputId": "6948c5c0-2b45-4b77-d8af-7e060320842d"
      },
      "source": [
        "f_u18 = pop_df['under18'] / pop_df['total']\n",
        "f_u18.unstack()"
      ],
      "id": "YsbY1byZYXJM",
      "execution_count": null,
      "outputs": [
        {
          "output_type": "execute_result",
          "data": {
            "text/html": [
              "<div>\n",
              "<style scoped>\n",
              "    .dataframe tbody tr th:only-of-type {\n",
              "        vertical-align: middle;\n",
              "    }\n",
              "\n",
              "    .dataframe tbody tr th {\n",
              "        vertical-align: top;\n",
              "    }\n",
              "\n",
              "    .dataframe thead th {\n",
              "        text-align: right;\n",
              "    }\n",
              "</style>\n",
              "<table border=\"1\" class=\"dataframe\">\n",
              "  <thead>\n",
              "    <tr style=\"text-align: right;\">\n",
              "      <th></th>\n",
              "      <th>2000</th>\n",
              "      <th>2010</th>\n",
              "    </tr>\n",
              "  </thead>\n",
              "  <tbody>\n",
              "    <tr>\n",
              "      <th>California</th>\n",
              "      <td>0.273594</td>\n",
              "      <td>0.249211</td>\n",
              "    </tr>\n",
              "    <tr>\n",
              "      <th>New York</th>\n",
              "      <td>0.247010</td>\n",
              "      <td>0.222831</td>\n",
              "    </tr>\n",
              "    <tr>\n",
              "      <th>Texas</th>\n",
              "      <td>0.283251</td>\n",
              "      <td>0.273568</td>\n",
              "    </tr>\n",
              "  </tbody>\n",
              "</table>\n",
              "</div>"
            ],
            "text/plain": [
              "                2000      2010\n",
              "California  0.273594  0.249211\n",
              "New York    0.247010  0.222831\n",
              "Texas       0.283251  0.273568"
            ]
          },
          "metadata": {
            "tags": []
          },
          "execution_count": 250
        }
      ]
    },
    {
      "cell_type": "markdown",
      "metadata": {
        "id": "7p3jgOm5YXJM"
      },
      "source": [
        "### 6.4 Methods of MultiIndex Creation\n",
        "The most straightforward way to construct a multiply indexed Series or DataFrame is to simply pass a list of two or more index arrays to the constructor."
      ],
      "id": "7p3jgOm5YXJM"
    },
    {
      "cell_type": "code",
      "metadata": {
        "colab": {
          "base_uri": "https://localhost:8080/",
          "height": 175
        },
        "id": "VuI5UqUEYXJM",
        "outputId": "2b0d7fa6-370c-4970-f7cd-435fa741d450"
      },
      "source": [
        "df = pd.DataFrame(np.random.rand(4, 2),\n",
        "                  index=[['a', 'a', 'b', 'b'], [1, 2, 1, 2]],\n",
        "                  columns=['data1', 'data2'])\n",
        "df"
      ],
      "id": "VuI5UqUEYXJM",
      "execution_count": null,
      "outputs": [
        {
          "output_type": "execute_result",
          "data": {
            "text/html": [
              "<div>\n",
              "<style scoped>\n",
              "    .dataframe tbody tr th:only-of-type {\n",
              "        vertical-align: middle;\n",
              "    }\n",
              "\n",
              "    .dataframe tbody tr th {\n",
              "        vertical-align: top;\n",
              "    }\n",
              "\n",
              "    .dataframe thead th {\n",
              "        text-align: right;\n",
              "    }\n",
              "</style>\n",
              "<table border=\"1\" class=\"dataframe\">\n",
              "  <thead>\n",
              "    <tr style=\"text-align: right;\">\n",
              "      <th></th>\n",
              "      <th></th>\n",
              "      <th>data1</th>\n",
              "      <th>data2</th>\n",
              "    </tr>\n",
              "  </thead>\n",
              "  <tbody>\n",
              "    <tr>\n",
              "      <th rowspan=\"2\" valign=\"top\">a</th>\n",
              "      <th>1</th>\n",
              "      <td>0.522570</td>\n",
              "      <td>0.144399</td>\n",
              "    </tr>\n",
              "    <tr>\n",
              "      <th>2</th>\n",
              "      <td>0.641879</td>\n",
              "      <td>0.180418</td>\n",
              "    </tr>\n",
              "    <tr>\n",
              "      <th rowspan=\"2\" valign=\"top\">b</th>\n",
              "      <th>1</th>\n",
              "      <td>0.846669</td>\n",
              "      <td>0.749550</td>\n",
              "    </tr>\n",
              "    <tr>\n",
              "      <th>2</th>\n",
              "      <td>0.632852</td>\n",
              "      <td>0.242932</td>\n",
              "    </tr>\n",
              "  </tbody>\n",
              "</table>\n",
              "</div>"
            ],
            "text/plain": [
              "        data1     data2\n",
              "a 1  0.522570  0.144399\n",
              "  2  0.641879  0.180418\n",
              "b 1  0.846669  0.749550\n",
              "  2  0.632852  0.242932"
            ]
          },
          "metadata": {
            "tags": []
          },
          "execution_count": 251
        }
      ]
    },
    {
      "cell_type": "markdown",
      "metadata": {
        "id": "u9H1Yu3qYXJM"
      },
      "source": [
        "The work of creating the MultiIndex is done in the background.\n",
        "\n",
        "Similarly, if you pass a dictionary with appropriate tuples as keys, Pandas will automatically recognize this and use a MultiIndex by default:"
      ],
      "id": "u9H1Yu3qYXJM"
    },
    {
      "cell_type": "code",
      "metadata": {
        "colab": {
          "base_uri": "https://localhost:8080/"
        },
        "id": "LG00ob2PYXJN",
        "outputId": "71b877f9-ee68-41cb-8aab-e62904876162"
      },
      "source": [
        "data = {('California', 2000): 33871648,\n",
        "        ('California', 2010): 37253956,\n",
        "        ('Texas', 2000): 20851820,\n",
        "        ('Texas', 2010): 25145561,\n",
        "        ('New York', 2000): 18976457,\n",
        "        ('New York', 2010): 19378102}\n",
        "pd.Series(data)"
      ],
      "id": "LG00ob2PYXJN",
      "execution_count": null,
      "outputs": [
        {
          "output_type": "execute_result",
          "data": {
            "text/plain": [
              "California  2000    33871648\n",
              "            2010    37253956\n",
              "Texas       2000    20851820\n",
              "            2010    25145561\n",
              "New York    2000    18976457\n",
              "            2010    19378102\n",
              "dtype: int64"
            ]
          },
          "metadata": {
            "tags": []
          },
          "execution_count": 252
        }
      ]
    },
    {
      "cell_type": "markdown",
      "metadata": {
        "id": "Mk7nNwePYXJN"
      },
      "source": [
        "### 6.5 Explicit MultiIndex constructors\n",
        "For more flexibility in how the index is constructed, you can instead use the class method constructors available in the pd.MultiIndex. For example, as we did before, you can construct the MultiIndex from a simple list of arrays giving the index values within each level:"
      ],
      "id": "Mk7nNwePYXJN"
    },
    {
      "cell_type": "code",
      "metadata": {
        "colab": {
          "base_uri": "https://localhost:8080/"
        },
        "id": "sumkdM4kYXJN",
        "outputId": "ce420113-da1f-4ab1-9c1a-d40e0ef3424d"
      },
      "source": [
        "pd.MultiIndex.from_arrays([['a', 'a', 'b', 'b'], [1, 2, 1, 2]])"
      ],
      "id": "sumkdM4kYXJN",
      "execution_count": null,
      "outputs": [
        {
          "output_type": "execute_result",
          "data": {
            "text/plain": [
              "MultiIndex([('a', 1),\n",
              "            ('a', 2),\n",
              "            ('b', 1),\n",
              "            ('b', 2)],\n",
              "           )"
            ]
          },
          "metadata": {
            "tags": []
          },
          "execution_count": 253
        }
      ]
    },
    {
      "cell_type": "code",
      "metadata": {
        "colab": {
          "base_uri": "https://localhost:8080/"
        },
        "id": "mkUX1nyJYXJN",
        "outputId": "b6154189-3286-43ff-dc7b-36365e50413d"
      },
      "source": [
        "# construct it from a list of tuples giving the multiple index values of each point:\n",
        "pd.MultiIndex.from_tuples([('a', 1), ('a', 2), ('b', 1), ('b', 2)])"
      ],
      "id": "mkUX1nyJYXJN",
      "execution_count": null,
      "outputs": [
        {
          "output_type": "execute_result",
          "data": {
            "text/plain": [
              "MultiIndex([('a', 1),\n",
              "            ('a', 2),\n",
              "            ('b', 1),\n",
              "            ('b', 2)],\n",
              "           )"
            ]
          },
          "metadata": {
            "tags": []
          },
          "execution_count": 254
        }
      ]
    },
    {
      "cell_type": "code",
      "metadata": {
        "colab": {
          "base_uri": "https://localhost:8080/"
        },
        "id": "d7lzZ7ciYXJN",
        "outputId": "b9121e97-a326-4efa-89ea-a4373f915824"
      },
      "source": [
        "# construct it from a Cartesian product of single indices:\n",
        "pd.MultiIndex.from_product([['a', 'b'], [1, 2]])"
      ],
      "id": "d7lzZ7ciYXJN",
      "execution_count": null,
      "outputs": [
        {
          "output_type": "execute_result",
          "data": {
            "text/plain": [
              "MultiIndex([('a', 1),\n",
              "            ('a', 2),\n",
              "            ('b', 1),\n",
              "            ('b', 2)],\n",
              "           )"
            ]
          },
          "metadata": {
            "tags": []
          },
          "execution_count": 255
        }
      ]
    },
    {
      "cell_type": "code",
      "metadata": {
        "colab": {
          "base_uri": "https://localhost:8080/"
        },
        "id": "Fy78hqsrYXJO",
        "outputId": "e55d8912-ca2a-4706-97af-fd6796ce9455"
      },
      "source": [
        "#construct the MultiIndex directly using its internal encoding by passing levels (a list of lists containing available \n",
        "#index values for each level) and labels (a list of lists that reference these labels):\n",
        "pd.MultiIndex(levels=[['a', 'b'], [1, 2]],\n",
        "              codes=[[0, 0, 1, 1], [0, 1, 0, 1]])"
      ],
      "id": "Fy78hqsrYXJO",
      "execution_count": null,
      "outputs": [
        {
          "output_type": "execute_result",
          "data": {
            "text/plain": [
              "MultiIndex([('a', 1),\n",
              "            ('a', 2),\n",
              "            ('b', 1),\n",
              "            ('b', 2)],\n",
              "           )"
            ]
          },
          "metadata": {
            "tags": []
          },
          "execution_count": 256
        }
      ]
    },
    {
      "cell_type": "markdown",
      "metadata": {
        "id": "rYcvX8BVYXJP"
      },
      "source": [
        "Any of these objects can be passed as the index argument when creating a Series or Dataframe, or be passed to the reindex method of an existing Series or DataFrame.\n",
        "\n",
        "### 6.6 MultiIndex level names\n",
        "Sometimes it is convenient to name the levels of the MultiIndex. This can be accomplished by passing the names argument to any of the above MultiIndex constructors, or by setting the names attribute of the index after the fact:"
      ],
      "id": "rYcvX8BVYXJP"
    },
    {
      "cell_type": "code",
      "metadata": {
        "colab": {
          "base_uri": "https://localhost:8080/"
        },
        "id": "jjYL7Sr7YXJP",
        "outputId": "fcd31761-9662-4fb5-d4b1-3dd709d7bc02"
      },
      "source": [
        "pop.index.names = ['state', 'year']\n",
        "pop"
      ],
      "id": "jjYL7Sr7YXJP",
      "execution_count": null,
      "outputs": [
        {
          "output_type": "execute_result",
          "data": {
            "text/plain": [
              "state       year\n",
              "California  2000    33871648\n",
              "            2010    37253956\n",
              "New York    2000    18976457\n",
              "            2010    19378102\n",
              "Texas       2000    20851820\n",
              "            2010    25145561\n",
              "dtype: int64"
            ]
          },
          "metadata": {
            "tags": []
          },
          "execution_count": 257
        }
      ]
    },
    {
      "cell_type": "markdown",
      "metadata": {
        "id": "n9_XGN7PYXJP"
      },
      "source": [
        "### 6.7 MultiIndex for columns\n",
        "In a DataFrame, the rows and columns are completely symmetric, and just as the rows can have multiple levels of indices, the columns can have multiple levels as well. Consider the following, which is a mock-up of some (somewhat realistic) medical data:"
      ],
      "id": "n9_XGN7PYXJP"
    },
    {
      "cell_type": "code",
      "metadata": {
        "colab": {
          "base_uri": "https://localhost:8080/",
          "height": 238
        },
        "id": "xsqC_antYXJP",
        "outputId": "fdf9fe17-2707-470d-8406-1a8785e1ffa8"
      },
      "source": [
        "# hierarchical indices and columns\n",
        "index = pd.MultiIndex.from_product([[2013, 2014], [1, 2]],\n",
        "                                   names=['year', 'visit'])\n",
        "columns = pd.MultiIndex.from_product([['Bob', 'Guido', 'Sue'], ['HR', 'Temp']],\n",
        "                                     names=['subject', 'type'])\n",
        "\n",
        "# mock some data\n",
        "data = np.round(np.random.randn(4, 6), 1)\n",
        "data[:, ::2] *= 10\n",
        "data += 37\n",
        "\n",
        "# create the DataFrame\n",
        "health_data = pd.DataFrame(data, index=index, columns=columns)\n",
        "health_data"
      ],
      "id": "xsqC_antYXJP",
      "execution_count": null,
      "outputs": [
        {
          "output_type": "execute_result",
          "data": {
            "text/html": [
              "<div>\n",
              "<style scoped>\n",
              "    .dataframe tbody tr th:only-of-type {\n",
              "        vertical-align: middle;\n",
              "    }\n",
              "\n",
              "    .dataframe tbody tr th {\n",
              "        vertical-align: top;\n",
              "    }\n",
              "\n",
              "    .dataframe thead tr th {\n",
              "        text-align: left;\n",
              "    }\n",
              "\n",
              "    .dataframe thead tr:last-of-type th {\n",
              "        text-align: right;\n",
              "    }\n",
              "</style>\n",
              "<table border=\"1\" class=\"dataframe\">\n",
              "  <thead>\n",
              "    <tr>\n",
              "      <th></th>\n",
              "      <th>subject</th>\n",
              "      <th colspan=\"2\" halign=\"left\">Bob</th>\n",
              "      <th colspan=\"2\" halign=\"left\">Guido</th>\n",
              "      <th colspan=\"2\" halign=\"left\">Sue</th>\n",
              "    </tr>\n",
              "    <tr>\n",
              "      <th></th>\n",
              "      <th>type</th>\n",
              "      <th>HR</th>\n",
              "      <th>Temp</th>\n",
              "      <th>HR</th>\n",
              "      <th>Temp</th>\n",
              "      <th>HR</th>\n",
              "      <th>Temp</th>\n",
              "    </tr>\n",
              "    <tr>\n",
              "      <th>year</th>\n",
              "      <th>visit</th>\n",
              "      <th></th>\n",
              "      <th></th>\n",
              "      <th></th>\n",
              "      <th></th>\n",
              "      <th></th>\n",
              "      <th></th>\n",
              "    </tr>\n",
              "  </thead>\n",
              "  <tbody>\n",
              "    <tr>\n",
              "      <th rowspan=\"2\" valign=\"top\">2013</th>\n",
              "      <th>1</th>\n",
              "      <td>43.0</td>\n",
              "      <td>38.1</td>\n",
              "      <td>24.0</td>\n",
              "      <td>35.6</td>\n",
              "      <td>51.0</td>\n",
              "      <td>36.4</td>\n",
              "    </tr>\n",
              "    <tr>\n",
              "      <th>2</th>\n",
              "      <td>26.0</td>\n",
              "      <td>36.1</td>\n",
              "      <td>24.0</td>\n",
              "      <td>37.4</td>\n",
              "      <td>21.0</td>\n",
              "      <td>37.2</td>\n",
              "    </tr>\n",
              "    <tr>\n",
              "      <th rowspan=\"2\" valign=\"top\">2014</th>\n",
              "      <th>1</th>\n",
              "      <td>41.0</td>\n",
              "      <td>36.8</td>\n",
              "      <td>42.0</td>\n",
              "      <td>38.3</td>\n",
              "      <td>29.0</td>\n",
              "      <td>37.0</td>\n",
              "    </tr>\n",
              "    <tr>\n",
              "      <th>2</th>\n",
              "      <td>28.0</td>\n",
              "      <td>35.8</td>\n",
              "      <td>37.0</td>\n",
              "      <td>37.6</td>\n",
              "      <td>11.0</td>\n",
              "      <td>37.4</td>\n",
              "    </tr>\n",
              "  </tbody>\n",
              "</table>\n",
              "</div>"
            ],
            "text/plain": [
              "subject      Bob       Guido         Sue      \n",
              "type          HR  Temp    HR  Temp    HR  Temp\n",
              "year visit                                    \n",
              "2013 1      43.0  38.1  24.0  35.6  51.0  36.4\n",
              "     2      26.0  36.1  24.0  37.4  21.0  37.2\n",
              "2014 1      41.0  36.8  42.0  38.3  29.0  37.0\n",
              "     2      28.0  35.8  37.0  37.6  11.0  37.4"
            ]
          },
          "metadata": {
            "tags": []
          },
          "execution_count": 258
        }
      ]
    },
    {
      "cell_type": "code",
      "metadata": {
        "colab": {
          "base_uri": "https://localhost:8080/",
          "height": 206
        },
        "id": "Tdmo1RdVYXJP",
        "outputId": "43c4e9a6-e8ae-436a-af39-9e2ff65981de"
      },
      "source": [
        "#index the top-level column by the person's name and get a full DataFrame containing just that person's information:\n",
        "health_data['Guido']"
      ],
      "id": "Tdmo1RdVYXJP",
      "execution_count": null,
      "outputs": [
        {
          "output_type": "execute_result",
          "data": {
            "text/html": [
              "<div>\n",
              "<style scoped>\n",
              "    .dataframe tbody tr th:only-of-type {\n",
              "        vertical-align: middle;\n",
              "    }\n",
              "\n",
              "    .dataframe tbody tr th {\n",
              "        vertical-align: top;\n",
              "    }\n",
              "\n",
              "    .dataframe thead th {\n",
              "        text-align: right;\n",
              "    }\n",
              "</style>\n",
              "<table border=\"1\" class=\"dataframe\">\n",
              "  <thead>\n",
              "    <tr style=\"text-align: right;\">\n",
              "      <th></th>\n",
              "      <th>type</th>\n",
              "      <th>HR</th>\n",
              "      <th>Temp</th>\n",
              "    </tr>\n",
              "    <tr>\n",
              "      <th>year</th>\n",
              "      <th>visit</th>\n",
              "      <th></th>\n",
              "      <th></th>\n",
              "    </tr>\n",
              "  </thead>\n",
              "  <tbody>\n",
              "    <tr>\n",
              "      <th rowspan=\"2\" valign=\"top\">2013</th>\n",
              "      <th>1</th>\n",
              "      <td>24.0</td>\n",
              "      <td>35.6</td>\n",
              "    </tr>\n",
              "    <tr>\n",
              "      <th>2</th>\n",
              "      <td>24.0</td>\n",
              "      <td>37.4</td>\n",
              "    </tr>\n",
              "    <tr>\n",
              "      <th rowspan=\"2\" valign=\"top\">2014</th>\n",
              "      <th>1</th>\n",
              "      <td>42.0</td>\n",
              "      <td>38.3</td>\n",
              "    </tr>\n",
              "    <tr>\n",
              "      <th>2</th>\n",
              "      <td>37.0</td>\n",
              "      <td>37.6</td>\n",
              "    </tr>\n",
              "  </tbody>\n",
              "</table>\n",
              "</div>"
            ],
            "text/plain": [
              "type          HR  Temp\n",
              "year visit            \n",
              "2013 1      24.0  35.6\n",
              "     2      24.0  37.4\n",
              "2014 1      42.0  38.3\n",
              "     2      37.0  37.6"
            ]
          },
          "metadata": {
            "tags": []
          },
          "execution_count": 259
        }
      ]
    },
    {
      "cell_type": "markdown",
      "metadata": {
        "id": "5ruMzTqTYXJP"
      },
      "source": [
        "Indexing and slicing on a MultiIndex is designed to be intuitive, and it helps if you think about the indices as added dimensions. We'll first look at indexing multiply indexed Series, and then multiply-indexed DataFrames.\n",
        "\n",
        "### 6.8 Multiply indexed Series\n",
        "Consider the multiply indexed Series of state populations we saw earlier:"
      ],
      "id": "5ruMzTqTYXJP"
    },
    {
      "cell_type": "code",
      "metadata": {
        "colab": {
          "base_uri": "https://localhost:8080/"
        },
        "id": "qUO79n5jYXJQ",
        "outputId": "9e430471-bbad-4ba4-824f-f8fe7dee67cc"
      },
      "source": [
        "pop"
      ],
      "id": "qUO79n5jYXJQ",
      "execution_count": null,
      "outputs": [
        {
          "output_type": "execute_result",
          "data": {
            "text/plain": [
              "state       year\n",
              "California  2000    33871648\n",
              "            2010    37253956\n",
              "New York    2000    18976457\n",
              "            2010    19378102\n",
              "Texas       2000    20851820\n",
              "            2010    25145561\n",
              "dtype: int64"
            ]
          },
          "metadata": {
            "tags": []
          },
          "execution_count": 260
        }
      ]
    },
    {
      "cell_type": "code",
      "metadata": {
        "colab": {
          "base_uri": "https://localhost:8080/"
        },
        "id": "IyGzIq8rYXJQ",
        "outputId": "3ba0134f-309f-4c95-e326-1d8166c94b29"
      },
      "source": [
        "pop['California', 2000]"
      ],
      "id": "IyGzIq8rYXJQ",
      "execution_count": null,
      "outputs": [
        {
          "output_type": "execute_result",
          "data": {
            "text/plain": [
              "33871648"
            ]
          },
          "metadata": {
            "tags": []
          },
          "execution_count": 261
        }
      ]
    },
    {
      "cell_type": "code",
      "metadata": {
        "colab": {
          "base_uri": "https://localhost:8080/"
        },
        "id": "QZAWzPW9YXJQ",
        "outputId": "7d401813-f5c5-4053-f775-75f70024cc75"
      },
      "source": [
        "#The MultiIndex also supports partial indexing, or indexing just one of the levels in the index. \n",
        "#The result is another Series, with the lower-level indices maintained:\n",
        "pop['California']"
      ],
      "id": "QZAWzPW9YXJQ",
      "execution_count": null,
      "outputs": [
        {
          "output_type": "execute_result",
          "data": {
            "text/plain": [
              "year\n",
              "2000    33871648\n",
              "2010    37253956\n",
              "dtype: int64"
            ]
          },
          "metadata": {
            "tags": []
          },
          "execution_count": 262
        }
      ]
    },
    {
      "cell_type": "code",
      "metadata": {
        "colab": {
          "base_uri": "https://localhost:8080/"
        },
        "id": "djmdYeh_YXJQ",
        "outputId": "54cc594d-e174-4832-91a1-2dd564079bb5"
      },
      "source": [
        "#Partial slicing is available as well, as long as the MultiIndex is sorted\n",
        "pop.loc['California':'New York']"
      ],
      "id": "djmdYeh_YXJQ",
      "execution_count": null,
      "outputs": [
        {
          "output_type": "execute_result",
          "data": {
            "text/plain": [
              "state       year\n",
              "California  2000    33871648\n",
              "            2010    37253956\n",
              "New York    2000    18976457\n",
              "            2010    19378102\n",
              "dtype: int64"
            ]
          },
          "metadata": {
            "tags": []
          },
          "execution_count": 263
        }
      ]
    },
    {
      "cell_type": "code",
      "metadata": {
        "colab": {
          "base_uri": "https://localhost:8080/"
        },
        "id": "RYIf9vx3YXJQ",
        "outputId": "6169ec30-4eb6-4bc3-8d77-5a45457758af"
      },
      "source": [
        "#With sorted indices, partial indexing can be performed on lower levels by passing an empty slice in the first index:\n",
        "pop[:, 2000]"
      ],
      "id": "RYIf9vx3YXJQ",
      "execution_count": null,
      "outputs": [
        {
          "output_type": "execute_result",
          "data": {
            "text/plain": [
              "state\n",
              "California    33871648\n",
              "New York      18976457\n",
              "Texas         20851820\n",
              "dtype: int64"
            ]
          },
          "metadata": {
            "tags": []
          },
          "execution_count": 264
        }
      ]
    },
    {
      "cell_type": "code",
      "metadata": {
        "colab": {
          "base_uri": "https://localhost:8080/"
        },
        "id": "t0JzNyCjYXJQ",
        "outputId": "1dce5a53-ff91-4b3b-a239-e1c73fdb9d15"
      },
      "source": [
        "#Other types of indexing and selection \n",
        "pop[pop > 22000000]"
      ],
      "id": "t0JzNyCjYXJQ",
      "execution_count": null,
      "outputs": [
        {
          "output_type": "execute_result",
          "data": {
            "text/plain": [
              "state       year\n",
              "California  2000    33871648\n",
              "            2010    37253956\n",
              "Texas       2010    25145561\n",
              "dtype: int64"
            ]
          },
          "metadata": {
            "tags": []
          },
          "execution_count": 265
        }
      ]
    },
    {
      "cell_type": "code",
      "metadata": {
        "colab": {
          "base_uri": "https://localhost:8080/"
        },
        "id": "3-zmJFDjYXJR",
        "outputId": "36986b88-12e7-4137-9183-5450bd097e7a"
      },
      "source": [
        "pop[['California', 'Texas']]"
      ],
      "id": "3-zmJFDjYXJR",
      "execution_count": null,
      "outputs": [
        {
          "output_type": "execute_result",
          "data": {
            "text/plain": [
              "state       year\n",
              "California  2000    33871648\n",
              "            2010    37253956\n",
              "Texas       2000    20851820\n",
              "            2010    25145561\n",
              "dtype: int64"
            ]
          },
          "metadata": {
            "tags": []
          },
          "execution_count": 266
        }
      ]
    },
    {
      "cell_type": "markdown",
      "metadata": {
        "id": "lCfNIykOYXJR"
      },
      "source": [
        "### 6.9 Multiply indexed DataFrames\n",
        "A multiply indexed DataFrame behaves in a similar manner. Remember that columns are primary in a DataFrame, and the syntax used for multiply indexed Series applies to the columns. For example, we can recover Guido's heart rate data with a simple operation:"
      ],
      "id": "lCfNIykOYXJR"
    },
    {
      "cell_type": "code",
      "metadata": {
        "colab": {
          "base_uri": "https://localhost:8080/"
        },
        "id": "KvkcpNHKYXJR",
        "outputId": "fbc371b0-6d02-4059-fcd5-bb6a8a59c2a1"
      },
      "source": [
        "health_data['Guido', 'HR']"
      ],
      "id": "KvkcpNHKYXJR",
      "execution_count": null,
      "outputs": [
        {
          "output_type": "execute_result",
          "data": {
            "text/plain": [
              "year  visit\n",
              "2013  1        24.0\n",
              "      2        24.0\n",
              "2014  1        42.0\n",
              "      2        37.0\n",
              "Name: (Guido, HR), dtype: float64"
            ]
          },
          "metadata": {
            "tags": []
          },
          "execution_count": 267
        }
      ]
    },
    {
      "cell_type": "code",
      "metadata": {
        "colab": {
          "base_uri": "https://localhost:8080/",
          "height": 175
        },
        "id": "Fl16uTDAYXJR",
        "outputId": "5eaf9d9a-9617-48a8-faa2-0b9cfb25ec1a"
      },
      "source": [
        "#as with the single-index case, we can use the loc, iloc, and ix indexers\n",
        "health_data.iloc[:2, :2]"
      ],
      "id": "Fl16uTDAYXJR",
      "execution_count": null,
      "outputs": [
        {
          "output_type": "execute_result",
          "data": {
            "text/html": [
              "<div>\n",
              "<style scoped>\n",
              "    .dataframe tbody tr th:only-of-type {\n",
              "        vertical-align: middle;\n",
              "    }\n",
              "\n",
              "    .dataframe tbody tr th {\n",
              "        vertical-align: top;\n",
              "    }\n",
              "\n",
              "    .dataframe thead tr th {\n",
              "        text-align: left;\n",
              "    }\n",
              "\n",
              "    .dataframe thead tr:last-of-type th {\n",
              "        text-align: right;\n",
              "    }\n",
              "</style>\n",
              "<table border=\"1\" class=\"dataframe\">\n",
              "  <thead>\n",
              "    <tr>\n",
              "      <th></th>\n",
              "      <th>subject</th>\n",
              "      <th colspan=\"2\" halign=\"left\">Bob</th>\n",
              "    </tr>\n",
              "    <tr>\n",
              "      <th></th>\n",
              "      <th>type</th>\n",
              "      <th>HR</th>\n",
              "      <th>Temp</th>\n",
              "    </tr>\n",
              "    <tr>\n",
              "      <th>year</th>\n",
              "      <th>visit</th>\n",
              "      <th></th>\n",
              "      <th></th>\n",
              "    </tr>\n",
              "  </thead>\n",
              "  <tbody>\n",
              "    <tr>\n",
              "      <th rowspan=\"2\" valign=\"top\">2013</th>\n",
              "      <th>1</th>\n",
              "      <td>43.0</td>\n",
              "      <td>38.1</td>\n",
              "    </tr>\n",
              "    <tr>\n",
              "      <th>2</th>\n",
              "      <td>26.0</td>\n",
              "      <td>36.1</td>\n",
              "    </tr>\n",
              "  </tbody>\n",
              "</table>\n",
              "</div>"
            ],
            "text/plain": [
              "subject      Bob      \n",
              "type          HR  Temp\n",
              "year visit            \n",
              "2013 1      43.0  38.1\n",
              "     2      26.0  36.1"
            ]
          },
          "metadata": {
            "tags": []
          },
          "execution_count": 268
        }
      ]
    },
    {
      "cell_type": "code",
      "metadata": {
        "colab": {
          "base_uri": "https://localhost:8080/"
        },
        "id": "OMaYBsceYXJR",
        "outputId": "cb2c54d6-2fca-4b88-9576-52ee60a9ff01"
      },
      "source": [
        "health_data.loc[:, ('Bob', 'HR')]"
      ],
      "id": "OMaYBsceYXJR",
      "execution_count": null,
      "outputs": [
        {
          "output_type": "execute_result",
          "data": {
            "text/plain": [
              "year  visit\n",
              "2013  1        43.0\n",
              "      2        26.0\n",
              "2014  1        41.0\n",
              "      2        28.0\n",
              "Name: (Bob, HR), dtype: float64"
            ]
          },
          "metadata": {
            "tags": []
          },
          "execution_count": 269
        }
      ]
    },
    {
      "cell_type": "code",
      "metadata": {
        "colab": {
          "base_uri": "https://localhost:8080/",
          "height": 175
        },
        "id": "3B-4k4UxYXJR",
        "outputId": "6e429a89-e207-4a4c-9996-e8a1b7daa351"
      },
      "source": [
        "idx = pd.IndexSlice\n",
        "health_data.loc[idx[:, 1], idx[:, 'HR']]"
      ],
      "id": "3B-4k4UxYXJR",
      "execution_count": null,
      "outputs": [
        {
          "output_type": "execute_result",
          "data": {
            "text/html": [
              "<div>\n",
              "<style scoped>\n",
              "    .dataframe tbody tr th:only-of-type {\n",
              "        vertical-align: middle;\n",
              "    }\n",
              "\n",
              "    .dataframe tbody tr th {\n",
              "        vertical-align: top;\n",
              "    }\n",
              "\n",
              "    .dataframe thead tr th {\n",
              "        text-align: left;\n",
              "    }\n",
              "\n",
              "    .dataframe thead tr:last-of-type th {\n",
              "        text-align: right;\n",
              "    }\n",
              "</style>\n",
              "<table border=\"1\" class=\"dataframe\">\n",
              "  <thead>\n",
              "    <tr>\n",
              "      <th></th>\n",
              "      <th>subject</th>\n",
              "      <th>Bob</th>\n",
              "      <th>Guido</th>\n",
              "      <th>Sue</th>\n",
              "    </tr>\n",
              "    <tr>\n",
              "      <th></th>\n",
              "      <th>type</th>\n",
              "      <th>HR</th>\n",
              "      <th>HR</th>\n",
              "      <th>HR</th>\n",
              "    </tr>\n",
              "    <tr>\n",
              "      <th>year</th>\n",
              "      <th>visit</th>\n",
              "      <th></th>\n",
              "      <th></th>\n",
              "      <th></th>\n",
              "    </tr>\n",
              "  </thead>\n",
              "  <tbody>\n",
              "    <tr>\n",
              "      <th>2013</th>\n",
              "      <th>1</th>\n",
              "      <td>43.0</td>\n",
              "      <td>24.0</td>\n",
              "      <td>51.0</td>\n",
              "    </tr>\n",
              "    <tr>\n",
              "      <th>2014</th>\n",
              "      <th>1</th>\n",
              "      <td>41.0</td>\n",
              "      <td>42.0</td>\n",
              "      <td>29.0</td>\n",
              "    </tr>\n",
              "  </tbody>\n",
              "</table>\n",
              "</div>"
            ],
            "text/plain": [
              "subject      Bob Guido   Sue\n",
              "type          HR    HR    HR\n",
              "year visit                  \n",
              "2013 1      43.0  24.0  51.0\n",
              "2014 1      41.0  42.0  29.0"
            ]
          },
          "metadata": {
            "tags": []
          },
          "execution_count": 270
        }
      ]
    },
    {
      "cell_type": "markdown",
      "metadata": {
        "id": "NiO3ftXvYXJR"
      },
      "source": [
        "Rearranging Multi-Indices\n",
        "One of the keys to working with multiply indexed data is knowing how to effectively transform the data. There are a number of operations that will preserve all the information in the dataset, but rearrange it for the purposes of various computations. We saw a brief example of this in the stack() and unstack() methods, but there are many more ways to finely control the rearrangement of data between hierarchical indices and columns, and we'll explore them here.\n",
        "\n",
        "\n",
        "### 6.10 Sorted and unsorted indices\n",
        "Earlier, we briefly mentioned a caveat, but we should emphasize it more here. Many of the MultiIndex slicing operations will fail if the index is not sorted. Let's take a look at this here.\n",
        "\n",
        "We'll start by creating some simple multiply indexed data where the indices are not lexographically sorted:"
      ],
      "id": "NiO3ftXvYXJR"
    },
    {
      "cell_type": "code",
      "metadata": {
        "colab": {
          "base_uri": "https://localhost:8080/"
        },
        "id": "9F6oYG-kYXJR",
        "outputId": "550036ea-9e98-4512-a990-89c1370e39f1"
      },
      "source": [
        "index = pd.MultiIndex.from_product([['a', 'c', 'b'], [1, 2]])\n",
        "df = pd.Series(np.random.rand(6), index=index)\n",
        "df.index.names = ['char', 'int']\n",
        "df"
      ],
      "id": "9F6oYG-kYXJR",
      "execution_count": null,
      "outputs": [
        {
          "output_type": "execute_result",
          "data": {
            "text/plain": [
              "char  int\n",
              "a     1      0.886589\n",
              "      2      0.390454\n",
              "c     1      0.115094\n",
              "      2      0.295347\n",
              "b     1      0.658932\n",
              "      2      0.944404\n",
              "dtype: float64"
            ]
          },
          "metadata": {
            "tags": []
          },
          "execution_count": 271
        }
      ]
    },
    {
      "cell_type": "markdown",
      "metadata": {
        "id": "3ppxBy_eYXJR"
      },
      "source": [
        "Pandas provides a number of convenience routines to perform this type of sorting; examples are the sort_index() and sortlevel() methods of the DataFrame. We'll use the simplest, sort_index(), here:"
      ],
      "id": "3ppxBy_eYXJR"
    },
    {
      "cell_type": "code",
      "metadata": {
        "colab": {
          "base_uri": "https://localhost:8080/"
        },
        "id": "DTynCN5rYXJR",
        "outputId": "c1695183-94d4-450b-a754-45a9593d89dd"
      },
      "source": [
        "df = df.sort_index()\n",
        "df"
      ],
      "id": "DTynCN5rYXJR",
      "execution_count": null,
      "outputs": [
        {
          "output_type": "execute_result",
          "data": {
            "text/plain": [
              "char  int\n",
              "a     1      0.886589\n",
              "      2      0.390454\n",
              "b     1      0.658932\n",
              "      2      0.944404\n",
              "c     1      0.115094\n",
              "      2      0.295347\n",
              "dtype: float64"
            ]
          },
          "metadata": {
            "tags": []
          },
          "execution_count": 272
        }
      ]
    },
    {
      "cell_type": "code",
      "metadata": {
        "colab": {
          "base_uri": "https://localhost:8080/"
        },
        "id": "goxVEa2XYXJR",
        "outputId": "b834227a-77a8-41bc-e632-9d40e9fa7564"
      },
      "source": [
        "#With the index sorted in this way, partial slicing will work as expected:\n",
        "df['a':'b']"
      ],
      "id": "goxVEa2XYXJR",
      "execution_count": null,
      "outputs": [
        {
          "output_type": "execute_result",
          "data": {
            "text/plain": [
              "char  int\n",
              "a     1      0.886589\n",
              "      2      0.390454\n",
              "b     1      0.658932\n",
              "      2      0.944404\n",
              "dtype: float64"
            ]
          },
          "metadata": {
            "tags": []
          },
          "execution_count": 273
        }
      ]
    },
    {
      "cell_type": "markdown",
      "metadata": {
        "id": "coct3_CTYXJS"
      },
      "source": [
        "### 6.11 Stacking and unstacking indices\n",
        "As we saw briefly before, it is possible to convert a dataset from a stacked multi-index to a simple two-dimensional representation, optionally specifying the level to use:"
      ],
      "id": "coct3_CTYXJS"
    },
    {
      "cell_type": "code",
      "metadata": {
        "colab": {
          "base_uri": "https://localhost:8080/",
          "height": 143
        },
        "id": "zU4ciyd9YXJS",
        "outputId": "e4ca9753-bb82-4c58-839f-f4455b3efbed"
      },
      "source": [
        "pop.unstack(level=0)"
      ],
      "id": "zU4ciyd9YXJS",
      "execution_count": null,
      "outputs": [
        {
          "output_type": "execute_result",
          "data": {
            "text/html": [
              "<div>\n",
              "<style scoped>\n",
              "    .dataframe tbody tr th:only-of-type {\n",
              "        vertical-align: middle;\n",
              "    }\n",
              "\n",
              "    .dataframe tbody tr th {\n",
              "        vertical-align: top;\n",
              "    }\n",
              "\n",
              "    .dataframe thead th {\n",
              "        text-align: right;\n",
              "    }\n",
              "</style>\n",
              "<table border=\"1\" class=\"dataframe\">\n",
              "  <thead>\n",
              "    <tr style=\"text-align: right;\">\n",
              "      <th>state</th>\n",
              "      <th>California</th>\n",
              "      <th>New York</th>\n",
              "      <th>Texas</th>\n",
              "    </tr>\n",
              "    <tr>\n",
              "      <th>year</th>\n",
              "      <th></th>\n",
              "      <th></th>\n",
              "      <th></th>\n",
              "    </tr>\n",
              "  </thead>\n",
              "  <tbody>\n",
              "    <tr>\n",
              "      <th>2000</th>\n",
              "      <td>33871648</td>\n",
              "      <td>18976457</td>\n",
              "      <td>20851820</td>\n",
              "    </tr>\n",
              "    <tr>\n",
              "      <th>2010</th>\n",
              "      <td>37253956</td>\n",
              "      <td>19378102</td>\n",
              "      <td>25145561</td>\n",
              "    </tr>\n",
              "  </tbody>\n",
              "</table>\n",
              "</div>"
            ],
            "text/plain": [
              "state  California  New York     Texas\n",
              "year                                 \n",
              "2000     33871648  18976457  20851820\n",
              "2010     37253956  19378102  25145561"
            ]
          },
          "metadata": {
            "tags": []
          },
          "execution_count": 274
        }
      ]
    },
    {
      "cell_type": "code",
      "metadata": {
        "colab": {
          "base_uri": "https://localhost:8080/",
          "height": 175
        },
        "id": "cY59no2jYXJS",
        "outputId": "eb173a28-9067-4d38-9702-9746623aef9f"
      },
      "source": [
        "pop.unstack(level=1)"
      ],
      "id": "cY59no2jYXJS",
      "execution_count": null,
      "outputs": [
        {
          "output_type": "execute_result",
          "data": {
            "text/html": [
              "<div>\n",
              "<style scoped>\n",
              "    .dataframe tbody tr th:only-of-type {\n",
              "        vertical-align: middle;\n",
              "    }\n",
              "\n",
              "    .dataframe tbody tr th {\n",
              "        vertical-align: top;\n",
              "    }\n",
              "\n",
              "    .dataframe thead th {\n",
              "        text-align: right;\n",
              "    }\n",
              "</style>\n",
              "<table border=\"1\" class=\"dataframe\">\n",
              "  <thead>\n",
              "    <tr style=\"text-align: right;\">\n",
              "      <th>year</th>\n",
              "      <th>2000</th>\n",
              "      <th>2010</th>\n",
              "    </tr>\n",
              "    <tr>\n",
              "      <th>state</th>\n",
              "      <th></th>\n",
              "      <th></th>\n",
              "    </tr>\n",
              "  </thead>\n",
              "  <tbody>\n",
              "    <tr>\n",
              "      <th>California</th>\n",
              "      <td>33871648</td>\n",
              "      <td>37253956</td>\n",
              "    </tr>\n",
              "    <tr>\n",
              "      <th>New York</th>\n",
              "      <td>18976457</td>\n",
              "      <td>19378102</td>\n",
              "    </tr>\n",
              "    <tr>\n",
              "      <th>Texas</th>\n",
              "      <td>20851820</td>\n",
              "      <td>25145561</td>\n",
              "    </tr>\n",
              "  </tbody>\n",
              "</table>\n",
              "</div>"
            ],
            "text/plain": [
              "year            2000      2010\n",
              "state                         \n",
              "California  33871648  37253956\n",
              "New York    18976457  19378102\n",
              "Texas       20851820  25145561"
            ]
          },
          "metadata": {
            "tags": []
          },
          "execution_count": 275
        }
      ]
    },
    {
      "cell_type": "code",
      "metadata": {
        "colab": {
          "base_uri": "https://localhost:8080/"
        },
        "id": "SWpQdog3YXJS",
        "outputId": "2663606b-5486-43e5-b274-d3a7fa1549cb"
      },
      "source": [
        "#The opposite of unstack() is stack(), which here can be used to recover the original series:\n",
        "pop.unstack().stack()"
      ],
      "id": "SWpQdog3YXJS",
      "execution_count": null,
      "outputs": [
        {
          "output_type": "execute_result",
          "data": {
            "text/plain": [
              "state       year\n",
              "California  2000    33871648\n",
              "            2010    37253956\n",
              "New York    2000    18976457\n",
              "            2010    19378102\n",
              "Texas       2000    20851820\n",
              "            2010    25145561\n",
              "dtype: int64"
            ]
          },
          "metadata": {
            "tags": []
          },
          "execution_count": 276
        }
      ]
    },
    {
      "cell_type": "markdown",
      "metadata": {
        "id": "-BR7trmwYXJS"
      },
      "source": [
        "### 6.12 Index setting and resetting\n",
        "Another way to rearrange hierarchical data is to turn the index labels into columns; this can be accomplished with the reset_index method. Calling this on the population dictionary will result in a DataFrame with a state and year column holding the information that was formerly in the index. For clarity, we can optionally specify the name of the data for the column representation:"
      ],
      "id": "-BR7trmwYXJS"
    },
    {
      "cell_type": "code",
      "metadata": {
        "colab": {
          "base_uri": "https://localhost:8080/",
          "height": 238
        },
        "id": "YROeDnrrYXJS",
        "outputId": "0652dba9-0461-4030-83cd-6496a83a5ff6"
      },
      "source": [
        "pop_flat = pop.reset_index(name='population')\n",
        "pop_flat"
      ],
      "id": "YROeDnrrYXJS",
      "execution_count": null,
      "outputs": [
        {
          "output_type": "execute_result",
          "data": {
            "text/html": [
              "<div>\n",
              "<style scoped>\n",
              "    .dataframe tbody tr th:only-of-type {\n",
              "        vertical-align: middle;\n",
              "    }\n",
              "\n",
              "    .dataframe tbody tr th {\n",
              "        vertical-align: top;\n",
              "    }\n",
              "\n",
              "    .dataframe thead th {\n",
              "        text-align: right;\n",
              "    }\n",
              "</style>\n",
              "<table border=\"1\" class=\"dataframe\">\n",
              "  <thead>\n",
              "    <tr style=\"text-align: right;\">\n",
              "      <th></th>\n",
              "      <th>state</th>\n",
              "      <th>year</th>\n",
              "      <th>population</th>\n",
              "    </tr>\n",
              "  </thead>\n",
              "  <tbody>\n",
              "    <tr>\n",
              "      <th>0</th>\n",
              "      <td>California</td>\n",
              "      <td>2000</td>\n",
              "      <td>33871648</td>\n",
              "    </tr>\n",
              "    <tr>\n",
              "      <th>1</th>\n",
              "      <td>California</td>\n",
              "      <td>2010</td>\n",
              "      <td>37253956</td>\n",
              "    </tr>\n",
              "    <tr>\n",
              "      <th>2</th>\n",
              "      <td>New York</td>\n",
              "      <td>2000</td>\n",
              "      <td>18976457</td>\n",
              "    </tr>\n",
              "    <tr>\n",
              "      <th>3</th>\n",
              "      <td>New York</td>\n",
              "      <td>2010</td>\n",
              "      <td>19378102</td>\n",
              "    </tr>\n",
              "    <tr>\n",
              "      <th>4</th>\n",
              "      <td>Texas</td>\n",
              "      <td>2000</td>\n",
              "      <td>20851820</td>\n",
              "    </tr>\n",
              "    <tr>\n",
              "      <th>5</th>\n",
              "      <td>Texas</td>\n",
              "      <td>2010</td>\n",
              "      <td>25145561</td>\n",
              "    </tr>\n",
              "  </tbody>\n",
              "</table>\n",
              "</div>"
            ],
            "text/plain": [
              "        state  year  population\n",
              "0  California  2000    33871648\n",
              "1  California  2010    37253956\n",
              "2    New York  2000    18976457\n",
              "3    New York  2010    19378102\n",
              "4       Texas  2000    20851820\n",
              "5       Texas  2010    25145561"
            ]
          },
          "metadata": {
            "tags": []
          },
          "execution_count": 277
        }
      ]
    },
    {
      "cell_type": "markdown",
      "metadata": {
        "id": "4-sT9mRBYXJT"
      },
      "source": [
        "Often when working with data in the real world, the raw input data looks like this and it's useful to build a MultiIndex from the column values. This can be done with the set_index method of the DataFrame, which returns a multiply indexed DataFrame:"
      ],
      "id": "4-sT9mRBYXJT"
    },
    {
      "cell_type": "code",
      "metadata": {
        "colab": {
          "base_uri": "https://localhost:8080/",
          "height": 269
        },
        "id": "1rTu_7RyYXJT",
        "outputId": "d3476302-57d2-4691-91f2-5ebe795b69a0"
      },
      "source": [
        "pop_flat.set_index(['state', 'year'])"
      ],
      "id": "1rTu_7RyYXJT",
      "execution_count": null,
      "outputs": [
        {
          "output_type": "execute_result",
          "data": {
            "text/html": [
              "<div>\n",
              "<style scoped>\n",
              "    .dataframe tbody tr th:only-of-type {\n",
              "        vertical-align: middle;\n",
              "    }\n",
              "\n",
              "    .dataframe tbody tr th {\n",
              "        vertical-align: top;\n",
              "    }\n",
              "\n",
              "    .dataframe thead th {\n",
              "        text-align: right;\n",
              "    }\n",
              "</style>\n",
              "<table border=\"1\" class=\"dataframe\">\n",
              "  <thead>\n",
              "    <tr style=\"text-align: right;\">\n",
              "      <th></th>\n",
              "      <th></th>\n",
              "      <th>population</th>\n",
              "    </tr>\n",
              "    <tr>\n",
              "      <th>state</th>\n",
              "      <th>year</th>\n",
              "      <th></th>\n",
              "    </tr>\n",
              "  </thead>\n",
              "  <tbody>\n",
              "    <tr>\n",
              "      <th rowspan=\"2\" valign=\"top\">California</th>\n",
              "      <th>2000</th>\n",
              "      <td>33871648</td>\n",
              "    </tr>\n",
              "    <tr>\n",
              "      <th>2010</th>\n",
              "      <td>37253956</td>\n",
              "    </tr>\n",
              "    <tr>\n",
              "      <th rowspan=\"2\" valign=\"top\">New York</th>\n",
              "      <th>2000</th>\n",
              "      <td>18976457</td>\n",
              "    </tr>\n",
              "    <tr>\n",
              "      <th>2010</th>\n",
              "      <td>19378102</td>\n",
              "    </tr>\n",
              "    <tr>\n",
              "      <th rowspan=\"2\" valign=\"top\">Texas</th>\n",
              "      <th>2000</th>\n",
              "      <td>20851820</td>\n",
              "    </tr>\n",
              "    <tr>\n",
              "      <th>2010</th>\n",
              "      <td>25145561</td>\n",
              "    </tr>\n",
              "  </tbody>\n",
              "</table>\n",
              "</div>"
            ],
            "text/plain": [
              "                 population\n",
              "state      year            \n",
              "California 2000    33871648\n",
              "           2010    37253956\n",
              "New York   2000    18976457\n",
              "           2010    19378102\n",
              "Texas      2000    20851820\n",
              "           2010    25145561"
            ]
          },
          "metadata": {
            "tags": []
          },
          "execution_count": 278
        }
      ]
    },
    {
      "cell_type": "markdown",
      "metadata": {
        "id": "RQBbtZQ7YXJT"
      },
      "source": [
        "### 6.13 Data Aggregations on Multi-Indices\n",
        "We've previously seen that Pandas has built-in data aggregation methods, such as mean(), sum(), and max(). For hierarchically indexed data, these can be passed a level parameter that controls which subset of the data the aggregate is computed on.\n",
        "Perhaps we'd like to average-out the measurements in the two visits each year. We can do this by naming the index level we'd like to explore, in this case the year:"
      ],
      "id": "RQBbtZQ7YXJT"
    },
    {
      "cell_type": "code",
      "metadata": {
        "colab": {
          "base_uri": "https://localhost:8080/",
          "height": 175
        },
        "id": "kuwfqlz3YXJT",
        "outputId": "c4dabfa0-6a38-42d2-9dfe-41297165efe4"
      },
      "source": [
        "data_mean = health_data.mean(level='year')\n",
        "data_mean"
      ],
      "id": "kuwfqlz3YXJT",
      "execution_count": null,
      "outputs": [
        {
          "output_type": "execute_result",
          "data": {
            "text/html": [
              "<div>\n",
              "<style scoped>\n",
              "    .dataframe tbody tr th:only-of-type {\n",
              "        vertical-align: middle;\n",
              "    }\n",
              "\n",
              "    .dataframe tbody tr th {\n",
              "        vertical-align: top;\n",
              "    }\n",
              "\n",
              "    .dataframe thead tr th {\n",
              "        text-align: left;\n",
              "    }\n",
              "\n",
              "    .dataframe thead tr:last-of-type th {\n",
              "        text-align: right;\n",
              "    }\n",
              "</style>\n",
              "<table border=\"1\" class=\"dataframe\">\n",
              "  <thead>\n",
              "    <tr>\n",
              "      <th>subject</th>\n",
              "      <th colspan=\"2\" halign=\"left\">Bob</th>\n",
              "      <th colspan=\"2\" halign=\"left\">Guido</th>\n",
              "      <th colspan=\"2\" halign=\"left\">Sue</th>\n",
              "    </tr>\n",
              "    <tr>\n",
              "      <th>type</th>\n",
              "      <th>HR</th>\n",
              "      <th>Temp</th>\n",
              "      <th>HR</th>\n",
              "      <th>Temp</th>\n",
              "      <th>HR</th>\n",
              "      <th>Temp</th>\n",
              "    </tr>\n",
              "    <tr>\n",
              "      <th>year</th>\n",
              "      <th></th>\n",
              "      <th></th>\n",
              "      <th></th>\n",
              "      <th></th>\n",
              "      <th></th>\n",
              "      <th></th>\n",
              "    </tr>\n",
              "  </thead>\n",
              "  <tbody>\n",
              "    <tr>\n",
              "      <th>2013</th>\n",
              "      <td>34.5</td>\n",
              "      <td>37.1</td>\n",
              "      <td>24.0</td>\n",
              "      <td>36.50</td>\n",
              "      <td>36.0</td>\n",
              "      <td>36.8</td>\n",
              "    </tr>\n",
              "    <tr>\n",
              "      <th>2014</th>\n",
              "      <td>34.5</td>\n",
              "      <td>36.3</td>\n",
              "      <td>39.5</td>\n",
              "      <td>37.95</td>\n",
              "      <td>20.0</td>\n",
              "      <td>37.2</td>\n",
              "    </tr>\n",
              "  </tbody>\n",
              "</table>\n",
              "</div>"
            ],
            "text/plain": [
              "subject   Bob       Guido          Sue      \n",
              "type       HR  Temp    HR   Temp    HR  Temp\n",
              "year                                        \n",
              "2013     34.5  37.1  24.0  36.50  36.0  36.8\n",
              "2014     34.5  36.3  39.5  37.95  20.0  37.2"
            ]
          },
          "metadata": {
            "tags": []
          },
          "execution_count": 279
        }
      ]
    },
    {
      "cell_type": "code",
      "metadata": {
        "colab": {
          "base_uri": "https://localhost:8080/",
          "height": 143
        },
        "id": "7G0ViNFEYXJT",
        "outputId": "a9b227d0-de7e-432c-8ddf-60f4a90df82c"
      },
      "source": [
        "#By further making use of the axis keyword, we can take the mean among levels on the columns as well:\n",
        "data_mean.mean(axis=1, level='type')"
      ],
      "id": "7G0ViNFEYXJT",
      "execution_count": null,
      "outputs": [
        {
          "output_type": "execute_result",
          "data": {
            "text/html": [
              "<div>\n",
              "<style scoped>\n",
              "    .dataframe tbody tr th:only-of-type {\n",
              "        vertical-align: middle;\n",
              "    }\n",
              "\n",
              "    .dataframe tbody tr th {\n",
              "        vertical-align: top;\n",
              "    }\n",
              "\n",
              "    .dataframe thead th {\n",
              "        text-align: right;\n",
              "    }\n",
              "</style>\n",
              "<table border=\"1\" class=\"dataframe\">\n",
              "  <thead>\n",
              "    <tr style=\"text-align: right;\">\n",
              "      <th>type</th>\n",
              "      <th>HR</th>\n",
              "      <th>Temp</th>\n",
              "    </tr>\n",
              "    <tr>\n",
              "      <th>year</th>\n",
              "      <th></th>\n",
              "      <th></th>\n",
              "    </tr>\n",
              "  </thead>\n",
              "  <tbody>\n",
              "    <tr>\n",
              "      <th>2013</th>\n",
              "      <td>31.500000</td>\n",
              "      <td>36.80</td>\n",
              "    </tr>\n",
              "    <tr>\n",
              "      <th>2014</th>\n",
              "      <td>31.333333</td>\n",
              "      <td>37.15</td>\n",
              "    </tr>\n",
              "  </tbody>\n",
              "</table>\n",
              "</div>"
            ],
            "text/plain": [
              "type         HR   Temp\n",
              "year                  \n",
              "2013  31.500000  36.80\n",
              "2014  31.333333  37.15"
            ]
          },
          "metadata": {
            "tags": []
          },
          "execution_count": 280
        }
      ]
    },
    {
      "cell_type": "markdown",
      "metadata": {
        "id": "B7cn7bTFYXJT"
      },
      "source": [
        "## 7. Combining datasets\n",
        "pandas provides various facilities for easily combining together Series or DataFrame with various kinds of set logic for the indexes and relational algebra functionality in the case of join / merge-type operations.\n",
        "\n",
        "### 7.1 Concatenating objects\n",
        "The concat() function (in the main pandas namespace) does all of the heavy lifting of performing concatenation operations along an axis while performing optional set logic (union or intersection) of the indexes (if any) on the other axes. Note that I say “if any” because there is only a single possible axis of concatenation for Series.\n",
        "Can also add a layer of hierarchical indexing on the concatenation axis, which may be useful if the labels are the same (or overlapping) on the passed axis number.\n",
        "\n",
        "pandas.concat(objs, axis=0, join='outer', ignore_index=False, keys=None, levels=None, names=None, verify_integrity=False, sort=False, copy=True)\n"
      ],
      "id": "B7cn7bTFYXJT"
    },
    {
      "cell_type": "code",
      "metadata": {
        "colab": {
          "base_uri": "https://localhost:8080/",
          "height": 426
        },
        "id": "4SkDZquAYXJU",
        "outputId": "54f10320-0e50-4ac3-cf23-1f7299149d7b"
      },
      "source": [
        "df1 = pd.DataFrame(\n",
        "{\n",
        "    \"A\": [\"A0\", \"A1\", \"A2\", \"A3\"],\n",
        "    \"B\": [\"B0\", \"B1\", \"B2\", \"B3\"],\n",
        "    \"C\": [\"C0\", \"C1\", \"C2\", \"C3\"],\n",
        "    \"D\": [\"D0\", \"D1\", \"D2\", \"D3\"],\n",
        "},\n",
        "    index=[0,1,2,3],\n",
        ")\n",
        "\n",
        "df2 = pd.DataFrame(\n",
        "{\n",
        "    \"A\": [\"A4\", \"A5\", \"A6\", \"A7\"],\n",
        "    \"B\": [\"B4\", \"B5\", \"B6\", \"B7\"],\n",
        "    \"C\": [\"C4\", \"C5\", \"C6\", \"C7\"],\n",
        "    \"D\": [\"D4\", \"D5\", \"D6\", \"D7\"],\n",
        "},\n",
        "    index=[4,5,6,7],\n",
        ")\n",
        "    \n",
        "df3 = pd.DataFrame(\n",
        "{\n",
        "    \"A\": [\"A8\", \"A9\", \"A10\", \"A11\"],\n",
        "    \"B\": [\"B8\", \"B9\", \"B10\", \"B11\"],\n",
        "    \"C\": [\"C8\", \"C9\", \"C10\", \"C11\"],\n",
        "    \"D\": [\"D8\", \"D9\", \"D10\", \"D11\"],\n",
        "},\n",
        "    index=[8, 9, 10, 11],\n",
        ")\n",
        "\n",
        "frames = [df1, df2, df3]\n",
        "result = pd.concat(frames)\n",
        "result"
      ],
      "id": "4SkDZquAYXJU",
      "execution_count": null,
      "outputs": [
        {
          "output_type": "execute_result",
          "data": {
            "text/html": [
              "<div>\n",
              "<style scoped>\n",
              "    .dataframe tbody tr th:only-of-type {\n",
              "        vertical-align: middle;\n",
              "    }\n",
              "\n",
              "    .dataframe tbody tr th {\n",
              "        vertical-align: top;\n",
              "    }\n",
              "\n",
              "    .dataframe thead th {\n",
              "        text-align: right;\n",
              "    }\n",
              "</style>\n",
              "<table border=\"1\" class=\"dataframe\">\n",
              "  <thead>\n",
              "    <tr style=\"text-align: right;\">\n",
              "      <th></th>\n",
              "      <th>A</th>\n",
              "      <th>B</th>\n",
              "      <th>C</th>\n",
              "      <th>D</th>\n",
              "    </tr>\n",
              "  </thead>\n",
              "  <tbody>\n",
              "    <tr>\n",
              "      <th>0</th>\n",
              "      <td>A0</td>\n",
              "      <td>B0</td>\n",
              "      <td>C0</td>\n",
              "      <td>D0</td>\n",
              "    </tr>\n",
              "    <tr>\n",
              "      <th>1</th>\n",
              "      <td>A1</td>\n",
              "      <td>B1</td>\n",
              "      <td>C1</td>\n",
              "      <td>D1</td>\n",
              "    </tr>\n",
              "    <tr>\n",
              "      <th>2</th>\n",
              "      <td>A2</td>\n",
              "      <td>B2</td>\n",
              "      <td>C2</td>\n",
              "      <td>D2</td>\n",
              "    </tr>\n",
              "    <tr>\n",
              "      <th>3</th>\n",
              "      <td>A3</td>\n",
              "      <td>B3</td>\n",
              "      <td>C3</td>\n",
              "      <td>D3</td>\n",
              "    </tr>\n",
              "    <tr>\n",
              "      <th>4</th>\n",
              "      <td>A4</td>\n",
              "      <td>B4</td>\n",
              "      <td>C4</td>\n",
              "      <td>D4</td>\n",
              "    </tr>\n",
              "    <tr>\n",
              "      <th>5</th>\n",
              "      <td>A5</td>\n",
              "      <td>B5</td>\n",
              "      <td>C5</td>\n",
              "      <td>D5</td>\n",
              "    </tr>\n",
              "    <tr>\n",
              "      <th>6</th>\n",
              "      <td>A6</td>\n",
              "      <td>B6</td>\n",
              "      <td>C6</td>\n",
              "      <td>D6</td>\n",
              "    </tr>\n",
              "    <tr>\n",
              "      <th>7</th>\n",
              "      <td>A7</td>\n",
              "      <td>B7</td>\n",
              "      <td>C7</td>\n",
              "      <td>D7</td>\n",
              "    </tr>\n",
              "    <tr>\n",
              "      <th>8</th>\n",
              "      <td>A8</td>\n",
              "      <td>B8</td>\n",
              "      <td>C8</td>\n",
              "      <td>D8</td>\n",
              "    </tr>\n",
              "    <tr>\n",
              "      <th>9</th>\n",
              "      <td>A9</td>\n",
              "      <td>B9</td>\n",
              "      <td>C9</td>\n",
              "      <td>D9</td>\n",
              "    </tr>\n",
              "    <tr>\n",
              "      <th>10</th>\n",
              "      <td>A10</td>\n",
              "      <td>B10</td>\n",
              "      <td>C10</td>\n",
              "      <td>D10</td>\n",
              "    </tr>\n",
              "    <tr>\n",
              "      <th>11</th>\n",
              "      <td>A11</td>\n",
              "      <td>B11</td>\n",
              "      <td>C11</td>\n",
              "      <td>D11</td>\n",
              "    </tr>\n",
              "  </tbody>\n",
              "</table>\n",
              "</div>"
            ],
            "text/plain": [
              "      A    B    C    D\n",
              "0    A0   B0   C0   D0\n",
              "1    A1   B1   C1   D1\n",
              "2    A2   B2   C2   D2\n",
              "3    A3   B3   C3   D3\n",
              "4    A4   B4   C4   D4\n",
              "5    A5   B5   C5   D5\n",
              "6    A6   B6   C6   D6\n",
              "7    A7   B7   C7   D7\n",
              "8    A8   B8   C8   D8\n",
              "9    A9   B9   C9   D9\n",
              "10  A10  B10  C10  D10\n",
              "11  A11  B11  C11  D11"
            ]
          },
          "metadata": {
            "tags": []
          },
          "execution_count": 281
        }
      ]
    },
    {
      "cell_type": "markdown",
      "metadata": {
        "id": "M2SxzAwaYXJU"
      },
      "source": [
        "Suppose we wanted to associate specific keys with each of the pieces of the chopped up DataFrame. We can do this using the keys argument:"
      ],
      "id": "M2SxzAwaYXJU"
    },
    {
      "cell_type": "code",
      "metadata": {
        "colab": {
          "base_uri": "https://localhost:8080/",
          "height": 426
        },
        "id": "HLEwtr7FYXJU",
        "outputId": "757d4388-704a-4cd8-a7ae-a31d8ce42075"
      },
      "source": [
        "result = pd.concat(frames, keys=[\"x\", \"y\", \"z\"])\n",
        "result"
      ],
      "id": "HLEwtr7FYXJU",
      "execution_count": null,
      "outputs": [
        {
          "output_type": "execute_result",
          "data": {
            "text/html": [
              "<div>\n",
              "<style scoped>\n",
              "    .dataframe tbody tr th:only-of-type {\n",
              "        vertical-align: middle;\n",
              "    }\n",
              "\n",
              "    .dataframe tbody tr th {\n",
              "        vertical-align: top;\n",
              "    }\n",
              "\n",
              "    .dataframe thead th {\n",
              "        text-align: right;\n",
              "    }\n",
              "</style>\n",
              "<table border=\"1\" class=\"dataframe\">\n",
              "  <thead>\n",
              "    <tr style=\"text-align: right;\">\n",
              "      <th></th>\n",
              "      <th></th>\n",
              "      <th>A</th>\n",
              "      <th>B</th>\n",
              "      <th>C</th>\n",
              "      <th>D</th>\n",
              "    </tr>\n",
              "  </thead>\n",
              "  <tbody>\n",
              "    <tr>\n",
              "      <th rowspan=\"4\" valign=\"top\">x</th>\n",
              "      <th>0</th>\n",
              "      <td>A0</td>\n",
              "      <td>B0</td>\n",
              "      <td>C0</td>\n",
              "      <td>D0</td>\n",
              "    </tr>\n",
              "    <tr>\n",
              "      <th>1</th>\n",
              "      <td>A1</td>\n",
              "      <td>B1</td>\n",
              "      <td>C1</td>\n",
              "      <td>D1</td>\n",
              "    </tr>\n",
              "    <tr>\n",
              "      <th>2</th>\n",
              "      <td>A2</td>\n",
              "      <td>B2</td>\n",
              "      <td>C2</td>\n",
              "      <td>D2</td>\n",
              "    </tr>\n",
              "    <tr>\n",
              "      <th>3</th>\n",
              "      <td>A3</td>\n",
              "      <td>B3</td>\n",
              "      <td>C3</td>\n",
              "      <td>D3</td>\n",
              "    </tr>\n",
              "    <tr>\n",
              "      <th rowspan=\"4\" valign=\"top\">y</th>\n",
              "      <th>4</th>\n",
              "      <td>A4</td>\n",
              "      <td>B4</td>\n",
              "      <td>C4</td>\n",
              "      <td>D4</td>\n",
              "    </tr>\n",
              "    <tr>\n",
              "      <th>5</th>\n",
              "      <td>A5</td>\n",
              "      <td>B5</td>\n",
              "      <td>C5</td>\n",
              "      <td>D5</td>\n",
              "    </tr>\n",
              "    <tr>\n",
              "      <th>6</th>\n",
              "      <td>A6</td>\n",
              "      <td>B6</td>\n",
              "      <td>C6</td>\n",
              "      <td>D6</td>\n",
              "    </tr>\n",
              "    <tr>\n",
              "      <th>7</th>\n",
              "      <td>A7</td>\n",
              "      <td>B7</td>\n",
              "      <td>C7</td>\n",
              "      <td>D7</td>\n",
              "    </tr>\n",
              "    <tr>\n",
              "      <th rowspan=\"4\" valign=\"top\">z</th>\n",
              "      <th>8</th>\n",
              "      <td>A8</td>\n",
              "      <td>B8</td>\n",
              "      <td>C8</td>\n",
              "      <td>D8</td>\n",
              "    </tr>\n",
              "    <tr>\n",
              "      <th>9</th>\n",
              "      <td>A9</td>\n",
              "      <td>B9</td>\n",
              "      <td>C9</td>\n",
              "      <td>D9</td>\n",
              "    </tr>\n",
              "    <tr>\n",
              "      <th>10</th>\n",
              "      <td>A10</td>\n",
              "      <td>B10</td>\n",
              "      <td>C10</td>\n",
              "      <td>D10</td>\n",
              "    </tr>\n",
              "    <tr>\n",
              "      <th>11</th>\n",
              "      <td>A11</td>\n",
              "      <td>B11</td>\n",
              "      <td>C11</td>\n",
              "      <td>D11</td>\n",
              "    </tr>\n",
              "  </tbody>\n",
              "</table>\n",
              "</div>"
            ],
            "text/plain": [
              "        A    B    C    D\n",
              "x 0    A0   B0   C0   D0\n",
              "  1    A1   B1   C1   D1\n",
              "  2    A2   B2   C2   D2\n",
              "  3    A3   B3   C3   D3\n",
              "y 4    A4   B4   C4   D4\n",
              "  5    A5   B5   C5   D5\n",
              "  6    A6   B6   C6   D6\n",
              "  7    A7   B7   C7   D7\n",
              "z 8    A8   B8   C8   D8\n",
              "  9    A9   B9   C9   D9\n",
              "  10  A10  B10  C10  D10\n",
              "  11  A11  B11  C11  D11"
            ]
          },
          "metadata": {
            "tags": []
          },
          "execution_count": 282
        }
      ]
    },
    {
      "cell_type": "markdown",
      "metadata": {
        "id": "9_YLVKJDYXJU"
      },
      "source": [
        "As you can see (if you’ve read the rest of the documentation), the resulting object’s index has a hierarchical index. This means that we can now select out each chunk by key:"
      ],
      "id": "9_YLVKJDYXJU"
    },
    {
      "cell_type": "code",
      "metadata": {
        "colab": {
          "base_uri": "https://localhost:8080/",
          "height": 175
        },
        "id": "dVjpflqmYXJU",
        "outputId": "62d58dcc-f4cd-47ed-99f2-7ae91cc38f13"
      },
      "source": [
        "result.loc[\"y\"]"
      ],
      "id": "dVjpflqmYXJU",
      "execution_count": null,
      "outputs": [
        {
          "output_type": "execute_result",
          "data": {
            "text/html": [
              "<div>\n",
              "<style scoped>\n",
              "    .dataframe tbody tr th:only-of-type {\n",
              "        vertical-align: middle;\n",
              "    }\n",
              "\n",
              "    .dataframe tbody tr th {\n",
              "        vertical-align: top;\n",
              "    }\n",
              "\n",
              "    .dataframe thead th {\n",
              "        text-align: right;\n",
              "    }\n",
              "</style>\n",
              "<table border=\"1\" class=\"dataframe\">\n",
              "  <thead>\n",
              "    <tr style=\"text-align: right;\">\n",
              "      <th></th>\n",
              "      <th>A</th>\n",
              "      <th>B</th>\n",
              "      <th>C</th>\n",
              "      <th>D</th>\n",
              "    </tr>\n",
              "  </thead>\n",
              "  <tbody>\n",
              "    <tr>\n",
              "      <th>4</th>\n",
              "      <td>A4</td>\n",
              "      <td>B4</td>\n",
              "      <td>C4</td>\n",
              "      <td>D4</td>\n",
              "    </tr>\n",
              "    <tr>\n",
              "      <th>5</th>\n",
              "      <td>A5</td>\n",
              "      <td>B5</td>\n",
              "      <td>C5</td>\n",
              "      <td>D5</td>\n",
              "    </tr>\n",
              "    <tr>\n",
              "      <th>6</th>\n",
              "      <td>A6</td>\n",
              "      <td>B6</td>\n",
              "      <td>C6</td>\n",
              "      <td>D6</td>\n",
              "    </tr>\n",
              "    <tr>\n",
              "      <th>7</th>\n",
              "      <td>A7</td>\n",
              "      <td>B7</td>\n",
              "      <td>C7</td>\n",
              "      <td>D7</td>\n",
              "    </tr>\n",
              "  </tbody>\n",
              "</table>\n",
              "</div>"
            ],
            "text/plain": [
              "    A   B   C   D\n",
              "4  A4  B4  C4  D4\n",
              "5  A5  B5  C5  D5\n",
              "6  A6  B6  C6  D6\n",
              "7  A7  B7  C7  D7"
            ]
          },
          "metadata": {
            "tags": []
          },
          "execution_count": 283
        }
      ]
    },
    {
      "cell_type": "markdown",
      "metadata": {
        "id": "NKWdSS2dYXJU"
      },
      "source": [
        "It is worth noting that concat() (and therefore append()) makes a full copy of the data, and that constantly reusing this function can create a significant performance hit. If you need to use the operation over several datasets, use a list comprehension.\n",
        "\n",
        "frames = [ process_your_file(f) for f in files ]\n",
        "result = pd.concat(frames)\n",
        "\n",
        "When concatenating DataFrames with named axes, pandas will attempt to preserve these index/column names whenever possible. In the case where all inputs share a common name, this name will be assigned to the result. When the input names do not all agree, the result will be unnamed. The same is true for MultiIndex, but the logic is applied separately on a level-by-level basis."
      ],
      "id": "NKWdSS2dYXJU"
    },
    {
      "cell_type": "markdown",
      "metadata": {
        "id": "BgueY0j6YXJV"
      },
      "source": [
        "### 7.2 Join:Set logic on the other axes\n",
        "When gluing together multiple DataFrames, you have a choice of how to handle the other axes (other than the one being concatenated). This can be done in the following two ways:\n",
        "·Take the union of them all, join='outer'. This is the default option as it results in zero information loss.\n",
        "·Take the intersection, join='inner'.\n",
        "\n",
        "First, the default join='outer' behavior:"
      ],
      "id": "BgueY0j6YXJV"
    },
    {
      "cell_type": "code",
      "metadata": {
        "colab": {
          "base_uri": "https://localhost:8080/"
        },
        "id": "gHcSEqFJYXJV",
        "outputId": "0a3e77f2-8829-4f2d-f73c-458eafea3030"
      },
      "source": [
        " df4 = pd.DataFrame(\n",
        " {\n",
        "     \"B\": [\"B2\", \"B3\", \"B6\", \"B7\"],\n",
        "     \"D\": [\"D2\", \"D3\", \"D6\", \"D7\"],\n",
        "     \"F\": [\"F2\", \"F3\", \"F6\", \"F7\"],\n",
        " },\n",
        "     index=[2, 3, 6, 7],\n",
        " )\n",
        "result2 = pd.concat([df1, df4], axis=1)\n",
        "print(result2)"
      ],
      "id": "gHcSEqFJYXJV",
      "execution_count": null,
      "outputs": [
        {
          "output_type": "stream",
          "text": [
            "     A    B    C    D    B    D    F\n",
            "0   A0   B0   C0   D0  NaN  NaN  NaN\n",
            "1   A1   B1   C1   D1  NaN  NaN  NaN\n",
            "2   A2   B2   C2   D2   B2   D2   F2\n",
            "3   A3   B3   C3   D3   B3   D3   F3\n",
            "6  NaN  NaN  NaN  NaN   B6   D6   F6\n",
            "7  NaN  NaN  NaN  NaN   B7   D7   F7\n"
          ],
          "name": "stdout"
        }
      ]
    },
    {
      "cell_type": "code",
      "metadata": {
        "colab": {
          "base_uri": "https://localhost:8080/"
        },
        "id": "3IjvcrM1YXJV",
        "outputId": "dc30a92f-e733-4250-a55c-609a4b9efda4"
      },
      "source": [
        "result3 = pd.concat([df1, df4], axis=1, join=\"inner\")\n",
        "print(result3)"
      ],
      "id": "3IjvcrM1YXJV",
      "execution_count": null,
      "outputs": [
        {
          "output_type": "stream",
          "text": [
            "    A   B   C   D   B   D   F\n",
            "2  A2  B2  C2  D2  B2  D2  F2\n",
            "3  A3  B3  C3  D3  B3  D3  F3\n"
          ],
          "name": "stdout"
        }
      ]
    },
    {
      "cell_type": "code",
      "metadata": {
        "colab": {
          "base_uri": "https://localhost:8080/"
        },
        "id": "t-xdVYsZYXJV",
        "outputId": "ad80cb41-f4ba-439c-fba0-4537ded05dd4"
      },
      "source": [
        "result4 = pd.concat([df1, df4], axis=1).reindex(df1.index)\n",
        "# other method: pd.concat([df1, df4.reindex(df1.index)], axis=1) \n",
        "print(result4)"
      ],
      "id": "t-xdVYsZYXJV",
      "execution_count": null,
      "outputs": [
        {
          "output_type": "stream",
          "text": [
            "    A   B   C   D    B    D    F\n",
            "0  A0  B0  C0  D0  NaN  NaN  NaN\n",
            "1  A1  B1  C1  D1  NaN  NaN  NaN\n",
            "2  A2  B2  C2  D2   B2   D2   F2\n",
            "3  A3  B3  C3  D3   B3   D3   F3\n"
          ],
          "name": "stdout"
        }
      ]
    },
    {
      "cell_type": "markdown",
      "metadata": {
        "id": "-grqcXUnYXJV"
      },
      "source": [
        "### 7.3 Append\n",
        "A useful shortcut to concat() are the append() instance methods on Series and DataFrame. These methods actually predated concat. They concatenate along axis=0, namely the index:"
      ],
      "id": "-grqcXUnYXJV"
    },
    {
      "cell_type": "code",
      "metadata": {
        "colab": {
          "base_uri": "https://localhost:8080/",
          "height": 300
        },
        "id": "ZtgTe6c0YXJV",
        "outputId": "4c0a8a02-dcdb-43cc-f216-b81ff09eda9b"
      },
      "source": [
        "result5 = df1.append(df2)\n",
        "result5"
      ],
      "id": "ZtgTe6c0YXJV",
      "execution_count": null,
      "outputs": [
        {
          "output_type": "execute_result",
          "data": {
            "text/html": [
              "<div>\n",
              "<style scoped>\n",
              "    .dataframe tbody tr th:only-of-type {\n",
              "        vertical-align: middle;\n",
              "    }\n",
              "\n",
              "    .dataframe tbody tr th {\n",
              "        vertical-align: top;\n",
              "    }\n",
              "\n",
              "    .dataframe thead th {\n",
              "        text-align: right;\n",
              "    }\n",
              "</style>\n",
              "<table border=\"1\" class=\"dataframe\">\n",
              "  <thead>\n",
              "    <tr style=\"text-align: right;\">\n",
              "      <th></th>\n",
              "      <th>A</th>\n",
              "      <th>B</th>\n",
              "      <th>C</th>\n",
              "      <th>D</th>\n",
              "    </tr>\n",
              "  </thead>\n",
              "  <tbody>\n",
              "    <tr>\n",
              "      <th>0</th>\n",
              "      <td>A0</td>\n",
              "      <td>B0</td>\n",
              "      <td>C0</td>\n",
              "      <td>D0</td>\n",
              "    </tr>\n",
              "    <tr>\n",
              "      <th>1</th>\n",
              "      <td>A1</td>\n",
              "      <td>B1</td>\n",
              "      <td>C1</td>\n",
              "      <td>D1</td>\n",
              "    </tr>\n",
              "    <tr>\n",
              "      <th>2</th>\n",
              "      <td>A2</td>\n",
              "      <td>B2</td>\n",
              "      <td>C2</td>\n",
              "      <td>D2</td>\n",
              "    </tr>\n",
              "    <tr>\n",
              "      <th>3</th>\n",
              "      <td>A3</td>\n",
              "      <td>B3</td>\n",
              "      <td>C3</td>\n",
              "      <td>D3</td>\n",
              "    </tr>\n",
              "    <tr>\n",
              "      <th>4</th>\n",
              "      <td>A4</td>\n",
              "      <td>B4</td>\n",
              "      <td>C4</td>\n",
              "      <td>D4</td>\n",
              "    </tr>\n",
              "    <tr>\n",
              "      <th>5</th>\n",
              "      <td>A5</td>\n",
              "      <td>B5</td>\n",
              "      <td>C5</td>\n",
              "      <td>D5</td>\n",
              "    </tr>\n",
              "    <tr>\n",
              "      <th>6</th>\n",
              "      <td>A6</td>\n",
              "      <td>B6</td>\n",
              "      <td>C6</td>\n",
              "      <td>D6</td>\n",
              "    </tr>\n",
              "    <tr>\n",
              "      <th>7</th>\n",
              "      <td>A7</td>\n",
              "      <td>B7</td>\n",
              "      <td>C7</td>\n",
              "      <td>D7</td>\n",
              "    </tr>\n",
              "  </tbody>\n",
              "</table>\n",
              "</div>"
            ],
            "text/plain": [
              "    A   B   C   D\n",
              "0  A0  B0  C0  D0\n",
              "1  A1  B1  C1  D1\n",
              "2  A2  B2  C2  D2\n",
              "3  A3  B3  C3  D3\n",
              "4  A4  B4  C4  D4\n",
              "5  A5  B5  C5  D5\n",
              "6  A6  B6  C6  D6\n",
              "7  A7  B7  C7  D7"
            ]
          },
          "metadata": {
            "tags": []
          },
          "execution_count": 287
        }
      ]
    },
    {
      "cell_type": "code",
      "metadata": {
        "colab": {
          "base_uri": "https://localhost:8080/",
          "height": 300
        },
        "id": "5TrHb_U_YXJV",
        "outputId": "56d31a38-68a9-4e86-b48c-bdb6d2dbb8f2"
      },
      "source": [
        "#In the case of DataFrame, the indexes must be disjoint but \n",
        "#the columns do not need to be:\n",
        "result6 = df1.append(df4, sort=False)\n",
        "result6"
      ],
      "id": "5TrHb_U_YXJV",
      "execution_count": null,
      "outputs": [
        {
          "output_type": "execute_result",
          "data": {
            "text/html": [
              "<div>\n",
              "<style scoped>\n",
              "    .dataframe tbody tr th:only-of-type {\n",
              "        vertical-align: middle;\n",
              "    }\n",
              "\n",
              "    .dataframe tbody tr th {\n",
              "        vertical-align: top;\n",
              "    }\n",
              "\n",
              "    .dataframe thead th {\n",
              "        text-align: right;\n",
              "    }\n",
              "</style>\n",
              "<table border=\"1\" class=\"dataframe\">\n",
              "  <thead>\n",
              "    <tr style=\"text-align: right;\">\n",
              "      <th></th>\n",
              "      <th>A</th>\n",
              "      <th>B</th>\n",
              "      <th>C</th>\n",
              "      <th>D</th>\n",
              "      <th>F</th>\n",
              "    </tr>\n",
              "  </thead>\n",
              "  <tbody>\n",
              "    <tr>\n",
              "      <th>0</th>\n",
              "      <td>A0</td>\n",
              "      <td>B0</td>\n",
              "      <td>C0</td>\n",
              "      <td>D0</td>\n",
              "      <td>NaN</td>\n",
              "    </tr>\n",
              "    <tr>\n",
              "      <th>1</th>\n",
              "      <td>A1</td>\n",
              "      <td>B1</td>\n",
              "      <td>C1</td>\n",
              "      <td>D1</td>\n",
              "      <td>NaN</td>\n",
              "    </tr>\n",
              "    <tr>\n",
              "      <th>2</th>\n",
              "      <td>A2</td>\n",
              "      <td>B2</td>\n",
              "      <td>C2</td>\n",
              "      <td>D2</td>\n",
              "      <td>NaN</td>\n",
              "    </tr>\n",
              "    <tr>\n",
              "      <th>3</th>\n",
              "      <td>A3</td>\n",
              "      <td>B3</td>\n",
              "      <td>C3</td>\n",
              "      <td>D3</td>\n",
              "      <td>NaN</td>\n",
              "    </tr>\n",
              "    <tr>\n",
              "      <th>2</th>\n",
              "      <td>NaN</td>\n",
              "      <td>B2</td>\n",
              "      <td>NaN</td>\n",
              "      <td>D2</td>\n",
              "      <td>F2</td>\n",
              "    </tr>\n",
              "    <tr>\n",
              "      <th>3</th>\n",
              "      <td>NaN</td>\n",
              "      <td>B3</td>\n",
              "      <td>NaN</td>\n",
              "      <td>D3</td>\n",
              "      <td>F3</td>\n",
              "    </tr>\n",
              "    <tr>\n",
              "      <th>6</th>\n",
              "      <td>NaN</td>\n",
              "      <td>B6</td>\n",
              "      <td>NaN</td>\n",
              "      <td>D6</td>\n",
              "      <td>F6</td>\n",
              "    </tr>\n",
              "    <tr>\n",
              "      <th>7</th>\n",
              "      <td>NaN</td>\n",
              "      <td>B7</td>\n",
              "      <td>NaN</td>\n",
              "      <td>D7</td>\n",
              "      <td>F7</td>\n",
              "    </tr>\n",
              "  </tbody>\n",
              "</table>\n",
              "</div>"
            ],
            "text/plain": [
              "     A   B    C   D    F\n",
              "0   A0  B0   C0  D0  NaN\n",
              "1   A1  B1   C1  D1  NaN\n",
              "2   A2  B2   C2  D2  NaN\n",
              "3   A3  B3   C3  D3  NaN\n",
              "2  NaN  B2  NaN  D2   F2\n",
              "3  NaN  B3  NaN  D3   F3\n",
              "6  NaN  B6  NaN  D6   F6\n",
              "7  NaN  B7  NaN  D7   F7"
            ]
          },
          "metadata": {
            "tags": []
          },
          "execution_count": 288
        }
      ]
    },
    {
      "cell_type": "code",
      "metadata": {
        "colab": {
          "base_uri": "https://localhost:8080/",
          "height": 426
        },
        "id": "RsPnWC4wYXJW",
        "outputId": "6f02dc80-aec8-4681-e73b-85d213221b31"
      },
      "source": [
        "#append may take multiple objects to concatenate:\n",
        "result7 = df1.append([df2, df3])\n",
        "result7"
      ],
      "id": "RsPnWC4wYXJW",
      "execution_count": null,
      "outputs": [
        {
          "output_type": "execute_result",
          "data": {
            "text/html": [
              "<div>\n",
              "<style scoped>\n",
              "    .dataframe tbody tr th:only-of-type {\n",
              "        vertical-align: middle;\n",
              "    }\n",
              "\n",
              "    .dataframe tbody tr th {\n",
              "        vertical-align: top;\n",
              "    }\n",
              "\n",
              "    .dataframe thead th {\n",
              "        text-align: right;\n",
              "    }\n",
              "</style>\n",
              "<table border=\"1\" class=\"dataframe\">\n",
              "  <thead>\n",
              "    <tr style=\"text-align: right;\">\n",
              "      <th></th>\n",
              "      <th>A</th>\n",
              "      <th>B</th>\n",
              "      <th>C</th>\n",
              "      <th>D</th>\n",
              "    </tr>\n",
              "  </thead>\n",
              "  <tbody>\n",
              "    <tr>\n",
              "      <th>0</th>\n",
              "      <td>A0</td>\n",
              "      <td>B0</td>\n",
              "      <td>C0</td>\n",
              "      <td>D0</td>\n",
              "    </tr>\n",
              "    <tr>\n",
              "      <th>1</th>\n",
              "      <td>A1</td>\n",
              "      <td>B1</td>\n",
              "      <td>C1</td>\n",
              "      <td>D1</td>\n",
              "    </tr>\n",
              "    <tr>\n",
              "      <th>2</th>\n",
              "      <td>A2</td>\n",
              "      <td>B2</td>\n",
              "      <td>C2</td>\n",
              "      <td>D2</td>\n",
              "    </tr>\n",
              "    <tr>\n",
              "      <th>3</th>\n",
              "      <td>A3</td>\n",
              "      <td>B3</td>\n",
              "      <td>C3</td>\n",
              "      <td>D3</td>\n",
              "    </tr>\n",
              "    <tr>\n",
              "      <th>4</th>\n",
              "      <td>A4</td>\n",
              "      <td>B4</td>\n",
              "      <td>C4</td>\n",
              "      <td>D4</td>\n",
              "    </tr>\n",
              "    <tr>\n",
              "      <th>5</th>\n",
              "      <td>A5</td>\n",
              "      <td>B5</td>\n",
              "      <td>C5</td>\n",
              "      <td>D5</td>\n",
              "    </tr>\n",
              "    <tr>\n",
              "      <th>6</th>\n",
              "      <td>A6</td>\n",
              "      <td>B6</td>\n",
              "      <td>C6</td>\n",
              "      <td>D6</td>\n",
              "    </tr>\n",
              "    <tr>\n",
              "      <th>7</th>\n",
              "      <td>A7</td>\n",
              "      <td>B7</td>\n",
              "      <td>C7</td>\n",
              "      <td>D7</td>\n",
              "    </tr>\n",
              "    <tr>\n",
              "      <th>8</th>\n",
              "      <td>A8</td>\n",
              "      <td>B8</td>\n",
              "      <td>C8</td>\n",
              "      <td>D8</td>\n",
              "    </tr>\n",
              "    <tr>\n",
              "      <th>9</th>\n",
              "      <td>A9</td>\n",
              "      <td>B9</td>\n",
              "      <td>C9</td>\n",
              "      <td>D9</td>\n",
              "    </tr>\n",
              "    <tr>\n",
              "      <th>10</th>\n",
              "      <td>A10</td>\n",
              "      <td>B10</td>\n",
              "      <td>C10</td>\n",
              "      <td>D10</td>\n",
              "    </tr>\n",
              "    <tr>\n",
              "      <th>11</th>\n",
              "      <td>A11</td>\n",
              "      <td>B11</td>\n",
              "      <td>C11</td>\n",
              "      <td>D11</td>\n",
              "    </tr>\n",
              "  </tbody>\n",
              "</table>\n",
              "</div>"
            ],
            "text/plain": [
              "      A    B    C    D\n",
              "0    A0   B0   C0   D0\n",
              "1    A1   B1   C1   D1\n",
              "2    A2   B2   C2   D2\n",
              "3    A3   B3   C3   D3\n",
              "4    A4   B4   C4   D4\n",
              "5    A5   B5   C5   D5\n",
              "6    A6   B6   C6   D6\n",
              "7    A7   B7   C7   D7\n",
              "8    A8   B8   C8   D8\n",
              "9    A9   B9   C9   D9\n",
              "10  A10  B10  C10  D10\n",
              "11  A11  B11  C11  D11"
            ]
          },
          "metadata": {
            "tags": []
          },
          "execution_count": 289
        }
      ]
    },
    {
      "cell_type": "markdown",
      "metadata": {
        "id": "916a5NGHYXJW"
      },
      "source": [
        "For DataFrame objects which don’t have a meaningful index, you may wish to append them and ignore the fact that they may have overlapping indexes. To do this, use the ignore_index argument:"
      ],
      "id": "916a5NGHYXJW"
    },
    {
      "cell_type": "code",
      "metadata": {
        "colab": {
          "base_uri": "https://localhost:8080/",
          "height": 300
        },
        "id": "HYtdUw4mYXJW",
        "outputId": "a182bd1e-1176-45b1-b724-93d46a1a6dd0"
      },
      "source": [
        "result8 = pd.concat([df1, df4], ignore_index=True, sort=False)\n",
        "result8"
      ],
      "id": "HYtdUw4mYXJW",
      "execution_count": null,
      "outputs": [
        {
          "output_type": "execute_result",
          "data": {
            "text/html": [
              "<div>\n",
              "<style scoped>\n",
              "    .dataframe tbody tr th:only-of-type {\n",
              "        vertical-align: middle;\n",
              "    }\n",
              "\n",
              "    .dataframe tbody tr th {\n",
              "        vertical-align: top;\n",
              "    }\n",
              "\n",
              "    .dataframe thead th {\n",
              "        text-align: right;\n",
              "    }\n",
              "</style>\n",
              "<table border=\"1\" class=\"dataframe\">\n",
              "  <thead>\n",
              "    <tr style=\"text-align: right;\">\n",
              "      <th></th>\n",
              "      <th>A</th>\n",
              "      <th>B</th>\n",
              "      <th>C</th>\n",
              "      <th>D</th>\n",
              "      <th>F</th>\n",
              "    </tr>\n",
              "  </thead>\n",
              "  <tbody>\n",
              "    <tr>\n",
              "      <th>0</th>\n",
              "      <td>A0</td>\n",
              "      <td>B0</td>\n",
              "      <td>C0</td>\n",
              "      <td>D0</td>\n",
              "      <td>NaN</td>\n",
              "    </tr>\n",
              "    <tr>\n",
              "      <th>1</th>\n",
              "      <td>A1</td>\n",
              "      <td>B1</td>\n",
              "      <td>C1</td>\n",
              "      <td>D1</td>\n",
              "      <td>NaN</td>\n",
              "    </tr>\n",
              "    <tr>\n",
              "      <th>2</th>\n",
              "      <td>A2</td>\n",
              "      <td>B2</td>\n",
              "      <td>C2</td>\n",
              "      <td>D2</td>\n",
              "      <td>NaN</td>\n",
              "    </tr>\n",
              "    <tr>\n",
              "      <th>3</th>\n",
              "      <td>A3</td>\n",
              "      <td>B3</td>\n",
              "      <td>C3</td>\n",
              "      <td>D3</td>\n",
              "      <td>NaN</td>\n",
              "    </tr>\n",
              "    <tr>\n",
              "      <th>4</th>\n",
              "      <td>NaN</td>\n",
              "      <td>B2</td>\n",
              "      <td>NaN</td>\n",
              "      <td>D2</td>\n",
              "      <td>F2</td>\n",
              "    </tr>\n",
              "    <tr>\n",
              "      <th>5</th>\n",
              "      <td>NaN</td>\n",
              "      <td>B3</td>\n",
              "      <td>NaN</td>\n",
              "      <td>D3</td>\n",
              "      <td>F3</td>\n",
              "    </tr>\n",
              "    <tr>\n",
              "      <th>6</th>\n",
              "      <td>NaN</td>\n",
              "      <td>B6</td>\n",
              "      <td>NaN</td>\n",
              "      <td>D6</td>\n",
              "      <td>F6</td>\n",
              "    </tr>\n",
              "    <tr>\n",
              "      <th>7</th>\n",
              "      <td>NaN</td>\n",
              "      <td>B7</td>\n",
              "      <td>NaN</td>\n",
              "      <td>D7</td>\n",
              "      <td>F7</td>\n",
              "    </tr>\n",
              "  </tbody>\n",
              "</table>\n",
              "</div>"
            ],
            "text/plain": [
              "     A   B    C   D    F\n",
              "0   A0  B0   C0  D0  NaN\n",
              "1   A1  B1   C1  D1  NaN\n",
              "2   A2  B2   C2  D2  NaN\n",
              "3   A3  B3   C3  D3  NaN\n",
              "4  NaN  B2  NaN  D2   F2\n",
              "5  NaN  B3  NaN  D3   F3\n",
              "6  NaN  B6  NaN  D6   F6\n",
              "7  NaN  B7  NaN  D7   F7"
            ]
          },
          "metadata": {
            "tags": []
          },
          "execution_count": 290
        }
      ]
    },
    {
      "cell_type": "code",
      "metadata": {
        "colab": {
          "base_uri": "https://localhost:8080/",
          "height": 300
        },
        "id": "cQvA6QGQYXJW",
        "outputId": "1eb00e18-71ea-42be-cd63-21779dd0c8e4"
      },
      "source": [
        "#This is also a valid argument to DataFrame.append():\n",
        "result9 = df1.append(df4, ignore_index=True, sort=False)\n",
        "result9"
      ],
      "id": "cQvA6QGQYXJW",
      "execution_count": null,
      "outputs": [
        {
          "output_type": "execute_result",
          "data": {
            "text/html": [
              "<div>\n",
              "<style scoped>\n",
              "    .dataframe tbody tr th:only-of-type {\n",
              "        vertical-align: middle;\n",
              "    }\n",
              "\n",
              "    .dataframe tbody tr th {\n",
              "        vertical-align: top;\n",
              "    }\n",
              "\n",
              "    .dataframe thead th {\n",
              "        text-align: right;\n",
              "    }\n",
              "</style>\n",
              "<table border=\"1\" class=\"dataframe\">\n",
              "  <thead>\n",
              "    <tr style=\"text-align: right;\">\n",
              "      <th></th>\n",
              "      <th>A</th>\n",
              "      <th>B</th>\n",
              "      <th>C</th>\n",
              "      <th>D</th>\n",
              "      <th>F</th>\n",
              "    </tr>\n",
              "  </thead>\n",
              "  <tbody>\n",
              "    <tr>\n",
              "      <th>0</th>\n",
              "      <td>A0</td>\n",
              "      <td>B0</td>\n",
              "      <td>C0</td>\n",
              "      <td>D0</td>\n",
              "      <td>NaN</td>\n",
              "    </tr>\n",
              "    <tr>\n",
              "      <th>1</th>\n",
              "      <td>A1</td>\n",
              "      <td>B1</td>\n",
              "      <td>C1</td>\n",
              "      <td>D1</td>\n",
              "      <td>NaN</td>\n",
              "    </tr>\n",
              "    <tr>\n",
              "      <th>2</th>\n",
              "      <td>A2</td>\n",
              "      <td>B2</td>\n",
              "      <td>C2</td>\n",
              "      <td>D2</td>\n",
              "      <td>NaN</td>\n",
              "    </tr>\n",
              "    <tr>\n",
              "      <th>3</th>\n",
              "      <td>A3</td>\n",
              "      <td>B3</td>\n",
              "      <td>C3</td>\n",
              "      <td>D3</td>\n",
              "      <td>NaN</td>\n",
              "    </tr>\n",
              "    <tr>\n",
              "      <th>4</th>\n",
              "      <td>NaN</td>\n",
              "      <td>B2</td>\n",
              "      <td>NaN</td>\n",
              "      <td>D2</td>\n",
              "      <td>F2</td>\n",
              "    </tr>\n",
              "    <tr>\n",
              "      <th>5</th>\n",
              "      <td>NaN</td>\n",
              "      <td>B3</td>\n",
              "      <td>NaN</td>\n",
              "      <td>D3</td>\n",
              "      <td>F3</td>\n",
              "    </tr>\n",
              "    <tr>\n",
              "      <th>6</th>\n",
              "      <td>NaN</td>\n",
              "      <td>B6</td>\n",
              "      <td>NaN</td>\n",
              "      <td>D6</td>\n",
              "      <td>F6</td>\n",
              "    </tr>\n",
              "    <tr>\n",
              "      <th>7</th>\n",
              "      <td>NaN</td>\n",
              "      <td>B7</td>\n",
              "      <td>NaN</td>\n",
              "      <td>D7</td>\n",
              "      <td>F7</td>\n",
              "    </tr>\n",
              "  </tbody>\n",
              "</table>\n",
              "</div>"
            ],
            "text/plain": [
              "     A   B    C   D    F\n",
              "0   A0  B0   C0  D0  NaN\n",
              "1   A1  B1   C1  D1  NaN\n",
              "2   A2  B2   C2  D2  NaN\n",
              "3   A3  B3   C3  D3  NaN\n",
              "4  NaN  B2  NaN  D2   F2\n",
              "5  NaN  B3  NaN  D3   F3\n",
              "6  NaN  B6  NaN  D6   F6\n",
              "7  NaN  B7  NaN  D7   F7"
            ]
          },
          "metadata": {
            "tags": []
          },
          "execution_count": 291
        }
      ]
    },
    {
      "cell_type": "markdown",
      "metadata": {
        "id": "D2ito27GYXJW"
      },
      "source": [
        "### 7.4 Concatenating with mixed ndims\n",
        "You can concatenate a mix of Series and DataFrame objects. The Series will be transformed to DataFrame with the column name as the name of the Series.Since we’re concatenating a Series to a DataFrame, we could have achieved the same result with DataFrame.assign(). To concatenate an arbitrary number of pandas objects (DataFrame or Series), use concat."
      ],
      "id": "D2ito27GYXJW"
    },
    {
      "cell_type": "code",
      "metadata": {
        "colab": {
          "base_uri": "https://localhost:8080/",
          "height": 175
        },
        "id": "jgFzgbCMYXJX",
        "outputId": "20a0c5da-8645-4539-de48-9f49520044bb"
      },
      "source": [
        "s1 = pd.Series([\"X0\", \"X1\", \"X2\", \"X3\"], name=\"X\")\n",
        "result10 = pd.concat([df1, s1], axis=1)\n",
        "result10"
      ],
      "id": "jgFzgbCMYXJX",
      "execution_count": null,
      "outputs": [
        {
          "output_type": "execute_result",
          "data": {
            "text/html": [
              "<div>\n",
              "<style scoped>\n",
              "    .dataframe tbody tr th:only-of-type {\n",
              "        vertical-align: middle;\n",
              "    }\n",
              "\n",
              "    .dataframe tbody tr th {\n",
              "        vertical-align: top;\n",
              "    }\n",
              "\n",
              "    .dataframe thead th {\n",
              "        text-align: right;\n",
              "    }\n",
              "</style>\n",
              "<table border=\"1\" class=\"dataframe\">\n",
              "  <thead>\n",
              "    <tr style=\"text-align: right;\">\n",
              "      <th></th>\n",
              "      <th>A</th>\n",
              "      <th>B</th>\n",
              "      <th>C</th>\n",
              "      <th>D</th>\n",
              "      <th>X</th>\n",
              "    </tr>\n",
              "  </thead>\n",
              "  <tbody>\n",
              "    <tr>\n",
              "      <th>0</th>\n",
              "      <td>A0</td>\n",
              "      <td>B0</td>\n",
              "      <td>C0</td>\n",
              "      <td>D0</td>\n",
              "      <td>X0</td>\n",
              "    </tr>\n",
              "    <tr>\n",
              "      <th>1</th>\n",
              "      <td>A1</td>\n",
              "      <td>B1</td>\n",
              "      <td>C1</td>\n",
              "      <td>D1</td>\n",
              "      <td>X1</td>\n",
              "    </tr>\n",
              "    <tr>\n",
              "      <th>2</th>\n",
              "      <td>A2</td>\n",
              "      <td>B2</td>\n",
              "      <td>C2</td>\n",
              "      <td>D2</td>\n",
              "      <td>X2</td>\n",
              "    </tr>\n",
              "    <tr>\n",
              "      <th>3</th>\n",
              "      <td>A3</td>\n",
              "      <td>B3</td>\n",
              "      <td>C3</td>\n",
              "      <td>D3</td>\n",
              "      <td>X3</td>\n",
              "    </tr>\n",
              "  </tbody>\n",
              "</table>\n",
              "</div>"
            ],
            "text/plain": [
              "    A   B   C   D   X\n",
              "0  A0  B0  C0  D0  X0\n",
              "1  A1  B1  C1  D1  X1\n",
              "2  A2  B2  C2  D2  X2\n",
              "3  A3  B3  C3  D3  X3"
            ]
          },
          "metadata": {
            "tags": []
          },
          "execution_count": 292
        }
      ]
    },
    {
      "cell_type": "code",
      "metadata": {
        "colab": {
          "base_uri": "https://localhost:8080/",
          "height": 175
        },
        "id": "UJZwt7CUYXJX",
        "outputId": "f3b008e8-3aa7-4f3a-ae84-97b6509d7524"
      },
      "source": [
        "#If unnamed Series are passed they will be numbered consecutively.\n",
        "s2 = pd.Series([\"_0\", \"_1\", \"_2\", \"_3\"])\n",
        "result11 = pd.concat([df1, s2, s2, s2], axis=1)\n",
        "result11"
      ],
      "id": "UJZwt7CUYXJX",
      "execution_count": null,
      "outputs": [
        {
          "output_type": "execute_result",
          "data": {
            "text/html": [
              "<div>\n",
              "<style scoped>\n",
              "    .dataframe tbody tr th:only-of-type {\n",
              "        vertical-align: middle;\n",
              "    }\n",
              "\n",
              "    .dataframe tbody tr th {\n",
              "        vertical-align: top;\n",
              "    }\n",
              "\n",
              "    .dataframe thead th {\n",
              "        text-align: right;\n",
              "    }\n",
              "</style>\n",
              "<table border=\"1\" class=\"dataframe\">\n",
              "  <thead>\n",
              "    <tr style=\"text-align: right;\">\n",
              "      <th></th>\n",
              "      <th>A</th>\n",
              "      <th>B</th>\n",
              "      <th>C</th>\n",
              "      <th>D</th>\n",
              "      <th>0</th>\n",
              "      <th>1</th>\n",
              "      <th>2</th>\n",
              "    </tr>\n",
              "  </thead>\n",
              "  <tbody>\n",
              "    <tr>\n",
              "      <th>0</th>\n",
              "      <td>A0</td>\n",
              "      <td>B0</td>\n",
              "      <td>C0</td>\n",
              "      <td>D0</td>\n",
              "      <td>_0</td>\n",
              "      <td>_0</td>\n",
              "      <td>_0</td>\n",
              "    </tr>\n",
              "    <tr>\n",
              "      <th>1</th>\n",
              "      <td>A1</td>\n",
              "      <td>B1</td>\n",
              "      <td>C1</td>\n",
              "      <td>D1</td>\n",
              "      <td>_1</td>\n",
              "      <td>_1</td>\n",
              "      <td>_1</td>\n",
              "    </tr>\n",
              "    <tr>\n",
              "      <th>2</th>\n",
              "      <td>A2</td>\n",
              "      <td>B2</td>\n",
              "      <td>C2</td>\n",
              "      <td>D2</td>\n",
              "      <td>_2</td>\n",
              "      <td>_2</td>\n",
              "      <td>_2</td>\n",
              "    </tr>\n",
              "    <tr>\n",
              "      <th>3</th>\n",
              "      <td>A3</td>\n",
              "      <td>B3</td>\n",
              "      <td>C3</td>\n",
              "      <td>D3</td>\n",
              "      <td>_3</td>\n",
              "      <td>_3</td>\n",
              "      <td>_3</td>\n",
              "    </tr>\n",
              "  </tbody>\n",
              "</table>\n",
              "</div>"
            ],
            "text/plain": [
              "    A   B   C   D   0   1   2\n",
              "0  A0  B0  C0  D0  _0  _0  _0\n",
              "1  A1  B1  C1  D1  _1  _1  _1\n",
              "2  A2  B2  C2  D2  _2  _2  _2\n",
              "3  A3  B3  C3  D3  _3  _3  _3"
            ]
          },
          "metadata": {
            "tags": []
          },
          "execution_count": 293
        }
      ]
    },
    {
      "cell_type": "code",
      "metadata": {
        "colab": {
          "base_uri": "https://localhost:8080/",
          "height": 175
        },
        "id": "KQmCSgyrYXJX",
        "outputId": "f93fe395-aa4d-4f6c-ab0a-7f18aa11b93a"
      },
      "source": [
        "#Passing ignore_index=True will drop all name references.\n",
        "result12 = pd.concat([df1, s1], axis=1, ignore_index=True)\n",
        "result12"
      ],
      "id": "KQmCSgyrYXJX",
      "execution_count": null,
      "outputs": [
        {
          "output_type": "execute_result",
          "data": {
            "text/html": [
              "<div>\n",
              "<style scoped>\n",
              "    .dataframe tbody tr th:only-of-type {\n",
              "        vertical-align: middle;\n",
              "    }\n",
              "\n",
              "    .dataframe tbody tr th {\n",
              "        vertical-align: top;\n",
              "    }\n",
              "\n",
              "    .dataframe thead th {\n",
              "        text-align: right;\n",
              "    }\n",
              "</style>\n",
              "<table border=\"1\" class=\"dataframe\">\n",
              "  <thead>\n",
              "    <tr style=\"text-align: right;\">\n",
              "      <th></th>\n",
              "      <th>0</th>\n",
              "      <th>1</th>\n",
              "      <th>2</th>\n",
              "      <th>3</th>\n",
              "      <th>4</th>\n",
              "    </tr>\n",
              "  </thead>\n",
              "  <tbody>\n",
              "    <tr>\n",
              "      <th>0</th>\n",
              "      <td>A0</td>\n",
              "      <td>B0</td>\n",
              "      <td>C0</td>\n",
              "      <td>D0</td>\n",
              "      <td>X0</td>\n",
              "    </tr>\n",
              "    <tr>\n",
              "      <th>1</th>\n",
              "      <td>A1</td>\n",
              "      <td>B1</td>\n",
              "      <td>C1</td>\n",
              "      <td>D1</td>\n",
              "      <td>X1</td>\n",
              "    </tr>\n",
              "    <tr>\n",
              "      <th>2</th>\n",
              "      <td>A2</td>\n",
              "      <td>B2</td>\n",
              "      <td>C2</td>\n",
              "      <td>D2</td>\n",
              "      <td>X2</td>\n",
              "    </tr>\n",
              "    <tr>\n",
              "      <th>3</th>\n",
              "      <td>A3</td>\n",
              "      <td>B3</td>\n",
              "      <td>C3</td>\n",
              "      <td>D3</td>\n",
              "      <td>X3</td>\n",
              "    </tr>\n",
              "  </tbody>\n",
              "</table>\n",
              "</div>"
            ],
            "text/plain": [
              "    0   1   2   3   4\n",
              "0  A0  B0  C0  D0  X0\n",
              "1  A1  B1  C1  D1  X1\n",
              "2  A2  B2  C2  D2  X2\n",
              "3  A3  B3  C3  D3  X3"
            ]
          },
          "metadata": {
            "tags": []
          },
          "execution_count": 294
        }
      ]
    },
    {
      "cell_type": "markdown",
      "metadata": {
        "id": "416z6tqOYXJX"
      },
      "source": [
        "### 7.5 concatenating with group keys\n",
        "A fairly common use of the keys argument is to override the column names when creating a new DataFrame based on existing Series. Notice how the default behaviour consists on letting the resulting DataFrame inherit the parent Series’ name, when these existed."
      ],
      "id": "416z6tqOYXJX"
    },
    {
      "cell_type": "code",
      "metadata": {
        "colab": {
          "base_uri": "https://localhost:8080/",
          "height": 175
        },
        "id": "hQYcQMu2YXJX",
        "outputId": "32c52190-c9ad-482e-a125-948b1eb66598"
      },
      "source": [
        "s3 = pd.Series([0, 1, 2, 3], name=\"foo\")\n",
        "s4 = pd.Series([0, 1, 2, 3])\n",
        "s5 = pd.Series([0, 1, 4, 5])\n",
        "pd.concat([s3, s4, s5], axis=1)"
      ],
      "id": "hQYcQMu2YXJX",
      "execution_count": null,
      "outputs": [
        {
          "output_type": "execute_result",
          "data": {
            "text/html": [
              "<div>\n",
              "<style scoped>\n",
              "    .dataframe tbody tr th:only-of-type {\n",
              "        vertical-align: middle;\n",
              "    }\n",
              "\n",
              "    .dataframe tbody tr th {\n",
              "        vertical-align: top;\n",
              "    }\n",
              "\n",
              "    .dataframe thead th {\n",
              "        text-align: right;\n",
              "    }\n",
              "</style>\n",
              "<table border=\"1\" class=\"dataframe\">\n",
              "  <thead>\n",
              "    <tr style=\"text-align: right;\">\n",
              "      <th></th>\n",
              "      <th>foo</th>\n",
              "      <th>0</th>\n",
              "      <th>1</th>\n",
              "    </tr>\n",
              "  </thead>\n",
              "  <tbody>\n",
              "    <tr>\n",
              "      <th>0</th>\n",
              "      <td>0</td>\n",
              "      <td>0</td>\n",
              "      <td>0</td>\n",
              "    </tr>\n",
              "    <tr>\n",
              "      <th>1</th>\n",
              "      <td>1</td>\n",
              "      <td>1</td>\n",
              "      <td>1</td>\n",
              "    </tr>\n",
              "    <tr>\n",
              "      <th>2</th>\n",
              "      <td>2</td>\n",
              "      <td>2</td>\n",
              "      <td>4</td>\n",
              "    </tr>\n",
              "    <tr>\n",
              "      <th>3</th>\n",
              "      <td>3</td>\n",
              "      <td>3</td>\n",
              "      <td>5</td>\n",
              "    </tr>\n",
              "  </tbody>\n",
              "</table>\n",
              "</div>"
            ],
            "text/plain": [
              "   foo  0  1\n",
              "0    0  0  0\n",
              "1    1  1  1\n",
              "2    2  2  4\n",
              "3    3  3  5"
            ]
          },
          "metadata": {
            "tags": []
          },
          "execution_count": 295
        }
      ]
    },
    {
      "cell_type": "code",
      "metadata": {
        "colab": {
          "base_uri": "https://localhost:8080/",
          "height": 175
        },
        "id": "CuMqDqdrYXJY",
        "outputId": "71d08ce8-b5f7-4f66-9365-c33e04c4919e"
      },
      "source": [
        "#Through the keys argument we can override the existing column names.\n",
        "pd.concat([s3, s4, s5], axis=1, keys=[\"red\", \"blue\", \"yellow\"])"
      ],
      "id": "CuMqDqdrYXJY",
      "execution_count": null,
      "outputs": [
        {
          "output_type": "execute_result",
          "data": {
            "text/html": [
              "<div>\n",
              "<style scoped>\n",
              "    .dataframe tbody tr th:only-of-type {\n",
              "        vertical-align: middle;\n",
              "    }\n",
              "\n",
              "    .dataframe tbody tr th {\n",
              "        vertical-align: top;\n",
              "    }\n",
              "\n",
              "    .dataframe thead th {\n",
              "        text-align: right;\n",
              "    }\n",
              "</style>\n",
              "<table border=\"1\" class=\"dataframe\">\n",
              "  <thead>\n",
              "    <tr style=\"text-align: right;\">\n",
              "      <th></th>\n",
              "      <th>red</th>\n",
              "      <th>blue</th>\n",
              "      <th>yellow</th>\n",
              "    </tr>\n",
              "  </thead>\n",
              "  <tbody>\n",
              "    <tr>\n",
              "      <th>0</th>\n",
              "      <td>0</td>\n",
              "      <td>0</td>\n",
              "      <td>0</td>\n",
              "    </tr>\n",
              "    <tr>\n",
              "      <th>1</th>\n",
              "      <td>1</td>\n",
              "      <td>1</td>\n",
              "      <td>1</td>\n",
              "    </tr>\n",
              "    <tr>\n",
              "      <th>2</th>\n",
              "      <td>2</td>\n",
              "      <td>2</td>\n",
              "      <td>4</td>\n",
              "    </tr>\n",
              "    <tr>\n",
              "      <th>3</th>\n",
              "      <td>3</td>\n",
              "      <td>3</td>\n",
              "      <td>5</td>\n",
              "    </tr>\n",
              "  </tbody>\n",
              "</table>\n",
              "</div>"
            ],
            "text/plain": [
              "   red  blue  yellow\n",
              "0    0     0       0\n",
              "1    1     1       1\n",
              "2    2     2       4\n",
              "3    3     3       5"
            ]
          },
          "metadata": {
            "tags": []
          },
          "execution_count": 296
        }
      ]
    },
    {
      "cell_type": "code",
      "metadata": {
        "colab": {
          "base_uri": "https://localhost:8080/",
          "height": 426
        },
        "id": "GWDIkNtxYXJY",
        "outputId": "4eaecdf1-40b6-49f3-c336-8096f2870e61"
      },
      "source": [
        "#consider a variation of the very first example presented:\n",
        "result13 = pd.concat(frames, keys=[\"x\", \"y\", \"z\"])\n",
        "result13"
      ],
      "id": "GWDIkNtxYXJY",
      "execution_count": null,
      "outputs": [
        {
          "output_type": "execute_result",
          "data": {
            "text/html": [
              "<div>\n",
              "<style scoped>\n",
              "    .dataframe tbody tr th:only-of-type {\n",
              "        vertical-align: middle;\n",
              "    }\n",
              "\n",
              "    .dataframe tbody tr th {\n",
              "        vertical-align: top;\n",
              "    }\n",
              "\n",
              "    .dataframe thead th {\n",
              "        text-align: right;\n",
              "    }\n",
              "</style>\n",
              "<table border=\"1\" class=\"dataframe\">\n",
              "  <thead>\n",
              "    <tr style=\"text-align: right;\">\n",
              "      <th></th>\n",
              "      <th></th>\n",
              "      <th>A</th>\n",
              "      <th>B</th>\n",
              "      <th>C</th>\n",
              "      <th>D</th>\n",
              "    </tr>\n",
              "  </thead>\n",
              "  <tbody>\n",
              "    <tr>\n",
              "      <th rowspan=\"4\" valign=\"top\">x</th>\n",
              "      <th>0</th>\n",
              "      <td>A0</td>\n",
              "      <td>B0</td>\n",
              "      <td>C0</td>\n",
              "      <td>D0</td>\n",
              "    </tr>\n",
              "    <tr>\n",
              "      <th>1</th>\n",
              "      <td>A1</td>\n",
              "      <td>B1</td>\n",
              "      <td>C1</td>\n",
              "      <td>D1</td>\n",
              "    </tr>\n",
              "    <tr>\n",
              "      <th>2</th>\n",
              "      <td>A2</td>\n",
              "      <td>B2</td>\n",
              "      <td>C2</td>\n",
              "      <td>D2</td>\n",
              "    </tr>\n",
              "    <tr>\n",
              "      <th>3</th>\n",
              "      <td>A3</td>\n",
              "      <td>B3</td>\n",
              "      <td>C3</td>\n",
              "      <td>D3</td>\n",
              "    </tr>\n",
              "    <tr>\n",
              "      <th rowspan=\"4\" valign=\"top\">y</th>\n",
              "      <th>4</th>\n",
              "      <td>A4</td>\n",
              "      <td>B4</td>\n",
              "      <td>C4</td>\n",
              "      <td>D4</td>\n",
              "    </tr>\n",
              "    <tr>\n",
              "      <th>5</th>\n",
              "      <td>A5</td>\n",
              "      <td>B5</td>\n",
              "      <td>C5</td>\n",
              "      <td>D5</td>\n",
              "    </tr>\n",
              "    <tr>\n",
              "      <th>6</th>\n",
              "      <td>A6</td>\n",
              "      <td>B6</td>\n",
              "      <td>C6</td>\n",
              "      <td>D6</td>\n",
              "    </tr>\n",
              "    <tr>\n",
              "      <th>7</th>\n",
              "      <td>A7</td>\n",
              "      <td>B7</td>\n",
              "      <td>C7</td>\n",
              "      <td>D7</td>\n",
              "    </tr>\n",
              "    <tr>\n",
              "      <th rowspan=\"4\" valign=\"top\">z</th>\n",
              "      <th>8</th>\n",
              "      <td>A8</td>\n",
              "      <td>B8</td>\n",
              "      <td>C8</td>\n",
              "      <td>D8</td>\n",
              "    </tr>\n",
              "    <tr>\n",
              "      <th>9</th>\n",
              "      <td>A9</td>\n",
              "      <td>B9</td>\n",
              "      <td>C9</td>\n",
              "      <td>D9</td>\n",
              "    </tr>\n",
              "    <tr>\n",
              "      <th>10</th>\n",
              "      <td>A10</td>\n",
              "      <td>B10</td>\n",
              "      <td>C10</td>\n",
              "      <td>D10</td>\n",
              "    </tr>\n",
              "    <tr>\n",
              "      <th>11</th>\n",
              "      <td>A11</td>\n",
              "      <td>B11</td>\n",
              "      <td>C11</td>\n",
              "      <td>D11</td>\n",
              "    </tr>\n",
              "  </tbody>\n",
              "</table>\n",
              "</div>"
            ],
            "text/plain": [
              "        A    B    C    D\n",
              "x 0    A0   B0   C0   D0\n",
              "  1    A1   B1   C1   D1\n",
              "  2    A2   B2   C2   D2\n",
              "  3    A3   B3   C3   D3\n",
              "y 4    A4   B4   C4   D4\n",
              "  5    A5   B5   C5   D5\n",
              "  6    A6   B6   C6   D6\n",
              "  7    A7   B7   C7   D7\n",
              "z 8    A8   B8   C8   D8\n",
              "  9    A9   B9   C9   D9\n",
              "  10  A10  B10  C10  D10\n",
              "  11  A11  B11  C11  D11"
            ]
          },
          "metadata": {
            "tags": []
          },
          "execution_count": 297
        }
      ]
    },
    {
      "cell_type": "code",
      "metadata": {
        "colab": {
          "base_uri": "https://localhost:8080/",
          "height": 426
        },
        "id": "JQRmNP82YXJY",
        "outputId": "5b1774c5-fc3a-43bb-9a07-69c249a572db"
      },
      "source": [
        "#pass a dict to concat in which case the dict keys will be used for \n",
        "#the keys argument (unless other keys are specified):\n",
        "pieces = {\"x\": df1, \"y\": df2, \"z\": df3}\n",
        "result14 = pd.concat(pieces)\n",
        "result14"
      ],
      "id": "JQRmNP82YXJY",
      "execution_count": null,
      "outputs": [
        {
          "output_type": "execute_result",
          "data": {
            "text/html": [
              "<div>\n",
              "<style scoped>\n",
              "    .dataframe tbody tr th:only-of-type {\n",
              "        vertical-align: middle;\n",
              "    }\n",
              "\n",
              "    .dataframe tbody tr th {\n",
              "        vertical-align: top;\n",
              "    }\n",
              "\n",
              "    .dataframe thead th {\n",
              "        text-align: right;\n",
              "    }\n",
              "</style>\n",
              "<table border=\"1\" class=\"dataframe\">\n",
              "  <thead>\n",
              "    <tr style=\"text-align: right;\">\n",
              "      <th></th>\n",
              "      <th></th>\n",
              "      <th>A</th>\n",
              "      <th>B</th>\n",
              "      <th>C</th>\n",
              "      <th>D</th>\n",
              "    </tr>\n",
              "  </thead>\n",
              "  <tbody>\n",
              "    <tr>\n",
              "      <th rowspan=\"4\" valign=\"top\">x</th>\n",
              "      <th>0</th>\n",
              "      <td>A0</td>\n",
              "      <td>B0</td>\n",
              "      <td>C0</td>\n",
              "      <td>D0</td>\n",
              "    </tr>\n",
              "    <tr>\n",
              "      <th>1</th>\n",
              "      <td>A1</td>\n",
              "      <td>B1</td>\n",
              "      <td>C1</td>\n",
              "      <td>D1</td>\n",
              "    </tr>\n",
              "    <tr>\n",
              "      <th>2</th>\n",
              "      <td>A2</td>\n",
              "      <td>B2</td>\n",
              "      <td>C2</td>\n",
              "      <td>D2</td>\n",
              "    </tr>\n",
              "    <tr>\n",
              "      <th>3</th>\n",
              "      <td>A3</td>\n",
              "      <td>B3</td>\n",
              "      <td>C3</td>\n",
              "      <td>D3</td>\n",
              "    </tr>\n",
              "    <tr>\n",
              "      <th rowspan=\"4\" valign=\"top\">y</th>\n",
              "      <th>4</th>\n",
              "      <td>A4</td>\n",
              "      <td>B4</td>\n",
              "      <td>C4</td>\n",
              "      <td>D4</td>\n",
              "    </tr>\n",
              "    <tr>\n",
              "      <th>5</th>\n",
              "      <td>A5</td>\n",
              "      <td>B5</td>\n",
              "      <td>C5</td>\n",
              "      <td>D5</td>\n",
              "    </tr>\n",
              "    <tr>\n",
              "      <th>6</th>\n",
              "      <td>A6</td>\n",
              "      <td>B6</td>\n",
              "      <td>C6</td>\n",
              "      <td>D6</td>\n",
              "    </tr>\n",
              "    <tr>\n",
              "      <th>7</th>\n",
              "      <td>A7</td>\n",
              "      <td>B7</td>\n",
              "      <td>C7</td>\n",
              "      <td>D7</td>\n",
              "    </tr>\n",
              "    <tr>\n",
              "      <th rowspan=\"4\" valign=\"top\">z</th>\n",
              "      <th>8</th>\n",
              "      <td>A8</td>\n",
              "      <td>B8</td>\n",
              "      <td>C8</td>\n",
              "      <td>D8</td>\n",
              "    </tr>\n",
              "    <tr>\n",
              "      <th>9</th>\n",
              "      <td>A9</td>\n",
              "      <td>B9</td>\n",
              "      <td>C9</td>\n",
              "      <td>D9</td>\n",
              "    </tr>\n",
              "    <tr>\n",
              "      <th>10</th>\n",
              "      <td>A10</td>\n",
              "      <td>B10</td>\n",
              "      <td>C10</td>\n",
              "      <td>D10</td>\n",
              "    </tr>\n",
              "    <tr>\n",
              "      <th>11</th>\n",
              "      <td>A11</td>\n",
              "      <td>B11</td>\n",
              "      <td>C11</td>\n",
              "      <td>D11</td>\n",
              "    </tr>\n",
              "  </tbody>\n",
              "</table>\n",
              "</div>"
            ],
            "text/plain": [
              "        A    B    C    D\n",
              "x 0    A0   B0   C0   D0\n",
              "  1    A1   B1   C1   D1\n",
              "  2    A2   B2   C2   D2\n",
              "  3    A3   B3   C3   D3\n",
              "y 4    A4   B4   C4   D4\n",
              "  5    A5   B5   C5   D5\n",
              "  6    A6   B6   C6   D6\n",
              "  7    A7   B7   C7   D7\n",
              "z 8    A8   B8   C8   D8\n",
              "  9    A9   B9   C9   D9\n",
              "  10  A10  B10  C10  D10\n",
              "  11  A11  B11  C11  D11"
            ]
          },
          "metadata": {
            "tags": []
          },
          "execution_count": 298
        }
      ]
    },
    {
      "cell_type": "code",
      "metadata": {
        "colab": {
          "base_uri": "https://localhost:8080/",
          "height": 300
        },
        "id": "GO0Ha3-wYXJY",
        "outputId": "94c022bc-bd1f-4839-ad48-d56940f7a1ce"
      },
      "source": [
        "result15 = pd.concat(pieces, keys=[\"z\", \"y\"])\n",
        "result15"
      ],
      "id": "GO0Ha3-wYXJY",
      "execution_count": null,
      "outputs": [
        {
          "output_type": "execute_result",
          "data": {
            "text/html": [
              "<div>\n",
              "<style scoped>\n",
              "    .dataframe tbody tr th:only-of-type {\n",
              "        vertical-align: middle;\n",
              "    }\n",
              "\n",
              "    .dataframe tbody tr th {\n",
              "        vertical-align: top;\n",
              "    }\n",
              "\n",
              "    .dataframe thead th {\n",
              "        text-align: right;\n",
              "    }\n",
              "</style>\n",
              "<table border=\"1\" class=\"dataframe\">\n",
              "  <thead>\n",
              "    <tr style=\"text-align: right;\">\n",
              "      <th></th>\n",
              "      <th></th>\n",
              "      <th>A</th>\n",
              "      <th>B</th>\n",
              "      <th>C</th>\n",
              "      <th>D</th>\n",
              "    </tr>\n",
              "  </thead>\n",
              "  <tbody>\n",
              "    <tr>\n",
              "      <th rowspan=\"4\" valign=\"top\">z</th>\n",
              "      <th>8</th>\n",
              "      <td>A8</td>\n",
              "      <td>B8</td>\n",
              "      <td>C8</td>\n",
              "      <td>D8</td>\n",
              "    </tr>\n",
              "    <tr>\n",
              "      <th>9</th>\n",
              "      <td>A9</td>\n",
              "      <td>B9</td>\n",
              "      <td>C9</td>\n",
              "      <td>D9</td>\n",
              "    </tr>\n",
              "    <tr>\n",
              "      <th>10</th>\n",
              "      <td>A10</td>\n",
              "      <td>B10</td>\n",
              "      <td>C10</td>\n",
              "      <td>D10</td>\n",
              "    </tr>\n",
              "    <tr>\n",
              "      <th>11</th>\n",
              "      <td>A11</td>\n",
              "      <td>B11</td>\n",
              "      <td>C11</td>\n",
              "      <td>D11</td>\n",
              "    </tr>\n",
              "    <tr>\n",
              "      <th rowspan=\"4\" valign=\"top\">y</th>\n",
              "      <th>4</th>\n",
              "      <td>A4</td>\n",
              "      <td>B4</td>\n",
              "      <td>C4</td>\n",
              "      <td>D4</td>\n",
              "    </tr>\n",
              "    <tr>\n",
              "      <th>5</th>\n",
              "      <td>A5</td>\n",
              "      <td>B5</td>\n",
              "      <td>C5</td>\n",
              "      <td>D5</td>\n",
              "    </tr>\n",
              "    <tr>\n",
              "      <th>6</th>\n",
              "      <td>A6</td>\n",
              "      <td>B6</td>\n",
              "      <td>C6</td>\n",
              "      <td>D6</td>\n",
              "    </tr>\n",
              "    <tr>\n",
              "      <th>7</th>\n",
              "      <td>A7</td>\n",
              "      <td>B7</td>\n",
              "      <td>C7</td>\n",
              "      <td>D7</td>\n",
              "    </tr>\n",
              "  </tbody>\n",
              "</table>\n",
              "</div>"
            ],
            "text/plain": [
              "        A    B    C    D\n",
              "z 8    A8   B8   C8   D8\n",
              "  9    A9   B9   C9   D9\n",
              "  10  A10  B10  C10  D10\n",
              "  11  A11  B11  C11  D11\n",
              "y 4    A4   B4   C4   D4\n",
              "  5    A5   B5   C5   D5\n",
              "  6    A6   B6   C6   D6\n",
              "  7    A7   B7   C7   D7"
            ]
          },
          "metadata": {
            "tags": []
          },
          "execution_count": 299
        }
      ]
    },
    {
      "cell_type": "code",
      "metadata": {
        "colab": {
          "base_uri": "https://localhost:8080/"
        },
        "id": "2BpueBAxYXJY",
        "outputId": "1ad325c5-0913-4090-cc69-9adecdc36b82"
      },
      "source": [
        "#The MultiIndex created has levels that are constructed from \n",
        "#the passed keys and the index of the DataFrame pieces:\n",
        "result15.index.levels"
      ],
      "id": "2BpueBAxYXJY",
      "execution_count": null,
      "outputs": [
        {
          "output_type": "execute_result",
          "data": {
            "text/plain": [
              "FrozenList([['z', 'y'], [4, 5, 6, 7, 8, 9, 10, 11]])"
            ]
          },
          "metadata": {
            "tags": []
          },
          "execution_count": 300
        }
      ]
    },
    {
      "cell_type": "code",
      "metadata": {
        "colab": {
          "base_uri": "https://localhost:8080/",
          "height": 457
        },
        "id": "7VJJ00CqYXJY",
        "outputId": "e149131e-9cfa-4318-c27c-76a080762462"
      },
      "source": [
        "#If you wish to specify other levels (as will occasionally be the case),\n",
        "#you can do so using the levels argument:\n",
        "result16 = pd.concat(\n",
        "     pieces, keys=[\"x\", \"y\", \"z\"], levels=[[\"z\", \"y\", \"x\", \"w\"]],\n",
        "     names=[\"group_key\"]\n",
        ")\n",
        "result16"
      ],
      "id": "7VJJ00CqYXJY",
      "execution_count": null,
      "outputs": [
        {
          "output_type": "execute_result",
          "data": {
            "text/html": [
              "<div>\n",
              "<style scoped>\n",
              "    .dataframe tbody tr th:only-of-type {\n",
              "        vertical-align: middle;\n",
              "    }\n",
              "\n",
              "    .dataframe tbody tr th {\n",
              "        vertical-align: top;\n",
              "    }\n",
              "\n",
              "    .dataframe thead th {\n",
              "        text-align: right;\n",
              "    }\n",
              "</style>\n",
              "<table border=\"1\" class=\"dataframe\">\n",
              "  <thead>\n",
              "    <tr style=\"text-align: right;\">\n",
              "      <th></th>\n",
              "      <th></th>\n",
              "      <th>A</th>\n",
              "      <th>B</th>\n",
              "      <th>C</th>\n",
              "      <th>D</th>\n",
              "    </tr>\n",
              "    <tr>\n",
              "      <th>group_key</th>\n",
              "      <th></th>\n",
              "      <th></th>\n",
              "      <th></th>\n",
              "      <th></th>\n",
              "      <th></th>\n",
              "    </tr>\n",
              "  </thead>\n",
              "  <tbody>\n",
              "    <tr>\n",
              "      <th rowspan=\"4\" valign=\"top\">x</th>\n",
              "      <th>0</th>\n",
              "      <td>A0</td>\n",
              "      <td>B0</td>\n",
              "      <td>C0</td>\n",
              "      <td>D0</td>\n",
              "    </tr>\n",
              "    <tr>\n",
              "      <th>1</th>\n",
              "      <td>A1</td>\n",
              "      <td>B1</td>\n",
              "      <td>C1</td>\n",
              "      <td>D1</td>\n",
              "    </tr>\n",
              "    <tr>\n",
              "      <th>2</th>\n",
              "      <td>A2</td>\n",
              "      <td>B2</td>\n",
              "      <td>C2</td>\n",
              "      <td>D2</td>\n",
              "    </tr>\n",
              "    <tr>\n",
              "      <th>3</th>\n",
              "      <td>A3</td>\n",
              "      <td>B3</td>\n",
              "      <td>C3</td>\n",
              "      <td>D3</td>\n",
              "    </tr>\n",
              "    <tr>\n",
              "      <th rowspan=\"4\" valign=\"top\">y</th>\n",
              "      <th>4</th>\n",
              "      <td>A4</td>\n",
              "      <td>B4</td>\n",
              "      <td>C4</td>\n",
              "      <td>D4</td>\n",
              "    </tr>\n",
              "    <tr>\n",
              "      <th>5</th>\n",
              "      <td>A5</td>\n",
              "      <td>B5</td>\n",
              "      <td>C5</td>\n",
              "      <td>D5</td>\n",
              "    </tr>\n",
              "    <tr>\n",
              "      <th>6</th>\n",
              "      <td>A6</td>\n",
              "      <td>B6</td>\n",
              "      <td>C6</td>\n",
              "      <td>D6</td>\n",
              "    </tr>\n",
              "    <tr>\n",
              "      <th>7</th>\n",
              "      <td>A7</td>\n",
              "      <td>B7</td>\n",
              "      <td>C7</td>\n",
              "      <td>D7</td>\n",
              "    </tr>\n",
              "    <tr>\n",
              "      <th rowspan=\"4\" valign=\"top\">z</th>\n",
              "      <th>8</th>\n",
              "      <td>A8</td>\n",
              "      <td>B8</td>\n",
              "      <td>C8</td>\n",
              "      <td>D8</td>\n",
              "    </tr>\n",
              "    <tr>\n",
              "      <th>9</th>\n",
              "      <td>A9</td>\n",
              "      <td>B9</td>\n",
              "      <td>C9</td>\n",
              "      <td>D9</td>\n",
              "    </tr>\n",
              "    <tr>\n",
              "      <th>10</th>\n",
              "      <td>A10</td>\n",
              "      <td>B10</td>\n",
              "      <td>C10</td>\n",
              "      <td>D10</td>\n",
              "    </tr>\n",
              "    <tr>\n",
              "      <th>11</th>\n",
              "      <td>A11</td>\n",
              "      <td>B11</td>\n",
              "      <td>C11</td>\n",
              "      <td>D11</td>\n",
              "    </tr>\n",
              "  </tbody>\n",
              "</table>\n",
              "</div>"
            ],
            "text/plain": [
              "                A    B    C    D\n",
              "group_key                       \n",
              "x         0    A0   B0   C0   D0\n",
              "          1    A1   B1   C1   D1\n",
              "          2    A2   B2   C2   D2\n",
              "          3    A3   B3   C3   D3\n",
              "y         4    A4   B4   C4   D4\n",
              "          5    A5   B5   C5   D5\n",
              "          6    A6   B6   C6   D6\n",
              "          7    A7   B7   C7   D7\n",
              "z         8    A8   B8   C8   D8\n",
              "          9    A9   B9   C9   D9\n",
              "          10  A10  B10  C10  D10\n",
              "          11  A11  B11  C11  D11"
            ]
          },
          "metadata": {
            "tags": []
          },
          "execution_count": 301
        }
      ]
    },
    {
      "cell_type": "code",
      "metadata": {
        "colab": {
          "base_uri": "https://localhost:8080/"
        },
        "id": "cZNPWVgUYXJZ",
        "outputId": "ae2f61ba-56f9-49c0-adfc-764607d5d279"
      },
      "source": [
        "result16.index.levels"
      ],
      "id": "cZNPWVgUYXJZ",
      "execution_count": null,
      "outputs": [
        {
          "output_type": "execute_result",
          "data": {
            "text/plain": [
              "FrozenList([['z', 'y', 'x', 'w'], [0, 1, 2, 3, 4, 5, 6, 7, 8, 9, 10, 11]])"
            ]
          },
          "metadata": {
            "tags": []
          },
          "execution_count": 302
        }
      ]
    },
    {
      "cell_type": "markdown",
      "metadata": {
        "id": "c4yaTAa8YXJZ"
      },
      "source": [
        "### 7.6 Appending rows to a DataFrame\n",
        "While not especially efficient (since a new object must be created), you can append a single row to a DataFrame by passing a Series or dict to append, which returns a new DataFrame as above."
      ],
      "id": "c4yaTAa8YXJZ"
    },
    {
      "cell_type": "code",
      "metadata": {
        "colab": {
          "base_uri": "https://localhost:8080/",
          "height": 206
        },
        "id": "BKUfrH-xYXJZ",
        "outputId": "9542ffa3-5f43-4aed-b6f0-b52bd3d0dbb2"
      },
      "source": [
        "s2 = pd.Series([\"X0\", \"X1\", \"X2\", \"X3\"], index=[\"A\", \"B\", \"C\", \"D\"])\n",
        "result17 = df1.append(s2, ignore_index=True)\n",
        "result17"
      ],
      "id": "BKUfrH-xYXJZ",
      "execution_count": null,
      "outputs": [
        {
          "output_type": "execute_result",
          "data": {
            "text/html": [
              "<div>\n",
              "<style scoped>\n",
              "    .dataframe tbody tr th:only-of-type {\n",
              "        vertical-align: middle;\n",
              "    }\n",
              "\n",
              "    .dataframe tbody tr th {\n",
              "        vertical-align: top;\n",
              "    }\n",
              "\n",
              "    .dataframe thead th {\n",
              "        text-align: right;\n",
              "    }\n",
              "</style>\n",
              "<table border=\"1\" class=\"dataframe\">\n",
              "  <thead>\n",
              "    <tr style=\"text-align: right;\">\n",
              "      <th></th>\n",
              "      <th>A</th>\n",
              "      <th>B</th>\n",
              "      <th>C</th>\n",
              "      <th>D</th>\n",
              "    </tr>\n",
              "  </thead>\n",
              "  <tbody>\n",
              "    <tr>\n",
              "      <th>0</th>\n",
              "      <td>A0</td>\n",
              "      <td>B0</td>\n",
              "      <td>C0</td>\n",
              "      <td>D0</td>\n",
              "    </tr>\n",
              "    <tr>\n",
              "      <th>1</th>\n",
              "      <td>A1</td>\n",
              "      <td>B1</td>\n",
              "      <td>C1</td>\n",
              "      <td>D1</td>\n",
              "    </tr>\n",
              "    <tr>\n",
              "      <th>2</th>\n",
              "      <td>A2</td>\n",
              "      <td>B2</td>\n",
              "      <td>C2</td>\n",
              "      <td>D2</td>\n",
              "    </tr>\n",
              "    <tr>\n",
              "      <th>3</th>\n",
              "      <td>A3</td>\n",
              "      <td>B3</td>\n",
              "      <td>C3</td>\n",
              "      <td>D3</td>\n",
              "    </tr>\n",
              "    <tr>\n",
              "      <th>4</th>\n",
              "      <td>X0</td>\n",
              "      <td>X1</td>\n",
              "      <td>X2</td>\n",
              "      <td>X3</td>\n",
              "    </tr>\n",
              "  </tbody>\n",
              "</table>\n",
              "</div>"
            ],
            "text/plain": [
              "    A   B   C   D\n",
              "0  A0  B0  C0  D0\n",
              "1  A1  B1  C1  D1\n",
              "2  A2  B2  C2  D2\n",
              "3  A3  B3  C3  D3\n",
              "4  X0  X1  X2  X3"
            ]
          },
          "metadata": {
            "tags": []
          },
          "execution_count": 303
        }
      ]
    },
    {
      "cell_type": "markdown",
      "metadata": {
        "id": "f4V5yaLqYXJZ"
      },
      "source": [
        "You should use ignore_index with this method to instruct DataFrame to discard its index. If you wish to preserve the index, you should construct an appropriately-indexed DataFrame and append or concatenate those objects.\n",
        "\n",
        "You can also pass a list of dicts or Series:"
      ],
      "id": "f4V5yaLqYXJZ"
    },
    {
      "cell_type": "code",
      "metadata": {
        "colab": {
          "base_uri": "https://localhost:8080/",
          "height": 238
        },
        "id": "RdD5JxvmYXJZ",
        "outputId": "49e83877-95db-49dc-8687-21ef678afd8c"
      },
      "source": [
        "dicts = [{\"A\": 1, \"B\": 2, \"C\": 3, \"X\": 4}, {\"A\": 5, \"B\": 6, \"C\": 7, \"Y\": 8}]\n",
        "result18 = df1.append(dicts, ignore_index=True, sort=False)\n",
        "result18"
      ],
      "id": "RdD5JxvmYXJZ",
      "execution_count": null,
      "outputs": [
        {
          "output_type": "execute_result",
          "data": {
            "text/html": [
              "<div>\n",
              "<style scoped>\n",
              "    .dataframe tbody tr th:only-of-type {\n",
              "        vertical-align: middle;\n",
              "    }\n",
              "\n",
              "    .dataframe tbody tr th {\n",
              "        vertical-align: top;\n",
              "    }\n",
              "\n",
              "    .dataframe thead th {\n",
              "        text-align: right;\n",
              "    }\n",
              "</style>\n",
              "<table border=\"1\" class=\"dataframe\">\n",
              "  <thead>\n",
              "    <tr style=\"text-align: right;\">\n",
              "      <th></th>\n",
              "      <th>A</th>\n",
              "      <th>B</th>\n",
              "      <th>C</th>\n",
              "      <th>D</th>\n",
              "      <th>X</th>\n",
              "      <th>Y</th>\n",
              "    </tr>\n",
              "  </thead>\n",
              "  <tbody>\n",
              "    <tr>\n",
              "      <th>0</th>\n",
              "      <td>A0</td>\n",
              "      <td>B0</td>\n",
              "      <td>C0</td>\n",
              "      <td>D0</td>\n",
              "      <td>NaN</td>\n",
              "      <td>NaN</td>\n",
              "    </tr>\n",
              "    <tr>\n",
              "      <th>1</th>\n",
              "      <td>A1</td>\n",
              "      <td>B1</td>\n",
              "      <td>C1</td>\n",
              "      <td>D1</td>\n",
              "      <td>NaN</td>\n",
              "      <td>NaN</td>\n",
              "    </tr>\n",
              "    <tr>\n",
              "      <th>2</th>\n",
              "      <td>A2</td>\n",
              "      <td>B2</td>\n",
              "      <td>C2</td>\n",
              "      <td>D2</td>\n",
              "      <td>NaN</td>\n",
              "      <td>NaN</td>\n",
              "    </tr>\n",
              "    <tr>\n",
              "      <th>3</th>\n",
              "      <td>A3</td>\n",
              "      <td>B3</td>\n",
              "      <td>C3</td>\n",
              "      <td>D3</td>\n",
              "      <td>NaN</td>\n",
              "      <td>NaN</td>\n",
              "    </tr>\n",
              "    <tr>\n",
              "      <th>4</th>\n",
              "      <td>1</td>\n",
              "      <td>2</td>\n",
              "      <td>3</td>\n",
              "      <td>NaN</td>\n",
              "      <td>4.0</td>\n",
              "      <td>NaN</td>\n",
              "    </tr>\n",
              "    <tr>\n",
              "      <th>5</th>\n",
              "      <td>5</td>\n",
              "      <td>6</td>\n",
              "      <td>7</td>\n",
              "      <td>NaN</td>\n",
              "      <td>NaN</td>\n",
              "      <td>8.0</td>\n",
              "    </tr>\n",
              "  </tbody>\n",
              "</table>\n",
              "</div>"
            ],
            "text/plain": [
              "    A   B   C    D    X    Y\n",
              "0  A0  B0  C0   D0  NaN  NaN\n",
              "1  A1  B1  C1   D1  NaN  NaN\n",
              "2  A2  B2  C2   D2  NaN  NaN\n",
              "3  A3  B3  C3   D3  NaN  NaN\n",
              "4   1   2   3  NaN  4.0  NaN\n",
              "5   5   6   7  NaN  NaN  8.0"
            ]
          },
          "metadata": {
            "tags": []
          },
          "execution_count": 304
        }
      ]
    },
    {
      "cell_type": "markdown",
      "metadata": {
        "id": "4bK3aJHHYXJZ"
      },
      "source": [
        "### 7.7 Database-style DataFrame or named Series joining/merging\n",
        "pandas has full-featured, high performance in-memory join operations idiomatically very similar to relational databases like SQL. These methods perform significantly better (in some cases well over an order of magnitude better) than other open source implementations (like base::merge.data.frame in R). The reason for this is careful algorithmic design and the internal layout of the data in DataFrame.\n",
        "\n",
        "See the cookbook for some advanced strategies.\n",
        "\n",
        "Users who are familiar with SQL but new to pandas might be interested in a comparison with SQL.\n",
        "\n",
        "pandas provides a single function, merge(), as the entry point for all standard database join operations between DataFrame or named Series objects:\n",
        "\n",
        "pd.merge(left,right,how=\"inner\",on=None,left_on=None,right_on=None,\n",
        "     left_index=False,right_index=False,sort=True,suffixes=(\"_x\", \"_y\"),\n",
        "    copy=True,indicator=False,validate=None)\n",
        "\n",
        "The return type will be the same as left. If left is a DataFrame or named Series and right is a subclass of DataFrame, the return type will still be DataFrame.\n",
        "\n",
        "merge is a function in the pandas namespace, and it is also available as a DataFrame instance method merge(), with the calling DataFrame being implicitly considered the left object in the join.\n",
        "\n",
        "The related join() method, uses merge internally for the index-on-index (by default) and column(s)-on-index join. If you are joining on index only, you may wish to use DataFrame.join to save yourself some typing.\n",
        "\n",
        "#### Brief primer on merge methods (relational algebra)\n",
        "Experienced users of relational databases like SQL will be familiar with the terminology used to describe join operations between two SQL-table like structures (DataFrame objects). There are several cases to consider which are very important to understand:\n",
        "\n",
        "one-to-one joins: for example when joining two DataFrame objects on their indexes (which must contain unique values).\n",
        "\n",
        "many-to-one joins: for example when joining an index (unique) to one or more columns in a different DataFrame.\n",
        "\n",
        "many-to-many joins: joining columns on columns.\n",
        "\n",
        "It is worth spending some time understanding the result of the many-to-many join case. In SQL / standard relational algebra, if a key combination appears more than once in both tables, the resulting table will have the Cartesian product of the associated data. Here is a very basic example with one unique key combination:"
      ],
      "id": "4bK3aJHHYXJZ"
    },
    {
      "cell_type": "code",
      "metadata": {
        "colab": {
          "base_uri": "https://localhost:8080/",
          "height": 175
        },
        "id": "LpZalskuYXJa",
        "outputId": "ec120dfe-a5f8-4304-8a0c-87f658b8475a"
      },
      "source": [
        "left = pd.DataFrame(\n",
        "{\n",
        "   \"key\": [\"K0\", \"K1\", \"K2\", \"K3\"],\n",
        "    \"A\": [\"A0\", \"A1\", \"A2\", \"A3\"],\n",
        "    \"B\": [\"B0\", \"B1\", \"B2\", \"B3\"],\n",
        "}\n",
        ")\n",
        "\n",
        "right = pd.DataFrame(\n",
        "{\n",
        "    \"key\": [\"K0\", \"K1\", \"K2\", \"K3\"],\n",
        "     \"C\": [\"C0\", \"C1\", \"C2\", \"C3\"],\n",
        "     \"D\": [\"D0\", \"D1\", \"D2\", \"D3\"],\n",
        "}\n",
        ")\n",
        "\n",
        "result19 = pd.merge(left, right, on=\"key\")\n",
        "result19"
      ],
      "id": "LpZalskuYXJa",
      "execution_count": null,
      "outputs": [
        {
          "output_type": "execute_result",
          "data": {
            "text/html": [
              "<div>\n",
              "<style scoped>\n",
              "    .dataframe tbody tr th:only-of-type {\n",
              "        vertical-align: middle;\n",
              "    }\n",
              "\n",
              "    .dataframe tbody tr th {\n",
              "        vertical-align: top;\n",
              "    }\n",
              "\n",
              "    .dataframe thead th {\n",
              "        text-align: right;\n",
              "    }\n",
              "</style>\n",
              "<table border=\"1\" class=\"dataframe\">\n",
              "  <thead>\n",
              "    <tr style=\"text-align: right;\">\n",
              "      <th></th>\n",
              "      <th>key</th>\n",
              "      <th>A</th>\n",
              "      <th>B</th>\n",
              "      <th>C</th>\n",
              "      <th>D</th>\n",
              "    </tr>\n",
              "  </thead>\n",
              "  <tbody>\n",
              "    <tr>\n",
              "      <th>0</th>\n",
              "      <td>K0</td>\n",
              "      <td>A0</td>\n",
              "      <td>B0</td>\n",
              "      <td>C0</td>\n",
              "      <td>D0</td>\n",
              "    </tr>\n",
              "    <tr>\n",
              "      <th>1</th>\n",
              "      <td>K1</td>\n",
              "      <td>A1</td>\n",
              "      <td>B1</td>\n",
              "      <td>C1</td>\n",
              "      <td>D1</td>\n",
              "    </tr>\n",
              "    <tr>\n",
              "      <th>2</th>\n",
              "      <td>K2</td>\n",
              "      <td>A2</td>\n",
              "      <td>B2</td>\n",
              "      <td>C2</td>\n",
              "      <td>D2</td>\n",
              "    </tr>\n",
              "    <tr>\n",
              "      <th>3</th>\n",
              "      <td>K3</td>\n",
              "      <td>A3</td>\n",
              "      <td>B3</td>\n",
              "      <td>C3</td>\n",
              "      <td>D3</td>\n",
              "    </tr>\n",
              "  </tbody>\n",
              "</table>\n",
              "</div>"
            ],
            "text/plain": [
              "  key   A   B   C   D\n",
              "0  K0  A0  B0  C0  D0\n",
              "1  K1  A1  B1  C1  D1\n",
              "2  K2  A2  B2  C2  D2\n",
              "3  K3  A3  B3  C3  D3"
            ]
          },
          "metadata": {
            "tags": []
          },
          "execution_count": 305
        }
      ]
    },
    {
      "cell_type": "markdown",
      "metadata": {
        "id": "poLjVvyPYXJa"
      },
      "source": [
        "Here is a more complicated example with multiple join keys. Only the keys appearing in left and right are present (the intersection), since how='inner' by default."
      ],
      "id": "poLjVvyPYXJa"
    },
    {
      "cell_type": "code",
      "metadata": {
        "scrolled": true,
        "colab": {
          "base_uri": "https://localhost:8080/",
          "height": 143
        },
        "id": "rSR1hAOxYXJa",
        "outputId": "e1f61d82-3c75-4ed9-820c-27c75030344a"
      },
      "source": [
        "left = pd.DataFrame(\n",
        "{\n",
        "    \"key1\": [\"K0\", \"K0\", \"K1\", \"K2\"],\n",
        "    \"key2\": [\"K0\", \"K1\", \"K0\", \"K1\"],\n",
        "     \"A\": [\"A0\", \"A1\", \"A2\", \"A3\"],\n",
        "     \"B\": [\"B0\", \"B1\", \"B2\", \"B3\"],\n",
        "}\n",
        ")\n",
        "\n",
        "right = pd.DataFrame(\n",
        "{\n",
        "     \"key1\": [\"K0\", \"K1\", \"K1\", \"K2\"],\n",
        "     \"key2\": [\"K0\", \"K0\", \"K0\", \"K0\"],\n",
        "     \"C\": [\"C0\", \"C1\", \"C2\", \"C3\"],\n",
        "     \"D\": [\"D0\", \"D1\", \"D2\", \"D3\"],\n",
        "}\n",
        ")\n",
        "result20 = pd.merge(left, right, on=[\"key1\", \"key2\"])\n",
        "result20"
      ],
      "id": "rSR1hAOxYXJa",
      "execution_count": null,
      "outputs": [
        {
          "output_type": "execute_result",
          "data": {
            "text/html": [
              "<div>\n",
              "<style scoped>\n",
              "    .dataframe tbody tr th:only-of-type {\n",
              "        vertical-align: middle;\n",
              "    }\n",
              "\n",
              "    .dataframe tbody tr th {\n",
              "        vertical-align: top;\n",
              "    }\n",
              "\n",
              "    .dataframe thead th {\n",
              "        text-align: right;\n",
              "    }\n",
              "</style>\n",
              "<table border=\"1\" class=\"dataframe\">\n",
              "  <thead>\n",
              "    <tr style=\"text-align: right;\">\n",
              "      <th></th>\n",
              "      <th>key1</th>\n",
              "      <th>key2</th>\n",
              "      <th>A</th>\n",
              "      <th>B</th>\n",
              "      <th>C</th>\n",
              "      <th>D</th>\n",
              "    </tr>\n",
              "  </thead>\n",
              "  <tbody>\n",
              "    <tr>\n",
              "      <th>0</th>\n",
              "      <td>K0</td>\n",
              "      <td>K0</td>\n",
              "      <td>A0</td>\n",
              "      <td>B0</td>\n",
              "      <td>C0</td>\n",
              "      <td>D0</td>\n",
              "    </tr>\n",
              "    <tr>\n",
              "      <th>1</th>\n",
              "      <td>K1</td>\n",
              "      <td>K0</td>\n",
              "      <td>A2</td>\n",
              "      <td>B2</td>\n",
              "      <td>C1</td>\n",
              "      <td>D1</td>\n",
              "    </tr>\n",
              "    <tr>\n",
              "      <th>2</th>\n",
              "      <td>K1</td>\n",
              "      <td>K0</td>\n",
              "      <td>A2</td>\n",
              "      <td>B2</td>\n",
              "      <td>C2</td>\n",
              "      <td>D2</td>\n",
              "    </tr>\n",
              "  </tbody>\n",
              "</table>\n",
              "</div>"
            ],
            "text/plain": [
              "  key1 key2   A   B   C   D\n",
              "0   K0   K0  A0  B0  C0  D0\n",
              "1   K1   K0  A2  B2  C1  D1\n",
              "2   K1   K0  A2  B2  C2  D2"
            ]
          },
          "metadata": {
            "tags": []
          },
          "execution_count": 306
        }
      ]
    },
    {
      "cell_type": "markdown",
      "metadata": {
        "id": "_WqZtIs0YXJa"
      },
      "source": [
        "![mergemethod.png](https://url2img-web.herokuapp.com/aHR0cHM6Ly9wYW5kYXMucHlkYXRhLm9yZy9wYW5kYXMtZG9jcy9zdGFibGUvcmVmZXJlbmNlL2FwaS9wYW5kYXMubWVyZ2UuaHRtbA==)"
      ],
      "id": "_WqZtIs0YXJa"
    },
    {
      "cell_type": "code",
      "metadata": {
        "colab": {
          "base_uri": "https://localhost:8080/",
          "height": 206
        },
        "id": "fzQ5vtltYXJa",
        "outputId": "932b939a-b7f5-40ac-b410-f00de1160096"
      },
      "source": [
        "result21 = pd.merge(left, right, how=\"left\", on=[\"key1\", \"key2\"])\n",
        "result21"
      ],
      "id": "fzQ5vtltYXJa",
      "execution_count": null,
      "outputs": [
        {
          "output_type": "execute_result",
          "data": {
            "text/html": [
              "<div>\n",
              "<style scoped>\n",
              "    .dataframe tbody tr th:only-of-type {\n",
              "        vertical-align: middle;\n",
              "    }\n",
              "\n",
              "    .dataframe tbody tr th {\n",
              "        vertical-align: top;\n",
              "    }\n",
              "\n",
              "    .dataframe thead th {\n",
              "        text-align: right;\n",
              "    }\n",
              "</style>\n",
              "<table border=\"1\" class=\"dataframe\">\n",
              "  <thead>\n",
              "    <tr style=\"text-align: right;\">\n",
              "      <th></th>\n",
              "      <th>key1</th>\n",
              "      <th>key2</th>\n",
              "      <th>A</th>\n",
              "      <th>B</th>\n",
              "      <th>C</th>\n",
              "      <th>D</th>\n",
              "    </tr>\n",
              "  </thead>\n",
              "  <tbody>\n",
              "    <tr>\n",
              "      <th>0</th>\n",
              "      <td>K0</td>\n",
              "      <td>K0</td>\n",
              "      <td>A0</td>\n",
              "      <td>B0</td>\n",
              "      <td>C0</td>\n",
              "      <td>D0</td>\n",
              "    </tr>\n",
              "    <tr>\n",
              "      <th>1</th>\n",
              "      <td>K0</td>\n",
              "      <td>K1</td>\n",
              "      <td>A1</td>\n",
              "      <td>B1</td>\n",
              "      <td>NaN</td>\n",
              "      <td>NaN</td>\n",
              "    </tr>\n",
              "    <tr>\n",
              "      <th>2</th>\n",
              "      <td>K1</td>\n",
              "      <td>K0</td>\n",
              "      <td>A2</td>\n",
              "      <td>B2</td>\n",
              "      <td>C1</td>\n",
              "      <td>D1</td>\n",
              "    </tr>\n",
              "    <tr>\n",
              "      <th>3</th>\n",
              "      <td>K1</td>\n",
              "      <td>K0</td>\n",
              "      <td>A2</td>\n",
              "      <td>B2</td>\n",
              "      <td>C2</td>\n",
              "      <td>D2</td>\n",
              "    </tr>\n",
              "    <tr>\n",
              "      <th>4</th>\n",
              "      <td>K2</td>\n",
              "      <td>K1</td>\n",
              "      <td>A3</td>\n",
              "      <td>B3</td>\n",
              "      <td>NaN</td>\n",
              "      <td>NaN</td>\n",
              "    </tr>\n",
              "  </tbody>\n",
              "</table>\n",
              "</div>"
            ],
            "text/plain": [
              "  key1 key2   A   B    C    D\n",
              "0   K0   K0  A0  B0   C0   D0\n",
              "1   K0   K1  A1  B1  NaN  NaN\n",
              "2   K1   K0  A2  B2   C1   D1\n",
              "3   K1   K0  A2  B2   C2   D2\n",
              "4   K2   K1  A3  B3  NaN  NaN"
            ]
          },
          "metadata": {
            "tags": []
          },
          "execution_count": 307
        }
      ]
    },
    {
      "cell_type": "code",
      "metadata": {
        "colab": {
          "base_uri": "https://localhost:8080/",
          "height": 175
        },
        "id": "_AL_y3hqYXJa",
        "outputId": "103e1528-e6b8-46a6-a42d-9880820f96b4"
      },
      "source": [
        "result22 = pd.merge(left, right, how=\"right\", on=[\"key1\", \"key2\"])\n",
        "result22"
      ],
      "id": "_AL_y3hqYXJa",
      "execution_count": null,
      "outputs": [
        {
          "output_type": "execute_result",
          "data": {
            "text/html": [
              "<div>\n",
              "<style scoped>\n",
              "    .dataframe tbody tr th:only-of-type {\n",
              "        vertical-align: middle;\n",
              "    }\n",
              "\n",
              "    .dataframe tbody tr th {\n",
              "        vertical-align: top;\n",
              "    }\n",
              "\n",
              "    .dataframe thead th {\n",
              "        text-align: right;\n",
              "    }\n",
              "</style>\n",
              "<table border=\"1\" class=\"dataframe\">\n",
              "  <thead>\n",
              "    <tr style=\"text-align: right;\">\n",
              "      <th></th>\n",
              "      <th>key1</th>\n",
              "      <th>key2</th>\n",
              "      <th>A</th>\n",
              "      <th>B</th>\n",
              "      <th>C</th>\n",
              "      <th>D</th>\n",
              "    </tr>\n",
              "  </thead>\n",
              "  <tbody>\n",
              "    <tr>\n",
              "      <th>0</th>\n",
              "      <td>K0</td>\n",
              "      <td>K0</td>\n",
              "      <td>A0</td>\n",
              "      <td>B0</td>\n",
              "      <td>C0</td>\n",
              "      <td>D0</td>\n",
              "    </tr>\n",
              "    <tr>\n",
              "      <th>1</th>\n",
              "      <td>K1</td>\n",
              "      <td>K0</td>\n",
              "      <td>A2</td>\n",
              "      <td>B2</td>\n",
              "      <td>C1</td>\n",
              "      <td>D1</td>\n",
              "    </tr>\n",
              "    <tr>\n",
              "      <th>2</th>\n",
              "      <td>K1</td>\n",
              "      <td>K0</td>\n",
              "      <td>A2</td>\n",
              "      <td>B2</td>\n",
              "      <td>C2</td>\n",
              "      <td>D2</td>\n",
              "    </tr>\n",
              "    <tr>\n",
              "      <th>3</th>\n",
              "      <td>K2</td>\n",
              "      <td>K0</td>\n",
              "      <td>NaN</td>\n",
              "      <td>NaN</td>\n",
              "      <td>C3</td>\n",
              "      <td>D3</td>\n",
              "    </tr>\n",
              "  </tbody>\n",
              "</table>\n",
              "</div>"
            ],
            "text/plain": [
              "  key1 key2    A    B   C   D\n",
              "0   K0   K0   A0   B0  C0  D0\n",
              "1   K1   K0   A2   B2  C1  D1\n",
              "2   K1   K0   A2   B2  C2  D2\n",
              "3   K2   K0  NaN  NaN  C3  D3"
            ]
          },
          "metadata": {
            "tags": []
          },
          "execution_count": 308
        }
      ]
    },
    {
      "cell_type": "code",
      "metadata": {
        "scrolled": true,
        "colab": {
          "base_uri": "https://localhost:8080/",
          "height": 238
        },
        "id": "VH1bxzBdYXJb",
        "outputId": "cfe1dce6-39b4-43e9-e10c-59af925e3f61"
      },
      "source": [
        "result23 = pd.merge(left, right, how=\"outer\", on=[\"key1\", \"key2\"])\n",
        "result23"
      ],
      "id": "VH1bxzBdYXJb",
      "execution_count": null,
      "outputs": [
        {
          "output_type": "execute_result",
          "data": {
            "text/html": [
              "<div>\n",
              "<style scoped>\n",
              "    .dataframe tbody tr th:only-of-type {\n",
              "        vertical-align: middle;\n",
              "    }\n",
              "\n",
              "    .dataframe tbody tr th {\n",
              "        vertical-align: top;\n",
              "    }\n",
              "\n",
              "    .dataframe thead th {\n",
              "        text-align: right;\n",
              "    }\n",
              "</style>\n",
              "<table border=\"1\" class=\"dataframe\">\n",
              "  <thead>\n",
              "    <tr style=\"text-align: right;\">\n",
              "      <th></th>\n",
              "      <th>key1</th>\n",
              "      <th>key2</th>\n",
              "      <th>A</th>\n",
              "      <th>B</th>\n",
              "      <th>C</th>\n",
              "      <th>D</th>\n",
              "    </tr>\n",
              "  </thead>\n",
              "  <tbody>\n",
              "    <tr>\n",
              "      <th>0</th>\n",
              "      <td>K0</td>\n",
              "      <td>K0</td>\n",
              "      <td>A0</td>\n",
              "      <td>B0</td>\n",
              "      <td>C0</td>\n",
              "      <td>D0</td>\n",
              "    </tr>\n",
              "    <tr>\n",
              "      <th>1</th>\n",
              "      <td>K0</td>\n",
              "      <td>K1</td>\n",
              "      <td>A1</td>\n",
              "      <td>B1</td>\n",
              "      <td>NaN</td>\n",
              "      <td>NaN</td>\n",
              "    </tr>\n",
              "    <tr>\n",
              "      <th>2</th>\n",
              "      <td>K1</td>\n",
              "      <td>K0</td>\n",
              "      <td>A2</td>\n",
              "      <td>B2</td>\n",
              "      <td>C1</td>\n",
              "      <td>D1</td>\n",
              "    </tr>\n",
              "    <tr>\n",
              "      <th>3</th>\n",
              "      <td>K1</td>\n",
              "      <td>K0</td>\n",
              "      <td>A2</td>\n",
              "      <td>B2</td>\n",
              "      <td>C2</td>\n",
              "      <td>D2</td>\n",
              "    </tr>\n",
              "    <tr>\n",
              "      <th>4</th>\n",
              "      <td>K2</td>\n",
              "      <td>K1</td>\n",
              "      <td>A3</td>\n",
              "      <td>B3</td>\n",
              "      <td>NaN</td>\n",
              "      <td>NaN</td>\n",
              "    </tr>\n",
              "    <tr>\n",
              "      <th>5</th>\n",
              "      <td>K2</td>\n",
              "      <td>K0</td>\n",
              "      <td>NaN</td>\n",
              "      <td>NaN</td>\n",
              "      <td>C3</td>\n",
              "      <td>D3</td>\n",
              "    </tr>\n",
              "  </tbody>\n",
              "</table>\n",
              "</div>"
            ],
            "text/plain": [
              "  key1 key2    A    B    C    D\n",
              "0   K0   K0   A0   B0   C0   D0\n",
              "1   K0   K1   A1   B1  NaN  NaN\n",
              "2   K1   K0   A2   B2   C1   D1\n",
              "3   K1   K0   A2   B2   C2   D2\n",
              "4   K2   K1   A3   B3  NaN  NaN\n",
              "5   K2   K0  NaN  NaN   C3   D3"
            ]
          },
          "metadata": {
            "tags": []
          },
          "execution_count": 309
        }
      ]
    },
    {
      "cell_type": "code",
      "metadata": {
        "colab": {
          "base_uri": "https://localhost:8080/",
          "height": 143
        },
        "id": "jAR-OEbJYXJb",
        "outputId": "9acd3bb9-13a5-459d-d592-be515ec3a9e1"
      },
      "source": [
        "result24 = pd.merge(left, right, how=\"inner\", on=[\"key1\", \"key2\"])\n",
        "result24"
      ],
      "id": "jAR-OEbJYXJb",
      "execution_count": null,
      "outputs": [
        {
          "output_type": "execute_result",
          "data": {
            "text/html": [
              "<div>\n",
              "<style scoped>\n",
              "    .dataframe tbody tr th:only-of-type {\n",
              "        vertical-align: middle;\n",
              "    }\n",
              "\n",
              "    .dataframe tbody tr th {\n",
              "        vertical-align: top;\n",
              "    }\n",
              "\n",
              "    .dataframe thead th {\n",
              "        text-align: right;\n",
              "    }\n",
              "</style>\n",
              "<table border=\"1\" class=\"dataframe\">\n",
              "  <thead>\n",
              "    <tr style=\"text-align: right;\">\n",
              "      <th></th>\n",
              "      <th>key1</th>\n",
              "      <th>key2</th>\n",
              "      <th>A</th>\n",
              "      <th>B</th>\n",
              "      <th>C</th>\n",
              "      <th>D</th>\n",
              "    </tr>\n",
              "  </thead>\n",
              "  <tbody>\n",
              "    <tr>\n",
              "      <th>0</th>\n",
              "      <td>K0</td>\n",
              "      <td>K0</td>\n",
              "      <td>A0</td>\n",
              "      <td>B0</td>\n",
              "      <td>C0</td>\n",
              "      <td>D0</td>\n",
              "    </tr>\n",
              "    <tr>\n",
              "      <th>1</th>\n",
              "      <td>K1</td>\n",
              "      <td>K0</td>\n",
              "      <td>A2</td>\n",
              "      <td>B2</td>\n",
              "      <td>C1</td>\n",
              "      <td>D1</td>\n",
              "    </tr>\n",
              "    <tr>\n",
              "      <th>2</th>\n",
              "      <td>K1</td>\n",
              "      <td>K0</td>\n",
              "      <td>A2</td>\n",
              "      <td>B2</td>\n",
              "      <td>C2</td>\n",
              "      <td>D2</td>\n",
              "    </tr>\n",
              "  </tbody>\n",
              "</table>\n",
              "</div>"
            ],
            "text/plain": [
              "  key1 key2   A   B   C   D\n",
              "0   K0   K0  A0  B0  C0  D0\n",
              "1   K1   K0  A2  B2  C1  D1\n",
              "2   K1   K0  A2  B2  C2  D2"
            ]
          },
          "metadata": {
            "tags": []
          },
          "execution_count": 310
        }
      ]
    },
    {
      "cell_type": "markdown",
      "metadata": {
        "id": "XN70k1ndYXJb"
      },
      "source": [
        "### Exercise\n",
        "1.merge a mult-indexed Series and a DataFrame\n",
        "2.Transform the Series to a DataFrame using Series.reset_index() before merging"
      ],
      "id": "XN70k1ndYXJb"
    },
    {
      "cell_type": "code",
      "metadata": {
        "id": "wuf9DirQYXJb"
      },
      "source": [
        "df = pd.DataFrame({\"Let\": [\"A\", \"B\", \"C\"], \"Num\": [1, 2, 3]})\n",
        "\n",
        "ser = pd.Series(\n",
        "     [\"a\", \"b\", \"c\", \"d\", \"e\", \"f\"],\n",
        "     index=pd.MultiIndex.from_arrays(\n",
        "     [[\"A\", \"B\", \"C\"] * 2, [1, 2, 3, 4, 5, 6]], names=[\"Let\", \"Num\"]\n",
        "     ),\n",
        ")"
      ],
      "id": "wuf9DirQYXJb",
      "execution_count": null,
      "outputs": []
    },
    {
      "cell_type": "markdown",
      "metadata": {
        "id": "E5CnLck1YXJb"
      },
      "source": [
        "ANSWER:\n",
        " pd.merge(df, ser.reset_index(), on=[\"Let\", \"Num\"])"
      ],
      "id": "E5CnLck1YXJb"
    },
    {
      "cell_type": "markdown",
      "metadata": {
        "id": "1L_mZTSMYXJb"
      },
      "source": [
        "## 8.Aggregation and GroupBy\n",
        "\n",
        "groupby to group data within a single dataframe based on entries of a reference variable."
      ],
      "id": "1L_mZTSMYXJb"
    },
    {
      "cell_type": "markdown",
      "metadata": {
        "id": "Cj7qqu11YXJb"
      },
      "source": [
        "![summarize.png](https://url2img-web.herokuapp.com/aHR0cHM6Ly9wYW5kYXMucHlkYXRhLm9yZy9wYW5kYXMtZG9jcy9zdGFibGUvcmVmZXJlbmNlL2FwaS9wYW5kYXMuRGF0YUZyYW1lLmRlc2NyaWJlLmh0bWw=)"
      ],
      "id": "Cj7qqu11YXJb"
    },
    {
      "cell_type": "code",
      "metadata": {
        "colab": {
          "base_uri": "https://localhost:8080/",
          "height": 185
        },
        "id": "xb6I_7RuYXJb",
        "outputId": "2bb1279c-8d6a-43cb-d42c-284f422bcd68"
      },
      "source": [
        "#returns summary of all numerical variables (columns) in the dataset\n",
        "data.describe()"
      ],
      "id": "xb6I_7RuYXJb",
      "execution_count": null,
      "outputs": [
        {
          "output_type": "error",
          "ename": "AttributeError",
          "evalue": "ignored",
          "traceback": [
            "\u001b[0;31m---------------------------------------------------------------------------\u001b[0m",
            "\u001b[0;31mAttributeError\u001b[0m                            Traceback (most recent call last)",
            "\u001b[0;32m<ipython-input-312-31f4b67e16df>\u001b[0m in \u001b[0;36m<module>\u001b[0;34m()\u001b[0m\n\u001b[1;32m      1\u001b[0m \u001b[0;31m#returns summary of all numerical variables (columns) in the dataset\u001b[0m\u001b[0;34m\u001b[0m\u001b[0;34m\u001b[0m\u001b[0;34m\u001b[0m\u001b[0m\n\u001b[0;32m----> 2\u001b[0;31m \u001b[0mdata\u001b[0m\u001b[0;34m.\u001b[0m\u001b[0mdescribe\u001b[0m\u001b[0;34m(\u001b[0m\u001b[0;34m)\u001b[0m\u001b[0;34m\u001b[0m\u001b[0;34m\u001b[0m\u001b[0m\n\u001b[0m",
            "\u001b[0;31mAttributeError\u001b[0m: 'numpy.ndarray' object has no attribute 'describe'"
          ]
        }
      ]
    },
    {
      "cell_type": "code",
      "metadata": {
        "id": "qwjszP6lYXJc"
      },
      "source": [
        "data['Total'].std()"
      ],
      "id": "qwjszP6lYXJc",
      "execution_count": null,
      "outputs": []
    },
    {
      "cell_type": "code",
      "metadata": {
        "id": "LZKd0l1pYXJc"
      },
      "source": [
        "data['HP'].sum()"
      ],
      "id": "LZKd0l1pYXJc",
      "execution_count": null,
      "outputs": []
    },
    {
      "cell_type": "markdown",
      "metadata": {
        "id": "4HClL-qFYXJc"
      },
      "source": [
        "The groupby() function returns a GroupBy object, but essentially describes how the rows of the original data set has been split. the GroupBy object .groups variable is a dictionary whose keys are the computed unique groups and corresponding values being the axis labels belonging to each group.\n",
        "For example, grouping data by months and years.When it comes to our dataset we can group them by their type."
      ],
      "id": "4HClL-qFYXJc"
    },
    {
      "cell_type": "code",
      "metadata": {
        "id": "QdBkbeCYYXJc"
      },
      "source": [
        "data.groupby(['Type 1']).groups.keys()"
      ],
      "id": "QdBkbeCYYXJc",
      "execution_count": null,
      "outputs": []
    },
    {
      "cell_type": "code",
      "metadata": {
        "id": "KjGXukw9YXJc"
      },
      "source": [
        "#group by more than one variable, allowing more complex queries.\n",
        "#The average attack strength of different generations in each feature types\n",
        "data.groupby(['Type 1', 'Generation'])['Attack'].mean()"
      ],
      "id": "KjGXukw9YXJc",
      "execution_count": null,
      "outputs": []
    },
    {
      "cell_type": "markdown",
      "metadata": {
        "id": "p3mBbFWXYXJc"
      },
      "source": [
        "### 8.1Multiple Statistics per Group\n",
        "The final piece of syntax that we’ll examine is the “agg()” function for Pandas. The aggregation functionality provided by the agg() function allows multiple statistics to be calculated per group in one calculation. \n",
        "\n",
        "#### 8.1.1Applying a single function to columns in groups\n",
        "Instructions for aggregation are provided in the form of a python dictionary or list. The dictionary keys are used to specify the columns upon which you’d like to perform operations, and the dictionary values to specify the function to run."
      ],
      "id": "p3mBbFWXYXJc"
    },
    {
      "cell_type": "code",
      "metadata": {
        "id": "hAdLCMs_YXJc"
      },
      "source": [
        "data.groupby(\n",
        "   ['Type 1', 'Generation']\n",
        ").agg(\n",
        "    {\n",
        "         'Speed':min,    # show the min speed per group\n",
        "         'Legendary': \"count\",  # get the count of legendary\n",
        "         'Attack': 'first'  # get the first Attack per group\n",
        "    }\n",
        ")"
      ],
      "id": "hAdLCMs_YXJc",
      "execution_count": null,
      "outputs": []
    },
    {
      "cell_type": "markdown",
      "metadata": {
        "id": "KQBCXaRVYXJd"
      },
      "source": [
        "The aggregation dictionary syntax is flexible and can be defined before the operation. You can also define functions inline using “lambda” functions to extract statistics that are not provided by the built-in options."
      ],
      "id": "KQBCXaRVYXJd"
    },
    {
      "cell_type": "code",
      "metadata": {
        "id": "uBUj_O0FYXJd"
      },
      "source": [
        "aggregations = {\n",
        "    'HP':'max',\n",
        "    'Attack': lambda x: max(x) - 1\n",
        "}\n",
        "data.groupby('Type 1').agg(aggregations)"
      ],
      "id": "uBUj_O0FYXJd",
      "execution_count": null,
      "outputs": []
    },
    {
      "cell_type": "markdown",
      "metadata": {
        "id": "sJt0YzvDYXJd"
      },
      "source": [
        "#### 8.1.2 Applying multiple functions to columns in groups\n",
        "To apply multiple functions to a single column in your grouped data, expand the syntax above to pass in a list of functions as the value in your aggregation dataframe. "
      ],
      "id": "sJt0YzvDYXJd"
    },
    {
      "cell_type": "code",
      "metadata": {
        "id": "6sQcOFKoYXJd"
      },
      "source": [
        "data.groupby(\n",
        "   ['Type 1', 'Generation']\n",
        ").agg(\n",
        "    {\n",
        "         'Speed':[min,max,'mean'],    \n",
        "         'Legendary': \"count\", \n",
        "         'Attack':[min,'first','nunique'] \n",
        "    }\n",
        ")"
      ],
      "id": "6sQcOFKoYXJd",
      "execution_count": null,
      "outputs": []
    },
    {
      "cell_type": "markdown",
      "metadata": {
        "id": "9se62EB_YXJd"
      },
      "source": [
        "### 8.2 Renaming grouped aggregation columns\n",
        "We’ll examine two methods to group Dataframes and rename the column results in your work.\n",
        "#### 8.2.1 Recommended: Tuple Named Aggregations\n",
        "Introduced in Pandas 0.25.0, groupby aggregation with relabelling is supported using “named aggregation” with simple tuples. Python tuples are used to provide the column name on which to work on, along with the function to apply."
      ],
      "id": "9se62EB_YXJd"
    },
    {
      "cell_type": "code",
      "metadata": {
        "id": "NfBIEkvEYXJd"
      },
      "source": [
        "data.groupby('Generation').agg(\n",
        "    max_Attack=('Attack', max),\n",
        "    min_Attack=('Attack', min),\n",
        "    mean_Attack=('Attack', 'mean'),\n",
        "    Attacks_difference=(\"Attack\", lambda x: max(x)-min(x))    \n",
        ")"
      ],
      "id": "NfBIEkvEYXJd",
      "execution_count": null,
      "outputs": []
    },
    {
      "cell_type": "markdown",
      "metadata": {
        "id": "mYis9GZ4YXJd"
      },
      "source": [
        "### Exercise\n",
        "Please show Speed of min, mean, max, mode and ((max-min)^2)/2 in different generations for the monsters whose Legendary are FALSE."
      ],
      "id": "mYis9GZ4YXJd"
    },
    {
      "cell_type": "markdown",
      "metadata": {
        "id": "pCEagfF7YXJe"
      },
      "source": [
        "TIPS:\n",
        "data[data['Legendary']=='FALSE'].groupby('Generation').agg()"
      ],
      "id": "pCEagfF7YXJe"
    },
    {
      "cell_type": "markdown",
      "metadata": {
        "id": "YzvmZZymYXJe"
      },
      "source": [
        "## 10. Vectorized String Operations\n",
        "This vectorization of operations simplifies the syntax of operating on arrays of data: we no longer have to worry about the size or shape of the array, but just about what operation we want done. For arrays of strings, NumPy does not provide such simple access, and thus you're stuck using a more verbose loop syntax:\n"
      ],
      "id": "YzvmZZymYXJe"
    },
    {
      "cell_type": "code",
      "metadata": {
        "id": "ImJvdYZnYXJe"
      },
      "source": [
        "monster = ['Charizard', 'Bulbasaur', 'Eevee','Pikachu', 'Squirtle']\n",
        "[s.capitalize() for s in data]"
      ],
      "id": "ImJvdYZnYXJe",
      "execution_count": null,
      "outputs": []
    },
    {
      "cell_type": "markdown",
      "metadata": {
        "id": "tMAXdfTlYXJe"
      },
      "source": [
        "This is perhaps sufficient to work with some data, but it will break if there are any missing values.Pandas includes features to address both this need for vectorized string operations and for correctly handling missing data via the str attribute of Pandas Series and Index objects containing strings. So, for example, suppose we create a Pandas Series with this data:"
      ],
      "id": "tMAXdfTlYXJe"
    },
    {
      "cell_type": "code",
      "metadata": {
        "id": "PDIxRY6kYXJe"
      },
      "source": [
        "name =  ['Charizard', 'Bulbasaur',None, 'Eevee','Pikachu', 'Squirtle']\n",
        "names = pd.Series(name)\n",
        "names"
      ],
      "id": "PDIxRY6kYXJe",
      "execution_count": null,
      "outputs": []
    },
    {
      "cell_type": "code",
      "metadata": {
        "id": "YvOIg9IqYXJe"
      },
      "source": [
        "#call a single method that will capitalize all the entries, \n",
        "#while skipping over any missing values\n",
        "names.str.capitalize()"
      ],
      "id": "YvOIg9IqYXJe",
      "execution_count": null,
      "outputs": []
    },
    {
      "cell_type": "markdown",
      "metadata": {
        "id": "v23AoKgKYXJe"
      },
      "source": [
        "Tables of Pandas String Methods\n",
        "If you have a good understanding of string manipulation in Python, most of Pandas string syntax is intuitive enough that it's probably sufficient to just list a table of available methods; we will start with that here, before diving deeper into a few of the subtleties.\n",
        "monster = ['Charizard', 'Bulbasaur', 'Eevee','Pikachu', 'Squirtle']\n",
        "\n",
        "### 10.1 Methods similar to Python string methods\n",
        "Nearly all Python's built-in string methods are mirrored by a Pandas vectorized string method. Here is a list of Pandas str methods that mirror Python string methods:\n"
      ],
      "id": "v23AoKgKYXJe"
    },
    {
      "cell_type": "markdown",
      "metadata": {
        "id": "ulbSv5I7YXJe"
      },
      "source": [
        "![stringmethod.png](https://url2img-web.herokuapp.com/aHR0cHM6Ly9wYW5kYXMucHlkYXRhLm9yZy9wYW5kYXMtZG9jcy9zdGFibGUvcmVmZXJlbmNlL2FwaS9wYW5kYXMuU2VyaWVzLnN0ci5odG1s)"
      ],
      "id": "ulbSv5I7YXJe"
    },
    {
      "cell_type": "code",
      "metadata": {
        "id": "VbSOea4_YXJf"
      },
      "source": [
        "monsters = pd.Series(['Charizard Fire', 'Bulbasaur Grass', \n",
        "                      'Eevee Normal','Pikachu Electric', 'Squirtle Water'])\n",
        "monsters.str.lower()"
      ],
      "id": "VbSOea4_YXJf",
      "execution_count": null,
      "outputs": []
    },
    {
      "cell_type": "code",
      "metadata": {
        "id": "6aNzoXJIYXJf"
      },
      "source": [
        "monsters.str.len()"
      ],
      "id": "6aNzoXJIYXJf",
      "execution_count": null,
      "outputs": []
    },
    {
      "cell_type": "code",
      "metadata": {
        "id": "jxvnbT0oYXJf"
      },
      "source": [
        "monsters.str.startswith('P')"
      ],
      "id": "jxvnbT0oYXJf",
      "execution_count": null,
      "outputs": []
    },
    {
      "cell_type": "code",
      "metadata": {
        "id": "rlnyRNkPYXJf"
      },
      "source": [
        "monsters.str.split()"
      ],
      "id": "rlnyRNkPYXJf",
      "execution_count": null,
      "outputs": []
    },
    {
      "cell_type": "markdown",
      "metadata": {
        "id": "w0hCLK1jYXJf"
      },
      "source": [
        "### 10.2 Methods using regular expressions\n",
        "In addition, there are several methods that accept regular expressions to examine the content of each string element, and follow some of the API conventions of Python's built-in re module:"
      ],
      "id": "w0hCLK1jYXJf"
    },
    {
      "cell_type": "markdown",
      "metadata": {
        "id": "ywdhYVvrYXJg"
      },
      "source": [
        "|Python built-in|Pandas|\n",
        "|----|----|\n",
        "|[str.capitalize](https://docs.python.org/3/library/stdtypes.html#str.capitalize)|[str.capitalize](https://pandas.pydata.org/pandas-docs/stable/reference/api/pandas.Series.str.capitalize.html)|\n",
        "|[str.casefold](https://docs.python.org/3/library/stdtypes.html#str.casefold)|[str.casefold](https://pandas.pydata.org/pandas-docs/stable/reference/api/pandas.Series.str.casefold.html)|\n",
        "|[str.count](https://docs.python.org/3/library/stdtypes.html#str.count)|[str.count](https://pandas.pydata.org/pandas-docs/stable/reference/api/pandas.Series.str.count.html)|\n",
        "|[bytes.decode](https://docs.python.org/3/library/stdtypes.html#bytes.decode)|[str.decode](https://pandas.pydata.org/pandas-docs/stable/reference/api/pandas.Series.str.decode.html)"
      ],
      "id": "ywdhYVvrYXJg"
    },
    {
      "cell_type": "markdown",
      "metadata": {
        "id": "doJy7hgAYXJg"
      },
      "source": [
        "#### 10.2.1Vectorized item access and slicing\n",
        "The get() and slice() operations, in particular, enable vectorized element access from each array. For example, we can get a slice of the first three characters of each array using str.slice(0, 3). Note that this behavior is also available through Python's normal indexing syntax–for example, df.str.slice(0, 3) is equivalent to df.str[0:3]:"
      ],
      "id": "doJy7hgAYXJg"
    },
    {
      "cell_type": "code",
      "metadata": {
        "id": "T56R8jRQYXJg"
      },
      "source": [
        "monsters.str[0:3]"
      ],
      "id": "T56R8jRQYXJg",
      "execution_count": null,
      "outputs": []
    },
    {
      "cell_type": "markdown",
      "metadata": {
        "id": "B-39n-ziYXJg"
      },
      "source": [
        "Indexing via df.str.get(i) and df.str[i] is likewise similar.\n",
        "\n",
        "These get() and slice() methods also let you access elements of arrays returned by split(). For example, to extract the feature of each entry, we can combine split() and get():"
      ],
      "id": "B-39n-ziYXJg"
    },
    {
      "cell_type": "code",
      "metadata": {
        "id": "c5wXfg8GYXJg"
      },
      "source": [
        "monsters.str.split().str.get(-1)"
      ],
      "id": "c5wXfg8GYXJg",
      "execution_count": null,
      "outputs": []
    },
    {
      "cell_type": "markdown",
      "metadata": {
        "id": "sSJ13RvRYXJg"
      },
      "source": [
        "#### 10.2.2 Indicator variables\n",
        "Another method that requires a bit of extra explanation is the get_dummies() method. This is useful when your data has a column containing some sort of coded indicator. For example, we might have a dataset that contains information in the form of codes, such as A=\"first generation,\" B=\"legendary,\" C=\"multiple features,\" D=\"evolvable\":"
      ],
      "id": "sSJ13RvRYXJg"
    },
    {
      "cell_type": "code",
      "metadata": {
        "id": "hZoMfVCWYXJg"
      },
      "source": [
        "full_monsters = pd.DataFrame({'name': monster,\n",
        "                           'info': ['B|C|D', 'B|D', 'A|C',\n",
        "                                    'B|D', 'B|C|D']})\n",
        "full_monsters"
      ],
      "id": "hZoMfVCWYXJg",
      "execution_count": null,
      "outputs": []
    },
    {
      "cell_type": "code",
      "metadata": {
        "id": "5lBnwMSOYXJg"
      },
      "source": [
        "full_monsters['info'].str.get_dummies('|')"
      ],
      "id": "5lBnwMSOYXJg",
      "execution_count": null,
      "outputs": []
    },
    {
      "cell_type": "markdown",
      "metadata": {
        "id": "hizXen25YXJh"
      },
      "source": [
        "The get_dummies() routine lets you quickly split-out these indicator variables into a DataFrame.With these operations as building blocks, you can construct an endless range of string processing procedures when cleaning your data."
      ],
      "id": "hizXen25YXJh"
    },
    {
      "cell_type": "markdown",
      "metadata": {
        "id": "fOz3kQlyYXJh"
      },
      "source": [
        "### Exercise\n",
        "1. Please show 5 students full name in string method\n",
        "2. split first name and last name\n",
        "3. Get the fist 4 characters of each student"
      ],
      "id": "fOz3kQlyYXJh"
    },
    {
      "cell_type": "markdown",
      "metadata": {
        "id": "7mKEoKxnYXJh"
      },
      "source": [
        "## 11.Time Series\n",
        "The Python world has a number of available representations of dates, times, deltas, and timespans. While the time series tools provided by Pandas tend to be the most useful for data science applications, it is helpful to see their relationship to other packages used in Python.\n",
        "\n",
        "### 11.1 Native Python dates and times: datetime and dateutil\n",
        "Python's basic objects for working with dates and times reside in the built-in datetime module. Along with the third-party dateutil module, you can use it to quickly perform a host of useful functionalities on dates and times. For example, you can manually build a date using the datetime type:"
      ],
      "id": "7mKEoKxnYXJh"
    },
    {
      "cell_type": "code",
      "metadata": {
        "id": "WrcFhlpKYXJh"
      },
      "source": [
        "from datetime import datetime\n",
        "datetime(year=2021, month=7, day=4)"
      ],
      "id": "WrcFhlpKYXJh",
      "execution_count": null,
      "outputs": []
    },
    {
      "cell_type": "code",
      "metadata": {
        "id": "w5WxaFwKYXJh"
      },
      "source": [
        "#Or, using the dateutil module, you can parse dates \n",
        "#from a variety of string formats:\n",
        "from dateutil import parser\n",
        "date = parser.parse(\"4th of July, 2021\")\n",
        "date"
      ],
      "id": "w5WxaFwKYXJh",
      "execution_count": null,
      "outputs": []
    },
    {
      "cell_type": "code",
      "metadata": {
        "id": "hTDDXgn7YXJi"
      },
      "source": [
        "#Once you have a datetime object, \n",
        "#you can do things like printing the day of the week\n",
        "date.strftime('%A')"
      ],
      "id": "hTDDXgn7YXJi",
      "execution_count": null,
      "outputs": []
    },
    {
      "cell_type": "markdown",
      "metadata": {
        "id": "BRQ04d3vYXJi"
      },
      "source": [
        "### 11.2 Typed arrays of times: NumPy's datetime64\n",
        "The weaknesses of Python's datetime format inspired the NumPy team to add a set of native time series data type to NumPy. The datetime64 dtype encodes dates as 64-bit integers, and thus allows arrays of dates to be represented very compactly. The datetime64 requires a very specific input format:"
      ],
      "id": "BRQ04d3vYXJi"
    },
    {
      "cell_type": "code",
      "metadata": {
        "id": "LECAQVt2YXJi"
      },
      "source": [
        "import numpy as np\n",
        "date = np.array('2021-07-04', dtype=np.datetime64)\n",
        "date"
      ],
      "id": "LECAQVt2YXJi",
      "execution_count": null,
      "outputs": []
    },
    {
      "cell_type": "code",
      "metadata": {
        "id": "6t-d0wJTYXJi"
      },
      "source": [
        "#Once we have this date formatted, however,\n",
        "#we can quickly do vectorized operations on it:\n",
        "date + np.arange(14)"
      ],
      "id": "6t-d0wJTYXJi",
      "execution_count": null,
      "outputs": []
    },
    {
      "cell_type": "markdown",
      "metadata": {
        "id": "NXxuFM7LYXJi"
      },
      "source": [
        "### 11.3 Dates and times in pandas: best of both worlds\n",
        "Pandas builds upon all the tools just discussed to provide a Timestamp object, which combines the ease-of-use of datetime and dateutil with the efficient storage and vectorized interface of numpy.datetime64. From a group of these Timestamp objects, Pandas can construct a DatetimeIndex that can be used to index data in a Series or DataFrame; we'll see many examples of this below.\n",
        "\n",
        "For example, we can use Pandas tools to repeat the demonstration from above. We can parse a flexibly formatted string date, and use format codes to output the day of the week:"
      ],
      "id": "NXxuFM7LYXJi"
    },
    {
      "cell_type": "code",
      "metadata": {
        "id": "n8BYGtEZYXJi"
      },
      "source": [
        "date = pd.to_datetime(\"4th of July, 2021\")\n",
        "date"
      ],
      "id": "n8BYGtEZYXJi",
      "execution_count": null,
      "outputs": []
    },
    {
      "cell_type": "code",
      "metadata": {
        "id": "KZL0s1bRYXJi"
      },
      "source": [
        "date.strftime('%A')"
      ],
      "id": "KZL0s1bRYXJi",
      "execution_count": null,
      "outputs": []
    },
    {
      "cell_type": "code",
      "metadata": {
        "id": "3IjX3NwHYXJi"
      },
      "source": [
        "date + pd.to_timedelta(np.arange(14), 'D')"
      ],
      "id": "3IjX3NwHYXJi",
      "execution_count": null,
      "outputs": []
    },
    {
      "cell_type": "markdown",
      "metadata": {
        "id": "rQTVfXL6YXJj"
      },
      "source": [
        "### 11.3 Pandas Time Series: Indexing by Time\n",
        "Where the Pandas time series tools really become useful is when you begin to index data by timestamps. For example, we can construct a Series object that has time indexed data:"
      ],
      "id": "rQTVfXL6YXJj"
    },
    {
      "cell_type": "code",
      "metadata": {
        "id": "op7caOe_YXJj"
      },
      "source": [
        "index = pd.DatetimeIndex(['2020-07-04', '2020-08-04',\n",
        "                          '2021-07-04', '2021-08-04'])\n",
        "data = pd.Series([0, 1, 2, 3], index=index)\n",
        "data"
      ],
      "id": "op7caOe_YXJj",
      "execution_count": null,
      "outputs": []
    },
    {
      "cell_type": "markdown",
      "metadata": {
        "id": "o6m85DNlYXJj"
      },
      "source": [
        "Now that we have this data in a Series, we can make use of any of the Series indexing patterns we discussed in previous sections, passing values that can be coerced into dates:"
      ],
      "id": "o6m85DNlYXJj"
    },
    {
      "cell_type": "code",
      "metadata": {
        "id": "LHYQEJ-SYXJj"
      },
      "source": [
        "data['2020-07-04':'2021-07-04']"
      ],
      "id": "LHYQEJ-SYXJj",
      "execution_count": null,
      "outputs": []
    },
    {
      "cell_type": "markdown",
      "metadata": {
        "id": "ZfFN9AyOYXJj"
      },
      "source": [
        "There are additional special date-only indexing operations, such as passing a year to obtain a slice of all data from that year:"
      ],
      "id": "ZfFN9AyOYXJj"
    },
    {
      "cell_type": "code",
      "metadata": {
        "id": "2btFEgfsYXJj"
      },
      "source": [
        "data['2021']"
      ],
      "id": "2btFEgfsYXJj",
      "execution_count": null,
      "outputs": []
    },
    {
      "cell_type": "markdown",
      "metadata": {
        "id": "WZJI2aneYXJj"
      },
      "source": [
        "### 11.5 Pandas Time Series Data Structures\n",
        "This section will introduce the fundamental Pandas data structures for working with time series data:\n",
        "\n",
        "For time stamps, Pandas provides the Timestamp type. As mentioned before, it is essentially a replacement for Python's native datetime, but is based on the more efficient numpy.datetime64 data type. The associated Index structure is DatetimeIndex.\n",
        "For time Periods, Pandas provides the Period type. This encodes a fixed-frequency interval based on numpy.datetime64. The associated index structure is PeriodIndex.\n",
        "For time deltas or durations, Pandas provides the Timedelta type. Timedelta is a more efficient replacement for Python's native datetime.timedelta type, and is based on numpy.timedelta64. The associated index structure is TimedeltaIndex.\n",
        "The most fundamental of these date/time objects are the Timestamp and DatetimeIndex objects. While these class objects can be invoked directly, it is more common to use the pd.to_datetime() function, which can parse a wide variety of formats. Passing a single date to pd.to_datetime() yields a Timestamp; passing a series of dates by default yields a DatetimeIndex:"
      ],
      "id": "WZJI2aneYXJj"
    },
    {
      "cell_type": "code",
      "metadata": {
        "id": "4rzERmqrYXJj"
      },
      "source": [
        "dates = pd.to_datetime([datetime(2021, 7, 3), '4th of July, 2021',\n",
        "                       '2021-Jul-6', '07-07-2021', '20210708'])\n",
        "dates"
      ],
      "id": "4rzERmqrYXJj",
      "execution_count": null,
      "outputs": []
    },
    {
      "cell_type": "markdown",
      "metadata": {
        "id": "WgW3fAlMYXJj"
      },
      "source": [
        "Any DatetimeIndex can be converted to a PeriodIndex with the to_period() function with the addition of a frequency code; here we'll use 'D' to indicate daily frequency:"
      ],
      "id": "WgW3fAlMYXJj"
    },
    {
      "cell_type": "code",
      "metadata": {
        "id": "dt0UZoSTYXJk"
      },
      "source": [
        "dates.to_period('D')"
      ],
      "id": "dt0UZoSTYXJk",
      "execution_count": null,
      "outputs": []
    },
    {
      "cell_type": "code",
      "metadata": {
        "id": "gp8zaLO8YXJk"
      },
      "source": [
        "dates - dates[0]\n",
        "#A TimedeltaIndex is created,\n",
        "#for example, when a date is subtracted from another:"
      ],
      "id": "gp8zaLO8YXJk",
      "execution_count": null,
      "outputs": []
    },
    {
      "cell_type": "markdown",
      "metadata": {
        "id": "FRuLBovIYXJk"
      },
      "source": [
        "### 11.6 Regular sequences: pd.date_range()\n",
        "To make the creation of regular date sequences more convenient, Pandas offers a few functions for this purpose: pd.date_range() for timestamps, pd.period_range() for periods, and pd.timedelta_range() for time deltas. We've seen that Python's range() and NumPy's np.arange() turn a startpoint, endpoint, and optional stepsize into a sequence. Similarly, pd.date_range() accepts a start date, an end date, and an optional frequency code to create a regular sequence of dates. By default, the frequency is one day:"
      ],
      "id": "FRuLBovIYXJk"
    },
    {
      "cell_type": "code",
      "metadata": {
        "id": "N6YDsy70YXJk"
      },
      "source": [
        "pd.date_range('2021-07-03', '2021-07-10')"
      ],
      "id": "N6YDsy70YXJk",
      "execution_count": null,
      "outputs": []
    },
    {
      "cell_type": "code",
      "metadata": {
        "id": "l05hW0qiYXJk"
      },
      "source": [
        "#Alternatively, the date range can be specified not with a start\n",
        "#and endpoint, but with a startpoint and a number of periods:\n",
        "pd.date_range('2021-07-03', periods=8, freq='M')\n",
        "#By default, frequ ='D', and you also can try 'M' and 'H'"
      ],
      "id": "l05hW0qiYXJk",
      "execution_count": null,
      "outputs": []
    },
    {
      "cell_type": "code",
      "metadata": {
        "id": "WTgTJCtXYXJk"
      },
      "source": [
        "pd.timedelta_range(0, periods=10, freq='H')"
      ],
      "id": "WTgTJCtXYXJk",
      "execution_count": null,
      "outputs": []
    },
    {
      "cell_type": "markdown",
      "metadata": {
        "id": "n4zkHbtPYXJk"
      },
      "source": [
        "### 11.7 Time Series case\n"
      ],
      "id": "n4zkHbtPYXJk"
    },
    {
      "cell_type": "code",
      "metadata": {
        "id": "nd94X2CDYXJl"
      },
      "source": [
        "!curl -L https://gist.githubusercontent.com/hkbu-kennycheng/9d19d6ecae57c6af9fbf55f5b5696d8c/raw/8f198e381efb5cc334a977960531ab756af3be9b/weatherHistory.csv > weatherHistory.csv\n",
        "\n",
        "df =  pd.read_csv('weatherHistory.csv', header=0, sep=',')\n",
        "df.loc[10:15, :]"
      ],
      "id": "nd94X2CDYXJl",
      "execution_count": null,
      "outputs": []
    },
    {
      "cell_type": "code",
      "metadata": {
        "id": "wXcPuY0ZYXJl"
      },
      "source": [
        "df.Summary.unique()"
      ],
      "id": "wXcPuY0ZYXJl",
      "execution_count": null,
      "outputs": []
    },
    {
      "cell_type": "code",
      "metadata": {
        "id": "iZbOnQ-3YXJl"
      },
      "source": [
        "df['Precip Type'].unique()"
      ],
      "id": "iZbOnQ-3YXJl",
      "execution_count": null,
      "outputs": []
    },
    {
      "cell_type": "code",
      "metadata": {
        "id": "rbxnyylNYXJl"
      },
      "source": [
        "df['Formatted Date'] =  df['Formatted Date'].apply(pd.to_datetime)"
      ],
      "id": "rbxnyylNYXJl",
      "execution_count": null,
      "outputs": []
    },
    {
      "cell_type": "code",
      "metadata": {
        "id": "61AlQE3BYXJl"
      },
      "source": [
        "df['Formatted Date'].iloc[0]"
      ],
      "id": "61AlQE3BYXJl",
      "execution_count": null,
      "outputs": []
    },
    {
      "cell_type": "code",
      "metadata": {
        "id": "YD5zIcHmYXJl"
      },
      "source": [
        "df.dtypes"
      ],
      "id": "YD5zIcHmYXJl",
      "execution_count": null,
      "outputs": []
    },
    {
      "cell_type": "code",
      "metadata": {
        "id": "rJRzUKodYXJm"
      },
      "source": [
        "df[df['Formatted Date'] < df['Formatted Date'].iloc[0]]"
      ],
      "id": "rJRzUKodYXJm",
      "execution_count": null,
      "outputs": []
    },
    {
      "cell_type": "code",
      "metadata": {
        "id": "peYkFM2vYXJm"
      },
      "source": [
        "df[df['Formatted Date'] < pd.to_datetime('2006-04-01 00:00:00+0200')]"
      ],
      "id": "peYkFM2vYXJm",
      "execution_count": null,
      "outputs": []
    },
    {
      "cell_type": "code",
      "metadata": {
        "id": "mG35PMlBYXJm"
      },
      "source": [
        "df['Formatted Date'].max() - df['Formatted Date'].min()"
      ],
      "id": "mG35PMlBYXJm",
      "execution_count": null,
      "outputs": []
    },
    {
      "cell_type": "code",
      "metadata": {
        "id": "hcIfuJUtYXJm"
      },
      "source": [
        "df['Temperature (C)'].plot()"
      ],
      "id": "hcIfuJUtYXJm",
      "execution_count": null,
      "outputs": []
    },
    {
      "cell_type": "code",
      "metadata": {
        "id": "YIKUfSrNYXJm"
      },
      "source": [
        "df1 = df[df['Formatted Date'] < pd.to_datetime('2006-04-01 00:00:00+0200')]\n",
        "df1['Temperature (C)'].plot()"
      ],
      "id": "YIKUfSrNYXJm",
      "execution_count": null,
      "outputs": []
    },
    {
      "cell_type": "code",
      "metadata": {
        "id": "iO9bksi_YXJm"
      },
      "source": [
        "from datetime import datetime\n",
        "def getmonth(d):\n",
        "    return d.strftime(\"%m\")\n",
        "df['month'] = df['Formatted Date'].apply(getmonth)"
      ],
      "id": "iO9bksi_YXJm",
      "execution_count": null,
      "outputs": []
    },
    {
      "cell_type": "code",
      "metadata": {
        "id": "IrvlLVlOYXJm"
      },
      "source": [
        "df['month']"
      ],
      "id": "IrvlLVlOYXJm",
      "execution_count": null,
      "outputs": []
    },
    {
      "cell_type": "code",
      "metadata": {
        "id": "lx_72Dh3YXJm"
      },
      "source": [
        "plt.scatter(x = 'Wind Speed (km/h)',y = 'Wind Bearing (degrees)',data=df)"
      ],
      "id": "lx_72Dh3YXJm",
      "execution_count": null,
      "outputs": []
    },
    {
      "cell_type": "code",
      "metadata": {
        "id": "hM1bzUWdYXJm"
      },
      "source": [
        "plt.figure(figsize = (10,10))\n",
        "plt.subplot()\n",
        "plt.subplot(2,3,1)\n",
        "plt.title('Wind Speed (km/h)')\n",
        "plt.hist(x = 'Wind Speed (km/h)',bins =20,data = df)\n",
        "\n",
        "plt.subplot(2,3,2)\n",
        "plt.title('Apparent Temperature (C)')\n",
        "plt.hist(x = 'Apparent Temperature (C)',bins =20,data = df)\n",
        "\n",
        "plt.subplot(2,3,3)\n",
        "plt.title('Humidity')\n",
        "plt.hist(x = 'Humidity',bins =20,data = df)\n",
        "\n",
        "plt.subplot(2,3,4)\n",
        "plt.title('Wind Bearing (degrees)')\n",
        "plt.hist(x = 'Wind Bearing (degrees)',bins =100,data = df)\n",
        "\n",
        "plt.subplot(2,3,5)\n",
        "plt.title('Pressure (millibars)')\n",
        "plt.hist(x = 'Pressure (millibars)',bins =20,data = df)\n",
        "\n",
        "plt.subplot(2,3,6)\n",
        "plt.title('Visibility (km)')\n",
        "plt.hist(x = 'Visibility (km)',bins =20,data = df)\n",
        "\n",
        "plt.show()"
      ],
      "id": "hM1bzUWdYXJm",
      "execution_count": null,
      "outputs": []
    },
    {
      "cell_type": "code",
      "metadata": {
        "id": "akuB-DN7YXJm"
      },
      "source": [
        "## Creating corellation metrics\n",
        "weather_corr = df[list(df.dtypes[df.dtypes!='object'].index)].corr()\n",
        "sns.heatmap(weather_corr,annot=True)"
      ],
      "id": "akuB-DN7YXJm",
      "execution_count": null,
      "outputs": []
    },
    {
      "cell_type": "code",
      "metadata": {
        "id": "07VZQsBwYXJm"
      },
      "source": [
        "sns.pairplot(df)"
      ],
      "id": "07VZQsBwYXJm",
      "execution_count": null,
      "outputs": []
    },
    {
      "cell_type": "code",
      "metadata": {
        "id": "B380XK1EYXJn"
      },
      "source": [
        ""
      ],
      "id": "B380XK1EYXJn",
      "execution_count": null,
      "outputs": []
    },
    {
      "cell_type": "markdown",
      "metadata": {
        "id": "2RjlosmiYXJn"
      },
      "source": [
        "### Exercise\n",
        "1.Please create 10 elements of time series in frequence you like.ie, 'H', 'D',' W', 'M',' Y'"
      ],
      "id": "2RjlosmiYXJn"
    },
    {
      "cell_type": "markdown",
      "metadata": {
        "id": "YZ2TUQiQYXJn"
      },
      "source": [
        "## 9.Motivating Pivot Tables(optional)"
      ],
      "id": "YZ2TUQiQYXJn"
    },
    {
      "cell_type": "code",
      "metadata": {
        "id": "tDneLQSrYXJn"
      },
      "source": [
        "import seaborn as sns\n",
        "titanic = sns.load_dataset('titanic')\n",
        "titanic.head(3)"
      ],
      "id": "tDneLQSrYXJn",
      "execution_count": null,
      "outputs": []
    },
    {
      "cell_type": "markdown",
      "metadata": {
        "id": "BBxAx9tHYXJn"
      },
      "source": [
        "### 9.1 Pivot Tables by Hand"
      ],
      "id": "BBxAx9tHYXJn"
    },
    {
      "cell_type": "code",
      "metadata": {
        "id": "yVQNUo1nYXJn"
      },
      "source": [
        "titanic.groupby(['sex', 'class'])['survived'].aggregate('mean').unstack()"
      ],
      "id": "yVQNUo1nYXJn",
      "execution_count": null,
      "outputs": []
    },
    {
      "cell_type": "markdown",
      "metadata": {
        "id": "7n_fRQtEYXJo"
      },
      "source": [
        "### 9.2 Pivot Table Syntax\n",
        "Here is the equivalent to the preceding operation using the pivot_table method of DataFrames"
      ],
      "id": "7n_fRQtEYXJo"
    },
    {
      "cell_type": "code",
      "metadata": {
        "id": "s8seV1kWYXJo"
      },
      "source": [
        "titanic.pivot_table('survived', index='sex', columns='class')"
      ],
      "id": "s8seV1kWYXJo",
      "execution_count": null,
      "outputs": []
    },
    {
      "cell_type": "markdown",
      "metadata": {
        "id": "aCaGz5gUYXJo"
      },
      "source": [
        "### 9.3 Multi-level pivot tables\n",
        "Just as in the GroupBy, the grouping in pivot tables can be specified with multiple levels, and via a number of options. For example, we might be interested in looking at age as a third dimension. We'll bin the age using the pd.cut function:"
      ],
      "id": "aCaGz5gUYXJo"
    },
    {
      "cell_type": "code",
      "metadata": {
        "id": "CrDfKcNdYXJo"
      },
      "source": [
        "age = pd.cut(titanic['age'], [0, 18, 80])\n",
        "titanic.pivot_table('survived', ['sex', age], 'class')"
      ],
      "id": "CrDfKcNdYXJo",
      "execution_count": null,
      "outputs": []
    },
    {
      "cell_type": "markdown",
      "metadata": {
        "id": "O3OaUlzAYXJo"
      },
      "source": [
        "We can apply the same strategy when working with the columns as well; let's add info on the fare paid using pd.qcut to automatically compute quantiles:"
      ],
      "id": "O3OaUlzAYXJo"
    },
    {
      "cell_type": "code",
      "metadata": {
        "id": "k0BIbdCmYXJo"
      },
      "source": [
        "fare = pd.qcut(titanic['fare'], 2)\n",
        "titanic.pivot_table('survived', ['sex', age], [fare, 'class'])"
      ],
      "id": "k0BIbdCmYXJo",
      "execution_count": null,
      "outputs": []
    },
    {
      "cell_type": "markdown",
      "metadata": {
        "id": "syU3--lrYXJo"
      },
      "source": [
        "### 9.4 Additional pivot table options\n",
        "The full call signature of the pivot_table method of DataFrames is as follows:\n",
        "\n",
        "DataFrame.pivot_table(data, values=None, index=None, columns=None,\n",
        "              aggfunc='mean', fill_value=None, margins=False,\n",
        "               dropna=True, margins_name='All')\n",
        "           \n",
        "We've already seen examples of the first three arguments; here we'll take a quick look at the remaining ones. Two of the options, fill_value and dropna, have to do with missing data and are fairly straightforward; we will not show examples of them here.\n",
        "\n",
        "The aggfunc keyword controls what type of aggregation is applied, which is a mean by default. As in the GroupBy, the aggregation specification can be a string representing one of several common choices (e.g., 'sum', 'mean', 'count', 'min', 'max', etc.) or a function that implements an aggregation (e.g., np.sum(), min(), sum(), etc.). Additionally, it can be specified as a dictionary mapping a column to any of the above desired options:"
      ],
      "id": "syU3--lrYXJo"
    },
    {
      "cell_type": "code",
      "metadata": {
        "id": "5gsg3IlsYXJo"
      },
      "source": [
        "titanic.pivot_table(index='sex', columns='class',\n",
        "                    aggfunc={'survived':sum, 'fare':'mean'})"
      ],
      "id": "5gsg3IlsYXJo",
      "execution_count": null,
      "outputs": []
    },
    {
      "cell_type": "markdown",
      "metadata": {
        "id": "rK07x8TNYXJp"
      },
      "source": [
        "At times it's useful to compute totals along each grouping. This can be done via the margins keyword:"
      ],
      "id": "rK07x8TNYXJp"
    },
    {
      "cell_type": "code",
      "metadata": {
        "id": "F0ifyy-lYXJp"
      },
      "source": [
        "titanic.pivot_table('survived', index='sex', columns='class', margins=True)"
      ],
      "id": "F0ifyy-lYXJp",
      "execution_count": null,
      "outputs": []
    },
    {
      "cell_type": "code",
      "metadata": {
        "id": "e-UJIFHWYXJp"
      },
      "source": [
        ""
      ],
      "id": "e-UJIFHWYXJp",
      "execution_count": null,
      "outputs": []
    }
  ]
}