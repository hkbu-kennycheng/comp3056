{
  "nbformat": 4,
  "nbformat_minor": 0,
  "metadata": {
    "colab": {
      "name": "lab4 Scikit-learn for machine learning (Part 2).ipynb",
      "provenance": [],
      "collapsed_sections": [],
      "authorship_tag": "ABX9TyMTUeYQ5GDQXfswdiHHHdWx",
      "include_colab_link": true
    },
    "kernelspec": {
      "name": "python3",
      "display_name": "Python 3"
    },
    "language_info": {
      "name": "python"
    }
  },
  "cells": [
    {
      "cell_type": "markdown",
      "metadata": {
        "id": "view-in-github",
        "colab_type": "text"
      },
      "source": [
        "<a href=\"https://colab.research.google.com/github/hkbu-kennycheng/comp3065/blob/main/lab4_Scikit_learn_for_machine_learning_(Part_2).ipynb\" target=\"_parent\"><img src=\"https://colab.research.google.com/assets/colab-badge.svg\" alt=\"Open In Colab\"/></a>"
      ]
    },
    {
      "cell_type": "markdown",
      "metadata": {
        "id": "Pa-ssePxuihd"
      },
      "source": [
        "# Lab 4: Scikit-learn for machine learning (Part 2)\n",
        "\n",
        "---\n",
        "\n",
        "Let's install scikit-learn first."
      ]
    },
    {
      "cell_type": "code",
      "metadata": {
        "colab": {
          "base_uri": "https://localhost:8080/"
        },
        "id": "OdwQ6VTzunCf",
        "outputId": "f5c54ce2-37a3-40e6-a961-adad3a03f32f"
      },
      "source": [
        "!pip install scikit-learn"
      ],
      "execution_count": 1,
      "outputs": [
        {
          "output_type": "stream",
          "name": "stdout",
          "text": [
            "Requirement already satisfied: scikit-learn in /usr/local/lib/python3.7/dist-packages (1.0.1)\n",
            "Requirement already satisfied: numpy>=1.14.6 in /usr/local/lib/python3.7/dist-packages (from scikit-learn) (1.19.5)\n",
            "Requirement already satisfied: threadpoolctl>=2.0.0 in /usr/local/lib/python3.7/dist-packages (from scikit-learn) (3.0.0)\n",
            "Requirement already satisfied: scipy>=1.1.0 in /usr/local/lib/python3.7/dist-packages (from scikit-learn) (1.4.1)\n",
            "Requirement already satisfied: joblib>=0.11 in /usr/local/lib/python3.7/dist-packages (from scikit-learn) (1.1.0)\n"
          ]
        }
      ]
    },
    {
      "cell_type": "markdown",
      "metadata": {
        "id": "lcLyr6mTvmbx"
      },
      "source": [
        "# Dataset: Fashion MNIST\n",
        "\n",
        "![](https://url2img-web.herokuapp.com/aHR0cHM6Ly9naXRodWIuY29tL3phbGFuZG9yZXNlYXJjaC9mYXNoaW9uLW1uaXN0I2Zhc2hpb24tbW5pc3Q=?w=1280&h=800)\n",
        "\n",
        "### Why Fashion MNIST?\n",
        "\n",
        "Orignal [MNIST dataset](http://yann.lecun.com/exdb/mnist/) is a dataset of  handwritten digits. Because of its simplicty, the machine learning community would use MNIST dataset to validate their algorithms at the very begining during development. But it's too easy for the algorithms nowadays and could not represent modern computer vision tasks.\n",
        "\n",
        "`Fashion MNIST` serve the same purpose as orignal MNIST dataset and could be used as a drop-in replacement."
      ]
    },
    {
      "cell_type": "markdown",
      "metadata": {
        "id": "lpsbckoEwUSS"
      },
      "source": [
        "## Downloading dataset form openml.org"
      ]
    },
    {
      "cell_type": "code",
      "metadata": {
        "id": "U_l7JZCtuUfe"
      },
      "source": [
        "from sklearn.datasets import fetch_openml\n",
        "\n",
        "fashionMNIST = fetch_openml('Fashion-MNIST')"
      ],
      "execution_count": 18,
      "outputs": []
    },
    {
      "cell_type": "markdown",
      "source": [
        "There are 10 classes in this data, let's define the name of classes."
      ],
      "metadata": {
        "id": "t0qrzKTwdtNG"
      }
    },
    {
      "cell_type": "code",
      "metadata": {
        "id": "lihobIv427_p"
      },
      "source": [
        "class_names = ['T-shirt/top', 'Trouser', 'Pullover', 'Dress', 'Coat',\n",
        "               'Sandal', 'Shirt', 'Sneaker', 'Bag', 'Ankle boot']"
      ],
      "execution_count": 19,
      "outputs": []
    },
    {
      "cell_type": "markdown",
      "source": [
        "Let's take a look to the first image."
      ],
      "metadata": {
        "id": "R7DKhbTkbwzg"
      }
    },
    {
      "cell_type": "code",
      "metadata": {
        "colab": {
          "base_uri": "https://localhost:8080/",
          "height": 114
        },
        "id": "AKVqaIhsuh5g",
        "outputId": "ec82df58-bf3f-4b4a-c77e-049b52b660e1"
      },
      "source": [
        "from google.colab.patches import cv2_imshow # imshow patched for Colab\n",
        "import numpy as np\n",
        "\n",
        "print(fashionMNIST.data.shape)\n",
        "\n",
        "# reshape data to 2d (image) array, from shape (70000, 784) to (70000, 28, 28)\n",
        "imgs = np.array(fashionMNIST.data).reshape((fashionMNIST.data.shape[0], 28, 28))\n",
        "img = imgs[0]\n",
        "\n",
        "print(img.shape)\n",
        "\n",
        "cv2_imshow(img) # showing first image with imshow\n",
        "print(fashionMNIST.target[0]) # classes\n",
        "print(class_names[int(fashionMNIST.target[0])])"
      ],
      "execution_count": 28,
      "outputs": [
        {
          "output_type": "stream",
          "name": "stdout",
          "text": [
            "(70000, 784)\n",
            "(28, 28)\n"
          ]
        },
        {
          "output_type": "display_data",
          "data": {
            "image/png": "[encoded data removed]",
            "text/plain": [
              "<PIL.Image.Image image mode=L size=28x28 at 0x7FC0044015D0>"
            ]
          },
          "metadata": {}
        },
        {
          "output_type": "stream",
          "name": "stdout",
          "text": [
            "9\n",
            "Ankle boot\n"
          ]
        }
      ]
    },
    {
      "cell_type": "markdown",
      "source": [
        "## Split trainset and testset"
      ],
      "metadata": {
        "id": "we_7QJvYcNTu"
      }
    },
    {
      "cell_type": "code",
      "metadata": {
        "id": "Fyuw5V_w1bnd",
        "colab": {
          "base_uri": "https://localhost:8080/"
        },
        "outputId": "1d3d06c5-81c6-4ae8-85d9-e23b55e58b0e"
      },
      "source": [
        "from sklearn.model_selection import train_test_split\n",
        "\n",
        "X_train, X_test, y_train, y_test = train_test_split(fashionMNIST.data,\n",
        "                                                    fashionMNIST.target,\n",
        "                                                    test_size=0.33)\n",
        "\n",
        "print(X_train.shape)\n",
        "print(y_train.shape)"
      ],
      "execution_count": 83,
      "outputs": [
        {
          "output_type": "stream",
          "name": "stdout",
          "text": [
            "(46900, 784)\n",
            "(46900,)\n"
          ]
        }
      ]
    },
    {
      "cell_type": "markdown",
      "source": [
        "# PCA"
      ],
      "metadata": {
        "id": "_nQ1QN_aaqOt"
      }
    },
    {
      "cell_type": "markdown",
      "source": [
        "## Apply PCA to reduce data dimensions"
      ],
      "metadata": {
        "id": "Jd46dFeNoEVl"
      }
    },
    {
      "cell_type": "code",
      "metadata": {
        "id": "6UtDG_cDvs3V",
        "colab": {
          "base_uri": "https://localhost:8080/"
        },
        "outputId": "d11026ec-1481-45f1-b0e1-583becdc74c6"
      },
      "source": [
        "from sklearn.decomposition import PCA\n",
        "\n",
        "TARGET_SIZE = 22\n",
        "\n",
        "pca_model = PCA(n_components=TARGET_SIZE*TARGET_SIZE) # reduce from 784 to 484 dimensions\n",
        "pca_model.fit(X_train) # train the model\n",
        "X_output = pca_model.transform(X_train) # Apply dimensionality reduction to X\n",
        "\n",
        "print(X_output.shape)"
      ],
      "execution_count": 87,
      "outputs": [
        {
          "output_type": "stream",
          "name": "stdout",
          "text": [
            "(46900, 484)\n"
          ]
        }
      ]
    },
    {
      "cell_type": "markdown",
      "source": [
        "## Visualize the result"
      ],
      "metadata": {
        "id": "8doP-L2QoOiu"
      }
    },
    {
      "cell_type": "code",
      "metadata": {
        "colab": {
          "base_uri": "https://localhost:8080/",
          "height": 354
        },
        "id": "bPpIfuT22MM3",
        "outputId": "8e936e5f-4ad3-4ebb-a7fa-48c04dc6711f"
      },
      "source": [
        "train_imgs = np.array(X_train).reshape((X_train.shape[0], 28, 28))\n",
        "pca_imgs = np.array(X_output).reshape((X_output.shape[0], TARGET_SIZE, TARGET_SIZE))\n",
        "\n",
        "# loop first 10 results\n",
        "for i in range(5):\n",
        "  cv2_imshow(pca_imgs[i]) # reduced image\n",
        "  cv2_imshow(train_imgs[i]) # orignal image\n",
        "  print(class_names[int(y_train[X_train.index[i]])]) # class name"
      ],
      "execution_count": 88,
      "outputs": [
        {
          "output_type": "display_data",
          "data": {
            "image/png": "[encoded data removed]",
            "text/plain": [
              "<PIL.Image.Image image mode=L size=22x22 at 0x7FBFFDDC1790>"
            ]
          },
          "metadata": {}
        },
        {
          "output_type": "display_data",
          "data": {
            "image/png": "[encoded data removed]",
            "text/plain": [
              "<PIL.Image.Image image mode=L size=28x28 at 0x7FBFFDDC1790>"
            ]
          },
          "metadata": {}
        },
        {
          "output_type": "stream",
          "name": "stdout",
          "text": [
            "Shirt\n"
          ]
        },
        {
          "output_type": "display_data",
          "data": {
            "image/png": "[encoded data removed]",
            "text/plain": [
              "<PIL.Image.Image image mode=L size=22x22 at 0x7FBFFDDC1310>"
            ]
          },
          "metadata": {}
        },
        {
          "output_type": "display_data",
          "data": {
            "image/png": "[encoded data removed]",
            "text/plain": [
              "<PIL.Image.Image image mode=L size=28x28 at 0x7FC003F00E10>"
            ]
          },
          "metadata": {}
        },
        {
          "output_type": "stream",
          "name": "stdout",
          "text": [
            "Bag\n"
          ]
        },
        {
          "output_type": "display_data",
          "data": {
            "image/png": "[encoded data removed]",
            "text/plain": [
              "<PIL.Image.Image image mode=L size=22x22 at 0x7FC003F00E10>"
            ]
          },
          "metadata": {}
        },
        {
          "output_type": "display_data",
          "data": {
            "image/png": "[encoded data removed]",
            "text/plain": [
              "<PIL.Image.Image image mode=L size=28x28 at 0x7FBFFDDC1310>"
            ]
          },
          "metadata": {}
        },
        {
          "output_type": "stream",
          "name": "stdout",
          "text": [
            "Sneaker\n"
          ]
        },
        {
          "output_type": "display_data",
          "data": {
            "image/png": "[encoded data removed]",
            "text/plain": [
              "<PIL.Image.Image image mode=L size=22x22 at 0x7FBFFDDC1310>"
            ]
          },
          "metadata": {}
        },
        {
          "output_type": "display_data",
          "data": {
            "image/png": "[encoded data removed]",
            "text/plain": [
              "<PIL.Image.Image image mode=L size=28x28 at 0x7FBFFDDC1310>"
            ]
          },
          "metadata": {}
        },
        {
          "output_type": "stream",
          "name": "stdout",
          "text": [
            "Dress\n"
          ]
        },
        {
          "output_type": "display_data",
          "data": {
            "image/png": "[encoded data removed]",
            "text/plain": [
              "<PIL.Image.Image image mode=L size=22x22 at 0x7FBFFDDC1110>"
            ]
          },
          "metadata": {}
        },
        {
          "output_type": "display_data",
          "data": {
            "image/png": "[encoded data removed]",
            "text/plain": [
              "<PIL.Image.Image image mode=L size=28x28 at 0x7FC0043D3CD0>"
            ]
          },
          "metadata": {}
        },
        {
          "output_type": "stream",
          "name": "stdout",
          "text": [
            "Trouser\n"
          ]
        }
      ]
    },
    {
      "cell_type": "markdown",
      "source": [
        "# K-means"
      ],
      "metadata": {
        "id": "FCaT2PY2mooG"
      }
    },
    {
      "cell_type": "markdown",
      "source": [
        "## Train the model with data for 10 clusters"
      ],
      "metadata": {
        "id": "yIga30a9n_Cu"
      }
    },
    {
      "cell_type": "code",
      "source": [
        "from sklearn.cluster import KMeans\n",
        "\n",
        "kmeans_model = KMeans(n_clusters=10)\n",
        "kmeans_model.fit(X_train)\n",
        "\n",
        "print(kmeans_model.cluster_centers_.shape)"
      ],
      "metadata": {
        "colab": {
          "base_uri": "https://localhost:8080/"
        },
        "id": "nmFLP1QEi353",
        "outputId": "0b6092d5-b0fe-4bb4-cbdf-5c59d1b13070"
      },
      "execution_count": 94,
      "outputs": [
        {
          "output_type": "stream",
          "name": "stdout",
          "text": [
            "(10, 784)\n"
          ]
        }
      ]
    },
    {
      "cell_type": "markdown",
      "source": [
        "## Visualize centroid of the clusters\n",
        "\n",
        "We then transform the centroids to images and see what they look like."
      ],
      "metadata": {
        "id": "9s0toj3Kp_F1"
      }
    },
    {
      "cell_type": "code",
      "source": [
        "for centroid in kmeans_model.cluster_centers_:\n",
        "  img = np.array(centroid).reshape(28, 28)\n",
        "  cv2_imshow(img)"
      ],
      "metadata": {
        "colab": {
          "base_uri": "https://localhost:8080/",
          "height": 297
        },
        "id": "aybVrXI3ndqN",
        "outputId": "addd441b-5c48-402a-ea67-9673b0be8bca"
      },
      "execution_count": 93,
      "outputs": [
        {
          "output_type": "display_data",
          "data": {
            "image/png": "[encoded data removed]",
            "text/plain": [
              "<PIL.Image.Image image mode=L size=28x28 at 0x7FBFF57626D0>"
            ]
          },
          "metadata": {}
        },
        {
          "output_type": "display_data",
          "data": {
            "image/png": "[encoded data removed]",
            "text/plain": [
              "<PIL.Image.Image image mode=L size=28x28 at 0x7FBFF577AE50>"
            ]
          },
          "metadata": {}
        },
        {
          "output_type": "display_data",
          "data": {
            "image/png": "[encoded data removed]",
            "text/plain": [
              "<PIL.Image.Image image mode=L size=28x28 at 0x7FC006D9ED50>"
            ]
          },
          "metadata": {}
        },
        {
          "output_type": "display_data",
          "data": {
            "image/png": "[encoded data removed]",
            "text/plain": [
              "<PIL.Image.Image image mode=L size=28x28 at 0x7FBFF577AE50>"
            ]
          },
          "metadata": {}
        },
        {
          "output_type": "display_data",
          "data": {
            "image/png": "[encoded data removed]",
            "text/plain": [
              "<PIL.Image.Image image mode=L size=28x28 at 0x7FBFEE126050>"
            ]
          },
          "metadata": {}
        },
        {
          "output_type": "display_data",
          "data": {
            "image/png": "[encoded data removed]",
            "text/plain": [
              "<PIL.Image.Image image mode=L size=28x28 at 0x7FBFEA72C950>"
            ]
          },
          "metadata": {}
        },
        {
          "output_type": "display_data",
          "data": {
            "image/png": "[encoded data removed]",
            "text/plain": [
              "<PIL.Image.Image image mode=L size=28x28 at 0x7FBFF57626D0>"
            ]
          },
          "metadata": {}
        },
        {
          "output_type": "display_data",
          "data": {
            "image/png": "[encoded data removed]",
            "text/plain": [
              "<PIL.Image.Image image mode=L size=28x28 at 0x7FBFF5762B50>"
            ]
          },
          "metadata": {}
        },
        {
          "output_type": "display_data",
          "data": {
            "image/png": "[encoded data removed]",
            "text/plain": [
              "<PIL.Image.Image image mode=L size=28x28 at 0x7FBFF57626D0>"
            ]
          },
          "metadata": {}
        },
        {
          "output_type": "display_data",
          "data": {
            "image/png": "[encoded data removed]",
            "text/plain": [
              "<PIL.Image.Image image mode=L size=28x28 at 0x7FBFF577A490>"
            ]
          },
          "metadata": {}
        }
      ]
    },
    {
      "cell_type": "markdown",
      "source": [
        "# Gaussian Mixture Model"
      ],
      "metadata": {
        "id": "od4nYJb7r0I-"
      }
    },
    {
      "cell_type": "code",
      "source": [
        "from sklearn.mixture import GaussianMixture\n",
        "\n",
        "gm_model = GaussianMixture(n_components=784, covariance_type='tied', max_iter=1)\n",
        "gm_model.fit(X_train)"
      ],
      "metadata": {
        "id": "Kbt5YOB4pv01"
      },
      "execution_count": null,
      "outputs": []
    },
    {
      "cell_type": "code",
      "source": [
        ""
      ],
      "metadata": {
        "id": "lSqo1bpBsaDs"
      },
      "execution_count": null,
      "outputs": []
    }
  ]
}