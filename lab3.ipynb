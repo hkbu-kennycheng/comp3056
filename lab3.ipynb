{
  "nbformat": 4,
  "nbformat_minor": 0,
  "metadata": {
    "colab": {
      "name": "lab3.ipynb",
      "provenance": [],
      "collapsed_sections": [],
      "include_colab_link": true
    },
    "kernelspec": {
      "display_name": "Python 3",
      "name": "python3"
    },
    "language_info": {
      "name": "python"
    },
    "widgets": {
      "application/vnd.jupyter.widget-state+json": {
        "b4d99554c67043d8963bba5bd00bd7cf": {
          "model_module": "@jupyter-widgets/controls",
          "model_name": "HBoxModel",
          "model_module_version": "1.5.0",
          "state": {
            "_view_name": "HBoxView",
            "_dom_classes": [],
            "_model_name": "HBoxModel",
            "_view_module": "@jupyter-widgets/controls",
            "_model_module_version": "1.5.0",
            "_view_count": null,
            "_view_module_version": "1.5.0",
            "box_style": "",
            "layout": "IPY_MODEL_a1b2814ccdca46e5ae7e4573cde50ce5",
            "_model_module": "@jupyter-widgets/controls",
            "children": [
              "IPY_MODEL_23177451c00b424e8b6e4a2065dcdcf8",
              "IPY_MODEL_dc55b5ec04a24b94a64917f71cb706ee",
              "IPY_MODEL_13e2ea893cf345f69f6b1a54b95266f7"
            ]
          }
        },
        "a1b2814ccdca46e5ae7e4573cde50ce5": {
          "model_module": "@jupyter-widgets/base",
          "model_name": "LayoutModel",
          "model_module_version": "1.2.0",
          "state": {
            "_view_name": "LayoutView",
            "grid_template_rows": null,
            "right": null,
            "justify_content": null,
            "_view_module": "@jupyter-widgets/base",
            "overflow": null,
            "_model_module_version": "1.2.0",
            "_view_count": null,
            "flex_flow": null,
            "width": null,
            "min_width": null,
            "border": null,
            "align_items": null,
            "bottom": null,
            "_model_module": "@jupyter-widgets/base",
            "top": null,
            "grid_column": null,
            "overflow_y": null,
            "overflow_x": null,
            "grid_auto_flow": null,
            "grid_area": null,
            "grid_template_columns": null,
            "flex": null,
            "_model_name": "LayoutModel",
            "justify_items": null,
            "grid_row": null,
            "max_height": null,
            "align_content": null,
            "visibility": null,
            "align_self": null,
            "height": null,
            "min_height": null,
            "padding": null,
            "grid_auto_rows": null,
            "grid_gap": null,
            "max_width": null,
            "order": null,
            "_view_module_version": "1.2.0",
            "grid_template_areas": null,
            "object_position": null,
            "object_fit": null,
            "grid_auto_columns": null,
            "margin": null,
            "display": null,
            "left": null
          }
        },
        "23177451c00b424e8b6e4a2065dcdcf8": {
          "model_module": "@jupyter-widgets/controls",
          "model_name": "HTMLModel",
          "model_module_version": "1.5.0",
          "state": {
            "_view_name": "HTMLView",
            "style": "IPY_MODEL_1a147135ff9d4e72888aa0a9a75f85b6",
            "_dom_classes": [],
            "description": "",
            "_model_name": "HTMLModel",
            "placeholder": "​",
            "_view_module": "@jupyter-widgets/controls",
            "_model_module_version": "1.5.0",
            "value": "",
            "_view_count": null,
            "_view_module_version": "1.5.0",
            "description_tooltip": null,
            "_model_module": "@jupyter-widgets/controls",
            "layout": "IPY_MODEL_a4d51baa1301496aad745fe081f06794"
          }
        },
        "dc55b5ec04a24b94a64917f71cb706ee": {
          "model_module": "@jupyter-widgets/controls",
          "model_name": "FloatProgressModel",
          "model_module_version": "1.5.0",
          "state": {
            "_view_name": "ProgressView",
            "style": "IPY_MODEL_954322cabf384101a6b5a33b23ace096",
            "_dom_classes": [],
            "description": "",
            "_model_name": "FloatProgressModel",
            "bar_style": "success",
            "max": 26421880,
            "_view_module": "@jupyter-widgets/controls",
            "_model_module_version": "1.5.0",
            "value": 26421880,
            "_view_count": null,
            "_view_module_version": "1.5.0",
            "orientation": "horizontal",
            "min": 0,
            "description_tooltip": null,
            "_model_module": "@jupyter-widgets/controls",
            "layout": "IPY_MODEL_71448f73357f4fc7934f81e2e2a197f3"
          }
        },
        "13e2ea893cf345f69f6b1a54b95266f7": {
          "model_module": "@jupyter-widgets/controls",
          "model_name": "HTMLModel",
          "model_module_version": "1.5.0",
          "state": {
            "_view_name": "HTMLView",
            "style": "IPY_MODEL_3f13d6cb58be4281bc9cae4c9e66bcc8",
            "_dom_classes": [],
            "description": "",
            "_model_name": "HTMLModel",
            "placeholder": "​",
            "_view_module": "@jupyter-widgets/controls",
            "_model_module_version": "1.5.0",
            "value": " 26422272/? [00:00&lt;00:00, 79551893.24it/s]",
            "_view_count": null,
            "_view_module_version": "1.5.0",
            "description_tooltip": null,
            "_model_module": "@jupyter-widgets/controls",
            "layout": "IPY_MODEL_d2415d035ad74cc19bf018f9cc52a1ea"
          }
        },
        "1a147135ff9d4e72888aa0a9a75f85b6": {
          "model_module": "@jupyter-widgets/controls",
          "model_name": "DescriptionStyleModel",
          "model_module_version": "1.5.0",
          "state": {
            "_view_name": "StyleView",
            "_model_name": "DescriptionStyleModel",
            "description_width": "",
            "_view_module": "@jupyter-widgets/base",
            "_model_module_version": "1.5.0",
            "_view_count": null,
            "_view_module_version": "1.2.0",
            "_model_module": "@jupyter-widgets/controls"
          }
        },
        "a4d51baa1301496aad745fe081f06794": {
          "model_module": "@jupyter-widgets/base",
          "model_name": "LayoutModel",
          "model_module_version": "1.2.0",
          "state": {
            "_view_name": "LayoutView",
            "grid_template_rows": null,
            "right": null,
            "justify_content": null,
            "_view_module": "@jupyter-widgets/base",
            "overflow": null,
            "_model_module_version": "1.2.0",
            "_view_count": null,
            "flex_flow": null,
            "width": null,
            "min_width": null,
            "border": null,
            "align_items": null,
            "bottom": null,
            "_model_module": "@jupyter-widgets/base",
            "top": null,
            "grid_column": null,
            "overflow_y": null,
            "overflow_x": null,
            "grid_auto_flow": null,
            "grid_area": null,
            "grid_template_columns": null,
            "flex": null,
            "_model_name": "LayoutModel",
            "justify_items": null,
            "grid_row": null,
            "max_height": null,
            "align_content": null,
            "visibility": null,
            "align_self": null,
            "height": null,
            "min_height": null,
            "padding": null,
            "grid_auto_rows": null,
            "grid_gap": null,
            "max_width": null,
            "order": null,
            "_view_module_version": "1.2.0",
            "grid_template_areas": null,
            "object_position": null,
            "object_fit": null,
            "grid_auto_columns": null,
            "margin": null,
            "display": null,
            "left": null
          }
        },
        "954322cabf384101a6b5a33b23ace096": {
          "model_module": "@jupyter-widgets/controls",
          "model_name": "ProgressStyleModel",
          "model_module_version": "1.5.0",
          "state": {
            "_view_name": "StyleView",
            "_model_name": "ProgressStyleModel",
            "description_width": "",
            "_view_module": "@jupyter-widgets/base",
            "_model_module_version": "1.5.0",
            "_view_count": null,
            "_view_module_version": "1.2.0",
            "bar_color": null,
            "_model_module": "@jupyter-widgets/controls"
          }
        },
        "71448f73357f4fc7934f81e2e2a197f3": {
          "model_module": "@jupyter-widgets/base",
          "model_name": "LayoutModel",
          "model_module_version": "1.2.0",
          "state": {
            "_view_name": "LayoutView",
            "grid_template_rows": null,
            "right": null,
            "justify_content": null,
            "_view_module": "@jupyter-widgets/base",
            "overflow": null,
            "_model_module_version": "1.2.0",
            "_view_count": null,
            "flex_flow": null,
            "width": null,
            "min_width": null,
            "border": null,
            "align_items": null,
            "bottom": null,
            "_model_module": "@jupyter-widgets/base",
            "top": null,
            "grid_column": null,
            "overflow_y": null,
            "overflow_x": null,
            "grid_auto_flow": null,
            "grid_area": null,
            "grid_template_columns": null,
            "flex": null,
            "_model_name": "LayoutModel",
            "justify_items": null,
            "grid_row": null,
            "max_height": null,
            "align_content": null,
            "visibility": null,
            "align_self": null,
            "height": null,
            "min_height": null,
            "padding": null,
            "grid_auto_rows": null,
            "grid_gap": null,
            "max_width": null,
            "order": null,
            "_view_module_version": "1.2.0",
            "grid_template_areas": null,
            "object_position": null,
            "object_fit": null,
            "grid_auto_columns": null,
            "margin": null,
            "display": null,
            "left": null
          }
        },
        "3f13d6cb58be4281bc9cae4c9e66bcc8": {
          "model_module": "@jupyter-widgets/controls",
          "model_name": "DescriptionStyleModel",
          "model_module_version": "1.5.0",
          "state": {
            "_view_name": "StyleView",
            "_model_name": "DescriptionStyleModel",
            "description_width": "",
            "_view_module": "@jupyter-widgets/base",
            "_model_module_version": "1.5.0",
            "_view_count": null,
            "_view_module_version": "1.2.0",
            "_model_module": "@jupyter-widgets/controls"
          }
        },
        "d2415d035ad74cc19bf018f9cc52a1ea": {
          "model_module": "@jupyter-widgets/base",
          "model_name": "LayoutModel",
          "model_module_version": "1.2.0",
          "state": {
            "_view_name": "LayoutView",
            "grid_template_rows": null,
            "right": null,
            "justify_content": null,
            "_view_module": "@jupyter-widgets/base",
            "overflow": null,
            "_model_module_version": "1.2.0",
            "_view_count": null,
            "flex_flow": null,
            "width": null,
            "min_width": null,
            "border": null,
            "align_items": null,
            "bottom": null,
            "_model_module": "@jupyter-widgets/base",
            "top": null,
            "grid_column": null,
            "overflow_y": null,
            "overflow_x": null,
            "grid_auto_flow": null,
            "grid_area": null,
            "grid_template_columns": null,
            "flex": null,
            "_model_name": "LayoutModel",
            "justify_items": null,
            "grid_row": null,
            "max_height": null,
            "align_content": null,
            "visibility": null,
            "align_self": null,
            "height": null,
            "min_height": null,
            "padding": null,
            "grid_auto_rows": null,
            "grid_gap": null,
            "max_width": null,
            "order": null,
            "_view_module_version": "1.2.0",
            "grid_template_areas": null,
            "object_position": null,
            "object_fit": null,
            "grid_auto_columns": null,
            "margin": null,
            "display": null,
            "left": null
          }
        },
        "210695e75ada4083adc9c5cb0edb9168": {
          "model_module": "@jupyter-widgets/controls",
          "model_name": "HBoxModel",
          "model_module_version": "1.5.0",
          "state": {
            "_view_name": "HBoxView",
            "_dom_classes": [],
            "_model_name": "HBoxModel",
            "_view_module": "@jupyter-widgets/controls",
            "_model_module_version": "1.5.0",
            "_view_count": null,
            "_view_module_version": "1.5.0",
            "box_style": "",
            "layout": "IPY_MODEL_c54e70803cd14aa395e7f970cdc33094",
            "_model_module": "@jupyter-widgets/controls",
            "children": [
              "IPY_MODEL_bc9f6d11c5854c919ec15fc1465d373a",
              "IPY_MODEL_7a018b5440b540e5982880bbcc3108c5",
              "IPY_MODEL_7a59c40c61ff4762b18bddeefc73f18a"
            ]
          }
        },
        "c54e70803cd14aa395e7f970cdc33094": {
          "model_module": "@jupyter-widgets/base",
          "model_name": "LayoutModel",
          "model_module_version": "1.2.0",
          "state": {
            "_view_name": "LayoutView",
            "grid_template_rows": null,
            "right": null,
            "justify_content": null,
            "_view_module": "@jupyter-widgets/base",
            "overflow": null,
            "_model_module_version": "1.2.0",
            "_view_count": null,
            "flex_flow": null,
            "width": null,
            "min_width": null,
            "border": null,
            "align_items": null,
            "bottom": null,
            "_model_module": "@jupyter-widgets/base",
            "top": null,
            "grid_column": null,
            "overflow_y": null,
            "overflow_x": null,
            "grid_auto_flow": null,
            "grid_area": null,
            "grid_template_columns": null,
            "flex": null,
            "_model_name": "LayoutModel",
            "justify_items": null,
            "grid_row": null,
            "max_height": null,
            "align_content": null,
            "visibility": null,
            "align_self": null,
            "height": null,
            "min_height": null,
            "padding": null,
            "grid_auto_rows": null,
            "grid_gap": null,
            "max_width": null,
            "order": null,
            "_view_module_version": "1.2.0",
            "grid_template_areas": null,
            "object_position": null,
            "object_fit": null,
            "grid_auto_columns": null,
            "margin": null,
            "display": null,
            "left": null
          }
        },
        "bc9f6d11c5854c919ec15fc1465d373a": {
          "model_module": "@jupyter-widgets/controls",
          "model_name": "HTMLModel",
          "model_module_version": "1.5.0",
          "state": {
            "_view_name": "HTMLView",
            "style": "IPY_MODEL_4310a1586d5a43fab03fa58eea45a402",
            "_dom_classes": [],
            "description": "",
            "_model_name": "HTMLModel",
            "placeholder": "​",
            "_view_module": "@jupyter-widgets/controls",
            "_model_module_version": "1.5.0",
            "value": "",
            "_view_count": null,
            "_view_module_version": "1.5.0",
            "description_tooltip": null,
            "_model_module": "@jupyter-widgets/controls",
            "layout": "IPY_MODEL_d29906affb284beab52c66df6fa1fdf7"
          }
        },
        "7a018b5440b540e5982880bbcc3108c5": {
          "model_module": "@jupyter-widgets/controls",
          "model_name": "FloatProgressModel",
          "model_module_version": "1.5.0",
          "state": {
            "_view_name": "ProgressView",
            "style": "IPY_MODEL_f533e88b67de472bba6356e0983768c0",
            "_dom_classes": [],
            "description": "",
            "_model_name": "FloatProgressModel",
            "bar_style": "success",
            "max": 29515,
            "_view_module": "@jupyter-widgets/controls",
            "_model_module_version": "1.5.0",
            "value": 29515,
            "_view_count": null,
            "_view_module_version": "1.5.0",
            "orientation": "horizontal",
            "min": 0,
            "description_tooltip": null,
            "_model_module": "@jupyter-widgets/controls",
            "layout": "IPY_MODEL_dfeb69578fbb492f8002b50e9955ffce"
          }
        },
        "7a59c40c61ff4762b18bddeefc73f18a": {
          "model_module": "@jupyter-widgets/controls",
          "model_name": "HTMLModel",
          "model_module_version": "1.5.0",
          "state": {
            "_view_name": "HTMLView",
            "style": "IPY_MODEL_6667c7db1956447b880ba83157840821",
            "_dom_classes": [],
            "description": "",
            "_model_name": "HTMLModel",
            "placeholder": "​",
            "_view_module": "@jupyter-widgets/controls",
            "_model_module_version": "1.5.0",
            "value": " 29696/? [00:00&lt;00:00, 698360.83it/s]",
            "_view_count": null,
            "_view_module_version": "1.5.0",
            "description_tooltip": null,
            "_model_module": "@jupyter-widgets/controls",
            "layout": "IPY_MODEL_0509228c5e7c4e12b9ab80793563f175"
          }
        },
        "4310a1586d5a43fab03fa58eea45a402": {
          "model_module": "@jupyter-widgets/controls",
          "model_name": "DescriptionStyleModel",
          "model_module_version": "1.5.0",
          "state": {
            "_view_name": "StyleView",
            "_model_name": "DescriptionStyleModel",
            "description_width": "",
            "_view_module": "@jupyter-widgets/base",
            "_model_module_version": "1.5.0",
            "_view_count": null,
            "_view_module_version": "1.2.0",
            "_model_module": "@jupyter-widgets/controls"
          }
        },
        "d29906affb284beab52c66df6fa1fdf7": {
          "model_module": "@jupyter-widgets/base",
          "model_name": "LayoutModel",
          "model_module_version": "1.2.0",
          "state": {
            "_view_name": "LayoutView",
            "grid_template_rows": null,
            "right": null,
            "justify_content": null,
            "_view_module": "@jupyter-widgets/base",
            "overflow": null,
            "_model_module_version": "1.2.0",
            "_view_count": null,
            "flex_flow": null,
            "width": null,
            "min_width": null,
            "border": null,
            "align_items": null,
            "bottom": null,
            "_model_module": "@jupyter-widgets/base",
            "top": null,
            "grid_column": null,
            "overflow_y": null,
            "overflow_x": null,
            "grid_auto_flow": null,
            "grid_area": null,
            "grid_template_columns": null,
            "flex": null,
            "_model_name": "LayoutModel",
            "justify_items": null,
            "grid_row": null,
            "max_height": null,
            "align_content": null,
            "visibility": null,
            "align_self": null,
            "height": null,
            "min_height": null,
            "padding": null,
            "grid_auto_rows": null,
            "grid_gap": null,
            "max_width": null,
            "order": null,
            "_view_module_version": "1.2.0",
            "grid_template_areas": null,
            "object_position": null,
            "object_fit": null,
            "grid_auto_columns": null,
            "margin": null,
            "display": null,
            "left": null
          }
        },
        "f533e88b67de472bba6356e0983768c0": {
          "model_module": "@jupyter-widgets/controls",
          "model_name": "ProgressStyleModel",
          "model_module_version": "1.5.0",
          "state": {
            "_view_name": "StyleView",
            "_model_name": "ProgressStyleModel",
            "description_width": "",
            "_view_module": "@jupyter-widgets/base",
            "_model_module_version": "1.5.0",
            "_view_count": null,
            "_view_module_version": "1.2.0",
            "bar_color": null,
            "_model_module": "@jupyter-widgets/controls"
          }
        },
        "dfeb69578fbb492f8002b50e9955ffce": {
          "model_module": "@jupyter-widgets/base",
          "model_name": "LayoutModel",
          "model_module_version": "1.2.0",
          "state": {
            "_view_name": "LayoutView",
            "grid_template_rows": null,
            "right": null,
            "justify_content": null,
            "_view_module": "@jupyter-widgets/base",
            "overflow": null,
            "_model_module_version": "1.2.0",
            "_view_count": null,
            "flex_flow": null,
            "width": null,
            "min_width": null,
            "border": null,
            "align_items": null,
            "bottom": null,
            "_model_module": "@jupyter-widgets/base",
            "top": null,
            "grid_column": null,
            "overflow_y": null,
            "overflow_x": null,
            "grid_auto_flow": null,
            "grid_area": null,
            "grid_template_columns": null,
            "flex": null,
            "_model_name": "LayoutModel",
            "justify_items": null,
            "grid_row": null,
            "max_height": null,
            "align_content": null,
            "visibility": null,
            "align_self": null,
            "height": null,
            "min_height": null,
            "padding": null,
            "grid_auto_rows": null,
            "grid_gap": null,
            "max_width": null,
            "order": null,
            "_view_module_version": "1.2.0",
            "grid_template_areas": null,
            "object_position": null,
            "object_fit": null,
            "grid_auto_columns": null,
            "margin": null,
            "display": null,
            "left": null
          }
        },
        "6667c7db1956447b880ba83157840821": {
          "model_module": "@jupyter-widgets/controls",
          "model_name": "DescriptionStyleModel",
          "model_module_version": "1.5.0",
          "state": {
            "_view_name": "StyleView",
            "_model_name": "DescriptionStyleModel",
            "description_width": "",
            "_view_module": "@jupyter-widgets/base",
            "_model_module_version": "1.5.0",
            "_view_count": null,
            "_view_module_version": "1.2.0",
            "_model_module": "@jupyter-widgets/controls"
          }
        },
        "0509228c5e7c4e12b9ab80793563f175": {
          "model_module": "@jupyter-widgets/base",
          "model_name": "LayoutModel",
          "model_module_version": "1.2.0",
          "state": {
            "_view_name": "LayoutView",
            "grid_template_rows": null,
            "right": null,
            "justify_content": null,
            "_view_module": "@jupyter-widgets/base",
            "overflow": null,
            "_model_module_version": "1.2.0",
            "_view_count": null,
            "flex_flow": null,
            "width": null,
            "min_width": null,
            "border": null,
            "align_items": null,
            "bottom": null,
            "_model_module": "@jupyter-widgets/base",
            "top": null,
            "grid_column": null,
            "overflow_y": null,
            "overflow_x": null,
            "grid_auto_flow": null,
            "grid_area": null,
            "grid_template_columns": null,
            "flex": null,
            "_model_name": "LayoutModel",
            "justify_items": null,
            "grid_row": null,
            "max_height": null,
            "align_content": null,
            "visibility": null,
            "align_self": null,
            "height": null,
            "min_height": null,
            "padding": null,
            "grid_auto_rows": null,
            "grid_gap": null,
            "max_width": null,
            "order": null,
            "_view_module_version": "1.2.0",
            "grid_template_areas": null,
            "object_position": null,
            "object_fit": null,
            "grid_auto_columns": null,
            "margin": null,
            "display": null,
            "left": null
          }
        },
        "48ebdc46d371478e88782cb279fdb00d": {
          "model_module": "@jupyter-widgets/controls",
          "model_name": "HBoxModel",
          "model_module_version": "1.5.0",
          "state": {
            "_view_name": "HBoxView",
            "_dom_classes": [],
            "_model_name": "HBoxModel",
            "_view_module": "@jupyter-widgets/controls",
            "_model_module_version": "1.5.0",
            "_view_count": null,
            "_view_module_version": "1.5.0",
            "box_style": "",
            "layout": "IPY_MODEL_d0793a5017ee4a15a16a947a551fd12c",
            "_model_module": "@jupyter-widgets/controls",
            "children": [
              "IPY_MODEL_719402af4256410a9102731a3cab8833",
              "IPY_MODEL_4de08cce232849188e70ce3c8be80b8b",
              "IPY_MODEL_86c54177a5c64aca83d4ebcb614a93aa"
            ]
          }
        },
        "d0793a5017ee4a15a16a947a551fd12c": {
          "model_module": "@jupyter-widgets/base",
          "model_name": "LayoutModel",
          "model_module_version": "1.2.0",
          "state": {
            "_view_name": "LayoutView",
            "grid_template_rows": null,
            "right": null,
            "justify_content": null,
            "_view_module": "@jupyter-widgets/base",
            "overflow": null,
            "_model_module_version": "1.2.0",
            "_view_count": null,
            "flex_flow": null,
            "width": null,
            "min_width": null,
            "border": null,
            "align_items": null,
            "bottom": null,
            "_model_module": "@jupyter-widgets/base",
            "top": null,
            "grid_column": null,
            "overflow_y": null,
            "overflow_x": null,
            "grid_auto_flow": null,
            "grid_area": null,
            "grid_template_columns": null,
            "flex": null,
            "_model_name": "LayoutModel",
            "justify_items": null,
            "grid_row": null,
            "max_height": null,
            "align_content": null,
            "visibility": null,
            "align_self": null,
            "height": null,
            "min_height": null,
            "padding": null,
            "grid_auto_rows": null,
            "grid_gap": null,
            "max_width": null,
            "order": null,
            "_view_module_version": "1.2.0",
            "grid_template_areas": null,
            "object_position": null,
            "object_fit": null,
            "grid_auto_columns": null,
            "margin": null,
            "display": null,
            "left": null
          }
        },
        "719402af4256410a9102731a3cab8833": {
          "model_module": "@jupyter-widgets/controls",
          "model_name": "HTMLModel",
          "model_module_version": "1.5.0",
          "state": {
            "_view_name": "HTMLView",
            "style": "IPY_MODEL_bd69f6b775be4b32a1259a2eff0270b1",
            "_dom_classes": [],
            "description": "",
            "_model_name": "HTMLModel",
            "placeholder": "​",
            "_view_module": "@jupyter-widgets/controls",
            "_model_module_version": "1.5.0",
            "value": "",
            "_view_count": null,
            "_view_module_version": "1.5.0",
            "description_tooltip": null,
            "_model_module": "@jupyter-widgets/controls",
            "layout": "IPY_MODEL_b825aa43568947f38f4206737bb8a259"
          }
        },
        "4de08cce232849188e70ce3c8be80b8b": {
          "model_module": "@jupyter-widgets/controls",
          "model_name": "FloatProgressModel",
          "model_module_version": "1.5.0",
          "state": {
            "_view_name": "ProgressView",
            "style": "IPY_MODEL_4704ec79a1884d29b5240f271ccc87dd",
            "_dom_classes": [],
            "description": "",
            "_model_name": "FloatProgressModel",
            "bar_style": "success",
            "max": 4422102,
            "_view_module": "@jupyter-widgets/controls",
            "_model_module_version": "1.5.0",
            "value": 4422102,
            "_view_count": null,
            "_view_module_version": "1.5.0",
            "orientation": "horizontal",
            "min": 0,
            "description_tooltip": null,
            "_model_module": "@jupyter-widgets/controls",
            "layout": "IPY_MODEL_7b4be05b8fb74ceb9acff0a8f975b508"
          }
        },
        "86c54177a5c64aca83d4ebcb614a93aa": {
          "model_module": "@jupyter-widgets/controls",
          "model_name": "HTMLModel",
          "model_module_version": "1.5.0",
          "state": {
            "_view_name": "HTMLView",
            "style": "IPY_MODEL_5ff529f6cf2e4ba5be0ac60d825df594",
            "_dom_classes": [],
            "description": "",
            "_model_name": "HTMLModel",
            "placeholder": "​",
            "_view_module": "@jupyter-widgets/controls",
            "_model_module_version": "1.5.0",
            "value": " 4422656/? [00:00&lt;00:00, 19964639.48it/s]",
            "_view_count": null,
            "_view_module_version": "1.5.0",
            "description_tooltip": null,
            "_model_module": "@jupyter-widgets/controls",
            "layout": "IPY_MODEL_bdcb2c66accf4ea0bace5387d7ce192c"
          }
        },
        "bd69f6b775be4b32a1259a2eff0270b1": {
          "model_module": "@jupyter-widgets/controls",
          "model_name": "DescriptionStyleModel",
          "model_module_version": "1.5.0",
          "state": {
            "_view_name": "StyleView",
            "_model_name": "DescriptionStyleModel",
            "description_width": "",
            "_view_module": "@jupyter-widgets/base",
            "_model_module_version": "1.5.0",
            "_view_count": null,
            "_view_module_version": "1.2.0",
            "_model_module": "@jupyter-widgets/controls"
          }
        },
        "b825aa43568947f38f4206737bb8a259": {
          "model_module": "@jupyter-widgets/base",
          "model_name": "LayoutModel",
          "model_module_version": "1.2.0",
          "state": {
            "_view_name": "LayoutView",
            "grid_template_rows": null,
            "right": null,
            "justify_content": null,
            "_view_module": "@jupyter-widgets/base",
            "overflow": null,
            "_model_module_version": "1.2.0",
            "_view_count": null,
            "flex_flow": null,
            "width": null,
            "min_width": null,
            "border": null,
            "align_items": null,
            "bottom": null,
            "_model_module": "@jupyter-widgets/base",
            "top": null,
            "grid_column": null,
            "overflow_y": null,
            "overflow_x": null,
            "grid_auto_flow": null,
            "grid_area": null,
            "grid_template_columns": null,
            "flex": null,
            "_model_name": "LayoutModel",
            "justify_items": null,
            "grid_row": null,
            "max_height": null,
            "align_content": null,
            "visibility": null,
            "align_self": null,
            "height": null,
            "min_height": null,
            "padding": null,
            "grid_auto_rows": null,
            "grid_gap": null,
            "max_width": null,
            "order": null,
            "_view_module_version": "1.2.0",
            "grid_template_areas": null,
            "object_position": null,
            "object_fit": null,
            "grid_auto_columns": null,
            "margin": null,
            "display": null,
            "left": null
          }
        },
        "4704ec79a1884d29b5240f271ccc87dd": {
          "model_module": "@jupyter-widgets/controls",
          "model_name": "ProgressStyleModel",
          "model_module_version": "1.5.0",
          "state": {
            "_view_name": "StyleView",
            "_model_name": "ProgressStyleModel",
            "description_width": "",
            "_view_module": "@jupyter-widgets/base",
            "_model_module_version": "1.5.0",
            "_view_count": null,
            "_view_module_version": "1.2.0",
            "bar_color": null,
            "_model_module": "@jupyter-widgets/controls"
          }
        },
        "7b4be05b8fb74ceb9acff0a8f975b508": {
          "model_module": "@jupyter-widgets/base",
          "model_name": "LayoutModel",
          "model_module_version": "1.2.0",
          "state": {
            "_view_name": "LayoutView",
            "grid_template_rows": null,
            "right": null,
            "justify_content": null,
            "_view_module": "@jupyter-widgets/base",
            "overflow": null,
            "_model_module_version": "1.2.0",
            "_view_count": null,
            "flex_flow": null,
            "width": null,
            "min_width": null,
            "border": null,
            "align_items": null,
            "bottom": null,
            "_model_module": "@jupyter-widgets/base",
            "top": null,
            "grid_column": null,
            "overflow_y": null,
            "overflow_x": null,
            "grid_auto_flow": null,
            "grid_area": null,
            "grid_template_columns": null,
            "flex": null,
            "_model_name": "LayoutModel",
            "justify_items": null,
            "grid_row": null,
            "max_height": null,
            "align_content": null,
            "visibility": null,
            "align_self": null,
            "height": null,
            "min_height": null,
            "padding": null,
            "grid_auto_rows": null,
            "grid_gap": null,
            "max_width": null,
            "order": null,
            "_view_module_version": "1.2.0",
            "grid_template_areas": null,
            "object_position": null,
            "object_fit": null,
            "grid_auto_columns": null,
            "margin": null,
            "display": null,
            "left": null
          }
        },
        "5ff529f6cf2e4ba5be0ac60d825df594": {
          "model_module": "@jupyter-widgets/controls",
          "model_name": "DescriptionStyleModel",
          "model_module_version": "1.5.0",
          "state": {
            "_view_name": "StyleView",
            "_model_name": "DescriptionStyleModel",
            "description_width": "",
            "_view_module": "@jupyter-widgets/base",
            "_model_module_version": "1.5.0",
            "_view_count": null,
            "_view_module_version": "1.2.0",
            "_model_module": "@jupyter-widgets/controls"
          }
        },
        "bdcb2c66accf4ea0bace5387d7ce192c": {
          "model_module": "@jupyter-widgets/base",
          "model_name": "LayoutModel",
          "model_module_version": "1.2.0",
          "state": {
            "_view_name": "LayoutView",
            "grid_template_rows": null,
            "right": null,
            "justify_content": null,
            "_view_module": "@jupyter-widgets/base",
            "overflow": null,
            "_model_module_version": "1.2.0",
            "_view_count": null,
            "flex_flow": null,
            "width": null,
            "min_width": null,
            "border": null,
            "align_items": null,
            "bottom": null,
            "_model_module": "@jupyter-widgets/base",
            "top": null,
            "grid_column": null,
            "overflow_y": null,
            "overflow_x": null,
            "grid_auto_flow": null,
            "grid_area": null,
            "grid_template_columns": null,
            "flex": null,
            "_model_name": "LayoutModel",
            "justify_items": null,
            "grid_row": null,
            "max_height": null,
            "align_content": null,
            "visibility": null,
            "align_self": null,
            "height": null,
            "min_height": null,
            "padding": null,
            "grid_auto_rows": null,
            "grid_gap": null,
            "max_width": null,
            "order": null,
            "_view_module_version": "1.2.0",
            "grid_template_areas": null,
            "object_position": null,
            "object_fit": null,
            "grid_auto_columns": null,
            "margin": null,
            "display": null,
            "left": null
          }
        },
        "46bc4a61aca94e5eafaf5c54f5efa746": {
          "model_module": "@jupyter-widgets/controls",
          "model_name": "HBoxModel",
          "model_module_version": "1.5.0",
          "state": {
            "_view_name": "HBoxView",
            "_dom_classes": [],
            "_model_name": "HBoxModel",
            "_view_module": "@jupyter-widgets/controls",
            "_model_module_version": "1.5.0",
            "_view_count": null,
            "_view_module_version": "1.5.0",
            "box_style": "",
            "layout": "IPY_MODEL_9fb74626b20440aab6dbb3ecfdb2d7ae",
            "_model_module": "@jupyter-widgets/controls",
            "children": [
              "IPY_MODEL_637072a68593410d921d2a1c319e79ce",
              "IPY_MODEL_9e836ccbd4864f54940935d465ec2b05",
              "IPY_MODEL_d0b4272753ef41d0a666981d4a601951"
            ]
          }
        },
        "9fb74626b20440aab6dbb3ecfdb2d7ae": {
          "model_module": "@jupyter-widgets/base",
          "model_name": "LayoutModel",
          "model_module_version": "1.2.0",
          "state": {
            "_view_name": "LayoutView",
            "grid_template_rows": null,
            "right": null,
            "justify_content": null,
            "_view_module": "@jupyter-widgets/base",
            "overflow": null,
            "_model_module_version": "1.2.0",
            "_view_count": null,
            "flex_flow": null,
            "width": null,
            "min_width": null,
            "border": null,
            "align_items": null,
            "bottom": null,
            "_model_module": "@jupyter-widgets/base",
            "top": null,
            "grid_column": null,
            "overflow_y": null,
            "overflow_x": null,
            "grid_auto_flow": null,
            "grid_area": null,
            "grid_template_columns": null,
            "flex": null,
            "_model_name": "LayoutModel",
            "justify_items": null,
            "grid_row": null,
            "max_height": null,
            "align_content": null,
            "visibility": null,
            "align_self": null,
            "height": null,
            "min_height": null,
            "padding": null,
            "grid_auto_rows": null,
            "grid_gap": null,
            "max_width": null,
            "order": null,
            "_view_module_version": "1.2.0",
            "grid_template_areas": null,
            "object_position": null,
            "object_fit": null,
            "grid_auto_columns": null,
            "margin": null,
            "display": null,
            "left": null
          }
        },
        "637072a68593410d921d2a1c319e79ce": {
          "model_module": "@jupyter-widgets/controls",
          "model_name": "HTMLModel",
          "model_module_version": "1.5.0",
          "state": {
            "_view_name": "HTMLView",
            "style": "IPY_MODEL_c3bd70cb317541f1bdfb307ac874c79b",
            "_dom_classes": [],
            "description": "",
            "_model_name": "HTMLModel",
            "placeholder": "​",
            "_view_module": "@jupyter-widgets/controls",
            "_model_module_version": "1.5.0",
            "value": "",
            "_view_count": null,
            "_view_module_version": "1.5.0",
            "description_tooltip": null,
            "_model_module": "@jupyter-widgets/controls",
            "layout": "IPY_MODEL_6e2d813f2c8f43409f6c32290c9cbffe"
          }
        },
        "9e836ccbd4864f54940935d465ec2b05": {
          "model_module": "@jupyter-widgets/controls",
          "model_name": "FloatProgressModel",
          "model_module_version": "1.5.0",
          "state": {
            "_view_name": "ProgressView",
            "style": "IPY_MODEL_ff0f8383e01946629fe5cee284e9621a",
            "_dom_classes": [],
            "description": "",
            "_model_name": "FloatProgressModel",
            "bar_style": "success",
            "max": 5148,
            "_view_module": "@jupyter-widgets/controls",
            "_model_module_version": "1.5.0",
            "value": 5148,
            "_view_count": null,
            "_view_module_version": "1.5.0",
            "orientation": "horizontal",
            "min": 0,
            "description_tooltip": null,
            "_model_module": "@jupyter-widgets/controls",
            "layout": "IPY_MODEL_1d491c6fc02f418f853c4e6fde20a124"
          }
        },
        "d0b4272753ef41d0a666981d4a601951": {
          "model_module": "@jupyter-widgets/controls",
          "model_name": "HTMLModel",
          "model_module_version": "1.5.0",
          "state": {
            "_view_name": "HTMLView",
            "style": "IPY_MODEL_f5be9ebd17b24ae88bde97e9aa0fe189",
            "_dom_classes": [],
            "description": "",
            "_model_name": "HTMLModel",
            "placeholder": "​",
            "_view_module": "@jupyter-widgets/controls",
            "_model_module_version": "1.5.0",
            "value": " 6144/? [00:00&lt;00:00, 139536.84it/s]",
            "_view_count": null,
            "_view_module_version": "1.5.0",
            "description_tooltip": null,
            "_model_module": "@jupyter-widgets/controls",
            "layout": "IPY_MODEL_b503b97e01be4bb882064094efbb5a44"
          }
        },
        "c3bd70cb317541f1bdfb307ac874c79b": {
          "model_module": "@jupyter-widgets/controls",
          "model_name": "DescriptionStyleModel",
          "model_module_version": "1.5.0",
          "state": {
            "_view_name": "StyleView",
            "_model_name": "DescriptionStyleModel",
            "description_width": "",
            "_view_module": "@jupyter-widgets/base",
            "_model_module_version": "1.5.0",
            "_view_count": null,
            "_view_module_version": "1.2.0",
            "_model_module": "@jupyter-widgets/controls"
          }
        },
        "6e2d813f2c8f43409f6c32290c9cbffe": {
          "model_module": "@jupyter-widgets/base",
          "model_name": "LayoutModel",
          "model_module_version": "1.2.0",
          "state": {
            "_view_name": "LayoutView",
            "grid_template_rows": null,
            "right": null,
            "justify_content": null,
            "_view_module": "@jupyter-widgets/base",
            "overflow": null,
            "_model_module_version": "1.2.0",
            "_view_count": null,
            "flex_flow": null,
            "width": null,
            "min_width": null,
            "border": null,
            "align_items": null,
            "bottom": null,
            "_model_module": "@jupyter-widgets/base",
            "top": null,
            "grid_column": null,
            "overflow_y": null,
            "overflow_x": null,
            "grid_auto_flow": null,
            "grid_area": null,
            "grid_template_columns": null,
            "flex": null,
            "_model_name": "LayoutModel",
            "justify_items": null,
            "grid_row": null,
            "max_height": null,
            "align_content": null,
            "visibility": null,
            "align_self": null,
            "height": null,
            "min_height": null,
            "padding": null,
            "grid_auto_rows": null,
            "grid_gap": null,
            "max_width": null,
            "order": null,
            "_view_module_version": "1.2.0",
            "grid_template_areas": null,
            "object_position": null,
            "object_fit": null,
            "grid_auto_columns": null,
            "margin": null,
            "display": null,
            "left": null
          }
        },
        "ff0f8383e01946629fe5cee284e9621a": {
          "model_module": "@jupyter-widgets/controls",
          "model_name": "ProgressStyleModel",
          "model_module_version": "1.5.0",
          "state": {
            "_view_name": "StyleView",
            "_model_name": "ProgressStyleModel",
            "description_width": "",
            "_view_module": "@jupyter-widgets/base",
            "_model_module_version": "1.5.0",
            "_view_count": null,
            "_view_module_version": "1.2.0",
            "bar_color": null,
            "_model_module": "@jupyter-widgets/controls"
          }
        },
        "1d491c6fc02f418f853c4e6fde20a124": {
          "model_module": "@jupyter-widgets/base",
          "model_name": "LayoutModel",
          "model_module_version": "1.2.0",
          "state": {
            "_view_name": "LayoutView",
            "grid_template_rows": null,
            "right": null,
            "justify_content": null,
            "_view_module": "@jupyter-widgets/base",
            "overflow": null,
            "_model_module_version": "1.2.0",
            "_view_count": null,
            "flex_flow": null,
            "width": null,
            "min_width": null,
            "border": null,
            "align_items": null,
            "bottom": null,
            "_model_module": "@jupyter-widgets/base",
            "top": null,
            "grid_column": null,
            "overflow_y": null,
            "overflow_x": null,
            "grid_auto_flow": null,
            "grid_area": null,
            "grid_template_columns": null,
            "flex": null,
            "_model_name": "LayoutModel",
            "justify_items": null,
            "grid_row": null,
            "max_height": null,
            "align_content": null,
            "visibility": null,
            "align_self": null,
            "height": null,
            "min_height": null,
            "padding": null,
            "grid_auto_rows": null,
            "grid_gap": null,
            "max_width": null,
            "order": null,
            "_view_module_version": "1.2.0",
            "grid_template_areas": null,
            "object_position": null,
            "object_fit": null,
            "grid_auto_columns": null,
            "margin": null,
            "display": null,
            "left": null
          }
        },
        "f5be9ebd17b24ae88bde97e9aa0fe189": {
          "model_module": "@jupyter-widgets/controls",
          "model_name": "DescriptionStyleModel",
          "model_module_version": "1.5.0",
          "state": {
            "_view_name": "StyleView",
            "_model_name": "DescriptionStyleModel",
            "description_width": "",
            "_view_module": "@jupyter-widgets/base",
            "_model_module_version": "1.5.0",
            "_view_count": null,
            "_view_module_version": "1.2.0",
            "_model_module": "@jupyter-widgets/controls"
          }
        },
        "b503b97e01be4bb882064094efbb5a44": {
          "model_module": "@jupyter-widgets/base",
          "model_name": "LayoutModel",
          "model_module_version": "1.2.0",
          "state": {
            "_view_name": "LayoutView",
            "grid_template_rows": null,
            "right": null,
            "justify_content": null,
            "_view_module": "@jupyter-widgets/base",
            "overflow": null,
            "_model_module_version": "1.2.0",
            "_view_count": null,
            "flex_flow": null,
            "width": null,
            "min_width": null,
            "border": null,
            "align_items": null,
            "bottom": null,
            "_model_module": "@jupyter-widgets/base",
            "top": null,
            "grid_column": null,
            "overflow_y": null,
            "overflow_x": null,
            "grid_auto_flow": null,
            "grid_area": null,
            "grid_template_columns": null,
            "flex": null,
            "_model_name": "LayoutModel",
            "justify_items": null,
            "grid_row": null,
            "max_height": null,
            "align_content": null,
            "visibility": null,
            "align_self": null,
            "height": null,
            "min_height": null,
            "padding": null,
            "grid_auto_rows": null,
            "grid_gap": null,
            "max_width": null,
            "order": null,
            "_view_module_version": "1.2.0",
            "grid_template_areas": null,
            "object_position": null,
            "object_fit": null,
            "grid_auto_columns": null,
            "margin": null,
            "display": null,
            "left": null
          }
        }
      }
    }
  },
  "cells": [
    {
      "cell_type": "markdown",
      "metadata": {
        "id": "view-in-github",
        "colab_type": "text"
      },
      "source": [
        "<a href=\"https://colab.research.google.com/github/hkbu-kennycheng/comp3065/blob/main/lab3.ipynb\" target=\"_parent\"><img src=\"https://colab.research.google.com/assets/colab-badge.svg\" alt=\"Open In Colab\"/></a>"
      ]
    },
    {
      "cell_type": "markdown",
      "metadata": {
        "id": "0dy5jYG9xEDf"
      },
      "source": [
        "# Lab3: Introduction to Decision Trees and Support Vector Machine (Basic Models)"
      ]
    },
    {
      "cell_type": "code",
      "metadata": {
        "id": "_0yNH9FY3K2u"
      },
      "source": [
        "import torch"
      ],
      "execution_count": 1,
      "outputs": []
    },
    {
      "cell_type": "markdown",
      "metadata": {
        "id": "s3ISH9BhxP-d"
      },
      "source": [
        "# Decision Trees using PyTorch\n",
        "\n",
        "![](https://url2img-web.herokuapp.com/aHR0cHM6Ly9naXRodWIuY29tL3h1eXh1L1NvZnQtRGVjaXNpb24tVHJlZSNpbnRyb2R1Y3Rpb24=)\n",
        "\n",
        "[https://github.com/xuyxu/Soft-Decision-Tree](https://github.com/xuyxu/Soft-Decision-Tree)"
      ]
    },
    {
      "cell_type": "markdown",
      "metadata": {
        "id": "YwmvT2x027_W"
      },
      "source": [
        "## Download code from Github"
      ]
    },
    {
      "cell_type": "code",
      "metadata": {
        "colab": {
          "base_uri": "https://localhost:8080/"
        },
        "id": "eix1jLoW0Djj",
        "outputId": "8cfd5898-d5f2-4f41-9282-1a0c125188f0"
      },
      "source": [
        "!curl -L https://raw.githubusercontent.com/xuyxu/Soft-Decision-Tree/master/SDT.py > SDT.py"
      ],
      "execution_count": 2,
      "outputs": [
        {
          "output_type": "stream",
          "name": "stdout",
          "text": [
            "  % Total    % Received % Xferd  Average Speed   Time    Time     Time  Current\n",
            "                                 Dload  Upload   Total   Spent    Left  Speed\n",
            "100  5911  100  5911    0     0  29853      0 --:--:-- --:--:-- --:--:-- 29853\n"
          ]
        }
      ]
    },
    {
      "cell_type": "markdown",
      "metadata": {
        "id": "sZIj5LEq3DVq"
      },
      "source": [
        "## Load the dataset"
      ]
    },
    {
      "cell_type": "code",
      "metadata": {
        "id": "sH5gX9eP3C3c",
        "colab": {
          "base_uri": "https://localhost:8080/",
          "height": 478,
          "referenced_widgets": [
            "b4d99554c67043d8963bba5bd00bd7cf",
            "a1b2814ccdca46e5ae7e4573cde50ce5",
            "23177451c00b424e8b6e4a2065dcdcf8",
            "dc55b5ec04a24b94a64917f71cb706ee",
            "13e2ea893cf345f69f6b1a54b95266f7",
            "1a147135ff9d4e72888aa0a9a75f85b6",
            "a4d51baa1301496aad745fe081f06794",
            "954322cabf384101a6b5a33b23ace096",
            "71448f73357f4fc7934f81e2e2a197f3",
            "3f13d6cb58be4281bc9cae4c9e66bcc8",
            "d2415d035ad74cc19bf018f9cc52a1ea",
            "210695e75ada4083adc9c5cb0edb9168",
            "c54e70803cd14aa395e7f970cdc33094",
            "bc9f6d11c5854c919ec15fc1465d373a",
            "7a018b5440b540e5982880bbcc3108c5",
            "7a59c40c61ff4762b18bddeefc73f18a",
            "4310a1586d5a43fab03fa58eea45a402",
            "d29906affb284beab52c66df6fa1fdf7",
            "f533e88b67de472bba6356e0983768c0",
            "dfeb69578fbb492f8002b50e9955ffce",
            "6667c7db1956447b880ba83157840821",
            "0509228c5e7c4e12b9ab80793563f175",
            "48ebdc46d371478e88782cb279fdb00d",
            "d0793a5017ee4a15a16a947a551fd12c",
            "719402af4256410a9102731a3cab8833",
            "4de08cce232849188e70ce3c8be80b8b",
            "86c54177a5c64aca83d4ebcb614a93aa",
            "bd69f6b775be4b32a1259a2eff0270b1",
            "b825aa43568947f38f4206737bb8a259",
            "4704ec79a1884d29b5240f271ccc87dd",
            "7b4be05b8fb74ceb9acff0a8f975b508",
            "5ff529f6cf2e4ba5be0ac60d825df594",
            "bdcb2c66accf4ea0bace5387d7ce192c",
            "46bc4a61aca94e5eafaf5c54f5efa746",
            "9fb74626b20440aab6dbb3ecfdb2d7ae",
            "637072a68593410d921d2a1c319e79ce",
            "9e836ccbd4864f54940935d465ec2b05",
            "d0b4272753ef41d0a666981d4a601951",
            "c3bd70cb317541f1bdfb307ac874c79b",
            "6e2d813f2c8f43409f6c32290c9cbffe",
            "ff0f8383e01946629fe5cee284e9621a",
            "1d491c6fc02f418f853c4e6fde20a124",
            "f5be9ebd17b24ae88bde97e9aa0fe189",
            "b503b97e01be4bb882064094efbb5a44"
          ]
        },
        "outputId": "9daadcfd-a698-46d7-b5fd-f440a90b137a"
      },
      "source": [
        "from torchvision import datasets\n",
        "from torchvision import transforms\n",
        "\n",
        "train_set = datasets.FashionMNIST(\"./data\", download=True,\n",
        "                                  transform=transforms.Compose([transforms.ToTensor(), transforms.Normalize((0.1307,), (0.3081,))]))\n",
        "test_set = datasets.FashionMNIST(\"./data\", download=True, train=False,\n",
        "                                 transform=transforms.Compose([transforms.ToTensor(), transforms.Normalize((0.1307,), (0.3081,))]))"
      ],
      "execution_count": 3,
      "outputs": [
        {
          "output_type": "stream",
          "name": "stdout",
          "text": [
            "Downloading http://fashion-mnist.s3-website.eu-central-1.amazonaws.com/train-images-idx3-ubyte.gz\n",
            "Downloading http://fashion-mnist.s3-website.eu-central-1.amazonaws.com/train-images-idx3-ubyte.gz to ./data/FashionMNIST/raw/train-images-idx3-ubyte.gz\n"
          ]
        },
        {
          "output_type": "display_data",
          "data": {
            "application/vnd.jupyter.widget-view+json": {
              "model_id": "b4d99554c67043d8963bba5bd00bd7cf",
              "version_minor": 0,
              "version_major": 2
            },
            "text/plain": [
              "  0%|          | 0/26421880 [00:00<?, ?it/s]"
            ]
          },
          "metadata": {}
        },
        {
          "output_type": "stream",
          "name": "stdout",
          "text": [
            "Extracting ./data/FashionMNIST/raw/train-images-idx3-ubyte.gz to ./data/FashionMNIST/raw\n",
            "\n",
            "Downloading http://fashion-mnist.s3-website.eu-central-1.amazonaws.com/train-labels-idx1-ubyte.gz\n",
            "Downloading http://fashion-mnist.s3-website.eu-central-1.amazonaws.com/train-labels-idx1-ubyte.gz to ./data/FashionMNIST/raw/train-labels-idx1-ubyte.gz\n"
          ]
        },
        {
          "output_type": "display_data",
          "data": {
            "application/vnd.jupyter.widget-view+json": {
              "model_id": "210695e75ada4083adc9c5cb0edb9168",
              "version_minor": 0,
              "version_major": 2
            },
            "text/plain": [
              "  0%|          | 0/29515 [00:00<?, ?it/s]"
            ]
          },
          "metadata": {}
        },
        {
          "output_type": "stream",
          "name": "stdout",
          "text": [
            "Extracting ./data/FashionMNIST/raw/train-labels-idx1-ubyte.gz to ./data/FashionMNIST/raw\n",
            "\n",
            "Downloading http://fashion-mnist.s3-website.eu-central-1.amazonaws.com/t10k-images-idx3-ubyte.gz\n",
            "Downloading http://fashion-mnist.s3-website.eu-central-1.amazonaws.com/t10k-images-idx3-ubyte.gz to ./data/FashionMNIST/raw/t10k-images-idx3-ubyte.gz\n"
          ]
        },
        {
          "output_type": "display_data",
          "data": {
            "application/vnd.jupyter.widget-view+json": {
              "model_id": "48ebdc46d371478e88782cb279fdb00d",
              "version_minor": 0,
              "version_major": 2
            },
            "text/plain": [
              "  0%|          | 0/4422102 [00:00<?, ?it/s]"
            ]
          },
          "metadata": {}
        },
        {
          "output_type": "stream",
          "name": "stdout",
          "text": [
            "Extracting ./data/FashionMNIST/raw/t10k-images-idx3-ubyte.gz to ./data/FashionMNIST/raw\n",
            "\n",
            "Downloading http://fashion-mnist.s3-website.eu-central-1.amazonaws.com/t10k-labels-idx1-ubyte.gz\n",
            "Downloading http://fashion-mnist.s3-website.eu-central-1.amazonaws.com/t10k-labels-idx1-ubyte.gz to ./data/FashionMNIST/raw/t10k-labels-idx1-ubyte.gz\n"
          ]
        },
        {
          "output_type": "display_data",
          "data": {
            "application/vnd.jupyter.widget-view+json": {
              "model_id": "46bc4a61aca94e5eafaf5c54f5efa746",
              "version_minor": 0,
              "version_major": 2
            },
            "text/plain": [
              "  0%|          | 0/5148 [00:00<?, ?it/s]"
            ]
          },
          "metadata": {}
        },
        {
          "output_type": "stream",
          "name": "stdout",
          "text": [
            "Extracting ./data/FashionMNIST/raw/t10k-labels-idx1-ubyte.gz to ./data/FashionMNIST/raw\n",
            "\n"
          ]
        },
        {
          "output_type": "stream",
          "name": "stderr",
          "text": [
            "/usr/local/lib/python3.7/dist-packages/torchvision/datasets/mnist.py:498: UserWarning: The given NumPy array is not writeable, and PyTorch does not support non-writeable tensors. This means you can write to the underlying (supposedly non-writeable) NumPy array using the tensor. You may want to copy the array to protect its data or make it writeable before converting it to a tensor. This type of warning will be suppressed for the rest of this program. (Triggered internally at  /pytorch/torch/csrc/utils/tensor_numpy.cpp:180.)\n",
            "  return torch.from_numpy(parsed.astype(m[2], copy=False)).view(*s)\n"
          ]
        }
      ]
    },
    {
      "cell_type": "markdown",
      "metadata": {
        "id": "yQB8NNMZ3skx"
      },
      "source": [
        "## Wrapping dataset with `DataLoder`"
      ]
    },
    {
      "cell_type": "code",
      "metadata": {
        "colab": {
          "base_uri": "https://localhost:8080/"
        },
        "id": "DLzmKVo63yAj",
        "outputId": "ef6a9658-d18c-4cf0-f343-71dfcc8a208e"
      },
      "source": [
        "from torch.utils.data import DataLoader\n",
        "\n",
        "BATCH_SIZE = 64\n",
        "\n",
        "train_loader = DataLoader(train_set, batch_size=BATCH_SIZE, shuffle=True)\n",
        "test_loader = DataLoader(test_set, batch_size=BATCH_SIZE, shuffle=True)\n",
        "\n",
        "len(train_loader)"
      ],
      "execution_count": 4,
      "outputs": [
        {
          "output_type": "execute_result",
          "data": {
            "text/plain": [
              "938"
            ]
          },
          "metadata": {},
          "execution_count": 4
        }
      ]
    },
    {
      "cell_type": "markdown",
      "metadata": {
        "id": "ucUzJjuN3dPI"
      },
      "source": [
        "## Model settings"
      ]
    },
    {
      "cell_type": "code",
      "metadata": {
        "id": "GLYzViJM3c1o"
      },
      "source": [
        "# import SDT from SDT.py\n",
        "from SDT import SDT\n",
        "\n",
        "model = SDT(input_dim=28*28, output_dim=10, depth=8)"
      ],
      "execution_count": 5,
      "outputs": []
    },
    {
      "cell_type": "markdown",
      "metadata": {
        "id": "GJNv0Sw5lsRK"
      },
      "source": [
        "## Loss function"
      ]
    },
    {
      "cell_type": "code",
      "metadata": {
        "id": "aPdmsLsCl0CK"
      },
      "source": [
        "from torch import nn\n",
        "\n",
        "loss_function = nn.CrossEntropyLoss()"
      ],
      "execution_count": 6,
      "outputs": []
    },
    {
      "cell_type": "markdown",
      "metadata": {
        "id": "UgFqMy6Zlrvi"
      },
      "source": [
        "## Optimazier"
      ]
    },
    {
      "cell_type": "code",
      "metadata": {
        "id": "rx6T_C2Glrvl"
      },
      "source": [
        "from torch import optim\n",
        "\n",
        "optimizer = optim.Adam(model.parameters(), lr=1e-3)"
      ],
      "execution_count": 7,
      "outputs": []
    },
    {
      "cell_type": "markdown",
      "metadata": {
        "id": "bnnjSIMx2yFo"
      },
      "source": [
        "## Training loop"
      ]
    },
    {
      "cell_type": "code",
      "metadata": {
        "colab": {
          "base_uri": "https://localhost:8080/"
        },
        "id": "6sa29aW-2z_i",
        "outputId": "ad8a5a2e-d360-4587-dd6b-9a478905561e"
      },
      "source": [
        "from tqdm import tqdm # for showing as progress bar\n",
        "\n",
        "model.train() # put model in training mode\n",
        "\n",
        "NUM_EPOCHS = 3\n",
        "\n",
        "for epoch in range(NUM_EPOCHS):\n",
        "\n",
        "  loop = tqdm(train_loader, position=0, leave=True)\n",
        "\n",
        "  for (inputs, labels) in loop:\n",
        "    optimizer.zero_grad() # zero the parameter gradients\n",
        "\n",
        "    # forward + backward + optimize\n",
        "    output = model.forward(inputs)\n",
        "    loss = loss_function(output, labels)\n",
        "    loss.backward()\n",
        "    optimizer.step()\n",
        "    \n",
        "    loop.set_description(f\"Epoch [{epoch}/{NUM_EPOCHS}]\")"
      ],
      "execution_count": 8,
      "outputs": [
        {
          "output_type": "stream",
          "name": "stderr",
          "text": [
            "Epoch [0/3]: 100%|██████████| 938/938 [00:53<00:00, 17.67it/s]\n",
            "Epoch [1/3]: 100%|██████████| 938/938 [00:52<00:00, 17.75it/s]\n",
            "Epoch [2/3]: 100%|██████████| 938/938 [00:52<00:00, 17.72it/s]\n"
          ]
        }
      ]
    },
    {
      "cell_type": "markdown",
      "metadata": {
        "id": "NVdNtXPqmRuZ"
      },
      "source": [
        "## Evaluate the model"
      ]
    },
    {
      "cell_type": "code",
      "metadata": {
        "colab": {
          "base_uri": "https://localhost:8080/"
        },
        "id": "Eug4Oq4DmRuZ",
        "outputId": "57470684-44e0-4997-8582-0587ae722f9a"
      },
      "source": [
        "correct = 0\n",
        "total = 0\n",
        "\n",
        "loop = tqdm(test_loader, position=0, leave=True)\n",
        "model.eval() # put model in evaluation mode\n",
        "for (input, label) in loop:\n",
        "  output = model.forward(input)\n",
        "  _, predicted = torch.max(output.data, 1)\n",
        "  total += label.size(0)\n",
        "  correct += (predicted == label).sum().item()\n",
        "  loop.set_postfix(acc=(100*correct/total))"
      ],
      "execution_count": 9,
      "outputs": [
        {
          "output_type": "stream",
          "name": "stderr",
          "text": [
            "100%|██████████| 157/157 [00:08<00:00, 18.88it/s, acc=75.8]\n"
          ]
        }
      ]
    },
    {
      "cell_type": "markdown",
      "metadata": {
        "id": "Ix_hXJwpHe2S"
      },
      "source": [
        "# Gradient Boosting\n",
        "\n",
        "Gradient Boosting is a technique to improve the performance and robustness of machine learning model, typically decision trees.\n",
        "\n",
        "![](https://url2img-web.herokuapp.com/aHR0cHM6Ly9lbnNlbWJsZS1weXRvcmNoLnJlYWR0aGVkb2NzLmlvL2VuL3N0YWJsZS9pbnRyb2R1Y3Rpb24uaHRtbCNncmFkaWVudC1ib29zdGluZy0x)\n",
        "\n",
        "After boosting our previous decision tree model, the accuracy would be improved. "
      ]
    },
    {
      "cell_type": "code",
      "metadata": {
        "id": "78Ldxp6GPJAM",
        "colab": {
          "base_uri": "https://localhost:8080/"
        },
        "outputId": "c8f66863-c2aa-4fbc-b403-abcce202e246"
      },
      "source": [
        "!pip install torchensemble"
      ],
      "execution_count": 10,
      "outputs": [
        {
          "output_type": "stream",
          "name": "stdout",
          "text": [
            "Collecting torchensemble\n",
            "  Downloading torchensemble-0.1.6-py3-none-any.whl (39 kB)\n",
            "Collecting scikit-learn>=0.23.0\n",
            "  Downloading scikit_learn-0.24.2-cp37-cp37m-manylinux2010_x86_64.whl (22.3 MB)\n",
            "\u001b[K     |████████████████████████████████| 22.3 MB 1.3 MB/s \n",
            "\u001b[?25hRequirement already satisfied: torchvision>=0.2.2 in /usr/local/lib/python3.7/dist-packages (from torchensemble) (0.10.0+cu102)\n",
            "Requirement already satisfied: torch>=1.4.0 in /usr/local/lib/python3.7/dist-packages (from torchensemble) (1.9.0+cu102)\n",
            "Requirement already satisfied: scipy>=0.19.1 in /usr/local/lib/python3.7/dist-packages (from scikit-learn>=0.23.0->torchensemble) (1.4.1)\n",
            "Requirement already satisfied: numpy>=1.13.3 in /usr/local/lib/python3.7/dist-packages (from scikit-learn>=0.23.0->torchensemble) (1.19.5)\n",
            "Collecting threadpoolctl>=2.0.0\n",
            "  Downloading threadpoolctl-2.2.0-py3-none-any.whl (12 kB)\n",
            "Requirement already satisfied: joblib>=0.11 in /usr/local/lib/python3.7/dist-packages (from scikit-learn>=0.23.0->torchensemble) (1.0.1)\n",
            "Requirement already satisfied: typing-extensions in /usr/local/lib/python3.7/dist-packages (from torch>=1.4.0->torchensemble) (3.7.4.3)\n",
            "Requirement already satisfied: pillow>=5.3.0 in /usr/local/lib/python3.7/dist-packages (from torchvision>=0.2.2->torchensemble) (7.1.2)\n",
            "Installing collected packages: threadpoolctl, scikit-learn, torchensemble\n",
            "  Attempting uninstall: scikit-learn\n",
            "    Found existing installation: scikit-learn 0.22.2.post1\n",
            "    Uninstalling scikit-learn-0.22.2.post1:\n",
            "      Successfully uninstalled scikit-learn-0.22.2.post1\n",
            "Successfully installed scikit-learn-0.24.2 threadpoolctl-2.2.0 torchensemble-0.1.6\n"
          ]
        }
      ]
    },
    {
      "cell_type": "markdown",
      "metadata": {
        "id": "R-NO_fR3eqOa"
      },
      "source": [
        "## Setup logger\n",
        "\n"
      ]
    },
    {
      "cell_type": "code",
      "metadata": {
        "id": "MOnScwmEewdo",
        "colab": {
          "base_uri": "https://localhost:8080/"
        },
        "outputId": "14309044-b2b9-4c45-ffd9-815857290af1"
      },
      "source": [
        "from torchensemble.utils.logging import set_logger\n",
        "\n",
        "logger = set_logger('classification_mnist_dt')"
      ],
      "execution_count": 11,
      "outputs": [
        {
          "output_type": "stream",
          "name": "stdout",
          "text": [
            "Log will be saved in '/content/logs'.\n",
            "Create folder 'logs/'\n",
            "Start logging into file /content/logs/classification_mnist_dt-2021_09_03_03_58.log...\n"
          ]
        }
      ]
    },
    {
      "cell_type": "markdown",
      "metadata": {
        "id": "IrpeztreZpMH"
      },
      "source": [
        "## Chosing ensemble"
      ]
    },
    {
      "cell_type": "code",
      "metadata": {
        "id": "89I28j3gZo25"
      },
      "source": [
        "from torchensemble import GradientBoostingClassifier\n",
        "\n",
        "model = GradientBoostingClassifier(\n",
        "    estimator=model, # previous decision tree model\n",
        "    n_estimators=5,\n",
        "    cuda=False,\n",
        ")"
      ],
      "execution_count": 12,
      "outputs": []
    },
    {
      "cell_type": "markdown",
      "metadata": {
        "id": "6-eUdxQyaYK_"
      },
      "source": [
        "## Optimazier"
      ]
    },
    {
      "cell_type": "code",
      "metadata": {
        "id": "vWa8RUG5aZ9A"
      },
      "source": [
        "model.set_optimizer('Adam',             # parameter optimizer\n",
        "                    lr=1e-3,            # learning rate of the optimizer\n",
        "                    weight_decay=5e-4)  # weight decay of the optimizer"
      ],
      "execution_count": 13,
      "outputs": []
    },
    {
      "cell_type": "markdown",
      "metadata": {
        "id": "9D-_B9jiab47"
      },
      "source": [
        "## Train and evaluate"
      ]
    },
    {
      "cell_type": "code",
      "metadata": {
        "id": "D31icYqTaenf",
        "colab": {
          "base_uri": "https://localhost:8080/"
        },
        "outputId": "92b0a119-05ff-492b-b79a-62b7614e8092"
      },
      "source": [
        "# Train and Evaluate\n",
        "model.fit(train_loader=train_loader,  # training data\n",
        "          epochs=1,                   # the number of training epochs\n",
        "          test_loader=test_loader)"
      ],
      "execution_count": 14,
      "outputs": [
        {
          "output_type": "stream",
          "name": "stderr",
          "text": [
            "2021-09-03 04:12:23,424 - INFO: Estimator: 000 | Epoch: 000 | Batch: 000 | RegLoss: 1673.95703\n",
            "2021-09-03 04:12:28,612 - INFO: Estimator: 000 | Epoch: 000 | Batch: 100 | RegLoss: 68.80402\n",
            "2021-09-03 04:12:33,788 - INFO: Estimator: 000 | Epoch: 000 | Batch: 200 | RegLoss: 43.16668\n",
            "2021-09-03 04:12:38,915 - INFO: Estimator: 000 | Epoch: 000 | Batch: 300 | RegLoss: 36.52592\n",
            "2021-09-03 04:12:44,054 - INFO: Estimator: 000 | Epoch: 000 | Batch: 400 | RegLoss: 28.75037\n",
            "2021-09-03 04:12:49,114 - INFO: Estimator: 000 | Epoch: 000 | Batch: 500 | RegLoss: 28.23838\n",
            "2021-09-03 04:12:54,245 - INFO: Estimator: 000 | Epoch: 000 | Batch: 600 | RegLoss: 14.91311\n",
            "2021-09-03 04:12:59,378 - INFO: Estimator: 000 | Epoch: 000 | Batch: 700 | RegLoss: 21.59414\n",
            "2021-09-03 04:13:04,529 - INFO: Estimator: 000 | Epoch: 000 | Batch: 800 | RegLoss: 19.98888\n",
            "2021-09-03 04:13:09,744 - INFO: Estimator: 000 | Epoch: 000 | Batch: 900 | RegLoss: 20.32565\n",
            "2021-09-03 04:13:16,806 - INFO: Validation Acc: 79.450 % | Historical Best: 79.450 %\n",
            "2021-09-03 04:13:16,905 - INFO: Estimator: 001 | Epoch: 000 | Batch: 000 | RegLoss: 1642.32190\n",
            "2021-09-03 04:13:26,224 - INFO: Estimator: 001 | Epoch: 000 | Batch: 100 | RegLoss: 45.60704\n",
            "2021-09-03 04:13:35,595 - INFO: Estimator: 001 | Epoch: 000 | Batch: 200 | RegLoss: 36.09387\n",
            "2021-09-03 04:13:44,950 - INFO: Estimator: 001 | Epoch: 000 | Batch: 300 | RegLoss: 30.70896\n",
            "2021-09-03 04:13:54,313 - INFO: Estimator: 001 | Epoch: 000 | Batch: 400 | RegLoss: 31.71103\n",
            "2021-09-03 04:14:03,857 - INFO: Estimator: 001 | Epoch: 000 | Batch: 500 | RegLoss: 26.48325\n",
            "2021-09-03 04:14:13,301 - INFO: Estimator: 001 | Epoch: 000 | Batch: 600 | RegLoss: 20.21701\n",
            "2021-09-03 04:14:22,634 - INFO: Estimator: 001 | Epoch: 000 | Batch: 700 | RegLoss: 18.78219\n",
            "2021-09-03 04:14:31,995 - INFO: Estimator: 001 | Epoch: 000 | Batch: 800 | RegLoss: 20.48415\n",
            "2021-09-03 04:14:41,320 - INFO: Estimator: 001 | Epoch: 000 | Batch: 900 | RegLoss: 15.89557\n",
            "2021-09-03 04:14:53,855 - INFO: Validation Acc: 80.370 % | Historical Best: 80.370 %\n",
            "2021-09-03 04:14:53,999 - INFO: Estimator: 002 | Epoch: 000 | Batch: 000 | RegLoss: 1728.66455\n",
            "2021-09-03 04:15:07,561 - INFO: Estimator: 002 | Epoch: 000 | Batch: 100 | RegLoss: 61.72409\n",
            "2021-09-03 04:15:20,906 - INFO: Estimator: 002 | Epoch: 000 | Batch: 200 | RegLoss: 45.19142\n",
            "2021-09-03 04:15:34,225 - INFO: Estimator: 002 | Epoch: 000 | Batch: 300 | RegLoss: 26.87484\n",
            "2021-09-03 04:15:47,567 - INFO: Estimator: 002 | Epoch: 000 | Batch: 400 | RegLoss: 23.16980\n",
            "2021-09-03 04:16:01,012 - INFO: Estimator: 002 | Epoch: 000 | Batch: 500 | RegLoss: 21.14701\n",
            "2021-09-03 04:16:14,464 - INFO: Estimator: 002 | Epoch: 000 | Batch: 600 | RegLoss: 23.81307\n",
            "2021-09-03 04:16:27,900 - INFO: Estimator: 002 | Epoch: 000 | Batch: 700 | RegLoss: 19.48374\n",
            "2021-09-03 04:16:41,403 - INFO: Estimator: 002 | Epoch: 000 | Batch: 800 | RegLoss: 20.32395\n",
            "2021-09-03 04:16:54,974 - INFO: Estimator: 002 | Epoch: 000 | Batch: 900 | RegLoss: 22.11318\n",
            "2021-09-03 04:17:13,029 - INFO: Validation Acc: 82.700 % | Historical Best: 82.700 %\n",
            "2021-09-03 04:17:13,213 - INFO: Estimator: 003 | Epoch: 000 | Batch: 000 | RegLoss: 1739.63086\n",
            "2021-09-03 04:17:30,927 - INFO: Estimator: 003 | Epoch: 000 | Batch: 100 | RegLoss: 88.86131\n",
            "2021-09-03 04:17:48,583 - INFO: Estimator: 003 | Epoch: 000 | Batch: 200 | RegLoss: 45.70943\n",
            "2021-09-03 04:18:06,334 - INFO: Estimator: 003 | Epoch: 000 | Batch: 300 | RegLoss: 19.98724\n",
            "2021-09-03 04:18:24,121 - INFO: Estimator: 003 | Epoch: 000 | Batch: 400 | RegLoss: 21.81805\n",
            "2021-09-03 04:18:41,940 - INFO: Estimator: 003 | Epoch: 000 | Batch: 500 | RegLoss: 22.81225\n",
            "2021-09-03 04:18:59,714 - INFO: Estimator: 003 | Epoch: 000 | Batch: 600 | RegLoss: 20.83755\n",
            "2021-09-03 04:19:17,645 - INFO: Estimator: 003 | Epoch: 000 | Batch: 700 | RegLoss: 23.03683\n",
            "2021-09-03 04:19:35,594 - INFO: Estimator: 003 | Epoch: 000 | Batch: 800 | RegLoss: 14.22144\n",
            "2021-09-03 04:19:53,493 - INFO: Estimator: 003 | Epoch: 000 | Batch: 900 | RegLoss: 18.72967\n",
            "2021-09-03 04:20:17,083 - INFO: Validation Acc: 82.810 % | Historical Best: 82.810 %\n",
            "2021-09-03 04:20:17,299 - INFO: Estimator: 004 | Epoch: 000 | Batch: 000 | RegLoss: 1789.45459\n",
            "2021-09-03 04:20:39,347 - INFO: Estimator: 004 | Epoch: 000 | Batch: 100 | RegLoss: 30.81631\n",
            "2021-09-03 04:21:01,598 - INFO: Estimator: 004 | Epoch: 000 | Batch: 200 | RegLoss: 34.72277\n",
            "2021-09-03 04:21:23,762 - INFO: Estimator: 004 | Epoch: 000 | Batch: 300 | RegLoss: 17.84999\n",
            "2021-09-03 04:21:46,132 - INFO: Estimator: 004 | Epoch: 000 | Batch: 400 | RegLoss: 18.98909\n",
            "2021-09-03 04:22:08,345 - INFO: Estimator: 004 | Epoch: 000 | Batch: 500 | RegLoss: 18.26112\n",
            "2021-09-03 04:22:30,510 - INFO: Estimator: 004 | Epoch: 000 | Batch: 600 | RegLoss: 17.37434\n",
            "2021-09-03 04:22:52,644 - INFO: Estimator: 004 | Epoch: 000 | Batch: 700 | RegLoss: 19.21869\n",
            "2021-09-03 04:23:14,861 - INFO: Estimator: 004 | Epoch: 000 | Batch: 800 | RegLoss: 15.35305\n",
            "2021-09-03 04:23:37,031 - INFO: Estimator: 004 | Epoch: 000 | Batch: 900 | RegLoss: 13.88711\n",
            "2021-09-03 04:24:06,262 - INFO: Validation Acc: 82.820 % | Historical Best: 82.820 %\n",
            "2021-09-03 04:24:06,264 - INFO: The optimal number of base estimators: 5\n",
            "2021-09-03 04:24:06,266 - INFO: Saving the model to `./GradientBoostingClassifier_SDT_5_ckpt.pth`\n"
          ]
        }
      ]
    },
    {
      "cell_type": "markdown",
      "metadata": {
        "id": "Oe-ydECfxR0W"
      },
      "source": [
        "# Support Vector Machine (SVM)"
      ]
    },
    {
      "cell_type": "markdown",
      "metadata": {
        "id": "eFzpu6avU4KR"
      },
      "source": [
        "## Model defination\n",
        "\n",
        "![](https://url2img-web.herokuapp.com/aHR0cHM6Ly9weXRvcmNoLm9yZy9kb2NzL3N0YWJsZS9nZW5lcmF0ZWQvdG9yY2gubm4uTGluZWFyLmh0bWwjdG9yY2gubm4uTGluZWFy)"
      ]
    },
    {
      "cell_type": "code",
      "metadata": {
        "id": "HHb3csBYxB--"
      },
      "source": [
        "from torch import nn\n",
        "\n",
        "model = nn.Sequential(\n",
        "    nn.Flatten(),\n",
        "    nn.Linear(28 * 28, 10)\n",
        ")"
      ],
      "execution_count": null,
      "outputs": []
    },
    {
      "cell_type": "markdown",
      "metadata": {
        "id": "Y6WFbiGX3T9o"
      },
      "source": [
        "## Multi-label soft margin SVM\n",
        "\n",
        "![](https://url2img-web.herokuapp.com/aHR0cHM6Ly9weXRvcmNoLm9yZy9kb2NzL3N0YWJsZS9nZW5lcmF0ZWQvdG9yY2gubm4uTXVsdGlMYWJlbFNvZnRNYXJnaW5Mb3NzLmh0bWwjdG9yY2gubm4uTXVsdGlMYWJlbFNvZnRNYXJnaW5Mb3Nz)"
      ]
    },
    {
      "cell_type": "code",
      "metadata": {
        "id": "xYJMO5ra3U_n"
      },
      "source": [
        "loss_function = nn.MultiLabelSoftMarginLoss()"
      ],
      "execution_count": null,
      "outputs": []
    },
    {
      "cell_type": "markdown",
      "metadata": {
        "id": "nBZzoaCz3Nuo"
      },
      "source": [
        "## Optimazier"
      ]
    },
    {
      "cell_type": "code",
      "metadata": {
        "id": "i96TMY933Tq3"
      },
      "source": [
        "from torch import optim\n",
        "\n",
        "optimizer = optim.SGD(model.parameters(), lr=1e-3, momentum=0.9)"
      ],
      "execution_count": null,
      "outputs": []
    },
    {
      "cell_type": "markdown",
      "metadata": {
        "id": "HaXvCxMH3LmA"
      },
      "source": [
        "## Training loop"
      ]
    },
    {
      "cell_type": "code",
      "metadata": {
        "id": "R0pshusx3XGn"
      },
      "source": [
        "from tqdm import tqdm # for showing as progress bar\n",
        "\n",
        "model.train() # put model in training mode\n",
        "\n",
        "NUM_EPOCHS = 10\n",
        "\n",
        "for epoch in range(NUM_EPOCHS):\n",
        "\n",
        "  loop = tqdm(train_loader, position=0, leave=True)\n",
        "\n",
        "  for (inputs, labels) in loop:\n",
        "    optimizer.zero_grad() # zero the parameter gradients\n",
        "\n",
        "    # print(label.shape, )\n",
        "    label = torch.zeros(labels.shape[0], 10)\n",
        "    for i, l in enumerate(labels):\n",
        "      label[i][l] = 1\n",
        "\n",
        "    # forward + backward + optimize\n",
        "    output = model.forward(inputs)\n",
        "    loss = loss_function(output, label)\n",
        "    loss.backward()\n",
        "    optimizer.step()\n",
        "    \n",
        "    loop.set_description(f\"Epoch [{epoch}/{NUM_EPOCHS}]\")"
      ],
      "execution_count": null,
      "outputs": []
    },
    {
      "cell_type": "markdown",
      "metadata": {
        "id": "L3CsyFaTN8RC"
      },
      "source": [
        "## Evaluate the model"
      ]
    },
    {
      "cell_type": "code",
      "metadata": {
        "id": "_rWfWyKjEs0h"
      },
      "source": [
        "correct = 0\n",
        "total = 0\n",
        "\n",
        "loop = tqdm(test_loader, position=0, leave=True)\n",
        "model.eval() # put model in evaluation mode\n",
        "for (input, label) in loop:\n",
        "  output = model.forward(input)\n",
        "  _, predicted = torch.max(output.data, 1)\n",
        "  total += label.size(0)\n",
        "  correct += (predicted == label).sum().item()\n",
        "  loop.set_postfix(acc=(100*correct/total))"
      ],
      "execution_count": null,
      "outputs": []
    }
  ]
}